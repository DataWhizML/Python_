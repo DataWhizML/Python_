{
 "cells": [
  {
   "cell_type": "code",
   "execution_count": null,
   "metadata": {},
   "outputs": [],
   "source": [
    "num1=eval(input(\"Enter a number1\"))\n",
    "num2=eval(input(\"Enter a number2\"))\n",
    "add=num1+num2\n",
    "print(add)"
   ]
  },
  {
   "cell_type": "code",
   "execution_count": 1,
   "metadata": {},
   "outputs": [
    {
     "name": "stdout",
     "output_type": "stream",
     "text": [
      "Enter a number12\n",
      "Enter a number23\n"
     ]
    },
    {
     "ename": "NameError",
     "evalue": "name 'num3' is not defined",
     "output_type": "error",
     "traceback": [
      "\u001b[1;31m---------------------------------------------------------------------------\u001b[0m",
      "\u001b[1;31mNameError\u001b[0m                                 Traceback (most recent call last)",
      "\u001b[1;32m<ipython-input-1-372b4f820ca0>\u001b[0m in \u001b[0;36m<module>\u001b[1;34m\u001b[0m\n\u001b[0;32m      2\u001b[0m \u001b[0mnum1\u001b[0m\u001b[1;33m=\u001b[0m\u001b[0meval\u001b[0m\u001b[1;33m(\u001b[0m\u001b[0minput\u001b[0m\u001b[1;33m(\u001b[0m\u001b[1;34m\"Enter a number1\"\u001b[0m\u001b[1;33m)\u001b[0m\u001b[1;33m)\u001b[0m\u001b[1;33m\u001b[0m\u001b[1;33m\u001b[0m\u001b[0m\n\u001b[0;32m      3\u001b[0m \u001b[0mnum2\u001b[0m\u001b[1;33m=\u001b[0m\u001b[0meval\u001b[0m\u001b[1;33m(\u001b[0m\u001b[0minput\u001b[0m\u001b[1;33m(\u001b[0m\u001b[1;34m\"Enter a number2\"\u001b[0m\u001b[1;33m)\u001b[0m\u001b[1;33m)\u001b[0m\u001b[1;33m\u001b[0m\u001b[1;33m\u001b[0m\u001b[0m\n\u001b[1;32m----> 4\u001b[1;33m \u001b[0madd\u001b[0m\u001b[1;33m=\u001b[0m\u001b[0mnum1\u001b[0m\u001b[1;33m+\u001b[0m\u001b[0mnum3\u001b[0m\u001b[1;33m\u001b[0m\u001b[1;33m\u001b[0m\u001b[0m\n\u001b[0m\u001b[0;32m      5\u001b[0m \u001b[0mprint\u001b[0m\u001b[1;33m(\u001b[0m\u001b[0madd\u001b[0m\u001b[1;33m)\u001b[0m\u001b[1;33m\u001b[0m\u001b[1;33m\u001b[0m\u001b[0m\n",
      "\u001b[1;31mNameError\u001b[0m: name 'num3' is not defined"
     ]
    }
   ],
   "source": [
    "#Error 1:NameError: the variable is not initialized\n",
    "#num3 is not defined here\n",
    "num1=eval(input(\"Enter a number1\"))\n",
    "num2=eval(input(\"Enter a number2\"))\n",
    "add=num1+num3\n",
    "print(add)"
   ]
  },
  {
   "cell_type": "code",
   "execution_count": 2,
   "metadata": {},
   "outputs": [
    {
     "ename": "SyntaxError",
     "evalue": "invalid syntax (<ipython-input-2-ab6fdcafbe8f>, line 3)",
     "output_type": "error",
     "traceback": [
      "\u001b[1;36m  File \u001b[1;32m\"<ipython-input-2-ab6fdcafbe8f>\"\u001b[1;36m, line \u001b[1;32m3\u001b[0m\n\u001b[1;33m    num2=eval(input(\"Enter a number2\"))\u001b[0m\n\u001b[1;37m       ^\u001b[0m\n\u001b[1;31mSyntaxError\u001b[0m\u001b[1;31m:\u001b[0m invalid syntax\n"
     ]
    }
   ],
   "source": [
    "#Error2: Syntax error: \n",
    "#'(' was not closed\n",
    "num1=eval(input(\"Enter a number1\")\n",
    "num2=eval(input(\"Enter a number2\"))\n",
    "add=num1+num2\n",
    "print(add)"
   ]
  },
  {
   "cell_type": "code",
   "execution_count": 5,
   "metadata": {},
   "outputs": [
    {
     "name": "stdout",
     "output_type": "stream",
     "text": [
      "Enter a number1100\n",
      "Enter a number20\n"
     ]
    },
    {
     "ename": "ZeroDivisionError",
     "evalue": "division by zero",
     "output_type": "error",
     "traceback": [
      "\u001b[1;31m---------------------------------------------------------------------------\u001b[0m",
      "\u001b[1;31mZeroDivisionError\u001b[0m                         Traceback (most recent call last)",
      "\u001b[1;32m<ipython-input-5-5a3049c40de3>\u001b[0m in \u001b[0;36m<module>\u001b[1;34m\u001b[0m\n\u001b[0;32m      2\u001b[0m \u001b[0mnum1\u001b[0m\u001b[1;33m=\u001b[0m\u001b[0meval\u001b[0m\u001b[1;33m(\u001b[0m\u001b[0minput\u001b[0m\u001b[1;33m(\u001b[0m\u001b[1;34m\"Enter a number1\"\u001b[0m\u001b[1;33m)\u001b[0m\u001b[1;33m)\u001b[0m\u001b[1;33m\u001b[0m\u001b[1;33m\u001b[0m\u001b[0m\n\u001b[0;32m      3\u001b[0m \u001b[0mnum2\u001b[0m\u001b[1;33m=\u001b[0m\u001b[0meval\u001b[0m\u001b[1;33m(\u001b[0m\u001b[0minput\u001b[0m\u001b[1;33m(\u001b[0m\u001b[1;34m\"Enter a number2\"\u001b[0m\u001b[1;33m)\u001b[0m\u001b[1;33m)\u001b[0m\u001b[1;33m\u001b[0m\u001b[1;33m\u001b[0m\u001b[0m\n\u001b[1;32m----> 4\u001b[1;33m \u001b[0madd\u001b[0m\u001b[1;33m=\u001b[0m\u001b[0mnum1\u001b[0m\u001b[1;33m/\u001b[0m\u001b[0mnum2\u001b[0m\u001b[1;33m\u001b[0m\u001b[1;33m\u001b[0m\u001b[0m\n\u001b[0m\u001b[0;32m      5\u001b[0m \u001b[0mprint\u001b[0m\u001b[1;33m(\u001b[0m\u001b[0madd\u001b[0m\u001b[1;33m)\u001b[0m\u001b[1;33m\u001b[0m\u001b[1;33m\u001b[0m\u001b[0m\n",
      "\u001b[1;31mZeroDivisionError\u001b[0m: division by zero"
     ]
    }
   ],
   "source": [
    "#Error3: ZeroDivisionError: division by zero\n",
    "num1=eval(input(\"Enter a number1\"))\n",
    "num2=eval(input(\"Enter a number2\"))\n",
    "add=num1/num2\n",
    "print(add)"
   ]
  },
  {
   "cell_type": "code",
   "execution_count": 6,
   "metadata": {},
   "outputs": [
    {
     "name": "stdout",
     "output_type": "stream",
     "text": [
      "Enter a number110\n",
      "Enter a number220\n"
     ]
    },
    {
     "ename": "TypeError",
     "evalue": "unsupported operand type(s) for /: 'str' and 'int'",
     "output_type": "error",
     "traceback": [
      "\u001b[1;31m---------------------------------------------------------------------------\u001b[0m",
      "\u001b[1;31mTypeError\u001b[0m                                 Traceback (most recent call last)",
      "\u001b[1;32m<ipython-input-6-7ad474e366f8>\u001b[0m in \u001b[0;36m<module>\u001b[1;34m\u001b[0m\n\u001b[0;32m      2\u001b[0m \u001b[0mnum1\u001b[0m\u001b[1;33m=\u001b[0m\u001b[0minput\u001b[0m\u001b[1;33m(\u001b[0m\u001b[1;34m\"Enter a number1\"\u001b[0m\u001b[1;33m)\u001b[0m\u001b[1;33m\u001b[0m\u001b[1;33m\u001b[0m\u001b[0m\n\u001b[0;32m      3\u001b[0m \u001b[0mnum2\u001b[0m\u001b[1;33m=\u001b[0m\u001b[0meval\u001b[0m\u001b[1;33m(\u001b[0m\u001b[0minput\u001b[0m\u001b[1;33m(\u001b[0m\u001b[1;34m\"Enter a number2\"\u001b[0m\u001b[1;33m)\u001b[0m\u001b[1;33m)\u001b[0m\u001b[1;33m\u001b[0m\u001b[1;33m\u001b[0m\u001b[0m\n\u001b[1;32m----> 4\u001b[1;33m \u001b[0madd\u001b[0m\u001b[1;33m=\u001b[0m\u001b[0mnum1\u001b[0m\u001b[1;33m/\u001b[0m\u001b[0mnum2\u001b[0m\u001b[1;33m\u001b[0m\u001b[1;33m\u001b[0m\u001b[0m\n\u001b[0m\u001b[0;32m      5\u001b[0m \u001b[0mprint\u001b[0m\u001b[1;33m(\u001b[0m\u001b[0madd\u001b[0m\u001b[1;33m)\u001b[0m\u001b[1;33m\u001b[0m\u001b[1;33m\u001b[0m\u001b[0m\n",
      "\u001b[1;31mTypeError\u001b[0m: unsupported operand type(s) for /: 'str' and 'int'"
     ]
    }
   ],
   "source": [
    "#Error4:Type error: unsupported operand type(s)\n",
    "#num1 is string \n",
    "num1=input(\"Enter a number1\")\n",
    "num2=eval(input(\"Enter a number2\"))\n",
    "add=num1/num2\n",
    "print(add)"
   ]
  },
  {
   "cell_type": "code",
   "execution_count": 7,
   "metadata": {},
   "outputs": [
    {
     "ename": "SyntaxError",
     "evalue": "Missing parentheses in call to 'print'. Did you mean print(add)? (<ipython-input-7-1c8cee1a0bcb>, line 6)",
     "output_type": "error",
     "traceback": [
      "\u001b[1;36m  File \u001b[1;32m\"<ipython-input-7-1c8cee1a0bcb>\"\u001b[1;36m, line \u001b[1;32m6\u001b[0m\n\u001b[1;33m    print add\u001b[0m\n\u001b[1;37m            ^\u001b[0m\n\u001b[1;31mSyntaxError\u001b[0m\u001b[1;31m:\u001b[0m Missing parentheses in call to 'print'. Did you mean print(add)?\n"
     ]
    }
   ],
   "source": [
    "#Error5:Syntax error: Missing parentheses in call to 'print'\n",
    "#print()---missing paranthesis\n",
    "num1=input(\"Enter a number1\")\n",
    "num2=eval(input(\"Enter a number2\"))\n",
    "add=num1/num2\n",
    "print add"
   ]
  },
  {
   "cell_type": "code",
   "execution_count": 9,
   "metadata": {},
   "outputs": [
    {
     "name": "stdout",
     "output_type": "stream",
     "text": [
      "Enter a number120\n",
      "Enter a number220\n"
     ]
    },
    {
     "ename": "TypeError",
     "evalue": "unsupported operand type(s) for /: 'str' and 'int'",
     "output_type": "error",
     "traceback": [
      "\u001b[1;31m---------------------------------------------------------------------------\u001b[0m",
      "\u001b[1;31mTypeError\u001b[0m                                 Traceback (most recent call last)",
      "\u001b[1;32m<ipython-input-9-4ed722587e8d>\u001b[0m in \u001b[0;36m<module>\u001b[1;34m\u001b[0m\n\u001b[0;32m      2\u001b[0m \u001b[0mnum1\u001b[0m\u001b[1;33m=\u001b[0m\u001b[0minput\u001b[0m\u001b[1;33m(\u001b[0m\u001b[1;34m\"Enter a number1\"\u001b[0m\u001b[1;33m)\u001b[0m\u001b[1;33m\u001b[0m\u001b[1;33m\u001b[0m\u001b[0m\n\u001b[0;32m      3\u001b[0m \u001b[0mnum2\u001b[0m\u001b[1;33m=\u001b[0m\u001b[0meval\u001b[0m\u001b[1;33m(\u001b[0m\u001b[0minput\u001b[0m\u001b[1;33m(\u001b[0m\u001b[1;34m\"Enter a number2\"\u001b[0m\u001b[1;33m)\u001b[0m\u001b[1;33m)\u001b[0m\u001b[1;33m\u001b[0m\u001b[1;33m\u001b[0m\u001b[0m\n\u001b[1;32m----> 4\u001b[1;33m \u001b[0madd\u001b[0m\u001b[1;33m=\u001b[0m\u001b[0mnum1\u001b[0m\u001b[1;33m/\u001b[0m\u001b[0mnum2\u001b[0m\u001b[1;33m\u001b[0m\u001b[1;33m\u001b[0m\u001b[0m\n\u001b[0m\u001b[0;32m      5\u001b[0m \u001b[0mPrint\u001b[0m\u001b[1;33m(\u001b[0m\u001b[0madd\u001b[0m\u001b[1;33m)\u001b[0m\u001b[1;33m\u001b[0m\u001b[1;33m\u001b[0m\u001b[0m\n",
      "\u001b[1;31mTypeError\u001b[0m: unsupported operand type(s) for /: 'str' and 'int'"
     ]
    }
   ],
   "source": [
    "#Error6: Type Error: unsupported operand type(s)\n",
    "num1=input(\"Enter a number1\")\n",
    "num2=eval(input(\"Enter a number2\"))\n",
    "add=num1/num2\n",
    "Print(add)"
   ]
  },
  {
   "cell_type": "code",
   "execution_count": null,
   "metadata": {},
   "outputs": [],
   "source": [
    "### Possible Errors\n",
    "1. NameError\n",
    "2. SyntaxError-'(' was never closed\n",
    "3. ZeroDivisionError-division by error\n",
    "4. TypeError-unsupported operand type(s) for /: 'str' and 'int'\n",
    "5. Missing paranthesis in call to 'print'. Do you mean print(....)"
   ]
  },
  {
   "cell_type": "code",
   "execution_count": null,
   "metadata": {},
   "outputs": [],
   "source": [
    "### Exception handling\n",
    "at 200th line you got an error\n",
    "this error might not impact your code\n",
    "so you want to execute after 200th line also\n",
    "try except -both are keywords\n",
    "- there are 2 blocks \n",
    "- one is try block\n",
    "- another is exception block\n",
    "- your code will be there in try block\n",
    "- error capture will happen in except block\n",
    "- indentation\n",
    "-red: space/indentation not maintained properly\n",
    "- indentation has min 4 characters\n",
    "- if there's a : then indentation will be there"
   ]
  },
  {
   "cell_type": "code",
   "execution_count": 17,
   "metadata": {},
   "outputs": [
    {
     "name": "stdout",
     "output_type": "stream",
     "text": [
      "50\n"
     ]
    }
   ],
   "source": [
    "try:\n",
    "    num1=10\n",
    "    num2=20\n",
    "    num3=20\n",
    "    add=num1+num2+num3\n",
    "    print(add)\n",
    "except:\n",
    "    print(\"error is there, check code\")\n",
    "#If there's any error in the try block then the code in the except block will execute\n",
    "#Syntax error is not captured by try except\n",
    "#4 characters required here in the try block"
   ]
  },
  {
   "cell_type": "code",
   "execution_count": 18,
   "metadata": {},
   "outputs": [
    {
     "name": "stdout",
     "output_type": "stream",
     "text": [
      "error is there, check code\n"
     ]
    }
   ],
   "source": [
    "try:\n",
    "    num1=10\n",
    "    num2=0\n",
    "    add=num1/num2\n",
    "    print(add)\n",
    "except:\n",
    "    print(\"error is there, check code\")\n",
    "#doubt--what is the use of this, if we anticipate an error we can just remove it right?"
   ]
  },
  {
   "cell_type": "code",
   "execution_count": 19,
   "metadata": {},
   "outputs": [
    {
     "name": "stdout",
     "output_type": "stream",
     "text": [
      "Enter number 12\n",
      "Enter number 235\n",
      "Enter number 358\n",
      "The average of 2,35 and 58 is 31.666666666666668\n"
     ]
    }
   ],
   "source": [
    "#Average of 3 numbers\n",
    "num1=eval(input(\"Enter number 1\"))\n",
    "num2=eval(input(\"Enter number 2\"))\n",
    "num3=eval(input(\"Enter number 3\"))\n",
    "average=(num1+num2+num3)/3\n",
    "print(\"The average of {},{} and {} is {}\".format(num1,num2,num3,average))"
   ]
  },
  {
   "cell_type": "code",
   "execution_count": 20,
   "metadata": {},
   "outputs": [
    {
     "name": "stdout",
     "output_type": "stream",
     "text": [
      "Enter number 149\n",
      "Enter number 239\n",
      "Enter number 329\n",
      "The average of 49,39 and 29 is 39.0\n"
     ]
    }
   ],
   "source": [
    "try:\n",
    "    num1=eval(input(\"Enter number 1\"))\n",
    "    num2=eval(input(\"Enter number 2\"))\n",
    "    num3=eval(input(\"Enter number 3\"))\n",
    "    average=(num1+num2+num3)/3\n",
    "    print(\"The average of {},{} and {} is {}\".format(num1,num2,num3,average))\n",
    "except:\n",
    "    print(\"check the code\")"
   ]
  },
  {
   "cell_type": "code",
   "execution_count": 23,
   "metadata": {},
   "outputs": [
    {
     "name": "stdout",
     "output_type": "stream",
     "text": [
      "Enter number 137\n",
      "Enter number 242879\n",
      "Enter number 33876\n",
      "check the code\n"
     ]
    }
   ],
   "source": [
    "try:\n",
    "    num1=eval(input(\"Enter number 1\"))\n",
    "    num2=eval(input(\"Enter number 2\"))\n",
    "    num3=eval(input(\"Enter number 3\"))\n",
    "    average=(num1+num2+num333)/3\n",
    "    print(\"The average of {},{} and {} is {}\".format(num1,num2,num3,average))\n",
    "except:\n",
    "    print(\"check the code\")\n",
    "#Error1-NameError"
   ]
  },
  {
   "cell_type": "code",
   "execution_count": 24,
   "metadata": {},
   "outputs": [
    {
     "name": "stdout",
     "output_type": "stream",
     "text": [
      "Enter number 124\n",
      "Enter number 22425\n",
      "Enter number 33254\n",
      "name 'num333' is not defined\n"
     ]
    }
   ],
   "source": [
    "try:\n",
    "    num1=eval(input(\"Enter number 1\"))\n",
    "    num2=eval(input(\"Enter number 2\"))\n",
    "    num3=eval(input(\"Enter number 3\"))\n",
    "    average=(num1+num2+num333)/3\n",
    "    print(\"The average of {},{} and {} is {}\".format(num1,num2,num3,average))\n",
    "except Exception as e:\n",
    "    print(e)\n",
    "#Error1-NameError"
   ]
  },
  {
   "cell_type": "code",
   "execution_count": 25,
   "metadata": {},
   "outputs": [
    {
     "name": "stdout",
     "output_type": "stream",
     "text": [
      "Enter number 13498\n",
      "Enter number 235\n",
      "Enter number 30\n",
      "division by zero\n"
     ]
    }
   ],
   "source": [
    "try:\n",
    "    num1=eval(input(\"Enter number 1\"))\n",
    "    num2=eval(input(\"Enter number 2\"))\n",
    "    num3=eval(input(\"Enter number 3\"))\n",
    "    average=(num1+num2)/num3\n",
    "    print(\"The average of {},{} and {} is {}\".format(num1,num2,num3,average))\n",
    "except Exception as e:\n",
    "    print(e)\n",
    "#Error2-ZeroDivisionError"
   ]
  },
  {
   "cell_type": "code",
   "execution_count": 26,
   "metadata": {},
   "outputs": [
    {
     "ename": "SyntaxError",
     "evalue": "invalid syntax (<ipython-input-26-611ebc713112>, line 3)",
     "output_type": "error",
     "traceback": [
      "\u001b[1;36m  File \u001b[1;32m\"<ipython-input-26-611ebc713112>\"\u001b[1;36m, line \u001b[1;32m3\u001b[0m\n\u001b[1;33m    num2=eval(input(\"Enter number 2\"))\u001b[0m\n\u001b[1;37m       ^\u001b[0m\n\u001b[1;31mSyntaxError\u001b[0m\u001b[1;31m:\u001b[0m invalid syntax\n"
     ]
    }
   ],
   "source": [
    "try:\n",
    "    num1=eval(input(\"Enter number 1\")\n",
    "    num2=eval(input(\"Enter number 2\"))\n",
    "    num3=eval(input(\"Enter number 3\"))\n",
    "    average=(num1+num2+num333)/3\n",
    "    print(\"The average of {},{} and {} is {}\".format(num1,num2,num3,average))\n",
    "except Exception as e:\n",
    "    print(e)\n",
    "#Error1-NameError"
   ]
  },
  {
   "cell_type": "code",
   "execution_count": 28,
   "metadata": {},
   "outputs": [
    {
     "name": "stdout",
     "output_type": "stream",
     "text": [
      "Enter a number 1:apple\n",
      "name 'apple' is not defined\n"
     ]
    }
   ],
   "source": [
    "#WAp ask the user enter a number and find the square of the number\n",
    "try:\n",
    "    num1=eval(input(\"Enter a number 1:\"))\n",
    "    square=num1*num1\n",
    "    print(square)\n",
    "except Exception as e:\n",
    "    print(e)"
   ]
  },
  {
   "cell_type": "code",
   "execution_count": null,
   "metadata": {},
   "outputs": [],
   "source": [
    "#If we get more than one error, then the first error is captured in the exception\n",
    "#since python is a step by step language"
   ]
  },
  {
   "cell_type": "code",
   "execution_count": 33,
   "metadata": {},
   "outputs": [
    {
     "data": {
      "text/plain": [
       "(None, None, None)"
      ]
     },
     "execution_count": 33,
     "metadata": {},
     "output_type": "execute_result"
    }
   ],
   "source": [
    "import sys\n",
    "sys.exc_info()"
   ]
  },
  {
   "cell_type": "code",
   "execution_count": 35,
   "metadata": {},
   "outputs": [
    {
     "name": "stdout",
     "output_type": "stream",
     "text": [
      "Enter a number 1:fkjd\n",
      "name 'fkjd' is not defined\n",
      "hello\n"
     ]
    }
   ],
   "source": [
    "#WAp ask the user enter a number and find the square of the number\n",
    "try:\n",
    "    num1=eval(input(\"Enter a number 1:\"))\n",
    "    square=num1*num1\n",
    "    print(square)\n",
    "except Exception as e:\n",
    "    print(e)\n",
    "    print('hello') #this line is also executing even though there's an error before"
   ]
  },
  {
   "cell_type": "code",
   "execution_count": 43,
   "metadata": {},
   "outputs": [
    {
     "name": "stdout",
     "output_type": "stream",
     "text": [
      "Enter a number 1:35\n",
      "1225\n",
      "python\n",
      "1\n",
      "2\n"
     ]
    }
   ],
   "source": [
    "#WAp ask the user enter a number and find the square of the number\n",
    "try:\n",
    "    num1=eval(input(\"Enter a number 1:\"))\n",
    "    square=num2*num1\n",
    "    print(square)\n",
    "except Exception as e:\n",
    "    print(\"hi\")\n",
    "    print(e)\n",
    "    print(\"hello\")\n",
    "print('python')\n",
    "print(1)\n",
    "print(2)"
   ]
  },
  {
   "cell_type": "code",
   "execution_count": 38,
   "metadata": {},
   "outputs": [
    {
     "name": "stdout",
     "output_type": "stream",
     "text": [
      "1\n"
     ]
    }
   ],
   "source": [
    "print(1)"
   ]
  },
  {
   "cell_type": "code",
   "execution_count": 40,
   "metadata": {},
   "outputs": [
    {
     "name": "stdout",
     "output_type": "stream",
     "text": [
      "53.56\n"
     ]
    }
   ],
   "source": [
    "print(53.56)"
   ]
  },
  {
   "cell_type": "code",
   "execution_count": 42,
   "metadata": {},
   "outputs": [
    {
     "ename": "NameError",
     "evalue": "name 'apple' is not defined",
     "output_type": "error",
     "traceback": [
      "\u001b[1;31m---------------------------------------------------------------------------\u001b[0m",
      "\u001b[1;31mNameError\u001b[0m                                 Traceback (most recent call last)",
      "\u001b[1;32m<ipython-input-42-ed9861d04402>\u001b[0m in \u001b[0;36m<module>\u001b[1;34m\u001b[0m\n\u001b[1;32m----> 1\u001b[1;33m \u001b[0mprint\u001b[0m\u001b[1;33m(\u001b[0m\u001b[0mapple\u001b[0m\u001b[1;33m)\u001b[0m\u001b[1;33m\u001b[0m\u001b[1;33m\u001b[0m\u001b[0m\n\u001b[0m\u001b[0;32m      2\u001b[0m \u001b[1;31m#strings are not printed\u001b[0m\u001b[1;33m\u001b[0m\u001b[1;33m\u001b[0m\u001b[1;33m\u001b[0m\u001b[0m\n",
      "\u001b[1;31mNameError\u001b[0m: name 'apple' is not defined"
     ]
    }
   ],
   "source": [
    "print(apple)\n",
    "#strings are not printed"
   ]
  },
  {
   "cell_type": "code",
   "execution_count": null,
   "metadata": {},
   "outputs": [],
   "source": [
    "- If your code is without error, try block will execute\n",
    "- if your code has any error, it will redirect to except block\n",
    "- whatever you return inside except block that will return\n",
    "- try and except is always together\n",
    "- once try and except codes are complete, it wil try to look if any other lines of codes are there."
   ]
  },
  {
   "cell_type": "code",
   "execution_count": 46,
   "metadata": {},
   "outputs": [
    {
     "name": "stdout",
     "output_type": "stream",
     "text": [
      "===============\n",
      "8\n",
      "*****************\n",
      "Enter a number 1:34\n",
      "hi\n",
      "name 'num2222' is not defined\n",
      "hello\n",
      "python\n",
      "1\n",
      "2\n"
     ]
    }
   ],
   "source": [
    "#WAp ask the user enter a number and find the square of the number\n",
    "print(\"===============\")\n",
    "print(3+5)\n",
    "print(\"*****************\")\n",
    "try:\n",
    "    num1=eval(input(\"Enter a number 1:\"))\n",
    "    print(\"The square of {} is {}\".format(num1,num1*num2222))\n",
    "except Exception as e:\n",
    "    print(\"hi\")\n",
    "    print(e)\n",
    "    print(\"hello\")\n",
    "print('python')\n",
    "print(1)\n",
    "print(2)"
   ]
  },
  {
   "cell_type": "code",
   "execution_count": 47,
   "metadata": {},
   "outputs": [
    {
     "ename": "SyntaxError",
     "evalue": "invalid syntax (<ipython-input-47-3f362d8338a8>, line 8)",
     "output_type": "error",
     "traceback": [
      "\u001b[1;36m  File \u001b[1;32m\"<ipython-input-47-3f362d8338a8>\"\u001b[1;36m, line \u001b[1;32m8\u001b[0m\n\u001b[1;33m    print('out')\u001b[0m\n\u001b[1;37m        ^\u001b[0m\n\u001b[1;31mSyntaxError\u001b[0m\u001b[1;31m:\u001b[0m invalid syntax\n"
     ]
    }
   ],
   "source": [
    "#WAp ask the user enter a number and find the square of the number\n",
    "print(\"===============\")\n",
    "print(3+5)\n",
    "print(\"*****************\")\n",
    "try:\n",
    "    num1=eval(input(\"Enter a number 1:\"))\n",
    "    print(\"The square of {} is {}\".format(num1,num1*num2222))\n",
    "print('out')\n",
    "except Exception as e:\n",
    "    print(\"hi\")\n",
    "    print(e)\n",
    "    print(\"hello\")\n",
    "print('python')\n",
    "print(1)\n",
    "print(2)"
   ]
  },
  {
   "cell_type": "code",
   "execution_count": 49,
   "metadata": {},
   "outputs": [
    {
     "ename": "IndentationError",
     "evalue": "unindent does not match any outer indentation level (<tokenize>, line 8)",
     "output_type": "error",
     "traceback": [
      "\u001b[1;36m  File \u001b[1;32m\"<tokenize>\"\u001b[1;36m, line \u001b[1;32m8\u001b[0m\n\u001b[1;33m    print('out')\u001b[0m\n\u001b[1;37m    ^\u001b[0m\n\u001b[1;31mIndentationError\u001b[0m\u001b[1;31m:\u001b[0m unindent does not match any outer indentation level\n"
     ]
    }
   ],
   "source": [
    "#WAp ask the user enter a number and find the square of the number\n",
    "print(\"===============\")\n",
    "print(3+5)\n",
    "print(\"*****************\")\n",
    "try:\n",
    "    num1=eval(input(\"Enter a number 1:\"))\n",
    "    print(\"The square of {} is {}\".format(num1,num1*num2222))\n",
    " print('out')\n",
    "except Exception as e:\n",
    "    print(\"hi\")\n",
    "    print(e)\n",
    "    print(\"hello\")\n",
    "print('python')\n",
    "print(1)\n",
    "print(2)"
   ]
  },
  {
   "cell_type": "code",
   "execution_count": null,
   "metadata": {},
   "outputs": [],
   "source": []
  }
 ],
 "metadata": {
  "kernelspec": {
   "display_name": "Python 3",
   "language": "python",
   "name": "python3"
  },
  "language_info": {
   "codemirror_mode": {
    "name": "ipython",
    "version": 3
   },
   "file_extension": ".py",
   "mimetype": "text/x-python",
   "name": "python",
   "nbconvert_exporter": "python",
   "pygments_lexer": "ipython3",
   "version": "3.7.6"
  }
 },
 "nbformat": 4,
 "nbformat_minor": 4
}
