{
 "cells": [
  {
   "cell_type": "code",
   "execution_count": null,
   "id": "0c1dc497",
   "metadata": {},
   "outputs": [],
   "source": [
    "#Strings\n",
    "#List\n",
    "#Dictionary\n",
    "#Tuple\n",
    "#Set"
   ]
  },
  {
   "cell_type": "markdown",
   "id": "51889b4c",
   "metadata": {},
   "source": [
    "**How to read the strings?**"
   ]
  },
  {
   "cell_type": "code",
   "execution_count": 1,
   "id": "a69a9a42",
   "metadata": {},
   "outputs": [
    {
     "data": {
      "text/plain": [
       "'python'"
      ]
     },
     "execution_count": 1,
     "metadata": {},
     "output_type": "execute_result"
    }
   ],
   "source": [
    "string1='python' #single quote\n",
    "string1"
   ]
  },
  {
   "cell_type": "code",
   "execution_count": 2,
   "id": "3db12891",
   "metadata": {},
   "outputs": [
    {
     "data": {
      "text/plain": [
       "'python'"
      ]
     },
     "execution_count": 2,
     "metadata": {},
     "output_type": "execute_result"
    }
   ],
   "source": [
    "string2=\"python\"\n",
    "string2"
   ]
  },
  {
   "cell_type": "code",
   "execution_count": 6,
   "id": "e751138b",
   "metadata": {},
   "outputs": [
    {
     "name": "stdout",
     "output_type": "stream",
     "text": [
      "good morning\n"
     ]
    }
   ],
   "source": [
    "### Triple Quotes\n",
    "#doc string\n",
    "\"\"\"\n",
    "Doc string is used to say some information about your python code\n",
    "im creating a hello function\n",
    "arguments:None\n",
    "return: None\n",
    "\"\"\"\n",
    "def hello():\n",
    "    print(\"good morning\")\n",
    "hello()"
   ]
  },
  {
   "cell_type": "code",
   "execution_count": 7,
   "id": "2bad5bce",
   "metadata": {},
   "outputs": [
    {
     "data": {
      "text/plain": [
       "0j"
      ]
     },
     "execution_count": 7,
     "metadata": {},
     "output_type": "execute_result"
    }
   ],
   "source": [
    "complex()\n",
    "#Shift+Tab----->Doc string"
   ]
  },
  {
   "cell_type": "code",
   "execution_count": 8,
   "id": "fd7aa542",
   "metadata": {},
   "outputs": [
    {
     "data": {
      "text/plain": [
       "'hello python'"
      ]
     },
     "execution_count": 8,
     "metadata": {},
     "output_type": "execute_result"
    }
   ],
   "source": [
    "'hello python' #I want to highlight the python"
   ]
  },
  {
   "cell_type": "code",
   "execution_count": 10,
   "id": "19e31486",
   "metadata": {},
   "outputs": [
    {
     "name": "stdout",
     "output_type": "stream",
     "text": [
      "hello \"python\"\n"
     ]
    }
   ],
   "source": [
    "string3='hello \"python\"'\n",
    "print(string3)"
   ]
  },
  {
   "cell_type": "code",
   "execution_count": 12,
   "id": "31644c37",
   "metadata": {},
   "outputs": [
    {
     "name": "stdout",
     "output_type": "stream",
     "text": [
      "hello 'python'\n"
     ]
    }
   ],
   "source": [
    "string4=\"hello 'python'\"\n",
    "print(string4)"
   ]
  },
  {
   "cell_type": "markdown",
   "id": "a8638190",
   "metadata": {},
   "source": [
    "- type\n",
    "- len\n",
    "- max\n",
    "- min"
   ]
  },
  {
   "cell_type": "markdown",
   "id": "4b63d056",
   "metadata": {},
   "source": [
    "$type$"
   ]
  },
  {
   "cell_type": "code",
   "execution_count": 13,
   "id": "8e26857a",
   "metadata": {},
   "outputs": [
    {
     "data": {
      "text/plain": [
       "'python'"
      ]
     },
     "execution_count": 13,
     "metadata": {},
     "output_type": "execute_result"
    }
   ],
   "source": [
    "string1"
   ]
  },
  {
   "cell_type": "code",
   "execution_count": 14,
   "id": "18c14aa0",
   "metadata": {
    "scrolled": false
   },
   "outputs": [
    {
     "data": {
      "text/plain": [
       "str"
      ]
     },
     "execution_count": 14,
     "metadata": {},
     "output_type": "execute_result"
    }
   ],
   "source": [
    "type(string1)"
   ]
  },
  {
   "cell_type": "markdown",
   "id": "f3817a70",
   "metadata": {},
   "source": [
    "$len$"
   ]
  },
  {
   "cell_type": "code",
   "execution_count": 15,
   "id": "7ff05726",
   "metadata": {},
   "outputs": [
    {
     "data": {
      "text/plain": [
       "6"
      ]
     },
     "execution_count": 15,
     "metadata": {},
     "output_type": "execute_result"
    }
   ],
   "source": [
    "len(string1)"
   ]
  },
  {
   "cell_type": "markdown",
   "id": "ab846234",
   "metadata": {},
   "source": [
    "$max$ and $min$"
   ]
  },
  {
   "cell_type": "code",
   "execution_count": 16,
   "id": "e80441f5",
   "metadata": {},
   "outputs": [
    {
     "data": {
      "text/plain": [
       "'y'"
      ]
     },
     "execution_count": 16,
     "metadata": {},
     "output_type": "execute_result"
    }
   ],
   "source": [
    "max(string1)"
   ]
  },
  {
   "cell_type": "code",
   "execution_count": 18,
   "id": "ac132f70",
   "metadata": {},
   "outputs": [
    {
     "data": {
      "text/plain": [
       "'p'"
      ]
     },
     "execution_count": 18,
     "metadata": {},
     "output_type": "execute_result"
    }
   ],
   "source": [
    "string11='pP'\n",
    "max(string11)"
   ]
  },
  {
   "cell_type": "code",
   "execution_count": null,
   "id": "a82d9f27",
   "metadata": {},
   "outputs": [],
   "source": [
    "#ASCII values:\n",
    "#'A':65-90\n",
    "#'a': 97-122"
   ]
  },
  {
   "cell_type": "markdown",
   "id": "be2c876d",
   "metadata": {},
   "source": [
    "$ord$-$chr$"
   ]
  },
  {
   "cell_type": "code",
   "execution_count": 20,
   "id": "da5c9157",
   "metadata": {},
   "outputs": [
    {
     "data": {
      "text/plain": [
       "112"
      ]
     },
     "execution_count": 20,
     "metadata": {},
     "output_type": "execute_result"
    }
   ],
   "source": [
    "ord('p')"
   ]
  },
  {
   "cell_type": "code",
   "execution_count": 21,
   "id": "6df02080",
   "metadata": {},
   "outputs": [
    {
     "data": {
      "text/plain": [
       "80"
      ]
     },
     "execution_count": 21,
     "metadata": {},
     "output_type": "execute_result"
    }
   ],
   "source": [
    "ord('P')"
   ]
  },
  {
   "cell_type": "code",
   "execution_count": 23,
   "id": "43680d15",
   "metadata": {},
   "outputs": [
    {
     "data": {
      "text/plain": [
       "'y'"
      ]
     },
     "execution_count": 23,
     "metadata": {},
     "output_type": "execute_result"
    }
   ],
   "source": [
    "string1='python'\n",
    "max(string1)"
   ]
  },
  {
   "cell_type": "code",
   "execution_count": 24,
   "id": "ea01194e",
   "metadata": {},
   "outputs": [
    {
     "data": {
      "text/plain": [
       "(112, 121, 116, 104, 111, 110)"
      ]
     },
     "execution_count": 24,
     "metadata": {},
     "output_type": "execute_result"
    }
   ],
   "source": [
    "ord('p'), ord('y'), ord('t'), ord('h'), ord('o'), ord('n')"
   ]
  },
  {
   "cell_type": "code",
   "execution_count": 25,
   "id": "4a54b1d3",
   "metadata": {},
   "outputs": [
    {
     "data": {
      "text/plain": [
       "'p'"
      ]
     },
     "execution_count": 25,
     "metadata": {},
     "output_type": "execute_result"
    }
   ],
   "source": [
    "chr(112)"
   ]
  },
  {
   "cell_type": "code",
   "execution_count": 27,
   "id": "28e9eec3",
   "metadata": {},
   "outputs": [
    {
     "data": {
      "text/plain": [
       "'y'"
      ]
     },
     "execution_count": 27,
     "metadata": {},
     "output_type": "execute_result"
    }
   ],
   "source": [
    "chr(121)"
   ]
  },
  {
   "cell_type": "code",
   "execution_count": 28,
   "id": "9ff392f7",
   "metadata": {},
   "outputs": [
    {
     "data": {
      "text/plain": [
       "'z'"
      ]
     },
     "execution_count": 28,
     "metadata": {},
     "output_type": "execute_result"
    }
   ],
   "source": [
    "chr(122)"
   ]
  },
  {
   "cell_type": "code",
   "execution_count": 30,
   "id": "e1ed16e7",
   "metadata": {},
   "outputs": [
    {
     "data": {
      "text/plain": [
       "'h'"
      ]
     },
     "execution_count": 30,
     "metadata": {},
     "output_type": "execute_result"
    }
   ],
   "source": [
    "chr(104)"
   ]
  },
  {
   "cell_type": "code",
   "execution_count": 31,
   "id": "9fd076c0",
   "metadata": {},
   "outputs": [
    {
     "data": {
      "text/plain": [
       "'C'"
      ]
     },
     "execution_count": 31,
     "metadata": {},
     "output_type": "execute_result"
    }
   ],
   "source": [
    "chr(67)"
   ]
  },
  {
   "cell_type": "code",
   "execution_count": 32,
   "id": "facf7034",
   "metadata": {},
   "outputs": [
    {
     "data": {
      "text/plain": [
       "'A'"
      ]
     },
     "execution_count": 32,
     "metadata": {},
     "output_type": "execute_result"
    }
   ],
   "source": [
    "chr(65)"
   ]
  },
  {
   "cell_type": "code",
   "execution_count": 33,
   "id": "f635877b",
   "metadata": {},
   "outputs": [
    {
     "data": {
      "text/plain": [
       "'a'"
      ]
     },
     "execution_count": 33,
     "metadata": {},
     "output_type": "execute_result"
    }
   ],
   "source": [
    "chr(97)"
   ]
  },
  {
   "cell_type": "code",
   "execution_count": 35,
   "id": "2806f9c0",
   "metadata": {},
   "outputs": [
    {
     "data": {
      "text/plain": [
       "'z'"
      ]
     },
     "execution_count": 35,
     "metadata": {},
     "output_type": "execute_result"
    }
   ],
   "source": [
    "chr(122)"
   ]
  },
  {
   "cell_type": "code",
   "execution_count": 41,
   "id": "d297a297",
   "metadata": {},
   "outputs": [
    {
     "name": "stdout",
     "output_type": "stream",
     "text": [
      "112,121,116,104,111,110,"
     ]
    }
   ],
   "source": [
    "for i in range(len(string1)):\n",
    "    print(ord(string1[i]), end=',')"
   ]
  },
  {
   "cell_type": "code",
   "execution_count": null,
   "id": "ca593a13",
   "metadata": {},
   "outputs": [],
   "source": [
    "#I want to print p y t h o n"
   ]
  },
  {
   "cell_type": "markdown",
   "id": "12a43257",
   "metadata": {},
   "source": [
    "$in$"
   ]
  },
  {
   "cell_type": "code",
   "execution_count": 42,
   "id": "b7f5a939",
   "metadata": {},
   "outputs": [
    {
     "data": {
      "text/plain": [
       "True"
      ]
     },
     "execution_count": 42,
     "metadata": {},
     "output_type": "execute_result"
    }
   ],
   "source": [
    "string1='python'\n",
    "'p' in string1"
   ]
  },
  {
   "cell_type": "code",
   "execution_count": 43,
   "id": "afc80d23",
   "metadata": {},
   "outputs": [
    {
     "data": {
      "text/plain": [
       "True"
      ]
     },
     "execution_count": 43,
     "metadata": {},
     "output_type": "execute_result"
    }
   ],
   "source": [
    "'y' in string1"
   ]
  },
  {
   "cell_type": "code",
   "execution_count": 44,
   "id": "da7e90e1",
   "metadata": {},
   "outputs": [
    {
     "data": {
      "text/plain": [
       "True"
      ]
     },
     "execution_count": 44,
     "metadata": {},
     "output_type": "execute_result"
    }
   ],
   "source": [
    "'t' in string1"
   ]
  },
  {
   "cell_type": "code",
   "execution_count": 45,
   "id": "3110224a",
   "metadata": {},
   "outputs": [
    {
     "data": {
      "text/plain": [
       "True"
      ]
     },
     "execution_count": 45,
     "metadata": {},
     "output_type": "execute_result"
    }
   ],
   "source": [
    "'h' in string1"
   ]
  },
  {
   "cell_type": "code",
   "execution_count": 46,
   "id": "28090994",
   "metadata": {},
   "outputs": [
    {
     "data": {
      "text/plain": [
       "True"
      ]
     },
     "execution_count": 46,
     "metadata": {},
     "output_type": "execute_result"
    }
   ],
   "source": [
    "'o' in string1"
   ]
  },
  {
   "cell_type": "code",
   "execution_count": 47,
   "id": "9d23fed7",
   "metadata": {},
   "outputs": [
    {
     "data": {
      "text/plain": [
       "True"
      ]
     },
     "execution_count": 47,
     "metadata": {},
     "output_type": "execute_result"
    }
   ],
   "source": [
    "'n' in string1"
   ]
  },
  {
   "cell_type": "code",
   "execution_count": 50,
   "id": "b34068aa",
   "metadata": {},
   "outputs": [
    {
     "name": "stdout",
     "output_type": "stream",
     "text": [
      "p\n",
      "y\n",
      "t\n",
      "h\n",
      "o\n",
      "n\n"
     ]
    }
   ],
   "source": [
    "for i in string1:\n",
    "    # generalized expression\n",
    "    print(i)"
   ]
  },
  {
   "cell_type": "code",
   "execution_count": 51,
   "id": "d3f8b8e2",
   "metadata": {
    "scrolled": true
   },
   "outputs": [
    {
     "ename": "SyntaxError",
     "evalue": "Missing parentheses in call to 'print'. Did you mean print(...)? (1843401224.py, line 3)",
     "output_type": "error",
     "traceback": [
      "\u001b[1;36m  Cell \u001b[1;32mIn[51], line 3\u001b[1;36m\u001b[0m\n\u001b[1;33m    print i\u001b[0m\n\u001b[1;37m    ^\u001b[0m\n\u001b[1;31mSyntaxError\u001b[0m\u001b[1;31m:\u001b[0m Missing parentheses in call to 'print'. Did you mean print(...)?\n"
     ]
    }
   ],
   "source": [
    "#Note that print needs a () at the end of it -----syntax error\n",
    "for i in string1:\n",
    "    # generalized expression\n",
    "    print i"
   ]
  },
  {
   "cell_type": "markdown",
   "id": "599e7adb",
   "metadata": {},
   "source": [
    "- in operator is used only for strings\n",
    "- in: is used only for strings"
   ]
  },
  {
   "cell_type": "markdown",
   "id": "c1b959de",
   "metadata": {},
   "source": [
    "- If you want to print the letters using for loop, go for in operator"
   ]
  },
  {
   "cell_type": "code",
   "execution_count": 57,
   "id": "94f6f282",
   "metadata": {},
   "outputs": [
    {
     "name": "stdout",
     "output_type": "stream",
     "text": [
      "112\n",
      "121\n",
      "116\n",
      "104\n",
      "111\n",
      "110\n"
     ]
    }
   ],
   "source": [
    "print(ord('p'))\n",
    "print(ord('y'))\n",
    "print(ord('t'))\n",
    "print(ord('h'))\n",
    "print(ord('o'))\n",
    "print(ord('n'))"
   ]
  },
  {
   "cell_type": "code",
   "execution_count": 59,
   "id": "2f1a4d45",
   "metadata": {
    "scrolled": true
   },
   "outputs": [
    {
     "name": "stdout",
     "output_type": "stream",
     "text": [
      "ASCII value of p is 112\n",
      "ASCII value of y is 121\n",
      "ASCII value of t is 116\n",
      "ASCII value of h is 104\n",
      "ASCII value of o is 111\n",
      "ASCII value of n is 110\n"
     ]
    }
   ],
   "source": [
    "for i in string1:\n",
    "    print(\"ASCII value of {} is {}\".format(i,ord(i)))    "
   ]
  },
  {
   "cell_type": "code",
   "execution_count": 61,
   "id": "78d90391",
   "metadata": {},
   "outputs": [
    {
     "name": "stdout",
     "output_type": "stream",
     "text": [
      "ASCII value of A is 65\n",
      "ASCII value of B is 66\n",
      "ASCII value of C is 67\n",
      "ASCII value of D is 68\n",
      "ASCII value of E is 69\n",
      "ASCII value of F is 70\n",
      "ASCII value of G is 71\n",
      "ASCII value of H is 72\n",
      "ASCII value of I is 73\n",
      "ASCII value of J is 74\n",
      "ASCII value of K is 75\n",
      "ASCII value of L is 76\n",
      "ASCII value of M is 77\n",
      "ASCII value of N is 78\n",
      "ASCII value of O is 79\n",
      "ASCII value of P is 80\n",
      "ASCII value of Q is 81\n",
      "ASCII value of R is 82\n",
      "ASCII value of S is 83\n",
      "ASCII value of T is 84\n",
      "ASCII value of U is 85\n",
      "ASCII value of V is 86\n",
      "ASCII value of W is 87\n",
      "ASCII value of X is 88\n",
      "ASCII value of Y is 89\n",
      "ASCII value of Z is 90\n"
     ]
    }
   ],
   "source": [
    "#ASCII values of A,Z\n",
    "for i in range(65,91) :\n",
    "    print(\"ASCII value of {} is {}\".format(chr(i),i))    "
   ]
  },
  {
   "cell_type": "code",
   "execution_count": 63,
   "id": "cdbe765c",
   "metadata": {},
   "outputs": [
    {
     "name": "stdout",
     "output_type": "stream",
     "text": [
      "ASCII value of A is 65\n",
      "ASCII value of B is 66\n",
      "ASCII value of C is 67\n",
      "ASCII value of D is 68\n",
      "ASCII value of E is 69\n",
      "ASCII value of F is 70\n",
      "ASCII value of G is 71\n",
      "ASCII value of H is 72\n",
      "ASCII value of I is 73\n",
      "ASCII value of J is 74\n",
      "ASCII value of K is 75\n",
      "ASCII value of L is 76\n",
      "ASCII value of M is 77\n",
      "ASCII value of N is 78\n",
      "ASCII value of O is 79\n",
      "ASCII value of P is 80\n",
      "ASCII value of Q is 81\n",
      "ASCII value of R is 82\n",
      "ASCII value of S is 83\n",
      "ASCII value of T is 84\n",
      "ASCII value of U is 85\n",
      "ASCII value of V is 86\n",
      "ASCII value of W is 87\n",
      "ASCII value of X is 88\n",
      "ASCII value of Y is 89\n",
      "ASCII value of Z is 90\n"
     ]
    }
   ],
   "source": [
    "#ASCII values of A,Z\n",
    "for i in \"ABCDEFGHIJKLMNOPQRSTUVWXYZ\" :\n",
    "    print(\"ASCII value of {} is {}\".format(i,ord(i)))    "
   ]
  },
  {
   "cell_type": "markdown",
   "id": "5febf05b",
   "metadata": {},
   "source": [
    "**Methods**"
   ]
  },
  {
   "cell_type": "code",
   "execution_count": 64,
   "id": "f66851ce",
   "metadata": {},
   "outputs": [
    {
     "data": {
      "text/plain": [
       "['Formatter',\n",
       " 'Template',\n",
       " '_ChainMap',\n",
       " '__all__',\n",
       " '__builtins__',\n",
       " '__cached__',\n",
       " '__doc__',\n",
       " '__file__',\n",
       " '__loader__',\n",
       " '__name__',\n",
       " '__package__',\n",
       " '__spec__',\n",
       " '_re',\n",
       " '_sentinel_dict',\n",
       " '_string',\n",
       " 'ascii_letters',\n",
       " 'ascii_lowercase',\n",
       " 'ascii_uppercase',\n",
       " 'capwords',\n",
       " 'digits',\n",
       " 'hexdigits',\n",
       " 'octdigits',\n",
       " 'printable',\n",
       " 'punctuation',\n",
       " 'whitespace']"
      ]
     },
     "execution_count": 64,
     "metadata": {},
     "output_type": "execute_result"
    }
   ],
   "source": [
    "#Strings package\n",
    "import string\n",
    "dir(string)"
   ]
  },
  {
   "cell_type": "code",
   "execution_count": 67,
   "id": "4043fdc7",
   "metadata": {},
   "outputs": [
    {
     "data": {
      "text/plain": [
       "'ABCDEFGHIJKLMNOPQRSTUVWXYZ'"
      ]
     },
     "execution_count": 67,
     "metadata": {},
     "output_type": "execute_result"
    }
   ],
   "source": [
    "#see the output\n",
    "string.ascii_uppercase"
   ]
  },
  {
   "cell_type": "code",
   "execution_count": 68,
   "id": "1f9b07f7",
   "metadata": {},
   "outputs": [
    {
     "name": "stdout",
     "output_type": "stream",
     "text": [
      "ASCII value of A is 65\n",
      "ASCII value of B is 66\n",
      "ASCII value of C is 67\n",
      "ASCII value of D is 68\n",
      "ASCII value of E is 69\n",
      "ASCII value of F is 70\n",
      "ASCII value of G is 71\n",
      "ASCII value of H is 72\n",
      "ASCII value of I is 73\n",
      "ASCII value of J is 74\n",
      "ASCII value of K is 75\n",
      "ASCII value of L is 76\n",
      "ASCII value of M is 77\n",
      "ASCII value of N is 78\n",
      "ASCII value of O is 79\n",
      "ASCII value of P is 80\n",
      "ASCII value of Q is 81\n",
      "ASCII value of R is 82\n",
      "ASCII value of S is 83\n",
      "ASCII value of T is 84\n",
      "ASCII value of U is 85\n",
      "ASCII value of V is 86\n",
      "ASCII value of W is 87\n",
      "ASCII value of X is 88\n",
      "ASCII value of Y is 89\n",
      "ASCII value of Z is 90\n"
     ]
    }
   ],
   "source": [
    "#ASCII values of A,Z\n",
    "for i in string.ascii_uppercase:\n",
    "    print(\"ASCII value of {} is {}\".format(i,ord(i)))    "
   ]
  },
  {
   "cell_type": "code",
   "execution_count": 69,
   "id": "bd3d9658",
   "metadata": {},
   "outputs": [
    {
     "name": "stdout",
     "output_type": "stream",
     "text": [
      "ASCII value of a is 97\n",
      "ASCII value of b is 98\n",
      "ASCII value of c is 99\n",
      "ASCII value of d is 100\n",
      "ASCII value of e is 101\n",
      "ASCII value of f is 102\n",
      "ASCII value of g is 103\n",
      "ASCII value of h is 104\n",
      "ASCII value of i is 105\n",
      "ASCII value of j is 106\n",
      "ASCII value of k is 107\n",
      "ASCII value of l is 108\n",
      "ASCII value of m is 109\n",
      "ASCII value of n is 110\n",
      "ASCII value of o is 111\n",
      "ASCII value of p is 112\n",
      "ASCII value of q is 113\n",
      "ASCII value of r is 114\n",
      "ASCII value of s is 115\n",
      "ASCII value of t is 116\n",
      "ASCII value of u is 117\n",
      "ASCII value of v is 118\n",
      "ASCII value of w is 119\n",
      "ASCII value of x is 120\n",
      "ASCII value of y is 121\n",
      "ASCII value of z is 122\n"
     ]
    }
   ],
   "source": [
    "#ASCII values of A,Z\n",
    "for i in string.ascii_lowercase :\n",
    "    print(\"ASCII value of {} is {}\".format(i,ord(i)))    "
   ]
  },
  {
   "cell_type": "code",
   "execution_count": 70,
   "id": "c385608c",
   "metadata": {},
   "outputs": [
    {
     "data": {
      "text/plain": [
       "'!\"#$%&\\'()*+,-./:;<=>?@[\\\\]^_`{|}~'"
      ]
     },
     "execution_count": 70,
     "metadata": {},
     "output_type": "execute_result"
    }
   ],
   "source": [
    "string.punctuation"
   ]
  },
  {
   "cell_type": "code",
   "execution_count": 71,
   "id": "d2e7d052",
   "metadata": {},
   "outputs": [
    {
     "name": "stdout",
     "output_type": "stream",
     "text": [
      "ASCII value of ! is 33\n",
      "ASCII value of \" is 34\n",
      "ASCII value of # is 35\n",
      "ASCII value of $ is 36\n",
      "ASCII value of % is 37\n",
      "ASCII value of & is 38\n",
      "ASCII value of ' is 39\n",
      "ASCII value of ( is 40\n",
      "ASCII value of ) is 41\n",
      "ASCII value of * is 42\n",
      "ASCII value of + is 43\n",
      "ASCII value of , is 44\n",
      "ASCII value of - is 45\n",
      "ASCII value of . is 46\n",
      "ASCII value of / is 47\n",
      "ASCII value of : is 58\n",
      "ASCII value of ; is 59\n",
      "ASCII value of < is 60\n",
      "ASCII value of = is 61\n",
      "ASCII value of > is 62\n",
      "ASCII value of ? is 63\n",
      "ASCII value of @ is 64\n",
      "ASCII value of [ is 91\n",
      "ASCII value of \\ is 92\n",
      "ASCII value of ] is 93\n",
      "ASCII value of ^ is 94\n",
      "ASCII value of _ is 95\n",
      "ASCII value of ` is 96\n",
      "ASCII value of { is 123\n",
      "ASCII value of | is 124\n",
      "ASCII value of } is 125\n",
      "ASCII value of ~ is 126\n"
     ]
    }
   ],
   "source": [
    "#ASCII values of A,Z\n",
    "for i in string.punctuation:\n",
    "    print(\"ASCII value of {} is {}\".format(i,ord(i)))    "
   ]
  },
  {
   "cell_type": "code",
   "execution_count": 85,
   "id": "2b9e5b95",
   "metadata": {},
   "outputs": [
    {
     "name": "stdout",
     "output_type": "stream",
     "text": [
      "1 \u0001\n",
      "2 \u0002\n",
      "3 \u0003\n",
      "4 \u0004\n",
      "5 \u0005\n",
      "6 \u0006\n",
      "7 \u0007\n",
      "8 \b\n",
      "9 \t\n",
      "10 \n",
      "\n",
      "11 \u000b",
      "\n",
      "12 \f",
      "\n",
      "13 \r\n",
      "14 \u000e\n",
      "15 \u000f\n",
      "16 \u0010\n",
      "17 \u0011\n",
      "18 \u0012\n",
      "19 \u0013\n",
      "20 \u0014\n",
      "21 \u0015\n",
      "22 \u0016\n",
      "23 \u0017\n",
      "24 \u0018\n",
      "25 \u0019\n",
      "26 \u001a\n",
      "27 \u001b\n",
      "28 \u001c",
      "\n",
      "29 \u001d",
      "\n",
      "30 \u001e",
      "\n",
      "31 \u001f\n",
      "32  \n",
      "33 !\n",
      "34 \"\n",
      "35 #\n",
      "36 $\n",
      "37 %\n",
      "38 &\n",
      "39 '\n",
      "40 (\n",
      "41 )\n",
      "42 *\n",
      "43 +\n",
      "44 ,\n",
      "45 -\n",
      "46 .\n",
      "47 /\n",
      "48 0\n",
      "49 1\n"
     ]
    }
   ],
   "source": [
    "for i in range(1,50):\n",
    "    print(i,chr(i))"
   ]
  },
  {
   "cell_type": "code",
   "execution_count": 87,
   "id": "c8bb0409",
   "metadata": {},
   "outputs": [
    {
     "name": "stdout",
     "output_type": "stream",
     "text": [
      "33 !\n",
      "34 \"\n",
      "35 #\n",
      "36 $\n",
      "37 %\n",
      "38 &\n",
      "39 '\n",
      "40 (\n",
      "41 )\n",
      "42 *\n",
      "43 +\n",
      "44 ,\n",
      "45 -\n",
      "46 .\n",
      "47 /\n",
      "48 0\n",
      "49 1\n",
      "50 2\n",
      "51 3\n",
      "52 4\n",
      "53 5\n",
      "54 6\n",
      "55 7\n",
      "56 8\n",
      "57 9\n",
      "58 :\n",
      "59 ;\n",
      "60 <\n",
      "61 =\n",
      "62 >\n",
      "63 ?\n",
      "64 @\n",
      "65 A\n",
      "66 B\n",
      "67 C\n",
      "68 D\n",
      "69 E\n",
      "70 F\n",
      "71 G\n",
      "72 H\n",
      "73 I\n",
      "74 J\n",
      "75 K\n",
      "76 L\n",
      "77 M\n",
      "78 N\n",
      "79 O\n",
      "80 P\n",
      "81 Q\n",
      "82 R\n",
      "83 S\n",
      "84 T\n",
      "85 U\n",
      "86 V\n",
      "87 W\n",
      "88 X\n",
      "89 Y\n",
      "90 Z\n",
      "91 [\n",
      "92 \\\n",
      "93 ]\n",
      "94 ^\n",
      "95 _\n",
      "96 `\n",
      "97 a\n",
      "98 b\n",
      "99 c\n",
      "100 d\n",
      "101 e\n",
      "102 f\n",
      "103 g\n",
      "104 h\n",
      "105 i\n",
      "106 j\n",
      "107 k\n",
      "108 l\n",
      "109 m\n",
      "110 n\n",
      "111 o\n",
      "112 p\n",
      "113 q\n",
      "114 r\n",
      "115 s\n",
      "116 t\n",
      "117 u\n",
      "118 v\n",
      "119 w\n",
      "120 x\n",
      "121 y\n",
      "122 z\n",
      "123 {\n",
      "124 |\n",
      "125 }\n",
      "126 ~\n"
     ]
    }
   ],
   "source": [
    "for i in range(33,127):\n",
    "    print(i,chr(i))\n",
    "#ASCII values start with 33 and end with 126"
   ]
  },
  {
   "cell_type": "code",
   "execution_count": 88,
   "id": "c10ec6cd",
   "metadata": {},
   "outputs": [
    {
     "data": {
      "text/plain": [
       "'abcdefghijklmnopqrstuvwxyzABCDEFGHIJKLMNOPQRSTUVWXYZ'"
      ]
     },
     "execution_count": 88,
     "metadata": {},
     "output_type": "execute_result"
    }
   ],
   "source": [
    "string.ascii_letters"
   ]
  },
  {
   "cell_type": "code",
   "execution_count": 89,
   "id": "2634cde8",
   "metadata": {},
   "outputs": [
    {
     "data": {
      "text/plain": [
       "'0123456789abcdefghijklmnopqrstuvwxyzABCDEFGHIJKLMNOPQRSTUVWXYZ!\"#$%&\\'()*+,-./:;<=>?@[\\\\]^_`{|}~ \\t\\n\\r\\x0b\\x0c'"
      ]
     },
     "execution_count": 89,
     "metadata": {},
     "output_type": "execute_result"
    }
   ],
   "source": [
    "string.printable"
   ]
  },
  {
   "cell_type": "code",
   "execution_count": 90,
   "id": "3bf82241",
   "metadata": {},
   "outputs": [
    {
     "data": {
      "text/plain": [
       "100"
      ]
     },
     "execution_count": 90,
     "metadata": {},
     "output_type": "execute_result"
    }
   ],
   "source": [
    "len(string.printable)"
   ]
  },
  {
   "cell_type": "code",
   "execution_count": 91,
   "id": "8507dcb7",
   "metadata": {},
   "outputs": [
    {
     "name": "stdout",
     "output_type": "stream",
     "text": [
      "3\n"
     ]
    }
   ],
   "source": [
    "#WAP ask the user find number of 'a' letters in a given string\n",
    "string5=\"hai how are you and how do you do\"\n",
    "count=0\n",
    "for i in string5:\n",
    "    if i=='a':\n",
    "        count+=1\n",
    "print(count)"
   ]
  },
  {
   "cell_type": "code",
   "execution_count": 94,
   "id": "41bbbfbd",
   "metadata": {},
   "outputs": [
    {
     "name": "stdout",
     "output_type": "stream",
     "text": [
      "7\n"
     ]
    }
   ],
   "source": [
    "#WAP count the number of vowels in a given string\n",
    "string5=\"hai how are you\"\n",
    "count1=0\n",
    "for i in string5:\n",
    "    if i in'aeiou':\n",
    "        count1+=1\n",
    "print(count1)"
   ]
  },
  {
   "cell_type": "code",
   "execution_count": 1,
   "id": "c7342d8e",
   "metadata": {},
   "outputs": [
    {
     "name": "stdout",
     "output_type": "stream",
     "text": [
      "No. of unique vowels is 5\n"
     ]
    }
   ],
   "source": [
    "#Practice this qn\n",
    "#WAP count the number of unique vowels in a given string\n",
    "string5=\"hai how are you\"\n",
    "count1=0\n",
    "str=''\n",
    "for i in string5:\n",
    "    if i in'aeiou' and i not in str:\n",
    "        str=str+i\n",
    "        count1+=1\n",
    "print(\"No. of unique vowels is\",count1)"
   ]
  },
  {
   "cell_type": "code",
   "execution_count": 133,
   "id": "1400b049",
   "metadata": {},
   "outputs": [
    {
     "data": {
      "text/plain": [
       "False"
      ]
     },
     "execution_count": 133,
     "metadata": {},
     "output_type": "execute_result"
    }
   ],
   "source": [
    "'p' not in 'python'"
   ]
  },
  {
   "cell_type": "markdown",
   "id": "2a5b6762",
   "metadata": {},
   "source": [
    "$Concatenation$"
   ]
  },
  {
   "cell_type": "code",
   "execution_count": 102,
   "id": "befdcf92",
   "metadata": {},
   "outputs": [
    {
     "data": {
      "text/plain": [
       "'haihow'"
      ]
     },
     "execution_count": 102,
     "metadata": {},
     "output_type": "execute_result"
    }
   ],
   "source": [
    "str1='hai'\n",
    "str2='how'\n",
    "str1+str2"
   ]
  },
  {
   "cell_type": "code",
   "execution_count": 103,
   "id": "58455005",
   "metadata": {},
   "outputs": [
    {
     "ename": "TypeError",
     "evalue": "unsupported operand type(s) for -: 'str' and 'str'",
     "output_type": "error",
     "traceback": [
      "\u001b[1;31m---------------------------------------------------------------------------\u001b[0m",
      "\u001b[1;31mTypeError\u001b[0m                                 Traceback (most recent call last)",
      "Cell \u001b[1;32mIn[103], line 1\u001b[0m\n\u001b[1;32m----> 1\u001b[0m str1\u001b[38;5;241m-\u001b[39mstr2\n",
      "\u001b[1;31mTypeError\u001b[0m: unsupported operand type(s) for -: 'str' and 'str'"
     ]
    }
   ],
   "source": [
    "str1-str2"
   ]
  },
  {
   "cell_type": "code",
   "execution_count": 104,
   "id": "f2941a79",
   "metadata": {},
   "outputs": [
    {
     "ename": "TypeError",
     "evalue": "can't multiply sequence by non-int of type 'str'",
     "output_type": "error",
     "traceback": [
      "\u001b[1;31m---------------------------------------------------------------------------\u001b[0m",
      "\u001b[1;31mTypeError\u001b[0m                                 Traceback (most recent call last)",
      "Cell \u001b[1;32mIn[104], line 1\u001b[0m\n\u001b[1;32m----> 1\u001b[0m str1\u001b[38;5;241m*\u001b[39mstr2\n",
      "\u001b[1;31mTypeError\u001b[0m: can't multiply sequence by non-int of type 'str'"
     ]
    }
   ],
   "source": [
    "str1*str2"
   ]
  },
  {
   "cell_type": "code",
   "execution_count": 105,
   "id": "7bb99eb0",
   "metadata": {},
   "outputs": [
    {
     "ename": "TypeError",
     "evalue": "unsupported operand type(s) for /: 'str' and 'str'",
     "output_type": "error",
     "traceback": [
      "\u001b[1;31m---------------------------------------------------------------------------\u001b[0m",
      "\u001b[1;31mTypeError\u001b[0m                                 Traceback (most recent call last)",
      "Cell \u001b[1;32mIn[105], line 1\u001b[0m\n\u001b[1;32m----> 1\u001b[0m str1\u001b[38;5;241m/\u001b[39mstr2\n",
      "\u001b[1;31mTypeError\u001b[0m: unsupported operand type(s) for /: 'str' and 'str'"
     ]
    }
   ],
   "source": [
    "str1/str2"
   ]
  },
  {
   "cell_type": "markdown",
   "id": "9847ff7f",
   "metadata": {},
   "source": [
    "- can't multiply sequence by non-int of type 'str'\n",
    "- can multiply sequence by int type to a string"
   ]
  },
  {
   "cell_type": "code",
   "execution_count": 110,
   "id": "e690b448",
   "metadata": {},
   "outputs": [
    {
     "data": {
      "text/plain": [
       "'haihaihai'"
      ]
     },
     "execution_count": 110,
     "metadata": {},
     "output_type": "execute_result"
    }
   ],
   "source": [
    "3*str1"
   ]
  },
  {
   "cell_type": "code",
   "execution_count": 111,
   "id": "7c5d1ca8",
   "metadata": {},
   "outputs": [
    {
     "data": {
      "text/plain": [
       "'howhow'"
      ]
     },
     "execution_count": 111,
     "metadata": {},
     "output_type": "execute_result"
    }
   ],
   "source": [
    "2*str2"
   ]
  },
  {
   "cell_type": "markdown",
   "id": "2e00938b",
   "metadata": {},
   "source": [
    "- how to read\n",
    "- single/double/triple\n",
    "- type\n",
    "- len\n",
    "- in(how to iterate through for loop)\n",
    "- max\n",
    "- min\n",
    "- concatenation"
   ]
  },
  {
   "cell_type": "markdown",
   "id": "55c46ba7",
   "metadata": {},
   "source": [
    "$index$"
   ]
  },
  {
   "cell_type": "code",
   "execution_count": null,
   "id": "d4abfc72",
   "metadata": {},
   "outputs": [],
   "source": [
    "string1='python'\n",
    "p y t h o n\n",
    "0 1 2 3 4 5"
   ]
  },
  {
   "cell_type": "code",
   "execution_count": 112,
   "id": "e0a9b564",
   "metadata": {},
   "outputs": [
    {
     "data": {
      "text/plain": [
       "'p'"
      ]
     },
     "execution_count": 112,
     "metadata": {},
     "output_type": "execute_result"
    }
   ],
   "source": [
    "string1[0]"
   ]
  },
  {
   "cell_type": "code",
   "execution_count": 113,
   "id": "6d7c723d",
   "metadata": {},
   "outputs": [
    {
     "data": {
      "text/plain": [
       "'y'"
      ]
     },
     "execution_count": 113,
     "metadata": {},
     "output_type": "execute_result"
    }
   ],
   "source": [
    "string1[1]"
   ]
  },
  {
   "cell_type": "code",
   "execution_count": 114,
   "id": "9a2902fa",
   "metadata": {},
   "outputs": [
    {
     "data": {
      "text/plain": [
       "'t'"
      ]
     },
     "execution_count": 114,
     "metadata": {},
     "output_type": "execute_result"
    }
   ],
   "source": [
    "string1[2]"
   ]
  },
  {
   "cell_type": "code",
   "execution_count": 115,
   "id": "a5e371cb",
   "metadata": {},
   "outputs": [
    {
     "data": {
      "text/plain": [
       "'h'"
      ]
     },
     "execution_count": 115,
     "metadata": {},
     "output_type": "execute_result"
    }
   ],
   "source": [
    "string1[3]"
   ]
  },
  {
   "cell_type": "code",
   "execution_count": 116,
   "id": "2069dc30",
   "metadata": {},
   "outputs": [
    {
     "data": {
      "text/plain": [
       "'o'"
      ]
     },
     "execution_count": 116,
     "metadata": {},
     "output_type": "execute_result"
    }
   ],
   "source": [
    "string1[4]"
   ]
  },
  {
   "cell_type": "code",
   "execution_count": 117,
   "id": "cee42d87",
   "metadata": {},
   "outputs": [
    {
     "data": {
      "text/plain": [
       "'n'"
      ]
     },
     "execution_count": 117,
     "metadata": {},
     "output_type": "execute_result"
    }
   ],
   "source": [
    "string1[5]"
   ]
  },
  {
   "cell_type": "code",
   "execution_count": 118,
   "id": "821e6f9e",
   "metadata": {},
   "outputs": [
    {
     "ename": "IndexError",
     "evalue": "string index out of range",
     "output_type": "error",
     "traceback": [
      "\u001b[1;31m---------------------------------------------------------------------------\u001b[0m",
      "\u001b[1;31mIndexError\u001b[0m                                Traceback (most recent call last)",
      "Cell \u001b[1;32mIn[118], line 1\u001b[0m\n\u001b[1;32m----> 1\u001b[0m string1[\u001b[38;5;241m6\u001b[39m]\n",
      "\u001b[1;31mIndexError\u001b[0m: string index out of range"
     ]
    }
   ],
   "source": [
    "string1[6]\n",
    "#There are only 6 characters- so we cant access the 7th character "
   ]
  },
  {
   "cell_type": "code",
   "execution_count": 124,
   "id": "7d9b1863",
   "metadata": {},
   "outputs": [
    {
     "name": "stdout",
     "output_type": "stream",
     "text": [
      "p\n",
      "y\n",
      "t\n",
      "h\n",
      "o\n",
      "n\n"
     ]
    }
   ],
   "source": [
    "for i in range(6):\n",
    "    print(string1[i])\n",
    "#i will give indexes "
   ]
  },
  {
   "cell_type": "code",
   "execution_count": 126,
   "id": "7c2be2c6",
   "metadata": {},
   "outputs": [
    {
     "name": "stdout",
     "output_type": "stream",
     "text": [
      "p\n",
      "y\n",
      "t\n",
      "h\n",
      "o\n",
      "n\n"
     ]
    }
   ],
   "source": [
    "string1='python'\n",
    "#I want to print letters using in operator\n",
    "#I want to print letters using range operator\n",
    "for i in string1:\n",
    "    print(i)\n",
    "# using in operator we access characters of a string"
   ]
  },
  {
   "cell_type": "code",
   "execution_count": 128,
   "id": "843dd9f3",
   "metadata": {
    "scrolled": false
   },
   "outputs": [
    {
     "name": "stdout",
     "output_type": "stream",
     "text": [
      "p\n",
      "y\n",
      "t\n",
      "h\n",
      "o\n",
      "n\n"
     ]
    }
   ],
   "source": [
    "for i in range(len(string1)):\n",
    "    print(string1[i])\n",
    "# using range we access the indices of the string\n",
    "# to print the characters we need to access the string through the string"
   ]
  },
  {
   "cell_type": "markdown",
   "id": "992a6483",
   "metadata": {},
   "source": [
    "- If you want to print only letters: in\n",
    "- If you want to print only index: range\n",
    "- If you want to print both index and letters: range"
   ]
  },
  {
   "cell_type": "markdown",
   "id": "91939e8b",
   "metadata": {},
   "source": [
    "$10-11-23$"
   ]
  },
  {
   "cell_type": "code",
   "execution_count": 83,
   "id": "028d562f",
   "metadata": {},
   "outputs": [
    {
     "data": {
      "text/plain": [
       "'l'"
      ]
     },
     "execution_count": 83,
     "metadata": {},
     "output_type": "execute_result"
    }
   ],
   "source": [
    "string1[2]"
   ]
  },
  {
   "cell_type": "code",
   "execution_count": 86,
   "id": "8e4c1dab",
   "metadata": {},
   "outputs": [
    {
     "name": "stdout",
     "output_type": "stream",
     "text": [
      "p y t h o n the index of p is 0\n",
      "the index of y is 1\n",
      "the index of t is 2\n",
      "the index of h is 3\n",
      "the index of o is 4\n",
      "the index of n is 5\n"
     ]
    }
   ],
   "source": [
    "#the index of p is zero\n",
    "#the index of y is 1\n",
    "string1=\"python\"\n",
    "for i in string1: #i means number 0 to len-1\n",
    "    print(i,end=\" \")\n",
    "for i in range(len('python')): #i means numbers 0 to len-1\n",
    "    print(\"the index of {} is {}\".format(string1[i],i))"
   ]
  },
  {
   "cell_type": "markdown",
   "id": "508992d0",
   "metadata": {},
   "source": [
    "-6 -5 -4 -3 -2 -1==================>negative index\n",
    " p  y  t  h  o  n\n",
    " 0  1  2  3  4  5==================>positive index"
   ]
  },
  {
   "cell_type": "code",
   "execution_count": 87,
   "id": "690b0449",
   "metadata": {
    "scrolled": true
   },
   "outputs": [
    {
     "data": {
      "text/plain": [
       "('p', 'y', 't', 'h', 'o', 'n')"
      ]
     },
     "execution_count": 87,
     "metadata": {},
     "output_type": "execute_result"
    }
   ],
   "source": [
    "string1[-6], string1[-5], string1[-4], string1[-3], string1[-2], string1[-1]"
   ]
  },
  {
   "cell_type": "code",
   "execution_count": 89,
   "id": "b8be10a3",
   "metadata": {},
   "outputs": [
    {
     "name": "stdout",
     "output_type": "stream",
     "text": [
      "p y t h o n -6 p\n",
      "-5 y\n",
      "-4 t\n",
      "-3 h\n",
      "-2 o\n",
      "-1 n\n"
     ]
    }
   ],
   "source": [
    "#iterate the for loop on string1\n",
    "#print the letters using negative index\n",
    "#the idea is first you need to print numbers between -6 to -1 using for loop\n",
    "string2=\"python\"\n",
    "for i in string2:\n",
    "    print(i,end=\" \")\n",
    "for i in range(-6,0):\n",
    "    print(i,string2[i])"
   ]
  },
  {
   "cell_type": "code",
   "execution_count": 2,
   "id": "8a671840",
   "metadata": {},
   "outputs": [
    {
     "name": "stdout",
     "output_type": "stream",
     "text": [
      "the negative index of p is -6\n",
      "the negative index of y is -5\n",
      "the negative index of t is -4\n",
      "the negative index of h is -3\n",
      "the negative index of o is -2\n",
      "the negative index of n is -1\n"
     ]
    }
   ],
   "source": [
    "string1='python'\n",
    "for i in range(-len(string1),0):\n",
    "    print(\"the negative index of {} is {}\".format(string1[i],i))"
   ]
  },
  {
   "cell_type": "code",
   "execution_count": 3,
   "id": "4e0e7250",
   "metadata": {},
   "outputs": [
    {
     "name": "stdout",
     "output_type": "stream",
     "text": [
      "the negative index of p is -6\n",
      "the negative index of y is -5\n",
      "the negative index of t is -4\n",
      "the negative index of h is -3\n",
      "the negative index of o is -2\n",
      "the negative index of n is -1\n"
     ]
    }
   ],
   "source": [
    "string1='python'\n",
    "for i in range(len(string1)):\n",
    "    print(\"the negative index of {} is {}\".format(string1[i],i-len(string1)))"
   ]
  },
  {
   "cell_type": "code",
   "execution_count": 6,
   "id": "2d846eb5",
   "metadata": {},
   "outputs": [
    {
     "name": "stdout",
     "output_type": "stream",
     "text": [
      "the positive index is 0 and negative index is -6 for a letter p\n",
      "the positive index is 1 and negative index is -5 for a letter y\n",
      "the positive index is 2 and negative index is -4 for a letter t\n",
      "the positive index is 3 and negative index is -3 for a letter h\n",
      "the positive index is 4 and negative index is -2 for a letter o\n",
      "the positive index is 5 and negative index is -1 for a letter n\n"
     ]
    }
   ],
   "source": [
    "# \"the positive index is 0 and negative index is -6 for a letter p \"\n",
    "string1='python'\n",
    "for i in range(len(string1),):\n",
    "    print(\"the positive index is {} and negative index is {} for a letter {}\".format(i,i-len(string1), string1[i]))"
   ]
  },
  {
   "cell_type": "code",
   "execution_count": 9,
   "id": "ff2c3a5a",
   "metadata": {},
   "outputs": [
    {
     "name": "stdout",
     "output_type": "stream",
     "text": [
      "the positive index of p is 0\n",
      "the positive index of y is 1\n",
      "the positive index of t is 2\n",
      "the positive index of h is 3\n",
      "the positive index of o is 4\n",
      "the positive index of n is 5\n"
     ]
    }
   ],
   "source": [
    "for i in range(-len(string1),0):\n",
    "    print(\"the positive index of {} is {}\".format(string1[i],i+len(string1)))    "
   ]
  },
  {
   "cell_type": "code",
   "execution_count": 11,
   "id": "65a649c3",
   "metadata": {},
   "outputs": [
    {
     "name": "stdout",
     "output_type": "stream",
     "text": [
      "the negative index of p is -6\n",
      "the negative index of y is -5\n",
      "the negative index of t is -4\n",
      "the negative index of h is -3\n",
      "the negative index of o is -2\n",
      "the negative index of n is -1\n"
     ]
    }
   ],
   "source": [
    "for i in range(-len(string1),0):\n",
    "    print(\"the negative index of {} is {}\".format(string1[i],i))  "
   ]
  },
  {
   "cell_type": "code",
   "execution_count": 12,
   "id": "736b1f85",
   "metadata": {},
   "outputs": [
    {
     "name": "stdout",
     "output_type": "stream",
     "text": [
      "the positive index is 0 and negative index is -6 for p\n",
      "the positive index is 1 and negative index is -5 for y\n",
      "the positive index is 2 and negative index is -4 for t\n",
      "the positive index is 3 and negative index is -3 for h\n",
      "the positive index is 4 and negative index is -2 for o\n",
      "the positive index is 5 and negative index is -1 for n\n"
     ]
    }
   ],
   "source": [
    "for i in range(-len(string1),0):\n",
    "    print(\"the positive index is {} and negative index is {} for {}\".format(i+6,i,string1[i]))  "
   ]
  },
  {
   "cell_type": "code",
   "execution_count": 14,
   "id": "a38087c9",
   "metadata": {},
   "outputs": [
    {
     "name": "stdout",
     "output_type": "stream",
     "text": [
      "positive index of 0 is p\n",
      "positive index of 1 is y\n",
      "positive index of 2 is t\n",
      "positive index of 3 is h\n",
      "positive index of 4 is o\n",
      "positive index of 5 is n\n"
     ]
    }
   ],
   "source": [
    "i=0\n",
    "while i<len(string1):\n",
    "    print(\"positive index of {} is {}\".format(string1[i],i))  \n",
    "    i+=1"
   ]
  },
  {
   "cell_type": "code",
   "execution_count": 15,
   "id": "61e197f7",
   "metadata": {},
   "outputs": [
    {
     "name": "stdout",
     "output_type": "stream",
     "text": [
      "negative index of p is -6\n",
      "negative index of y is -5\n",
      "negative index of t is -4\n",
      "negative index of h is -3\n",
      "negative index of o is -2\n",
      "negative index of n is -1\n"
     ]
    }
   ],
   "source": [
    "i=0\n",
    "while i<len(string1):\n",
    "    print(\"negative index of {} is {}\".format(string1[i],i-6))  \n",
    "    i+=1"
   ]
  },
  {
   "cell_type": "code",
   "execution_count": 16,
   "id": "af894dba",
   "metadata": {},
   "outputs": [
    {
     "name": "stdout",
     "output_type": "stream",
     "text": [
      "positive index is 0 and negative index is -6 for p\n",
      "positive index is 1 and negative index is -5 for y\n",
      "positive index is 2 and negative index is -4 for t\n",
      "positive index is 3 and negative index is -3 for h\n",
      "positive index is 4 and negative index is -2 for o\n",
      "positive index is 5 and negative index is -1 for n\n"
     ]
    }
   ],
   "source": [
    "i=0\n",
    "while i<len(string1):\n",
    "    print(\"positive index is {} and negative index is {} for {}\".format(i,i-6,string1[i]))  \n",
    "    i+=1"
   ]
  },
  {
   "cell_type": "code",
   "execution_count": 17,
   "id": "fe5e7b1c",
   "metadata": {},
   "outputs": [
    {
     "name": "stdout",
     "output_type": "stream",
     "text": [
      "positive index for p is 0\n",
      "positive index for y is 1\n",
      "positive index for t is 2\n",
      "positive index for h is 3\n",
      "positive index for o is 4\n",
      "positive index for n is 5\n"
     ]
    }
   ],
   "source": [
    "i=-len(string1)\n",
    "while i<0:\n",
    "     print(\"positive index for {} is {}\".format(string1[i],i+6))  \n",
    "     i+=1"
   ]
  },
  {
   "cell_type": "code",
   "execution_count": 18,
   "id": "95d65899",
   "metadata": {},
   "outputs": [
    {
     "name": "stdout",
     "output_type": "stream",
     "text": [
      "negative index for -6 is p\n",
      "negative index for -5 is y\n",
      "negative index for -4 is t\n",
      "negative index for -3 is h\n",
      "negative index for -2 is o\n",
      "negative index for -1 is n\n"
     ]
    }
   ],
   "source": [
    "i=-len(string1)\n",
    "while i<0:\n",
    "     print(\"negative index is {} for {}\".format(i,string1[i]))  \n",
    "     i+=1"
   ]
  },
  {
   "cell_type": "code",
   "execution_count": 19,
   "id": "275a8d2e",
   "metadata": {},
   "outputs": [
    {
     "name": "stdout",
     "output_type": "stream",
     "text": [
      "positive index is 0 and negative index is -6 for p\n",
      "positive index is 1 and negative index is -5 for y\n",
      "positive index is 2 and negative index is -4 for t\n",
      "positive index is 3 and negative index is -3 for h\n",
      "positive index is 4 and negative index is -2 for o\n",
      "positive index is 5 and negative index is -1 for n\n"
     ]
    }
   ],
   "source": [
    "i=-len(string1)\n",
    "while i<0:\n",
    "    print(\"positive index is {} and negative index is {} for {}\".format(i+6,i,string1[i]))  \n",
    "    i+=1"
   ]
  },
  {
   "cell_type": "code",
   "execution_count": 20,
   "id": "b002f59b",
   "metadata": {},
   "outputs": [
    {
     "name": "stdout",
     "output_type": "stream",
     "text": [
      "2\n"
     ]
    }
   ],
   "source": [
    "string1=\"hai how are you\"\n",
    "count=0\n",
    "for i in range(len(string1)):\n",
    "    if string1[i]=='a':\n",
    "        count+=1\n",
    "print(count)"
   ]
  },
  {
   "cell_type": "markdown",
   "id": "07bd3eb2",
   "metadata": {},
   "source": [
    "**Mutable Immutable**\n",
    "- mutable---can change\n",
    "- immutable---cannot change the value by using index operations\n",
    "- **strings are immutable**"
   ]
  },
  {
   "cell_type": "code",
   "execution_count": 21,
   "id": "b59c7db5",
   "metadata": {},
   "outputs": [
    {
     "ename": "TypeError",
     "evalue": "'str' object does not support item assignment",
     "output_type": "error",
     "traceback": [
      "\u001b[1;31m---------------------------------------------------------------------------\u001b[0m",
      "\u001b[1;31mTypeError\u001b[0m                                 Traceback (most recent call last)",
      "Cell \u001b[1;32mIn[21], line 5\u001b[0m\n\u001b[0;32m      1\u001b[0m string1\u001b[38;5;241m=\u001b[39m\u001b[38;5;124m'\u001b[39m\u001b[38;5;124mpython\u001b[39m\u001b[38;5;124m'\u001b[39m\n\u001b[0;32m      2\u001b[0m \u001b[38;5;66;03m#I want to change 'p' to 'P'\u001b[39;00m\n\u001b[0;32m      3\u001b[0m \u001b[38;5;66;03m#o/p: 'Python'\u001b[39;00m\n\u001b[0;32m      4\u001b[0m \u001b[38;5;66;03m#We cannot change by using index operation\u001b[39;00m\n\u001b[1;32m----> 5\u001b[0m string1[\u001b[38;5;241m0\u001b[39m]\u001b[38;5;241m=\u001b[39m\u001b[38;5;124m'\u001b[39m\u001b[38;5;124mP\u001b[39m\u001b[38;5;124m'\u001b[39m\n",
      "\u001b[1;31mTypeError\u001b[0m: 'str' object does not support item assignment"
     ]
    }
   ],
   "source": [
    "string1='python'\n",
    "#I want to change 'p' to 'P'\n",
    "#o/p: 'Python'\n",
    "#We cannot change by using index operation\n",
    "string1[0]='P'\n",
    "#Error---->hence strings are immutable "
   ]
  },
  {
   "cell_type": "code",
   "execution_count": 24,
   "id": "e772ea9d",
   "metadata": {},
   "outputs": [
    {
     "data": {
      "text/plain": [
       "[1000, 200, 300]"
      ]
     },
     "execution_count": 24,
     "metadata": {},
     "output_type": "execute_result"
    }
   ],
   "source": [
    "list1=[100,200,300]\n",
    "list1[0]=1000\n",
    "list1\n",
    "#Lists are mutable by index operation"
   ]
  },
  {
   "cell_type": "markdown",
   "id": "c156e282",
   "metadata": {},
   "source": [
    "$Slicing$"
   ]
  },
  {
   "cell_type": "markdown",
   "id": "b1f32aa7",
   "metadata": {},
   "source": [
    "\"h a i   h o w   a r e     y   o u\"\n",
    " 0 1 2 3 4 5 6 7 8 9 10 11 12 13 14"
   ]
  },
  {
   "cell_type": "code",
   "execution_count": 25,
   "id": "15c626c3",
   "metadata": {},
   "outputs": [
    {
     "data": {
      "text/plain": [
       "'i how ar'"
      ]
     },
     "execution_count": 25,
     "metadata": {},
     "output_type": "execute_result"
    }
   ],
   "source": [
    "string1=\"hai how are you\"\n",
    "string1[2:10]"
   ]
  },
  {
   "cell_type": "code",
   "execution_count": 26,
   "id": "1ccc0355",
   "metadata": {},
   "outputs": [
    {
     "data": {
      "text/plain": [
       "'i how ar'"
      ]
     },
     "execution_count": 26,
     "metadata": {},
     "output_type": "execute_result"
    }
   ],
   "source": [
    "string1=\"hai how are you\"\n",
    "string1[2:10:]"
   ]
  },
  {
   "cell_type": "code",
   "execution_count": 29,
   "id": "464885e6",
   "metadata": {},
   "outputs": [
    {
     "data": {
      "text/plain": [
       "'ioa'"
      ]
     },
     "execution_count": 29,
     "metadata": {},
     "output_type": "execute_result"
    }
   ],
   "source": [
    "string1=\"hai how are you\"\n",
    "string1[2:10:3]"
   ]
  },
  {
   "cell_type": "code",
   "execution_count": 30,
   "id": "d0bac3da",
   "metadata": {},
   "outputs": [
    {
     "data": {
      "text/plain": [
       "'hai how are you'"
      ]
     },
     "execution_count": 30,
     "metadata": {},
     "output_type": "execute_result"
    }
   ],
   "source": [
    "string1=\"hai how are you\"\n",
    "string1[:]"
   ]
  },
  {
   "cell_type": "code",
   "execution_count": 32,
   "id": "021ebc8e",
   "metadata": {},
   "outputs": [
    {
     "data": {
      "text/plain": [
       "'hai how are you'"
      ]
     },
     "execution_count": 32,
     "metadata": {},
     "output_type": "execute_result"
    }
   ],
   "source": [
    "string1=\"hai how are you\"\n",
    "string1[::]"
   ]
  },
  {
   "cell_type": "code",
   "execution_count": 33,
   "id": "76981648",
   "metadata": {},
   "outputs": [
    {
     "data": {
      "text/plain": [
       "''"
      ]
     },
     "execution_count": 33,
     "metadata": {},
     "output_type": "execute_result"
    }
   ],
   "source": [
    "string1=\"hai how are you\"\n",
    "string1[2:10:-3]"
   ]
  },
  {
   "cell_type": "code",
   "execution_count": 34,
   "id": "11af1706",
   "metadata": {},
   "outputs": [],
   "source": [
    "for i in range(2,10,-3): print(i)"
   ]
  },
  {
   "cell_type": "code",
   "execution_count": null,
   "id": "dc64c261",
   "metadata": {},
   "outputs": [],
   "source": [
    "-15-14-13-12-11-10-9-8-7-6-5-4-3-2-1\n",
    "\"h  a  i      h o w    a r e   y o u\"\n",
    " 0  1  2  3   4 5 6  7 8 9 1011121314"
   ]
  },
  {
   "cell_type": "code",
   "execution_count": 91,
   "id": "44a5f0c6",
   "metadata": {},
   "outputs": [
    {
     "data": {
      "text/plain": [
       "'o r o '"
      ]
     },
     "execution_count": 91,
     "metadata": {},
     "output_type": "execute_result"
    }
   ],
   "source": [
    "string1=\"hai how are you\"\n",
    "string1[2:14:2]#possible\n",
    "string1[2:14:-2]#np\n",
    "string1[2:-14:2]#np\n",
    "string1[2:-14:-2]#p\n",
    "string1[-2:14:2]\n",
    "string1[-2:-14:2]#not possible\n",
    "string1[-2:-14:-2]#"
   ]
  },
  {
   "cell_type": "code",
   "execution_count": 93,
   "id": "61a9fdc7",
   "metadata": {
    "scrolled": true
   },
   "outputs": [
    {
     "data": {
      "text/plain": [
       "'ihwaey'"
      ]
     },
     "execution_count": 93,
     "metadata": {},
     "output_type": "execute_result"
    }
   ],
   "source": [
    "string1[2:14:2]"
   ]
  },
  {
   "cell_type": "code",
   "execution_count": 94,
   "id": "411cf66c",
   "metadata": {},
   "outputs": [
    {
     "data": {
      "text/plain": [
       "''"
      ]
     },
     "execution_count": 94,
     "metadata": {},
     "output_type": "execute_result"
    }
   ],
   "source": [
    "string1[2:14:-2]"
   ]
  },
  {
   "cell_type": "code",
   "execution_count": 96,
   "id": "7de17247",
   "metadata": {
    "scrolled": true
   },
   "outputs": [
    {
     "data": {
      "text/plain": [
       "''"
      ]
     },
     "execution_count": 96,
     "metadata": {},
     "output_type": "execute_result"
    }
   ],
   "source": [
    "string1[2:-14:2]#np"
   ]
  },
  {
   "cell_type": "code",
   "execution_count": 97,
   "id": "2c164061",
   "metadata": {
    "scrolled": true
   },
   "outputs": [
    {
     "data": {
      "text/plain": [
       "'i'"
      ]
     },
     "execution_count": 97,
     "metadata": {},
     "output_type": "execute_result"
    }
   ],
   "source": [
    "string1[2:-14:-2]"
   ]
  },
  {
   "cell_type": "code",
   "execution_count": 98,
   "id": "3eced039",
   "metadata": {
    "scrolled": true
   },
   "outputs": [
    {
     "data": {
      "text/plain": [
       "'o'"
      ]
     },
     "execution_count": 98,
     "metadata": {},
     "output_type": "execute_result"
    }
   ],
   "source": [
    "string1[-2:14:2]"
   ]
  },
  {
   "cell_type": "code",
   "execution_count": null,
   "id": "e7557144",
   "metadata": {},
   "outputs": [],
   "source": [
    "string1[-2:-14:-2]"
   ]
  },
  {
   "cell_type": "code",
   "execution_count": 35,
   "id": "6cbc5bce",
   "metadata": {},
   "outputs": [
    {
     "data": {
      "text/plain": [
       "'awhi'"
      ]
     },
     "execution_count": 35,
     "metadata": {},
     "output_type": "execute_result"
    }
   ],
   "source": [
    "string1[8:-15:-2]"
   ]
  },
  {
   "cell_type": "code",
   "execution_count": 36,
   "id": "1334f627",
   "metadata": {},
   "outputs": [
    {
     "data": {
      "text/plain": [
       "'i'"
      ]
     },
     "execution_count": 36,
     "metadata": {},
     "output_type": "execute_result"
    }
   ],
   "source": [
    "string1[2:-14:-2]"
   ]
  },
  {
   "cell_type": "code",
   "execution_count": 37,
   "id": "fb5b81f9",
   "metadata": {},
   "outputs": [
    {
     "data": {
      "text/plain": [
       "' '"
      ]
     },
     "execution_count": 37,
     "metadata": {},
     "output_type": "execute_result"
    }
   ],
   "source": [
    "string1[3:-14:-2]"
   ]
  },
  {
   "cell_type": "code",
   "execution_count": 99,
   "id": "a92f7d35",
   "metadata": {},
   "outputs": [
    {
     "data": {
      "text/plain": [
       "'o r o '"
      ]
     },
     "execution_count": 99,
     "metadata": {},
     "output_type": "execute_result"
    }
   ],
   "source": [
    "string1[-2:-14:-2]"
   ]
  },
  {
   "cell_type": "code",
   "execution_count": 100,
   "id": "2dc874d9",
   "metadata": {
    "scrolled": true
   },
   "outputs": [
    {
     "data": {
      "text/plain": [
       "''"
      ]
     },
     "execution_count": 100,
     "metadata": {},
     "output_type": "execute_result"
    }
   ],
   "source": [
    "string1[-2:14:-2]"
   ]
  },
  {
   "cell_type": "code",
   "execution_count": 105,
   "id": "229f9d95",
   "metadata": {
    "scrolled": true
   },
   "outputs": [
    {
     "data": {
      "text/plain": [
       "27"
      ]
     },
     "execution_count": 105,
     "metadata": {},
     "output_type": "execute_result"
    }
   ],
   "source": [
    "string33=\"tinnama padukunnama lechama\"\n",
    "len(string33)"
   ]
  },
  {
   "cell_type": "code",
   "execution_count": null,
   "id": "9671b111",
   "metadata": {},
   "outputs": [],
   "source": [
    "t i n n a m a   p  a  d  u  k  u  n  n  a  m  a     l  e  c  h  a  m  a\n",
    "0 1 2 3 4 5 6 7 8  9 10  11 12 13 14 15 16 17 18 19 20 21 22 23 24 25 26"
   ]
  },
  {
   "cell_type": "code",
   "execution_count": 106,
   "id": "2ed6d5d0",
   "metadata": {},
   "outputs": [
    {
     "data": {
      "text/plain": [
       "'tinnama'"
      ]
     },
     "execution_count": 106,
     "metadata": {},
     "output_type": "execute_result"
    }
   ],
   "source": [
    "string33[0:7]"
   ]
  },
  {
   "cell_type": "code",
   "execution_count": 107,
   "id": "b09a3481",
   "metadata": {},
   "outputs": [
    {
     "data": {
      "text/plain": [
       "'padukunnama'"
      ]
     },
     "execution_count": 107,
     "metadata": {},
     "output_type": "execute_result"
    }
   ],
   "source": [
    "string33[8:19]"
   ]
  },
  {
   "cell_type": "code",
   "execution_count": 108,
   "id": "1554d806",
   "metadata": {},
   "outputs": [
    {
     "data": {
      "text/plain": [
       "'lechama'"
      ]
     },
     "execution_count": 108,
     "metadata": {},
     "output_type": "execute_result"
    }
   ],
   "source": [
    "string33[20:27]"
   ]
  },
  {
   "cell_type": "code",
   "execution_count": 114,
   "id": "121d3596",
   "metadata": {},
   "outputs": [
    {
     "data": {
      "text/plain": [
       "'tinnama'"
      ]
     },
     "execution_count": 114,
     "metadata": {},
     "output_type": "execute_result"
    }
   ],
   "source": [
    "string33[-27:-20:1]"
   ]
  },
  {
   "cell_type": "code",
   "execution_count": 115,
   "id": "f4868b95",
   "metadata": {},
   "outputs": [
    {
     "data": {
      "text/plain": [
       "'padukunnama'"
      ]
     },
     "execution_count": 115,
     "metadata": {},
     "output_type": "execute_result"
    }
   ],
   "source": [
    "string33[-19:-8]"
   ]
  },
  {
   "cell_type": "code",
   "execution_count": 120,
   "id": "dd3f6a9b",
   "metadata": {},
   "outputs": [
    {
     "data": {
      "text/plain": [
       "'lechama'"
      ]
     },
     "execution_count": 120,
     "metadata": {},
     "output_type": "execute_result"
    }
   ],
   "source": [
    "string33[-7:]"
   ]
  },
  {
   "cell_type": "code",
   "execution_count": 121,
   "id": "9a01bc6e",
   "metadata": {
    "scrolled": true
   },
   "outputs": [
    {
     "data": {
      "text/plain": [
       "'tinnama'"
      ]
     },
     "execution_count": 121,
     "metadata": {},
     "output_type": "execute_result"
    }
   ],
   "source": [
    "string33[0:-20]"
   ]
  },
  {
   "cell_type": "code",
   "execution_count": 122,
   "id": "a548f0a7",
   "metadata": {},
   "outputs": [
    {
     "data": {
      "text/plain": [
       "''"
      ]
     },
     "execution_count": 122,
     "metadata": {},
     "output_type": "execute_result"
    }
   ],
   "source": [
    "string33[0:-20:-1]"
   ]
  },
  {
   "cell_type": "code",
   "execution_count": 123,
   "id": "e766fab9",
   "metadata": {},
   "outputs": [
    {
     "data": {
      "text/plain": [
       "'tinnama'"
      ]
     },
     "execution_count": 123,
     "metadata": {},
     "output_type": "execute_result"
    }
   ],
   "source": [
    "string33[-27:7]"
   ]
  },
  {
   "cell_type": "code",
   "execution_count": 124,
   "id": "f08262dc",
   "metadata": {},
   "outputs": [
    {
     "data": {
      "text/plain": [
       "'i'"
      ]
     },
     "execution_count": 124,
     "metadata": {},
     "output_type": "execute_result"
    }
   ],
   "source": [
    "string33[-26:0:-1]"
   ]
  },
  {
   "cell_type": "code",
   "execution_count": 125,
   "id": "3d3d6ae1",
   "metadata": {
    "scrolled": false
   },
   "outputs": [
    {
     "data": {
      "text/plain": [
       "' aman'"
      ]
     },
     "execution_count": 125,
     "metadata": {},
     "output_type": "execute_result"
    }
   ],
   "source": [
    "string33[7:-25:-1]"
   ]
  },
  {
   "cell_type": "code",
   "execution_count": 126,
   "id": "429e6965",
   "metadata": {},
   "outputs": [
    {
     "data": {
      "text/plain": [
       "''"
      ]
     },
     "execution_count": 126,
     "metadata": {},
     "output_type": "execute_result"
    }
   ],
   "source": [
    "string33[-19:-8:-1]"
   ]
  },
  {
   "cell_type": "code",
   "execution_count": 127,
   "id": "e3561d1d",
   "metadata": {},
   "outputs": [
    {
     "data": {
      "text/plain": [
       "'padukunnama'"
      ]
     },
     "execution_count": 127,
     "metadata": {},
     "output_type": "execute_result"
    }
   ],
   "source": [
    "string33[-19:-8]"
   ]
  },
  {
   "cell_type": "code",
   "execution_count": 128,
   "id": "364d725c",
   "metadata": {},
   "outputs": [
    {
     "data": {
      "text/plain": [
       "'adukunnam'"
      ]
     },
     "execution_count": 128,
     "metadata": {},
     "output_type": "execute_result"
    }
   ],
   "source": [
    "string33[-18:-9:1]"
   ]
  },
  {
   "cell_type": "code",
   "execution_count": 129,
   "id": "8c84cfa3",
   "metadata": {},
   "outputs": [
    {
     "data": {
      "text/plain": [
       "'unnama'"
      ]
     },
     "execution_count": 129,
     "metadata": {},
     "output_type": "execute_result"
    }
   ],
   "source": [
    "string33[-14:-8:1]"
   ]
  },
  {
   "cell_type": "code",
   "execution_count": 130,
   "id": "a568fb8a",
   "metadata": {
    "scrolled": true
   },
   "outputs": [
    {
     "data": {
      "text/plain": [
       "'pdkn'"
      ]
     },
     "execution_count": 130,
     "metadata": {},
     "output_type": "execute_result"
    }
   ],
   "source": [
    "string33[-19:15:2]"
   ]
  },
  {
   "cell_type": "code",
   "execution_count": 131,
   "id": "de7b639a",
   "metadata": {
    "scrolled": true
   },
   "outputs": [
    {
     "data": {
      "text/plain": [
       "'dukun'"
      ]
     },
     "execution_count": 131,
     "metadata": {},
     "output_type": "execute_result"
    }
   ],
   "source": [
    "string33[-17:15]"
   ]
  },
  {
   "cell_type": "code",
   "execution_count": 133,
   "id": "bfd1b202",
   "metadata": {},
   "outputs": [
    {
     "data": {
      "text/plain": [
       "'a'"
      ]
     },
     "execution_count": 133,
     "metadata": {},
     "output_type": "execute_result"
    }
   ],
   "source": [
    "string33[18:-8:1]"
   ]
  },
  {
   "cell_type": "markdown",
   "id": "8ce7d4e6",
   "metadata": {},
   "source": [
    "- reading method\n",
    "- single quotes, double quotes, triple quotes/docstring\n",
    "- type\n",
    "- len\n",
    "- max\n",
    "- min\n",
    "- concatenation\n",
    "- subtraction/mult/div\n",
    "- in operator\n",
    "- index operator\n",
    "- mutable concept\n",
    "- slice"
   ]
  },
  {
   "cell_type": "markdown",
   "id": "50c87930",
   "metadata": {},
   "source": [
    "##### String Methods"
   ]
  },
  {
   "cell_type": "markdown",
   "id": "518723be",
   "metadata": {},
   "source": [
    "import <package name>\n",
    "dir(<package name>)\n",
    "<package name>.<method name>"
   ]
  },
  {
   "cell_type": "code",
   "execution_count": 41,
   "id": "98910162",
   "metadata": {},
   "outputs": [
    {
     "data": {
      "text/plain": [
       "['__add__',\n",
       " '__class__',\n",
       " '__contains__',\n",
       " '__delattr__',\n",
       " '__dir__',\n",
       " '__doc__',\n",
       " '__eq__',\n",
       " '__format__',\n",
       " '__ge__',\n",
       " '__getattribute__',\n",
       " '__getitem__',\n",
       " '__getnewargs__',\n",
       " '__getstate__',\n",
       " '__gt__',\n",
       " '__hash__',\n",
       " '__init__',\n",
       " '__init_subclass__',\n",
       " '__iter__',\n",
       " '__le__',\n",
       " '__len__',\n",
       " '__lt__',\n",
       " '__mod__',\n",
       " '__mul__',\n",
       " '__ne__',\n",
       " '__new__',\n",
       " '__reduce__',\n",
       " '__reduce_ex__',\n",
       " '__repr__',\n",
       " '__rmod__',\n",
       " '__rmul__',\n",
       " '__setattr__',\n",
       " '__sizeof__',\n",
       " '__str__',\n",
       " '__subclasshook__',\n",
       " 'capitalize',\n",
       " 'casefold',\n",
       " 'center',\n",
       " 'count',\n",
       " 'encode',\n",
       " 'endswith',\n",
       " 'expandtabs',\n",
       " 'find',\n",
       " 'format',\n",
       " 'format_map',\n",
       " 'index',\n",
       " 'isalnum',\n",
       " 'isalpha',\n",
       " 'isascii',\n",
       " 'isdecimal',\n",
       " 'isdigit',\n",
       " 'isidentifier',\n",
       " 'islower',\n",
       " 'isnumeric',\n",
       " 'isprintable',\n",
       " 'isspace',\n",
       " 'istitle',\n",
       " 'isupper',\n",
       " 'join',\n",
       " 'ljust',\n",
       " 'lower',\n",
       " 'lstrip',\n",
       " 'maketrans',\n",
       " 'partition',\n",
       " 'removeprefix',\n",
       " 'removesuffix',\n",
       " 'replace',\n",
       " 'rfind',\n",
       " 'rindex',\n",
       " 'rjust',\n",
       " 'rpartition',\n",
       " 'rsplit',\n",
       " 'rstrip',\n",
       " 'split',\n",
       " 'splitlines',\n",
       " 'startswith',\n",
       " 'strip',\n",
       " 'swapcase',\n",
       " 'title',\n",
       " 'translate',\n",
       " 'upper',\n",
       " 'zfill']"
      ]
     },
     "execution_count": 41,
     "metadata": {},
     "output_type": "execute_result"
    }
   ],
   "source": [
    "dir(\"\")"
   ]
  },
  {
   "cell_type": "code",
   "execution_count": 42,
   "id": "79f933c1",
   "metadata": {},
   "outputs": [
    {
     "data": {
      "text/plain": [
       "['__add__',\n",
       " '__class__',\n",
       " '__contains__',\n",
       " '__delattr__',\n",
       " '__dir__',\n",
       " '__doc__',\n",
       " '__eq__',\n",
       " '__format__',\n",
       " '__ge__',\n",
       " '__getattribute__',\n",
       " '__getitem__',\n",
       " '__getnewargs__',\n",
       " '__getstate__',\n",
       " '__gt__',\n",
       " '__hash__',\n",
       " '__init__',\n",
       " '__init_subclass__',\n",
       " '__iter__',\n",
       " '__le__',\n",
       " '__len__',\n",
       " '__lt__',\n",
       " '__mod__',\n",
       " '__mul__',\n",
       " '__ne__',\n",
       " '__new__',\n",
       " '__reduce__',\n",
       " '__reduce_ex__',\n",
       " '__repr__',\n",
       " '__rmod__',\n",
       " '__rmul__',\n",
       " '__setattr__',\n",
       " '__sizeof__',\n",
       " '__str__',\n",
       " '__subclasshook__',\n",
       " 'capitalize',\n",
       " 'casefold',\n",
       " 'center',\n",
       " 'count',\n",
       " 'encode',\n",
       " 'endswith',\n",
       " 'expandtabs',\n",
       " 'find',\n",
       " 'format',\n",
       " 'format_map',\n",
       " 'index',\n",
       " 'isalnum',\n",
       " 'isalpha',\n",
       " 'isascii',\n",
       " 'isdecimal',\n",
       " 'isdigit',\n",
       " 'isidentifier',\n",
       " 'islower',\n",
       " 'isnumeric',\n",
       " 'isprintable',\n",
       " 'isspace',\n",
       " 'istitle',\n",
       " 'isupper',\n",
       " 'join',\n",
       " 'ljust',\n",
       " 'lower',\n",
       " 'lstrip',\n",
       " 'maketrans',\n",
       " 'partition',\n",
       " 'removeprefix',\n",
       " 'removesuffix',\n",
       " 'replace',\n",
       " 'rfind',\n",
       " 'rindex',\n",
       " 'rjust',\n",
       " 'rpartition',\n",
       " 'rsplit',\n",
       " 'rstrip',\n",
       " 'split',\n",
       " 'splitlines',\n",
       " 'startswith',\n",
       " 'strip',\n",
       " 'swapcase',\n",
       " 'title',\n",
       " 'translate',\n",
       " 'upper',\n",
       " 'zfill']"
      ]
     },
     "execution_count": 42,
     "metadata": {},
     "output_type": "execute_result"
    }
   ],
   "source": [
    "dir(\"pyhton\")"
   ]
  },
  {
   "cell_type": "markdown",
   "id": "5d6c0655",
   "metadata": {},
   "source": [
    "**1. capitalize method**"
   ]
  },
  {
   "cell_type": "code",
   "execution_count": 43,
   "id": "59d82cdc",
   "metadata": {},
   "outputs": [
    {
     "data": {
      "text/plain": [
       "['__add__',\n",
       " '__class__',\n",
       " '__contains__',\n",
       " '__delattr__',\n",
       " '__dir__',\n",
       " '__doc__',\n",
       " '__eq__',\n",
       " '__format__',\n",
       " '__ge__',\n",
       " '__getattribute__',\n",
       " '__getitem__',\n",
       " '__getnewargs__',\n",
       " '__getstate__',\n",
       " '__gt__',\n",
       " '__hash__',\n",
       " '__init__',\n",
       " '__init_subclass__',\n",
       " '__iter__',\n",
       " '__le__',\n",
       " '__len__',\n",
       " '__lt__',\n",
       " '__mod__',\n",
       " '__mul__',\n",
       " '__ne__',\n",
       " '__new__',\n",
       " '__reduce__',\n",
       " '__reduce_ex__',\n",
       " '__repr__',\n",
       " '__rmod__',\n",
       " '__rmul__',\n",
       " '__setattr__',\n",
       " '__sizeof__',\n",
       " '__str__',\n",
       " '__subclasshook__',\n",
       " 'capitalize',\n",
       " 'casefold',\n",
       " 'center',\n",
       " 'count',\n",
       " 'encode',\n",
       " 'endswith',\n",
       " 'expandtabs',\n",
       " 'find',\n",
       " 'format',\n",
       " 'format_map',\n",
       " 'index',\n",
       " 'isalnum',\n",
       " 'isalpha',\n",
       " 'isascii',\n",
       " 'isdecimal',\n",
       " 'isdigit',\n",
       " 'isidentifier',\n",
       " 'islower',\n",
       " 'isnumeric',\n",
       " 'isprintable',\n",
       " 'isspace',\n",
       " 'istitle',\n",
       " 'isupper',\n",
       " 'join',\n",
       " 'ljust',\n",
       " 'lower',\n",
       " 'lstrip',\n",
       " 'maketrans',\n",
       " 'partition',\n",
       " 'removeprefix',\n",
       " 'removesuffix',\n",
       " 'replace',\n",
       " 'rfind',\n",
       " 'rindex',\n",
       " 'rjust',\n",
       " 'rpartition',\n",
       " 'rsplit',\n",
       " 'rstrip',\n",
       " 'split',\n",
       " 'splitlines',\n",
       " 'startswith',\n",
       " 'strip',\n",
       " 'swapcase',\n",
       " 'title',\n",
       " 'translate',\n",
       " 'upper',\n",
       " 'zfill']"
      ]
     },
     "execution_count": 43,
     "metadata": {},
     "output_type": "execute_result"
    }
   ],
   "source": [
    "string1=\"welcome\"\n",
    "dir(string1)"
   ]
  },
  {
   "cell_type": "code",
   "execution_count": 45,
   "id": "1634ec1a",
   "metadata": {},
   "outputs": [
    {
     "name": "stdout",
     "output_type": "stream",
     "text": [
      "Help on built-in function capitalize:\n",
      "\n",
      "capitalize() method of builtins.str instance\n",
      "    Return a capitalized version of the string.\n",
      "    \n",
      "    More specifically, make the first character have upper case and the rest lower\n",
      "    case.\n",
      "\n"
     ]
    }
   ],
   "source": [
    "help(string1.capitalize)\n",
    "#Return a capitalized version of the string."
   ]
  },
  {
   "cell_type": "code",
   "execution_count": 48,
   "id": "c71b18aa",
   "metadata": {},
   "outputs": [
    {
     "data": {
      "text/plain": [
       "'Welcome'"
      ]
     },
     "execution_count": 48,
     "metadata": {},
     "output_type": "execute_result"
    }
   ],
   "source": [
    "string1=\"welcome\"\n",
    "string1.capitalize()"
   ]
  },
  {
   "cell_type": "markdown",
   "id": "1b2062ae",
   "metadata": {},
   "source": [
    "**2. upper**"
   ]
  },
  {
   "cell_type": "code",
   "execution_count": 52,
   "id": "9ad461a4",
   "metadata": {},
   "outputs": [
    {
     "data": {
      "text/plain": [
       "'WELCOME'"
      ]
     },
     "execution_count": 52,
     "metadata": {},
     "output_type": "execute_result"
    }
   ],
   "source": [
    "string1.upper()"
   ]
  },
  {
   "cell_type": "markdown",
   "id": "614ff763",
   "metadata": {},
   "source": [
    "**3. lower**"
   ]
  },
  {
   "cell_type": "code",
   "execution_count": 51,
   "id": "3fccc32c",
   "metadata": {},
   "outputs": [
    {
     "data": {
      "text/plain": [
       "'welcome'"
      ]
     },
     "execution_count": 51,
     "metadata": {},
     "output_type": "execute_result"
    }
   ],
   "source": [
    "string1.lower()"
   ]
  },
  {
   "cell_type": "code",
   "execution_count": 53,
   "id": "63e0c8ef",
   "metadata": {},
   "outputs": [
    {
     "name": "stdout",
     "output_type": "stream",
     "text": [
      "Welcome\n",
      "WELCOME\n",
      "welcome\n"
     ]
    }
   ],
   "source": [
    "string1=\"welCome\"\n",
    "print(string1.capitalize())\n",
    "print(string1.upper())\n",
    "print(string1.lower())\n",
    "#Methods - make our life easy but make us dumb"
   ]
  },
  {
   "cell_type": "code",
   "execution_count": 55,
   "id": "1db28433",
   "metadata": {},
   "outputs": [
    {
     "data": {
      "text/plain": [
       "2"
      ]
     },
     "execution_count": 55,
     "metadata": {},
     "output_type": "execute_result"
    }
   ],
   "source": [
    "string1=\"hai how are you\"\n",
    "string1.count('a')"
   ]
  },
  {
   "cell_type": "code",
   "execution_count": 56,
   "id": "ecec9752",
   "metadata": {},
   "outputs": [
    {
     "name": "stdout",
     "output_type": "stream",
     "text": [
      "2\n"
     ]
    }
   ],
   "source": [
    "count=0\n",
    "for i in string1:\n",
    "    if i=='a':\n",
    "        count+=1\n",
    "print(count)"
   ]
  },
  {
   "cell_type": "code",
   "execution_count": 57,
   "id": "cc7470a7",
   "metadata": {},
   "outputs": [
    {
     "data": {
      "text/plain": [
       "97"
      ]
     },
     "execution_count": 57,
     "metadata": {},
     "output_type": "execute_result"
    }
   ],
   "source": [
    "ord('a')"
   ]
  },
  {
   "cell_type": "code",
   "execution_count": 58,
   "id": "0058042f",
   "metadata": {},
   "outputs": [
    {
     "data": {
      "text/plain": [
       "65"
      ]
     },
     "execution_count": 58,
     "metadata": {},
     "output_type": "execute_result"
    }
   ],
   "source": [
    "ord('A')"
   ]
  },
  {
   "cell_type": "code",
   "execution_count": 59,
   "id": "bbe41e9b",
   "metadata": {},
   "outputs": [
    {
     "data": {
      "text/plain": [
       "32"
      ]
     },
     "execution_count": 59,
     "metadata": {},
     "output_type": "execute_result"
    }
   ],
   "source": [
    "97-65"
   ]
  },
  {
   "cell_type": "code",
   "execution_count": 81,
   "id": "f83a4a67",
   "metadata": {},
   "outputs": [],
   "source": [
    "str3=chr(ord('l')-32)"
   ]
  },
  {
   "cell_type": "markdown",
   "id": "6b39f126",
   "metadata": {},
   "source": [
    "**14-11-23**"
   ]
  },
  {
   "cell_type": "code",
   "execution_count": 82,
   "id": "ab9247be",
   "metadata": {},
   "outputs": [
    {
     "name": "stdout",
     "output_type": "stream",
     "text": [
      "weLcome\n"
     ]
    }
   ],
   "source": [
    "string1='welcome'\n",
    "#weLcome\n",
    "str1=string1[:2]\n",
    "str2=string1[3:]\n",
    "print(str1+str3+str2)"
   ]
  },
  {
   "cell_type": "code",
   "execution_count": 67,
   "id": "518f5754",
   "metadata": {},
   "outputs": [
    {
     "data": {
      "text/plain": [
       "'weLcome'"
      ]
     },
     "execution_count": 67,
     "metadata": {},
     "output_type": "execute_result"
    }
   ],
   "source": [
    "string1.replace('l','L')"
   ]
  },
  {
   "cell_type": "markdown",
   "id": "29c78edb",
   "metadata": {},
   "source": [
    "$$Methods$$"
   ]
  },
  {
   "cell_type": "markdown",
   "id": "dbcc397d",
   "metadata": {},
   "source": [
    "**casefold**"
   ]
  },
  {
   "cell_type": "code",
   "execution_count": 1,
   "id": "f3a262e6",
   "metadata": {},
   "outputs": [
    {
     "data": {
      "text/plain": [
       "'welcome'"
      ]
     },
     "execution_count": 1,
     "metadata": {},
     "output_type": "execute_result"
    }
   ],
   "source": [
    "string1='Welcome'\n",
    "string1.casefold()"
   ]
  },
  {
   "cell_type": "code",
   "execution_count": 2,
   "id": "108cb488",
   "metadata": {},
   "outputs": [
    {
     "data": {
      "text/plain": [
       "'welcome'"
      ]
     },
     "execution_count": 2,
     "metadata": {},
     "output_type": "execute_result"
    }
   ],
   "source": [
    "string1='welcome'\n",
    "string1.casefold()"
   ]
  },
  {
   "cell_type": "markdown",
   "id": "d3ad72ab",
   "metadata": {},
   "source": [
    "- capitalize: first letter capital\n",
    "- upper: all letters are in upper case\n",
    "- lower: all letters are in lower case\n",
    "- casefold: caseless comparison(all in lower case)"
   ]
  },
  {
   "cell_type": "markdown",
   "id": "b5e055cb",
   "metadata": {},
   "source": [
    "**count**\n",
    "- no. of occurrences of a substring"
   ]
  },
  {
   "cell_type": "code",
   "execution_count": 3,
   "id": "8c3a3b84",
   "metadata": {},
   "outputs": [
    {
     "data": {
      "text/plain": [
       "2"
      ]
     },
     "execution_count": 3,
     "metadata": {},
     "output_type": "execute_result"
    }
   ],
   "source": [
    "string1='hai how are you'\n",
    "#how many 'a's are there\n",
    "string1.count('a')"
   ]
  },
  {
   "cell_type": "code",
   "execution_count": 4,
   "id": "dd06740e",
   "metadata": {},
   "outputs": [
    {
     "data": {
      "text/plain": [
       "1"
      ]
     },
     "execution_count": 4,
     "metadata": {},
     "output_type": "execute_result"
    }
   ],
   "source": [
    "string1.count('hai')"
   ]
  },
  {
   "cell_type": "code",
   "execution_count": 8,
   "id": "a82d3d70",
   "metadata": {},
   "outputs": [
    {
     "name": "stdout",
     "output_type": "stream",
     "text": [
      "2\n",
      "3\n",
      "3\n",
      "0\n"
     ]
    }
   ],
   "source": [
    "string1='ola ola ola'\n",
    "print(string1.count('ola '))\n",
    "print(string1.count('ola'))\n",
    "print(string1.count('ol'))\n",
    "print(string1.count('oa'))"
   ]
  },
  {
   "cell_type": "code",
   "execution_count": 15,
   "id": "c6a63e52",
   "metadata": {},
   "outputs": [
    {
     "name": "stdout",
     "output_type": "stream",
     "text": [
      "2\n",
      "2\n",
      "0\n",
      "1\n",
      "0\n",
      "2\n",
      "0\n"
     ]
    }
   ],
   "source": [
    "string1='ola ola ola'\n",
    "print(string1.count('a',4)) #we are counting the number of 'a's from index 4\n",
    "print(string1.count('a',6))\n",
    "print(string1.count('a',4,6))\n",
    "print(string1.count('a',4,7))\n",
    "print(string1.count('A',4))\n",
    "print(string1.count('A'.lower(),4))\n",
    "print(string1.count('a'.upper(),4))"
   ]
  },
  {
   "cell_type": "code",
   "execution_count": null,
   "id": "eea6cd4a",
   "metadata": {},
   "outputs": [],
   "source": [
    "#string1.count(substring, start, end)\n"
   ]
  },
  {
   "cell_type": "code",
   "execution_count": 17,
   "id": "78c54c7c",
   "metadata": {},
   "outputs": [
    {
     "name": "stdout",
     "output_type": "stream",
     "text": [
      "3\n"
     ]
    }
   ],
   "source": [
    "count=0\n",
    "for i in string1:\n",
    "    if i=='a':\n",
    "        count=count+1\n",
    "print(count)"
   ]
  },
  {
   "cell_type": "code",
   "execution_count": 88,
   "id": "76c44aef",
   "metadata": {},
   "outputs": [
    {
     "name": "stdout",
     "output_type": "stream",
     "text": [
      "3\n"
     ]
    }
   ],
   "source": [
    "string1='ola ola ola'\n",
    "count=0\n",
    "for i in range(len(string1)):\n",
    "    if string1[i:i+3]=='ola':\n",
    "        count+=1\n",
    "print(count)"
   ]
  },
  {
   "cell_type": "code",
   "execution_count": 34,
   "id": "16ab3b10",
   "metadata": {},
   "outputs": [
    {
     "data": {
      "text/plain": [
       "3"
      ]
     },
     "execution_count": 34,
     "metadata": {},
     "output_type": "execute_result"
    }
   ],
   "source": [
    "string1.count('a')"
   ]
  },
  {
   "cell_type": "code",
   "execution_count": 35,
   "id": "b5f94de7",
   "metadata": {},
   "outputs": [
    {
     "data": {
      "text/plain": [
       "3"
      ]
     },
     "execution_count": 35,
     "metadata": {},
     "output_type": "execute_result"
    }
   ],
   "source": [
    "string1.count('ola')"
   ]
  },
  {
   "cell_type": "markdown",
   "id": "aec50dcf",
   "metadata": {},
   "source": [
    "**replace**"
   ]
  },
  {
   "cell_type": "code",
   "execution_count": 37,
   "id": "30beb072",
   "metadata": {},
   "outputs": [
    {
     "data": {
      "text/plain": [
       "'RestaRt'"
      ]
     },
     "execution_count": 37,
     "metadata": {},
     "output_type": "execute_result"
    }
   ],
   "source": [
    "string1='restart'\n",
    "#replace 'r' with 'R'\n",
    "string1.replace('r','R')"
   ]
  },
  {
   "cell_type": "code",
   "execution_count": 40,
   "id": "b873cc84",
   "metadata": {},
   "outputs": [
    {
     "name": "stdout",
     "output_type": "stream",
     "text": [
      "7\n",
      "t\n"
     ]
    }
   ],
   "source": [
    "#\n",
    "print(len(string1))\n",
    "print(max(string1))"
   ]
  },
  {
   "cell_type": "code",
   "execution_count": 46,
   "id": "a97123a7",
   "metadata": {},
   "outputs": [
    {
     "name": "stdout",
     "output_type": "stream",
     "text": [
      "$esta$t\n",
      "$estart\n",
      "$esta$t\n",
      "$esta$t\n"
     ]
    }
   ],
   "source": [
    "string1='restart'\n",
    "#replace 'r' with 'R'\n",
    "print(string1.replace('r','$'))\n",
    "print(string1.replace('r','$',1))\n",
    "print(string1.replace('r','$',-1))\n",
    "print(string1.replace('r','$',-2))"
   ]
  },
  {
   "cell_type": "code",
   "execution_count": 44,
   "id": "3366ae72",
   "metadata": {},
   "outputs": [
    {
     "ename": "TypeError",
     "evalue": "str.replace() takes no keyword arguments",
     "output_type": "error",
     "traceback": [
      "\u001b[1;31m---------------------------------------------------------------------------\u001b[0m",
      "\u001b[1;31mTypeError\u001b[0m                                 Traceback (most recent call last)",
      "Cell \u001b[1;32mIn[44], line 1\u001b[0m\n\u001b[1;32m----> 1\u001b[0m string1\u001b[38;5;241m.\u001b[39mreplace(\u001b[38;5;124m'\u001b[39m\u001b[38;5;124mr\u001b[39m\u001b[38;5;124m'\u001b[39m,\u001b[38;5;124m'\u001b[39m\u001b[38;5;124mR\u001b[39m\u001b[38;5;124m'\u001b[39m,count\u001b[38;5;241m=\u001b[39m\u001b[38;5;241m1\u001b[39m)\n",
      "\u001b[1;31mTypeError\u001b[0m: str.replace() takes no keyword arguments"
     ]
    }
   ],
   "source": [
    "string1.replace('r','R',count=1)\n",
    "#give only numbers inside replace()"
   ]
  },
  {
   "cell_type": "code",
   "execution_count": 59,
   "id": "968136b0",
   "metadata": {},
   "outputs": [
    {
     "data": {
      "text/plain": [
       "'resta$t'"
      ]
     },
     "execution_count": 59,
     "metadata": {},
     "output_type": "execute_result"
    }
   ],
   "source": [
    "string1='restart'\n",
    "#restaRt\n",
    "string1[0]+string1[1:].replace('r','$')"
   ]
  },
  {
   "cell_type": "code",
   "execution_count": 60,
   "id": "464a0e19",
   "metadata": {
    "scrolled": true
   },
   "outputs": [
    {
     "data": {
      "text/plain": [
       "'resta$t'"
      ]
     },
     "execution_count": 60,
     "metadata": {},
     "output_type": "execute_result"
    }
   ],
   "source": [
    "string1[::-1].replace('r','$',1)[::-1]"
   ]
  },
  {
   "cell_type": "code",
   "execution_count": 94,
   "id": "dc29d958",
   "metadata": {},
   "outputs": [
    {
     "name": "stdout",
     "output_type": "stream",
     "text": [
      "a\n",
      "l\n",
      "o\n",
      " \n",
      "a\n",
      "l\n",
      "o\n",
      " \n",
      "a\n",
      "l\n",
      "o\n"
     ]
    }
   ],
   "source": [
    "\n",
    "for i in reversed(string1):\n",
    "    print(i)"
   ]
  },
  {
   "cell_type": "markdown",
   "id": "db2eba45",
   "metadata": {},
   "source": [
    "$index$"
   ]
  },
  {
   "cell_type": "code",
   "execution_count": 62,
   "id": "e599edf8",
   "metadata": {},
   "outputs": [
    {
     "data": {
      "text/plain": [
       "3"
      ]
     },
     "execution_count": 62,
     "metadata": {},
     "output_type": "execute_result"
    }
   ],
   "source": [
    "string1='welcome python'\n",
    "#index of 'c'\n",
    "string1.index('c')"
   ]
  },
  {
   "cell_type": "code",
   "execution_count": 64,
   "id": "10443c53",
   "metadata": {},
   "outputs": [
    {
     "ename": "ValueError",
     "evalue": "substring not found",
     "output_type": "error",
     "traceback": [
      "\u001b[1;31m---------------------------------------------------------------------------\u001b[0m",
      "\u001b[1;31mValueError\u001b[0m                                Traceback (most recent call last)",
      "Cell \u001b[1;32mIn[64], line 1\u001b[0m\n\u001b[1;32m----> 1\u001b[0m string1\u001b[38;5;241m.\u001b[39mindex(\u001b[38;5;124m'\u001b[39m\u001b[38;5;124mz\u001b[39m\u001b[38;5;124m'\u001b[39m)\n",
      "\u001b[1;31mValueError\u001b[0m: substring not found"
     ]
    }
   ],
   "source": [
    "string1.index('z')"
   ]
  },
  {
   "cell_type": "code",
   "execution_count": 73,
   "id": "44e1e13e",
   "metadata": {},
   "outputs": [
    {
     "name": "stdout",
     "output_type": "stream",
     "text": [
      "3\n",
      "1\n"
     ]
    }
   ],
   "source": [
    "string1='hai how are you and'\n",
    "a=0\n",
    "a=a+string1.count('a')\n",
    "print(a)#first occurrence of 'a' is 1\n",
    "print(string1.index('a'))"
   ]
  },
  {
   "cell_type": "code",
   "execution_count": 75,
   "id": "a36ce8a6",
   "metadata": {
    "scrolled": true
   },
   "outputs": [
    {
     "name": "stdout",
     "output_type": "stream",
     "text": [
      "0\n",
      "5\n",
      "9\n",
      "13\n"
     ]
    }
   ],
   "source": [
    "string1='hai hai hai hai hai' \n",
    "print(string1.index('hai'))\n",
    "print(string1.index('a',2))\n",
    "print(string1.index('a',6))\n",
    "print(string1.index('a',10))"
   ]
  },
  {
   "cell_type": "code",
   "execution_count": 78,
   "id": "f561306f",
   "metadata": {},
   "outputs": [
    {
     "name": "stdout",
     "output_type": "stream",
     "text": [
      "1\n",
      "5\n",
      "9\n",
      "13\n"
     ]
    }
   ],
   "source": [
    "string1='hai hai hai hai hai' \n",
    "i1=print(string1.index('a'))\n",
    "i2=print(string1.index('a',2))\n",
    "i3=print(string1.index('a',6))\n",
    "i4=print(string1.index('a',10))"
   ]
  },
  {
   "cell_type": "code",
   "execution_count": 76,
   "id": "f4a1d9a3",
   "metadata": {},
   "outputs": [
    {
     "data": {
      "text/plain": [
       "5"
      ]
     },
     "execution_count": 76,
     "metadata": {},
     "output_type": "execute_result"
    }
   ],
   "source": [
    "string1.index('a',string1.index('a')+1)"
   ]
  },
  {
   "cell_type": "code",
   "execution_count": 66,
   "id": "786464ef",
   "metadata": {},
   "outputs": [
    {
     "name": "stdout",
     "output_type": "stream",
     "text": [
      "3\n"
     ]
    }
   ],
   "source": [
    "count=0\n",
    "for i in string1:\n",
    "    if i=='a':\n",
    "        count=count+1\n",
    "print(count)"
   ]
  },
  {
   "cell_type": "code",
   "execution_count": 67,
   "id": "97df8c51",
   "metadata": {},
   "outputs": [
    {
     "name": "stdout",
     "output_type": "stream",
     "text": [
      "1\n",
      "8\n",
      "16\n"
     ]
    }
   ],
   "source": [
    "for i in range(len(string1)):\n",
    "    if string1[i]=='a':\n",
    "        print(i)"
   ]
  },
  {
   "cell_type": "code",
   "execution_count": 79,
   "id": "7c92f309",
   "metadata": {},
   "outputs": [
    {
     "name": "stdout",
     "output_type": "stream",
     "text": [
      "5\n",
      "5\n",
      "5\n",
      "5\n",
      "5\n"
     ]
    }
   ],
   "source": [
    "for i in string1:\n",
    "    if i=='a':\n",
    "        index=string1.index(i)\n",
    "        print(string1.index('a',index+1))"
   ]
  },
  {
   "cell_type": "markdown",
   "id": "464618d3",
   "metadata": {},
   "source": [
    "**find**"
   ]
  },
  {
   "cell_type": "code",
   "execution_count": 81,
   "id": "73160361",
   "metadata": {},
   "outputs": [
    {
     "data": {
      "text/plain": [
       "10"
      ]
     },
     "execution_count": 81,
     "metadata": {},
     "output_type": "execute_result"
    }
   ],
   "source": [
    "string1='hello how are you'\n",
    "string1.find('a')"
   ]
  },
  {
   "cell_type": "code",
   "execution_count": 83,
   "id": "fadc5b73",
   "metadata": {},
   "outputs": [
    {
     "data": {
      "text/plain": [
       "0"
      ]
     },
     "execution_count": 83,
     "metadata": {},
     "output_type": "execute_result"
    }
   ],
   "source": [
    "string1='hello how are you'\n",
    "string1.find('h')"
   ]
  },
  {
   "cell_type": "code",
   "execution_count": 84,
   "id": "c74baa16",
   "metadata": {},
   "outputs": [
    {
     "data": {
      "text/plain": [
       "6"
      ]
     },
     "execution_count": 84,
     "metadata": {},
     "output_type": "execute_result"
    }
   ],
   "source": [
    "string1='hello how are you'\n",
    "string1.find('h',1)"
   ]
  },
  {
   "cell_type": "code",
   "execution_count": 85,
   "id": "2988744a",
   "metadata": {},
   "outputs": [
    {
     "data": {
      "text/plain": [
       "-1"
      ]
     },
     "execution_count": 85,
     "metadata": {},
     "output_type": "execute_result"
    }
   ],
   "source": [
    "#If substring not found, find() returns -1\n",
    "string1.find('z')"
   ]
  },
  {
   "cell_type": "code",
   "execution_count": 86,
   "id": "20b58ad3",
   "metadata": {},
   "outputs": [
    {
     "data": {
      "text/plain": [
       "0"
      ]
     },
     "execution_count": 86,
     "metadata": {},
     "output_type": "execute_result"
    }
   ],
   "source": [
    "string1.count('z')"
   ]
  },
  {
   "cell_type": "code",
   "execution_count": 87,
   "id": "105273f8",
   "metadata": {
    "scrolled": true
   },
   "outputs": [
    {
     "ename": "ValueError",
     "evalue": "substring not found",
     "output_type": "error",
     "traceback": [
      "\u001b[1;31m---------------------------------------------------------------------------\u001b[0m",
      "\u001b[1;31mValueError\u001b[0m                                Traceback (most recent call last)",
      "Cell \u001b[1;32mIn[87], line 1\u001b[0m\n\u001b[1;32m----> 1\u001b[0m string1\u001b[38;5;241m.\u001b[39mindex(\u001b[38;5;124m'\u001b[39m\u001b[38;5;124mz\u001b[39m\u001b[38;5;124m'\u001b[39m)\n",
      "\u001b[1;31mValueError\u001b[0m: substring not found"
     ]
    }
   ],
   "source": [
    "string1.index('z')"
   ]
  },
  {
   "cell_type": "markdown",
   "id": "ad6c90d7",
   "metadata": {},
   "source": [
    "- capitalize/upper/lower/casefold\n",
    "- index/find\n",
    "- count\n",
    "- replace"
   ]
  },
  {
   "cell_type": "markdown",
   "id": "39fd494c",
   "metadata": {},
   "source": [
    "$$15-11-2023$$"
   ]
  },
  {
   "cell_type": "markdown",
   "id": "4031a080",
   "metadata": {},
   "source": [
    "**strip-lstrip-rstrip**\n",
    "- strip()----removes spaces on both sides\n",
    "- lstrip()---removes space on left side\n",
    "- rstrip()---removes space on right side"
   ]
  },
  {
   "cell_type": "code",
   "execution_count": 2,
   "id": "6f19a78c",
   "metadata": {},
   "outputs": [
    {
     "name": "stdout",
     "output_type": "stream",
     "text": [
      "hello how are you\n",
      "hello how are you\n",
      "hello how are you\n"
     ]
    }
   ],
   "source": [
    "str1=\" hello how are you \"\n",
    "str2=\" hello how are you\"\n",
    "str3=\"hello how are you \"\n",
    "print(str1.strip())\n",
    "print(str2.lstrip())\n",
    "print(str3.rstrip())"
   ]
  },
  {
   "cell_type": "code",
   "execution_count": 7,
   "id": "fbf1f7fd",
   "metadata": {},
   "outputs": [
    {
     "name": "stdout",
     "output_type": "stream",
     "text": [
      "hello how are you\n",
      " hello how are you\n"
     ]
    }
   ],
   "source": [
    "print(str2.strip())\n",
    "print(str2.rstrip())"
   ]
  },
  {
   "cell_type": "code",
   "execution_count": 8,
   "id": "f28e965a",
   "metadata": {},
   "outputs": [
    {
     "name": "stdout",
     "output_type": "stream",
     "text": [
      "hello how are you\n",
      "hello how are you \n"
     ]
    }
   ],
   "source": [
    "print(str3.strip())\n",
    "print(str3.lstrip())"
   ]
  },
  {
   "cell_type": "code",
   "execution_count": 24,
   "id": "7fa2c580",
   "metadata": {},
   "outputs": [
    {
     "data": {
      "text/plain": [
       "1"
      ]
     },
     "execution_count": 24,
     "metadata": {},
     "output_type": "execute_result"
    }
   ],
   "source": [
    "#WAP to extract \n",
    "str1='a.b@c.com'\n",
    "#Extract first name: python\n",
    "#Extract second name: anaconda\n",
    "#Extract third name: nareshit\n",
    "str1.find('.')"
   ]
  },
  {
   "cell_type": "code",
   "execution_count": 25,
   "id": "a9992508",
   "metadata": {},
   "outputs": [
    {
     "name": "stdout",
     "output_type": "stream",
     "text": [
      "a\n",
      "b\n",
      "c\n"
     ]
    }
   ],
   "source": [
    "for i in range(len(str1)):\n",
    "    f=str1.find('.')\n",
    "print(str1[:f])\n",
    "for i in range(len(str1)):\n",
    "    s=str1.find('@')\n",
    "print(str1[f+1:s])\n",
    "for i in range(len(str1)):\n",
    "    l=str1.find('.com')\n",
    "print(str1[s+1:l])"
   ]
  },
  {
   "cell_type": "code",
   "execution_count": 27,
   "id": "3ce4d9ee",
   "metadata": {},
   "outputs": [
    {
     "name": "stdout",
     "output_type": "stream",
     "text": [
      "a\n",
      "b\n",
      "c\n"
     ]
    }
   ],
   "source": [
    "for i in range(len(str1)):\n",
    "    f=str1.find('.')\n",
    "    s=str1.find('@')\n",
    "    l=str1.find('.com')\n",
    "print(str1[:f])\n",
    "print(str1[f+1:s])\n",
    "print(str1[s+1:l])"
   ]
  },
  {
   "cell_type": "code",
   "execution_count": 28,
   "id": "d834965a",
   "metadata": {
    "scrolled": true
   },
   "outputs": [
    {
     "name": "stdout",
     "output_type": "stream",
     "text": [
      "a\n",
      "b\n",
      "c\n"
     ]
    }
   ],
   "source": [
    "for i in range(len(str1)):\n",
    "    f=str1.find('.')\n",
    "    s=str1.find('@')\n",
    "    l=str1.find('.',f+1)\n",
    "0print(str1[:f])\n",
    "print(str1[f+1:s])\n",
    "print(str1[s+1:l])"
   ]
  },
  {
   "cell_type": "code",
   "execution_count": 14,
   "id": "0652b356",
   "metadata": {
    "scrolled": true
   },
   "outputs": [
    {
     "name": "stdout",
     "output_type": "stream",
     "text": [
      "shravya\n",
      "shree296\n",
      "gmail\n",
      "com\n"
     ]
    }
   ],
   "source": [
    "str2=\"shravya.shree296@gmail.com\"\n",
    "print(str2[:str2.find('.')])\n",
    "print(str2[str2.find('.')+1:str2.find('@')])\n",
    "print(str2[str2.find('@')+1:str2.find('.',str2.find('.')+1)])\n",
    "print(str2[str2.find('.',str2.find('.')+1)+1:])"
   ]
  },
  {
   "cell_type": "code",
   "execution_count": 16,
   "id": "0a99c15b",
   "metadata": {},
   "outputs": [
    {
     "name": "stdout",
     "output_type": "stream",
     "text": [
      "shravya\n",
      "shree\n",
      "296\n",
      "gmail\n",
      "com\n"
     ]
    }
   ],
   "source": [
    "str2=\"shravya.shree296@gmail.com\"\n",
    "print(str2[:str2.find('.')])\n",
    "print(str2[str2.find('.')+1:str2.find('2')])\n",
    "print(str2[str2.find('2'):str2.find('@')])\n",
    "print(str2[str2.find('@')+1:str2.find('.',str2.find('.')+1)])\n",
    "print(str2[str2.find('.',str2.find('.')+1)+1:])"
   ]
  },
  {
   "cell_type": "code",
   "execution_count": 24,
   "id": "226465e8",
   "metadata": {},
   "outputs": [
    {
     "name": "stdout",
     "output_type": "stream",
     "text": [
      "yejuffadeugi\n",
      "4602\n",
      "mx\n",
      "fuppurge\n",
      "info\n"
     ]
    }
   ],
   "source": [
    "str3=\"yejuffadeugi-4602@mx.fuppurge.info\"\n",
    "print(str3[:str3.find('-')])\n",
    "print(str3[str3.find('-')+1:str3.find('@')])\n",
    "print(str3[str3.find('@')+1:str3.find('.')])\n",
    "print(str3[str3.find('.')+1:str3.find('.',str3.find('.')+1)])\n",
    "print(str3[str3.find('.',str3.find('.')+1)+1:])"
   ]
  },
  {
   "cell_type": "code",
   "execution_count": 29,
   "id": "a9eabcfe",
   "metadata": {},
   "outputs": [
    {
     "data": {
      "text/plain": [
       "1"
      ]
     },
     "execution_count": 29,
     "metadata": {},
     "output_type": "execute_result"
    }
   ],
   "source": [
    "#WAP\n",
    "str1='3.1489'\n",
    "#Extract 3\n",
    "#Extract 1489\n",
    "str1.find('.')"
   ]
  },
  {
   "cell_type": "code",
   "execution_count": 31,
   "id": "c472043a",
   "metadata": {},
   "outputs": [
    {
     "name": "stdout",
     "output_type": "stream",
     "text": [
      "3\n",
      "1489\n"
     ]
    }
   ],
   "source": [
    "print(str1[:str1.find('.')])\n",
    "print(str1[str1.find('.')+1:])"
   ]
  },
  {
   "cell_type": "markdown",
   "id": "18b34990",
   "metadata": {},
   "source": [
    "**startswith-endswith**"
   ]
  },
  {
   "cell_type": "code",
   "execution_count": 32,
   "id": "1cd04040",
   "metadata": {},
   "outputs": [
    {
     "data": {
      "text/plain": [
       "True"
      ]
     },
     "execution_count": 32,
     "metadata": {},
     "output_type": "execute_result"
    }
   ],
   "source": [
    "str1='hai how are you'\n",
    "str1.startswith('hai')"
   ]
  },
  {
   "cell_type": "code",
   "execution_count": 34,
   "id": "474f0f9e",
   "metadata": {},
   "outputs": [
    {
     "data": {
      "text/plain": [
       "True"
      ]
     },
     "execution_count": 34,
     "metadata": {},
     "output_type": "execute_result"
    }
   ],
   "source": [
    "str1.startswith('h')"
   ]
  },
  {
   "cell_type": "code",
   "execution_count": 35,
   "id": "f1ef763d",
   "metadata": {},
   "outputs": [
    {
     "data": {
      "text/plain": [
       "True"
      ]
     },
     "execution_count": 35,
     "metadata": {},
     "output_type": "execute_result"
    }
   ],
   "source": [
    "str1.endswith('u')"
   ]
  },
  {
   "cell_type": "code",
   "execution_count": 36,
   "id": "06c4f8fd",
   "metadata": {},
   "outputs": [
    {
     "data": {
      "text/plain": [
       "True"
      ]
     },
     "execution_count": 36,
     "metadata": {},
     "output_type": "execute_result"
    }
   ],
   "source": [
    "str1.endswith('you')"
   ]
  },
  {
   "cell_type": "code",
   "execution_count": 37,
   "id": "02853fbd",
   "metadata": {},
   "outputs": [
    {
     "data": {
      "text/plain": [
       "True"
      ]
     },
     "execution_count": 37,
     "metadata": {},
     "output_type": "execute_result"
    }
   ],
   "source": [
    "str1.startswith(str1)"
   ]
  },
  {
   "cell_type": "code",
   "execution_count": 38,
   "id": "b27c369e",
   "metadata": {},
   "outputs": [
    {
     "data": {
      "text/plain": [
       "True"
      ]
     },
     "execution_count": 38,
     "metadata": {},
     "output_type": "execute_result"
    }
   ],
   "source": [
    "str1.endswith(str1)"
   ]
  },
  {
   "cell_type": "code",
   "execution_count": 39,
   "id": "86ef1b8e",
   "metadata": {},
   "outputs": [
    {
     "data": {
      "text/plain": [
       "['__add__',\n",
       " '__class__',\n",
       " '__contains__',\n",
       " '__delattr__',\n",
       " '__dir__',\n",
       " '__doc__',\n",
       " '__eq__',\n",
       " '__format__',\n",
       " '__ge__',\n",
       " '__getattribute__',\n",
       " '__getitem__',\n",
       " '__getnewargs__',\n",
       " '__getstate__',\n",
       " '__gt__',\n",
       " '__hash__',\n",
       " '__init__',\n",
       " '__init_subclass__',\n",
       " '__iter__',\n",
       " '__le__',\n",
       " '__len__',\n",
       " '__lt__',\n",
       " '__mod__',\n",
       " '__mul__',\n",
       " '__ne__',\n",
       " '__new__',\n",
       " '__reduce__',\n",
       " '__reduce_ex__',\n",
       " '__repr__',\n",
       " '__rmod__',\n",
       " '__rmul__',\n",
       " '__setattr__',\n",
       " '__sizeof__',\n",
       " '__str__',\n",
       " '__subclasshook__',\n",
       " 'capitalize',\n",
       " 'casefold',\n",
       " 'center',\n",
       " 'count',\n",
       " 'encode',\n",
       " 'endswith',\n",
       " 'expandtabs',\n",
       " 'find',\n",
       " 'format',\n",
       " 'format_map',\n",
       " 'index',\n",
       " 'isalnum',\n",
       " 'isalpha',\n",
       " 'isascii',\n",
       " 'isdecimal',\n",
       " 'isdigit',\n",
       " 'isidentifier',\n",
       " 'islower',\n",
       " 'isnumeric',\n",
       " 'isprintable',\n",
       " 'isspace',\n",
       " 'istitle',\n",
       " 'isupper',\n",
       " 'join',\n",
       " 'ljust',\n",
       " 'lower',\n",
       " 'lstrip',\n",
       " 'maketrans',\n",
       " 'partition',\n",
       " 'removeprefix',\n",
       " 'removesuffix',\n",
       " 'replace',\n",
       " 'rfind',\n",
       " 'rindex',\n",
       " 'rjust',\n",
       " 'rpartition',\n",
       " 'rsplit',\n",
       " 'rstrip',\n",
       " 'split',\n",
       " 'splitlines',\n",
       " 'startswith',\n",
       " 'strip',\n",
       " 'swapcase',\n",
       " 'title',\n",
       " 'translate',\n",
       " 'upper',\n",
       " 'zfill']"
      ]
     },
     "execution_count": 39,
     "metadata": {},
     "output_type": "execute_result"
    }
   ],
   "source": [
    "dir(str1)"
   ]
  },
  {
   "cell_type": "markdown",
   "id": "aec76807",
   "metadata": {},
   "source": [
    "isalpha, isnumeric, islower, isupper"
   ]
  },
  {
   "cell_type": "code",
   "execution_count": 40,
   "id": "a519fda7",
   "metadata": {},
   "outputs": [
    {
     "data": {
      "text/plain": [
       "False"
      ]
     },
     "execution_count": 40,
     "metadata": {},
     "output_type": "execute_result"
    }
   ],
   "source": [
    "str1='hai how are you'\n",
    "str1.isalnum()"
   ]
  },
  {
   "cell_type": "code",
   "execution_count": 42,
   "id": "25ff4391",
   "metadata": {},
   "outputs": [
    {
     "data": {
      "text/plain": [
       "False"
      ]
     },
     "execution_count": 42,
     "metadata": {},
     "output_type": "execute_result"
    }
   ],
   "source": [
    "str1='hai h12w a@e you'\n",
    "str1.isalnum()"
   ]
  },
  {
   "cell_type": "code",
   "execution_count": 43,
   "id": "7b2a3bad",
   "metadata": {},
   "outputs": [
    {
     "data": {
      "text/plain": [
       "True"
      ]
     },
     "execution_count": 43,
     "metadata": {},
     "output_type": "execute_result"
    }
   ],
   "source": [
    "str1='123'\n",
    "str1.isalnum()"
   ]
  },
  {
   "cell_type": "code",
   "execution_count": 44,
   "id": "63ca46b6",
   "metadata": {},
   "outputs": [
    {
     "data": {
      "text/plain": [
       "False"
      ]
     },
     "execution_count": 44,
     "metadata": {},
     "output_type": "execute_result"
    }
   ],
   "source": [
    "str1.isalpha()"
   ]
  },
  {
   "cell_type": "code",
   "execution_count": 45,
   "id": "18a5859d",
   "metadata": {},
   "outputs": [
    {
     "data": {
      "text/plain": [
       "True"
      ]
     },
     "execution_count": 45,
     "metadata": {},
     "output_type": "execute_result"
    }
   ],
   "source": [
    "str1.isnumeric()"
   ]
  },
  {
   "cell_type": "code",
   "execution_count": 47,
   "id": "8a140ee2",
   "metadata": {},
   "outputs": [
    {
     "data": {
      "text/plain": [
       "True"
      ]
     },
     "execution_count": 47,
     "metadata": {},
     "output_type": "execute_result"
    }
   ],
   "source": [
    "str2='123a'\n",
    "str2.isalnum()"
   ]
  },
  {
   "cell_type": "code",
   "execution_count": 48,
   "id": "4a9e17ce",
   "metadata": {},
   "outputs": [
    {
     "data": {
      "text/plain": [
       "True"
      ]
     },
     "execution_count": 48,
     "metadata": {},
     "output_type": "execute_result"
    }
   ],
   "source": [
    "str1='abc'\n",
    "str1.islower()"
   ]
  },
  {
   "cell_type": "code",
   "execution_count": 49,
   "id": "1e2abad2",
   "metadata": {},
   "outputs": [
    {
     "data": {
      "text/plain": [
       "False"
      ]
     },
     "execution_count": 49,
     "metadata": {},
     "output_type": "execute_result"
    }
   ],
   "source": [
    "str1.isupper()"
   ]
  },
  {
   "cell_type": "code",
   "execution_count": 56,
   "id": "4a314d7b",
   "metadata": {},
   "outputs": [
    {
     "name": "stdout",
     "output_type": "stream",
     "text": [
      "True\n",
      "False\n",
      "False\n",
      "True\n",
      "True\n",
      "True\n",
      "False\n",
      "False\n",
      "True\n",
      "False\n",
      "False\n",
      "True\n",
      "True\n",
      "False\n",
      "True\n",
      "False\n"
     ]
    }
   ],
   "source": [
    "string1='abc'\n",
    "string2='123'\n",
    "string3='abc123'\n",
    "string4='ABC'\n",
    "print(string1.isalnum())\n",
    "print(string1.isnumeric())\n",
    "print(string1.isupper())\n",
    "print(string1.islower())\n",
    "print(string2.isalnum())\n",
    "print(string2.isnumeric())\n",
    "print(string2.isupper())\n",
    "print(string2.islower())\n",
    "print(string3.isalnum())\n",
    "print(string3.isnumeric())\n",
    "print(string3.isupper())\n",
    "print(string3.islower())\n",
    "print(string4.isalnum())\n",
    "print(string4.isnumeric())\n",
    "print(string4.isupper())\n",
    "print(string4.islower())"
   ]
  },
  {
   "cell_type": "markdown",
   "id": "ebd7ec82",
   "metadata": {},
   "source": [
    "**split**"
   ]
  },
  {
   "cell_type": "code",
   "execution_count": 57,
   "id": "38381a47",
   "metadata": {},
   "outputs": [
    {
     "data": {
      "text/plain": [
       "['hai', 'how', 'are', 'you']"
      ]
     },
     "execution_count": 57,
     "metadata": {},
     "output_type": "execute_result"
    }
   ],
   "source": [
    "str1='hai how are you'\n",
    "str1.split() #default=space\n",
    "#output is in list format"
   ]
  },
  {
   "cell_type": "code",
   "execution_count": 58,
   "id": "15e8f4dd",
   "metadata": {},
   "outputs": [
    {
     "data": {
      "text/plain": [
       "['hai how are you']"
      ]
     },
     "execution_count": 58,
     "metadata": {},
     "output_type": "execute_result"
    }
   ],
   "source": [
    "str1='hai how are you'\n",
    "str1.split(',')"
   ]
  },
  {
   "cell_type": "code",
   "execution_count": 59,
   "id": "24c6199a",
   "metadata": {},
   "outputs": [
    {
     "data": {
      "text/plain": [
       "['h', 'i how ', 're you']"
      ]
     },
     "execution_count": 59,
     "metadata": {},
     "output_type": "execute_result"
    }
   ],
   "source": [
    "str1='hai how are you'\n",
    "str1.split('a')"
   ]
  },
  {
   "cell_type": "code",
   "execution_count": 60,
   "id": "7771a868",
   "metadata": {},
   "outputs": [
    {
     "data": {
      "text/plain": [
       "'hello'"
      ]
     },
     "execution_count": 60,
     "metadata": {},
     "output_type": "execute_result"
    }
   ],
   "source": [
    "str1=\"%%%hello%%%\"\n",
    "str1.strip('%')"
   ]
  },
  {
   "cell_type": "code",
   "execution_count": 61,
   "id": "befa4cb6",
   "metadata": {},
   "outputs": [
    {
     "ename": "ValueError",
     "evalue": "empty separator",
     "output_type": "error",
     "traceback": [
      "\u001b[1;31m---------------------------------------------------------------------------\u001b[0m",
      "\u001b[1;31mValueError\u001b[0m                                Traceback (most recent call last)",
      "Cell \u001b[1;32mIn[61], line 2\u001b[0m\n\u001b[0;32m      1\u001b[0m str1\u001b[38;5;241m=\u001b[39m\u001b[38;5;124m'\u001b[39m\u001b[38;5;124mhai how are you\u001b[39m\u001b[38;5;124m'\u001b[39m\n\u001b[1;32m----> 2\u001b[0m str1\u001b[38;5;241m.\u001b[39msplit(\u001b[38;5;124m'\u001b[39m\u001b[38;5;124m'\u001b[39m)\n",
      "\u001b[1;31mValueError\u001b[0m: empty separator"
     ]
    }
   ],
   "source": [
    "str1='hai how are you'\n",
    "str1.split('')"
   ]
  },
  {
   "cell_type": "code",
   "execution_count": 62,
   "id": "cfc2bfe1",
   "metadata": {},
   "outputs": [
    {
     "data": {
      "text/plain": [
       "['hai', 'how', 'are', 'you']"
      ]
     },
     "execution_count": 62,
     "metadata": {},
     "output_type": "execute_result"
    }
   ],
   "source": [
    "str1='hai how are you'\n",
    "str1.split()"
   ]
  },
  {
   "cell_type": "markdown",
   "id": "87ad961f",
   "metadata": {},
   "source": [
    "- capitalize/upper/lower\n",
    "- index/find\n",
    "- count\n",
    "- replace\n",
    "- lstrip/rstrip/strip\n",
    "- startswith/endswith\n",
    "- isalpha/isnumeric/isalnum\n",
    "- split"
   ]
  },
  {
   "cell_type": "code",
   "execution_count": null,
   "id": "5c0c0557",
   "metadata": {},
   "outputs": [],
   "source": [
    "#WAP to identify the longest word and shortest word in a given sentence\n",
    "#WAP to identify the most repeated word in a given sentence\n",
    "#WAP out of 3 strings-'hyd','bglr','mumbai'-which is greater and which is lower?\n"
   ]
  },
  {
   "cell_type": "code",
   "execution_count": 71,
   "id": "972d0c07",
   "metadata": {},
   "outputs": [
    {
     "name": "stdout",
     "output_type": "stream",
     "text": [
      "hai\n",
      "howw\n"
     ]
    }
   ],
   "source": [
    "#########################################################################\n",
    "string1='hai howw are you'\n",
    "l=string1.split()\n",
    "length=0\n",
    "for i in l:\n",
    "    if len(i)>length:\n",
    "        length=len(i)\n",
    "        print(i)\n",
    "    elif "
   ]
  },
  {
   "cell_type": "markdown",
   "id": "8fd03b53",
   "metadata": {},
   "source": [
    "- how to read the strings\n",
    "- single quotes/double quotes\n",
    "- docstring\n",
    "- type\n",
    "- max\n",
    "- min\n",
    "- len\n",
    "- addition of 2 strings(concatenation)\n",
    "- mul/div/subtraction of 2 strings\n",
    "- in operator(for loop)\n",
    "- index\n",
    "- mutable condition\n",
    "- slice\n",
    "- string methods"
   ]
  },
  {
   "cell_type": "code",
   "execution_count": null,
   "id": "86e4a059",
   "metadata": {},
   "outputs": [],
   "source": [
    "# same order for list\n",
    "# side headings,write the code, write the insights"
   ]
  }
 ],
 "metadata": {
  "kernelspec": {
   "display_name": "Python 3 (ipykernel)",
   "language": "python",
   "name": "python3"
  },
  "language_info": {
   "codemirror_mode": {
    "name": "ipython",
    "version": 3
   },
   "file_extension": ".py",
   "mimetype": "text/x-python",
   "name": "python",
   "nbconvert_exporter": "python",
   "pygments_lexer": "ipython3",
   "version": "3.11.5"
  }
 },
 "nbformat": 4,
 "nbformat_minor": 5
}
