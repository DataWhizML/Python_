{
 "cells": [
  {
   "cell_type": "code",
   "execution_count": 10,
   "metadata": {},
   "outputs": [
    {
     "name": "stdout",
     "output_type": "stream",
     "text": [
      "total bil is 120\n"
     ]
    }
   ],
   "source": [
    "#with arguments:\n",
    "def bill(bill_amt,tip_amt):\n",
    "    try:\n",
    "        total_bill=bill_amt+tip_amt\n",
    "        print(\"total bil is {}\".format(total_bill))\n",
    "    except exception as e:\n",
    "        print(e)\n",
    "bill(100,20)"
   ]
  },
  {
   "cell_type": "code",
   "execution_count": 8,
   "metadata": {},
   "outputs": [
    {
     "name": "stdout",
     "output_type": "stream",
     "text": [
      "enter a number24\n",
      "the square of 24 is 576\n"
     ]
    }
   ],
   "source": [
    "try:\n",
    "    number=eval(input(\"enter a number\"))\n",
    "    print(\"the square of {} is {}\".format(number,number*number))\n",
    "except:\n",
    "    print(\"nothing\")"
   ]
  },
  {
   "cell_type": "code",
   "execution_count": 1,
   "metadata": {},
   "outputs": [
    {
     "name": "stdout",
     "output_type": "stream",
     "text": [
      "enter a number24\n",
      "the square of 24 is 576\n"
     ]
    }
   ],
   "source": [
    "def square():#inside the bracket no arguments\n",
    "    number=eval(input(\"enter a number\"))\n",
    "    print(\"the square of {} is {}\".format(number,number*number))\n",
    "square()    "
   ]
  },
  {
   "cell_type": "code",
   "execution_count": 2,
   "metadata": {},
   "outputs": [
    {
     "name": "stdout",
     "output_type": "stream",
     "text": [
      "enter a number237\n",
      "the square of 237 is 56169\n"
     ]
    }
   ],
   "source": [
    "def square(number):#with arguments\n",
    "    number=eval(input(\"enter a number\"))\n",
    "    print(\"the square of {} is {}\".format(number,number*number))\n",
    "square(7)"
   ]
  },
  {
   "cell_type": "code",
   "execution_count": 4,
   "metadata": {},
   "outputs": [
    {
     "name": "stdout",
     "output_type": "stream",
     "text": [
      "enter a number18\n",
      "lost\n"
     ]
    }
   ],
   "source": [
    "import random\n",
    "num2=eval(input(\"enter a number\"))\n",
    "num3=random.randint(1,20)\n",
    "if num2==num3:\n",
    "    print(\"you won!\")\n",
    "else:\n",
    "    print(\"lost\")"
   ]
  },
  {
   "cell_type": "code",
   "execution_count": 5,
   "metadata": {},
   "outputs": [
    {
     "name": "stdout",
     "output_type": "stream",
     "text": [
      "enter a number17\n",
      "lost\n"
     ]
    }
   ],
   "source": [
    "def winning():#without arg\n",
    "    import random\n",
    "    num2=eval(input(\"enter a number\"))\n",
    "    num3=random.randint(1,20)\n",
    "    if num2==num3:\n",
    "        print(\"you won!\")\n",
    "    else:\n",
    "        print(\"lost\")\n",
    "winning()"
   ]
  },
  {
   "cell_type": "code",
   "execution_count": 11,
   "metadata": {},
   "outputs": [
    {
     "name": "stdout",
     "output_type": "stream",
     "text": [
      "lost because random number is 16\n"
     ]
    }
   ],
   "source": [
    "import random\n",
    "def winning(num2):#with arg\n",
    "    num3=random.randint(1,20)\n",
    "    if num2==num3:\n",
    "        print(\"you won!\")\n",
    "    else:\n",
    "        print(\"lost because random number is {}\".format(num3))\n",
    "winning(13)\n"
   ]
  },
  {
   "cell_type": "code",
   "execution_count": 12,
   "metadata": {},
   "outputs": [
    {
     "name": "stdout",
     "output_type": "stream",
     "text": [
      "enter a number:7\n",
      "lost because random number is 5\n"
     ]
    }
   ],
   "source": [
    "import random\n",
    "def winning(num2):#with arg\n",
    "    num3=random.randint(1,20)\n",
    "    if num2==num3:\n",
    "        print(\"you won!\")\n",
    "    else:\n",
    "        print(\"lost because random number is {}\".format(num3))\n",
    "winning(eval(input('enter a number:')))"
   ]
  },
  {
   "cell_type": "code",
   "execution_count": 13,
   "metadata": {},
   "outputs": [
    {
     "name": "stdout",
     "output_type": "stream",
     "text": [
      "lost because random number is 15\n"
     ]
    }
   ],
   "source": [
    "import random\n",
    "def winning(num2):#with arg\n",
    "    num3=random.randint(1,20)\n",
    "    if num2==num3:\n",
    "        print(\"you won!\")\n",
    "    else:\n",
    "        print(\"lost because random number is {}\".format(num3))\n",
    "value=20\n",
    "winning(value)"
   ]
  },
  {
   "cell_type": "code",
   "execution_count": 15,
   "metadata": {},
   "outputs": [
    {
     "name": "stdout",
     "output_type": "stream",
     "text": [
      "enter a number10\n",
      "lost because random number is 19\n"
     ]
    }
   ],
   "source": [
    "import random\n",
    "def winning(num3,num2):#with arg\n",
    "    if num2==num3:\n",
    "        print(\"you won!\")\n",
    "    else:\n",
    "        print(\"lost because random number is {}\".format(num3))\n",
    "value=eval(input(\"enter a number\"))\n",
    "val2=random.randint(1,20)\n",
    "winning(val2,value)\n",
    "#step1: import random\n",
    "#step2: function will run but not execute(no output)\n",
    "#step3: value\n",
    "#step4: val2\n",
    "#step5: call the function-->step2\n",
    "                            #print win/loss"
   ]
  },
  {
   "cell_type": "code",
   "execution_count": 18,
   "metadata": {},
   "outputs": [
    {
     "name": "stdout",
     "output_type": "stream",
     "text": [
      "enter a number12\n",
      "lost because random number is 8\n"
     ]
    }
   ],
   "source": [
    "import random\n",
    "value=eval(input(\"enter a number\"))\n",
    "val2=random.randint(1,20)\n",
    "def winning(num3,num2):#with arg\n",
    "    if num2==num3:\n",
    "        print(\"you won!\")\n",
    "    else:\n",
    "        print(\"lost because random number is {}\".format(num3))\n",
    "winning(val2,value)\n",
    "#step1: import random\n",
    "#step3: value\n",
    "#step4: val2\n",
    "#step2: function will run but not execute(no output)\n",
    "#step5: call the function-->step2\n",
    "                            #print win/loss"
   ]
  },
  {
   "cell_type": "code",
   "execution_count": 19,
   "metadata": {},
   "outputs": [
    {
     "name": "stdout",
     "output_type": "stream",
     "text": [
      "lost because random number is 8\n",
      "enter a number12\n"
     ]
    }
   ],
   "source": [
    "import random\n",
    "def winning(num3,num2):#with arg\n",
    "    if num2==num3:\n",
    "        print(\"you won!\")\n",
    "    else:\n",
    "        print(\"lost because random number is {}\".format(num3))\n",
    "winning(val2,value)\n",
    "value=eval(input(\"enter a number\"))\n",
    "val2=random.randint(1,20)\n",
    "#step1: import random\n",
    "#step2: function will run but not execute(no output)\n",
    "#step3: value\n",
    "#step4: val2\n",
    "#step5: call the function-->step2\n",
    "                            #print win/loss"
   ]
  },
  {
   "cell_type": "code",
   "execution_count": 20,
   "metadata": {},
   "outputs": [
    {
     "name": "stdout",
     "output_type": "stream",
     "text": [
      "enter a number13\n",
      "lost because random number is 7\n"
     ]
    }
   ],
   "source": [
    "import random\n",
    "def winning(num3,num2):#with arg\n",
    "    if num2==num3:\n",
    "        print(\"you won!\")\n",
    "    else:\n",
    "        print(\"lost because random number is {}\".format(num3))\n",
    "winning(random.randint(1,20),eval(input(\"enter a number\")))"
   ]
  },
  {
   "cell_type": "code",
   "execution_count": null,
   "metadata": {},
   "outputs": [],
   "source": [
    "#Wap ask the user enter salary\n",
    "#asj the user tax percent\n",
    "#calculate total tax to pay"
   ]
  },
  {
   "cell_type": "code",
   "execution_count": 23,
   "metadata": {},
   "outputs": [
    {
     "name": "stdout",
     "output_type": "stream",
     "text": [
      "enter your salary20000\n",
      "enter tax percentage3\n",
      "the total tax is 600.0\n"
     ]
    }
   ],
   "source": [
    "def tax_calc(salary,tax_percent):  \n",
    "    try:\n",
    "        total_tax=(tax_percent/100)*salary\n",
    "        print(\"the total tax is\",total_tax)\n",
    "    except:\n",
    "        print(\"numbers only!\")\n",
    "sal=eval(input(\"enter your salary\"))\n",
    "tax_per=eval(input(\"enter tax percentage\"))\n",
    "tax_calc(sal,tax_per)"
   ]
  },
  {
   "cell_type": "markdown",
   "metadata": {},
   "source": [
    "**default arguments/parameters**"
   ]
  },
  {
   "cell_type": "code",
   "execution_count": 24,
   "metadata": {},
   "outputs": [
    {
     "name": "stdout",
     "output_type": "stream",
     "text": [
      "enter your salary10000\n",
      "the total tax is 2000.0\n"
     ]
    }
   ],
   "source": [
    "#tax percent is fixed 20$\n",
    "#fixed parameter--default paramter\n",
    "def tax_calc(salary,tax_percent=20):  \n",
    "    try:\n",
    "        total_tax=(tax_percent/100)*salary\n",
    "        print(\"the total tax is\",total_tax)\n",
    "    except:\n",
    "        print(\"numbers only!\")\n",
    "sal=eval(input(\"enter your salary\"))\n",
    "tax_calc(sal)"
   ]
  },
  {
   "cell_type": "code",
   "execution_count": 26,
   "metadata": {},
   "outputs": [
    {
     "name": "stdout",
     "output_type": "stream",
     "text": [
      "the avg is 33.333333333333336\n"
     ]
    }
   ],
   "source": [
    "def avg(num1,num2,num3=50):\n",
    "    print(\"the avg is\",(num1+num2+num3)/3)\n",
    "avg(20,30)    "
   ]
  },
  {
   "cell_type": "code",
   "execution_count": 27,
   "metadata": {},
   "outputs": [
    {
     "ename": "TypeError",
     "evalue": "cannot unpack non-iterable int object",
     "output_type": "error",
     "traceback": [
      "\u001b[1;31m---------------------------------------------------------------------------\u001b[0m",
      "\u001b[1;31mTypeError\u001b[0m                                 Traceback (most recent call last)",
      "\u001b[1;32m<ipython-input-27-32f666de5a4d>\u001b[0m in \u001b[0;36m<module>\u001b[1;34m\u001b[0m\n\u001b[1;32m----> 1\u001b[1;33m \u001b[0mnum1\u001b[0m\u001b[1;33m,\u001b[0m\u001b[0mnum2\u001b[0m\u001b[1;33m,\u001b[0m\u001b[0mnum3\u001b[0m\u001b[1;33m=\u001b[0m\u001b[1;36m100\u001b[0m\u001b[1;33m\u001b[0m\u001b[1;33m\u001b[0m\u001b[0m\n\u001b[0m\u001b[0;32m      2\u001b[0m \u001b[0mprint\u001b[0m\u001b[1;33m(\u001b[0m\u001b[0mnum1\u001b[0m\u001b[1;33m,\u001b[0m\u001b[0mnum2\u001b[0m\u001b[1;33m,\u001b[0m\u001b[0mnum3\u001b[0m\u001b[1;33m)\u001b[0m\u001b[1;33m\u001b[0m\u001b[1;33m\u001b[0m\u001b[0m\n",
      "\u001b[1;31mTypeError\u001b[0m: cannot unpack non-iterable int object"
     ]
    }
   ],
   "source": [
    "num1,num2,num3=100\n",
    "print(num1,num2,num3)\n",
    "#cannot assign one value to 3 arguments"
   ]
  },
  {
   "cell_type": "code",
   "execution_count": 28,
   "metadata": {},
   "outputs": [
    {
     "name": "stdout",
     "output_type": "stream",
     "text": [
      "num1: 100\n",
      "num2: 200\n",
      "num3: 300\n",
      "the avg is 200.0\n"
     ]
    }
   ],
   "source": [
    "#default argument should always come at last\n",
    "def avg(num1,num3,num2=200):\n",
    "    print(\"num1:\",num1)\n",
    "    print(\"num2:\",num2)\n",
    "    print(\"num3:\",num3)\n",
    "    print(\"the avg is\",(num1+num2+num3)/3)\n",
    "avg(100,300)"
   ]
  },
  {
   "cell_type": "code",
   "execution_count": 29,
   "metadata": {},
   "outputs": [
    {
     "name": "stdout",
     "output_type": "stream",
     "text": [
      "num1: 100\n",
      "num2: 600\n",
      "num3: 800\n",
      "the avg is 500.0\n"
     ]
    }
   ],
   "source": [
    "def avg(num1,num3,num2=200):\n",
    "    num3=800\n",
    "    print(\"num1:\",num1)\n",
    "    print(\"num2:\",num2)\n",
    "    print(\"num3:\",num3)\n",
    "    print(\"the avg is\",(num1+num2+num3)/3)\n",
    "avg(100,300,600)"
   ]
  },
  {
   "cell_type": "code",
   "execution_count": null,
   "metadata": {},
   "outputs": [],
   "source": [
    "- without arguments\n",
    "- with arguments\n",
    "- default arguments"
   ]
  },
  {
   "cell_type": "code",
   "execution_count": 31,
   "metadata": {},
   "outputs": [
    {
     "ename": "TypeError",
     "evalue": "randint() missing 2 required positional arguments: 'a' and 'b'",
     "output_type": "error",
     "traceback": [
      "\u001b[1;31m---------------------------------------------------------------------------\u001b[0m",
      "\u001b[1;31mTypeError\u001b[0m                                 Traceback (most recent call last)",
      "\u001b[1;32m<ipython-input-31-117901f54fe8>\u001b[0m in \u001b[0;36m<module>\u001b[1;34m\u001b[0m\n\u001b[0;32m      1\u001b[0m \u001b[1;32mimport\u001b[0m \u001b[0mrandom\u001b[0m\u001b[1;33m\u001b[0m\u001b[1;33m\u001b[0m\u001b[0m\n\u001b[1;32m----> 2\u001b[1;33m \u001b[0mrandom\u001b[0m\u001b[1;33m.\u001b[0m\u001b[0mrandint\u001b[0m\u001b[1;33m(\u001b[0m\u001b[1;33m)\u001b[0m\u001b[1;33m\u001b[0m\u001b[1;33m\u001b[0m\u001b[0m\n\u001b[0m",
      "\u001b[1;31mTypeError\u001b[0m: randint() missing 2 required positional arguments: 'a' and 'b'"
     ]
    }
   ],
   "source": [
    "import random\n",
    "random.randint()\n",
    "#expecting 2 arguments\n",
    "#no default argument is there"
   ]
  },
  {
   "cell_type": "code",
   "execution_count": null,
   "metadata": {},
   "outputs": [],
   "source": [
    "# function = method"
   ]
  },
  {
   "cell_type": "code",
   "execution_count": 32,
   "metadata": {},
   "outputs": [
    {
     "data": {
      "text/plain": [
       "0j"
      ]
     },
     "execution_count": 32,
     "metadata": {},
     "output_type": "execute_result"
    }
   ],
   "source": [
    "complex()\n",
    "#default is 0+0j"
   ]
  },
  {
   "cell_type": "code",
   "execution_count": 33,
   "metadata": {},
   "outputs": [
    {
     "data": {
      "text/plain": [
       "11"
      ]
     },
     "execution_count": 33,
     "metadata": {},
     "output_type": "execute_result"
    }
   ],
   "source": [
    "from random import randint\n",
    "randint(10,20)"
   ]
  },
  {
   "cell_type": "code",
   "execution_count": 35,
   "metadata": {},
   "outputs": [
    {
     "ename": "TypeError",
     "evalue": "summ() missing 2 required positional arguments: 'a' and 'b'",
     "output_type": "error",
     "traceback": [
      "\u001b[1;31m---------------------------------------------------------------------------\u001b[0m",
      "\u001b[1;31mTypeError\u001b[0m                                 Traceback (most recent call last)",
      "\u001b[1;32m<ipython-input-35-186cb76d1cd1>\u001b[0m in \u001b[0;36m<module>\u001b[1;34m\u001b[0m\n\u001b[0;32m      1\u001b[0m \u001b[1;32mdef\u001b[0m \u001b[0msumm\u001b[0m\u001b[1;33m(\u001b[0m\u001b[0ma\u001b[0m\u001b[1;33m,\u001b[0m\u001b[0mb\u001b[0m\u001b[1;33m)\u001b[0m\u001b[1;33m:\u001b[0m\u001b[1;33m\u001b[0m\u001b[1;33m\u001b[0m\u001b[0m\n\u001b[0;32m      2\u001b[0m     \u001b[0mprint\u001b[0m\u001b[1;33m(\u001b[0m\u001b[0ma\u001b[0m\u001b[1;33m*\u001b[0m\u001b[0mb\u001b[0m\u001b[1;33m)\u001b[0m\u001b[1;33m\u001b[0m\u001b[1;33m\u001b[0m\u001b[0m\n\u001b[1;32m----> 3\u001b[1;33m \u001b[0msumm\u001b[0m\u001b[1;33m(\u001b[0m\u001b[1;33m)\u001b[0m\u001b[1;33m\u001b[0m\u001b[1;33m\u001b[0m\u001b[0m\n\u001b[0m\u001b[0;32m      4\u001b[0m \u001b[1;31m#you need to provide arguments\u001b[0m\u001b[1;33m\u001b[0m\u001b[1;33m\u001b[0m\u001b[1;33m\u001b[0m\u001b[0m\n",
      "\u001b[1;31mTypeError\u001b[0m: summ() missing 2 required positional arguments: 'a' and 'b'"
     ]
    }
   ],
   "source": [
    "def summ(a,b):\n",
    "    print(a*b)\n",
    "summ()\n",
    "#you need to provide arguments"
   ]
  },
  {
   "cell_type": "code",
   "execution_count": 36,
   "metadata": {},
   "outputs": [
    {
     "name": "stdout",
     "output_type": "stream",
     "text": [
      "0\n"
     ]
    }
   ],
   "source": [
    "def summ(a=0,b=0):\n",
    "    print(a*b)\n",
    "summ()"
   ]
  },
  {
   "cell_type": "code",
   "execution_count": 37,
   "metadata": {},
   "outputs": [
    {
     "name": "stdout",
     "output_type": "stream",
     "text": [
      "50\n"
     ]
    }
   ],
   "source": [
    "def summ(a=0,b=0):\n",
    "    print(a*b)\n",
    "summ(5,10)"
   ]
  }
 ],
 "metadata": {
  "kernelspec": {
   "display_name": "Python 3",
   "language": "python",
   "name": "python3"
  },
  "language_info": {
   "codemirror_mode": {
    "name": "ipython",
    "version": 3
   },
   "file_extension": ".py",
   "mimetype": "text/x-python",
   "name": "python",
   "nbconvert_exporter": "python",
   "pygments_lexer": "ipython3",
   "version": "3.7.6"
  }
 },
 "nbformat": 4,
 "nbformat_minor": 4
}
