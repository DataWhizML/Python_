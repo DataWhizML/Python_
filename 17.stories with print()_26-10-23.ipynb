{
 "cells": [
  {
   "cell_type": "code",
   "execution_count": 1,
   "metadata": {},
   "outputs": [
    {
     "name": "stdout",
     "output_type": "stream",
     "text": [
      "Enter your salary:2000\n",
      "Enter your DA amount:300\n",
      "Enter your HRA amount:400\n",
      "Your total pay is: 2700\n"
     ]
    }
   ],
   "source": [
    "#WAP ask the user to enter a salary\n",
    "#    ask the user to enter DA amount\n",
    "#    ask the user to enter HRA amount\n",
    "#Calculate total pay-basic salary+DA_amt+HRA_amt\n",
    "salary=eval(input(\"Enter your salary:\"))\n",
    "da_amt=eval(input(\"Enter your DA amount:\"))\n",
    "hra_amt=eval(input(\"Enter your HRA amount:\"))\n",
    "total_pay=salary+da_amt+hra_amt\n",
    "print(\"Your total pay is:\",total_pay)"
   ]
  },
  {
   "cell_type": "code",
   "execution_count": 2,
   "metadata": {},
   "outputs": [
    {
     "name": "stdout",
     "output_type": "stream",
     "text": [
      "Enter your salary:20000\n",
      "Enter the tax percentage:10\n",
      "You need to pay: 2000.0\n"
     ]
    }
   ],
   "source": [
    "#Write a program ask the user to enter salary\n",
    "# ask the user tax percentage\n",
    "#calculate how much tax user needs to pay\n",
    "salary=eval(input(\"Enter your salary:\"))\n",
    "tax_per=eval(input(\"Enter the tax percentage:\"))\n",
    "print(\"You need to pay:\", tax_per*0.01*salary)"
   ]
  },
  {
   "cell_type": "code",
   "execution_count": 3,
   "metadata": {},
   "outputs": [
    {
     "name": "stdout",
     "output_type": "stream",
     "text": [
      "The square of 43 is 1849\n"
     ]
    }
   ],
   "source": [
    "#Write a program ask the user to get a random value between 1 and 100 \n",
    "#perform the square\n",
    "import random\n",
    "num=random.randint(1,100)\n",
    "print(\"The square of {} is {}\".format(num,num*num))"
   ]
  },
  {
   "cell_type": "code",
   "execution_count": 4,
   "metadata": {},
   "outputs": [
    {
     "name": "stdout",
     "output_type": "stream",
     "text": [
      "Enter a distance in km:200\n",
      "Enter a rate per km:20\n",
      "Total charge is: 4000\n"
     ]
    }
   ],
   "source": [
    "#WAP ask the user to enter a distance \n",
    "# ask the user to enter a rate per distance\n",
    "# calculate total charge\n",
    "distance=eval(input(\"Enter a distance in km:\"))\n",
    "rate=eval(input(\"Enter a rate per km:\"))\n",
    "total_charge=distance*rate\n",
    "print(\"Total charge is:\",total_charge)\n"
   ]
  },
  {
   "cell_type": "code",
   "execution_count": 5,
   "metadata": {},
   "outputs": [
    {
     "name": "stdout",
     "output_type": "stream",
     "text": [
      "enter total bill in dollars:80000\n",
      "only indian rupees\n",
      "enter conversion rate:80\n",
      "total bill is 6400000\n"
     ]
    }
   ],
   "source": [
    "#WAP ask the user enter total bill in dollars\n",
    "#manager: dollars are not accepted\n",
    "#user: what is accepted?\n",
    "#manager: only indian rupees\n",
    "#ask the user to enter one dollar=? rupees\n",
    "#manager: Thank you!\n",
    "amount=eval(input(\"enter total bill in dollars:\"))\n",
    "print(\"only indian rupees\")\n",
    "conv_rate=eval(input(\"enter conversion rate:\"))\n",
    "print(\"total bill is\", amount*conv_rate)"
   ]
  },
  {
   "cell_type": "markdown",
   "metadata": {},
   "source": [
    "$time$"
   ]
  },
  {
   "cell_type": "code",
   "execution_count": 6,
   "metadata": {},
   "outputs": [
    {
     "name": "stdout",
     "output_type": "stream",
     "text": [
      "Enter total bill in dollars:2000\n",
      "manager: only indian rupees\n",
      "user: what is accepted?\n",
      "Manager:only indian rupees\n",
      "Enter one dollar is equal to how many rupees:80\n",
      "Total bill is: 160000\n",
      "Manager: Thank you!\n"
     ]
    }
   ],
   "source": [
    "import time\n",
    "bill=eval(input(\"Enter total bill in dollars:\"))\n",
    "time.sleep(2)\n",
    "print(\"manager: only indian rupees\")\n",
    "time.sleep(1)\n",
    "print(\"user: what is accepted?\")\n",
    "print(\"Manager:only indian rupees\")\n",
    "time.sleep(1)\n",
    "conversion_rate=eval(input(\"Enter one dollar is equal to how many rupees:\"))\n",
    "total_bill=bill*conversion_rate\n",
    "print(\"Total bill is:\", total_bill)\n",
    "print(\"Manager: Thank you!\")"
   ]
  },
  {
   "cell_type": "code",
   "execution_count": 8,
   "metadata": {},
   "outputs": [
    {
     "name": "stdout",
     "output_type": "stream",
     "text": [
      "Enter total bill in dollars:2000\n",
      "Manager responseonly indian rupees\n",
      "User responsewhat is accepted?\n",
      "Manager respnseonly indian rupees\n",
      "Dollar conversion:80\n",
      "the total amount is: 160000\n"
     ]
    }
   ],
   "source": [
    "bill=eval(input(\"Enter total bill in dollars:\"))\n",
    "input(\"Manager response\")\n",
    "input(\"User response\")\n",
    "input(\"Manager respnse\")\n",
    "CR=eval(input(\"Dollar conversion:\"))\n",
    "total_bill=bill*CR\n",
    "print(\"the total amount is:\",total_bill)"
   ]
  },
  {
   "cell_type": "code",
   "execution_count": 9,
   "metadata": {},
   "outputs": [
    {
     "name": "stdout",
     "output_type": "stream",
     "text": [
      "Father:which course you wants to do\n",
      "S/D: I want to pursue DS course\n",
      "Father: Oh! That is very nice\n",
      "Father: May I know your rank? Son: 2000\n",
      "Father: Then how can you pursuenaresh it\n",
      "Son: naresh it\n",
      "Father: How much is the fee20000\n",
      "Son: 20000\n",
      "Father: how many sems? 300\n",
      "Son: 300\n",
      "Father: how much total cost?\n",
      "Son: 6000000\n"
     ]
    }
   ],
   "source": [
    "#Father and son talk\n",
    "# Father: which course you wants to do\n",
    "# S/D: I want to pursue DS course\n",
    "# Father: Oh! That is very nice\n",
    "# Father: May I know your rank\n",
    "# Son: 200000(user i/p)\n",
    "# Father: Then how can you pursue\n",
    "#Son:  Naresh IT(user ip)\n",
    "#Father: How much is the fee\n",
    "#Son: 20000(user ip)\n",
    "#Father: how many sems?\n",
    "#Son: 4(user ip)\n",
    "#Father: how much total cost?\n",
    "#Son:4*20000(calc)\n",
    "print(\"Father:which course you wants to do\")\n",
    "time.sleep(1)\n",
    "print(\"S/D: I want to pursue DS course\")\n",
    "time.sleep(1)\n",
    "print(\"Father: Oh! That is very nice\")\n",
    "time.sleep(2)\n",
    "#print(\"Father: May I know your rank\")\n",
    "rank=eval(input(\"Father: May I know your rank?Son: \"))\n",
    "#print(\"Son:\",rank)\n",
    "#print(\"Father: Then how can you pursue\")\n",
    "course=input(\"Father: Then how can you pursue\")\n",
    "print(\"Son: {}\".format(course))\n",
    "fees=eval(input((\"Father: How much is the fee\")))\n",
    "print(\"Son:\",fees)\n",
    "sems=eval(input(\"Father: how many sems? \"))\n",
    "print(\"Son:\",sems)\n",
    "print(\"Father: how much total cost?\")\n",
    "total_cost=sems*fees\n",
    "print(\"Son:\", total_cost)"
   ]
  }
 ],
 "metadata": {
  "kernelspec": {
   "display_name": "Python 3",
   "language": "python",
   "name": "python3"
  },
  "language_info": {
   "codemirror_mode": {
    "name": "ipython",
    "version": 3
   },
   "file_extension": ".py",
   "mimetype": "text/x-python",
   "name": "python",
   "nbconvert_exporter": "python",
   "pygments_lexer": "ipython3",
   "version": "3.7.6"
  }
 },
 "nbformat": 4,
 "nbformat_minor": 4
}
