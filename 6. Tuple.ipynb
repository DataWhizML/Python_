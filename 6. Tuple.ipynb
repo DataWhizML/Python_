{
 "cells": [
  {
   "cell_type": "code",
   "execution_count": null,
   "id": "dcea3ce5",
   "metadata": {},
   "outputs": [],
   "source": [
    "- how to read the strings\n",
    "- single quotes/double quotes\n",
    "- docstring\n",
    "- type\n",
    "- max\n",
    "- min\n",
    "- len\n",
    "- addition of 2 strings(concatenation)\n",
    "- mul/div/subtraction of 2 strings\n",
    "- in operator(for loop)\n",
    "- index\n",
    "- mutable condition\n",
    "- slice\n",
    "- string methods"
   ]
  },
  {
   "cell_type": "markdown",
   "id": "c3fc689f",
   "metadata": {},
   "source": [
    "**reading a tuple**"
   ]
  },
  {
   "cell_type": "code",
   "execution_count": 1,
   "id": "0c845bc2",
   "metadata": {
    "scrolled": true
   },
   "outputs": [
    {
     "data": {
      "text/plain": [
       "(1, 2, 3)"
      ]
     },
     "execution_count": 1,
     "metadata": {},
     "output_type": "execute_result"
    }
   ],
   "source": [
    "t1=(1,2,3)\n",
    "t1"
   ]
  },
  {
   "cell_type": "code",
   "execution_count": 3,
   "id": "73add1a6",
   "metadata": {},
   "outputs": [
    {
     "data": {
      "text/plain": [
       "(1, 2, 3)"
      ]
     },
     "execution_count": 3,
     "metadata": {},
     "output_type": "execute_result"
    }
   ],
   "source": [
    "t2=1,2,3\n",
    "t2"
   ]
  },
  {
   "cell_type": "code",
   "execution_count": 10,
   "id": "562caa22",
   "metadata": {},
   "outputs": [
    {
     "data": {
      "text/plain": [
       "(1, 1.4, 'abc', True)"
      ]
     },
     "execution_count": 10,
     "metadata": {},
     "output_type": "execute_result"
    }
   ],
   "source": [
    "t3=(1,1.4,'abc',True)\n",
    "t3"
   ]
  },
  {
   "cell_type": "code",
   "execution_count": 12,
   "id": "2a476739",
   "metadata": {},
   "outputs": [
    {
     "data": {
      "text/plain": [
       "(1, 1.4, 'abc', False)"
      ]
     },
     "execution_count": 12,
     "metadata": {},
     "output_type": "execute_result"
    }
   ],
   "source": [
    "t4=1,1.4,'abc',False\n",
    "t4"
   ]
  },
  {
   "cell_type": "markdown",
   "id": "dc0f0d64",
   "metadata": {},
   "source": [
    "**type**"
   ]
  },
  {
   "cell_type": "code",
   "execution_count": 2,
   "id": "aff36339",
   "metadata": {},
   "outputs": [
    {
     "data": {
      "text/plain": [
       "tuple"
      ]
     },
     "execution_count": 2,
     "metadata": {},
     "output_type": "execute_result"
    }
   ],
   "source": [
    "type(t1)"
   ]
  },
  {
   "cell_type": "code",
   "execution_count": 4,
   "id": "f701a42a",
   "metadata": {
    "scrolled": true
   },
   "outputs": [
    {
     "data": {
      "text/plain": [
       "tuple"
      ]
     },
     "execution_count": 4,
     "metadata": {},
     "output_type": "execute_result"
    }
   ],
   "source": [
    "type(t2)"
   ]
  },
  {
   "cell_type": "code",
   "execution_count": 11,
   "id": "13ca1843",
   "metadata": {},
   "outputs": [
    {
     "data": {
      "text/plain": [
       "tuple"
      ]
     },
     "execution_count": 11,
     "metadata": {},
     "output_type": "execute_result"
    }
   ],
   "source": [
    "type(t3)"
   ]
  },
  {
   "cell_type": "code",
   "execution_count": 13,
   "id": "48f04f27",
   "metadata": {},
   "outputs": [
    {
     "data": {
      "text/plain": [
       "tuple"
      ]
     },
     "execution_count": 13,
     "metadata": {},
     "output_type": "execute_result"
    }
   ],
   "source": [
    "type(t4)"
   ]
  },
  {
   "cell_type": "markdown",
   "id": "694d5faf",
   "metadata": {},
   "source": [
    "**max/min**"
   ]
  },
  {
   "cell_type": "code",
   "execution_count": 5,
   "id": "c68feb2b",
   "metadata": {},
   "outputs": [
    {
     "data": {
      "text/plain": [
       "3"
      ]
     },
     "execution_count": 5,
     "metadata": {},
     "output_type": "execute_result"
    }
   ],
   "source": [
    "max(t1)"
   ]
  },
  {
   "cell_type": "code",
   "execution_count": 6,
   "id": "b94a80b8",
   "metadata": {},
   "outputs": [
    {
     "data": {
      "text/plain": [
       "1"
      ]
     },
     "execution_count": 6,
     "metadata": {},
     "output_type": "execute_result"
    }
   ],
   "source": [
    "min(t2)"
   ]
  },
  {
   "cell_type": "markdown",
   "id": "8cd92ea0",
   "metadata": {},
   "source": [
    "**len**`"
   ]
  },
  {
   "cell_type": "code",
   "execution_count": 7,
   "id": "dc56aee6",
   "metadata": {},
   "outputs": [
    {
     "data": {
      "text/plain": [
       "3"
      ]
     },
     "execution_count": 7,
     "metadata": {},
     "output_type": "execute_result"
    }
   ],
   "source": [
    "len(t1)"
   ]
  },
  {
   "cell_type": "markdown",
   "id": "217341dd",
   "metadata": {},
   "source": [
    "**+**"
   ]
  },
  {
   "cell_type": "code",
   "execution_count": 8,
   "id": "5c1a83e6",
   "metadata": {},
   "outputs": [
    {
     "data": {
      "text/plain": [
       "(1, 2, 3, 20, 30, 40)"
      ]
     },
     "execution_count": 8,
     "metadata": {},
     "output_type": "execute_result"
    }
   ],
   "source": [
    "t1=(1,2,3)\n",
    "t2=(20,30,40)\n",
    "t1+t2"
   ]
  },
  {
   "cell_type": "code",
   "execution_count": 9,
   "id": "dbb772f0",
   "metadata": {},
   "outputs": [
    {
     "data": {
      "text/plain": [
       "(23, 33, 12, 23, 445, 565, 63)"
      ]
     },
     "execution_count": 9,
     "metadata": {},
     "output_type": "execute_result"
    }
   ],
   "source": [
    "t11=(23,33)\n",
    "t22=(12,23,445,565,63)\n",
    "t11+t22"
   ]
  },
  {
   "cell_type": "markdown",
   "id": "aaa7ed31",
   "metadata": {},
   "source": [
    "**-/*//**"
   ]
  },
  {
   "cell_type": "code",
   "execution_count": 14,
   "id": "f51fcd6a",
   "metadata": {},
   "outputs": [
    {
     "ename": "TypeError",
     "evalue": "unsupported operand type(s) for -: 'tuple' and 'tuple'",
     "output_type": "error",
     "traceback": [
      "\u001b[1;31m---------------------------------------------------------------------------\u001b[0m",
      "\u001b[1;31mTypeError\u001b[0m                                 Traceback (most recent call last)",
      "Cell \u001b[1;32mIn[14], line 1\u001b[0m\n\u001b[1;32m----> 1\u001b[0m t1\u001b[38;5;241m-\u001b[39mt2\n",
      "\u001b[1;31mTypeError\u001b[0m: unsupported operand type(s) for -: 'tuple' and 'tuple'"
     ]
    }
   ],
   "source": [
    "t1-t2"
   ]
  },
  {
   "cell_type": "code",
   "execution_count": 15,
   "id": "37923ea2",
   "metadata": {},
   "outputs": [
    {
     "ename": "TypeError",
     "evalue": "can't multiply sequence by non-int of type 'tuple'",
     "output_type": "error",
     "traceback": [
      "\u001b[1;31m---------------------------------------------------------------------------\u001b[0m",
      "\u001b[1;31mTypeError\u001b[0m                                 Traceback (most recent call last)",
      "Cell \u001b[1;32mIn[15], line 1\u001b[0m\n\u001b[1;32m----> 1\u001b[0m t1\u001b[38;5;241m*\u001b[39mt2\n",
      "\u001b[1;31mTypeError\u001b[0m: can't multiply sequence by non-int of type 'tuple'"
     ]
    }
   ],
   "source": [
    "t1*t2"
   ]
  },
  {
   "cell_type": "code",
   "execution_count": 16,
   "id": "279e6dba",
   "metadata": {},
   "outputs": [
    {
     "ename": "TypeError",
     "evalue": "unsupported operand type(s) for /: 'tuple' and 'tuple'",
     "output_type": "error",
     "traceback": [
      "\u001b[1;31m---------------------------------------------------------------------------\u001b[0m",
      "\u001b[1;31mTypeError\u001b[0m                                 Traceback (most recent call last)",
      "Cell \u001b[1;32mIn[16], line 1\u001b[0m\n\u001b[1;32m----> 1\u001b[0m t1\u001b[38;5;241m/\u001b[39mt2\n",
      "\u001b[1;31mTypeError\u001b[0m: unsupported operand type(s) for /: 'tuple' and 'tuple'"
     ]
    }
   ],
   "source": [
    "t1/t2"
   ]
  },
  {
   "cell_type": "code",
   "execution_count": 17,
   "id": "1e346c55",
   "metadata": {},
   "outputs": [
    {
     "name": "stdout",
     "output_type": "stream",
     "text": [
      "1\n",
      "2\n",
      "3\n"
     ]
    }
   ],
   "source": [
    "for i in t1:\n",
    "    print(i)"
   ]
  },
  {
   "cell_type": "code",
   "execution_count": 19,
   "id": "75db7916",
   "metadata": {},
   "outputs": [
    {
     "name": "stdout",
     "output_type": "stream",
     "text": [
      "-88\n",
      "-77\n",
      "345\n",
      "465\n",
      "-37\n"
     ]
    }
   ],
   "source": [
    "for i in range(len(t22)):\n",
    "    print(t22[i]-100)"
   ]
  },
  {
   "cell_type": "code",
   "execution_count": null,
   "id": "493e4065",
   "metadata": {},
   "outputs": [],
   "source": [
    "#can be accessed using indices"
   ]
  },
  {
   "cell_type": "code",
   "execution_count": 20,
   "id": "b14f0953",
   "metadata": {},
   "outputs": [
    {
     "data": {
      "text/plain": [
       "12"
      ]
     },
     "execution_count": 20,
     "metadata": {},
     "output_type": "execute_result"
    }
   ],
   "source": [
    "t22[0]"
   ]
  },
  {
   "cell_type": "code",
   "execution_count": 22,
   "id": "31c9055e",
   "metadata": {},
   "outputs": [
    {
     "data": {
      "text/plain": [
       "33"
      ]
     },
     "execution_count": 22,
     "metadata": {},
     "output_type": "execute_result"
    }
   ],
   "source": [
    "t11[-1]"
   ]
  },
  {
   "cell_type": "code",
   "execution_count": 24,
   "id": "8005e6e3",
   "metadata": {},
   "outputs": [
    {
     "data": {
      "text/plain": [
       "0"
      ]
     },
     "execution_count": 24,
     "metadata": {},
     "output_type": "execute_result"
    }
   ],
   "source": [
    "t22.index(12)"
   ]
  },
  {
   "cell_type": "code",
   "execution_count": 25,
   "id": "8fb6411d",
   "metadata": {},
   "outputs": [
    {
     "ename": "AttributeError",
     "evalue": "'tuple' object has no attribute 'find'",
     "output_type": "error",
     "traceback": [
      "\u001b[1;31m---------------------------------------------------------------------------\u001b[0m",
      "\u001b[1;31mAttributeError\u001b[0m                            Traceback (most recent call last)",
      "Cell \u001b[1;32mIn[25], line 1\u001b[0m\n\u001b[1;32m----> 1\u001b[0m t2\u001b[38;5;241m.\u001b[39mfind(\u001b[38;5;124m'\u001b[39m\u001b[38;5;124mabc\u001b[39m\u001b[38;5;124m'\u001b[39m)\n",
      "\u001b[1;31mAttributeError\u001b[0m: 'tuple' object has no attribute 'find'"
     ]
    }
   ],
   "source": [
    "t2.find('abc')\n",
    "#tuple has no attribute find we can only use index fn"
   ]
  },
  {
   "cell_type": "code",
   "execution_count": 26,
   "id": "986117c8",
   "metadata": {},
   "outputs": [
    {
     "ename": "ValueError",
     "evalue": "tuple.index(x): x not in tuple",
     "output_type": "error",
     "traceback": [
      "\u001b[1;31m---------------------------------------------------------------------------\u001b[0m",
      "\u001b[1;31mValueError\u001b[0m                                Traceback (most recent call last)",
      "Cell \u001b[1;32mIn[26], line 1\u001b[0m\n\u001b[1;32m----> 1\u001b[0m t2\u001b[38;5;241m.\u001b[39mindex(\u001b[38;5;124m'\u001b[39m\u001b[38;5;124mabc\u001b[39m\u001b[38;5;124m'\u001b[39m)\n",
      "\u001b[1;31mValueError\u001b[0m: tuple.index(x): x not in tuple"
     ]
    }
   ],
   "source": [
    "t2.index('abc')\n",
    "# we get a value error if we pass a value thats not in the tuple, into the index function"
   ]
  },
  {
   "cell_type": "markdown",
   "id": "44188f9e",
   "metadata": {},
   "source": [
    "**mutable condition**"
   ]
  },
  {
   "cell_type": "code",
   "execution_count": 27,
   "id": "df7f463a",
   "metadata": {},
   "outputs": [
    {
     "ename": "TypeError",
     "evalue": "'tuple' object does not support item assignment",
     "output_type": "error",
     "traceback": [
      "\u001b[1;31m---------------------------------------------------------------------------\u001b[0m",
      "\u001b[1;31mTypeError\u001b[0m                                 Traceback (most recent call last)",
      "Cell \u001b[1;32mIn[27], line 2\u001b[0m\n\u001b[0;32m      1\u001b[0m t1\u001b[38;5;241m=\u001b[39m(\u001b[38;5;241m100\u001b[39m,\u001b[38;5;241m130\u001b[39m,\u001b[38;5;241m150\u001b[39m,\u001b[38;5;241m129\u001b[39m)\n\u001b[1;32m----> 2\u001b[0m t1[\u001b[38;5;241m3\u001b[39m]\u001b[38;5;241m=\u001b[39m\u001b[38;5;241m900\u001b[39m\n\u001b[0;32m      3\u001b[0m t1\n",
      "\u001b[1;31mTypeError\u001b[0m: 'tuple' object does not support item assignment"
     ]
    }
   ],
   "source": [
    "t1=(100,130,150,129)\n",
    "t1[3]=900\n",
    "t1"
   ]
  },
  {
   "cell_type": "code",
   "execution_count": null,
   "id": "d66e0903",
   "metadata": {},
   "outputs": [],
   "source": [
    "2 ways to add an element:"
   ]
  },
  {
   "cell_type": "code",
   "execution_count": 30,
   "id": "c089d20b",
   "metadata": {},
   "outputs": [
    {
     "data": {
      "text/plain": [
       "(100, 130, 150, 129, 900)"
      ]
     },
     "execution_count": 30,
     "metadata": {},
     "output_type": "execute_result"
    }
   ],
   "source": [
    "#1:\n",
    "t2=(900,)\n",
    "t1=t1+t2\n",
    "t1"
   ]
  },
  {
   "cell_type": "code",
   "execution_count": null,
   "id": "910409fc",
   "metadata": {},
   "outputs": [],
   "source": []
  },
  {
   "cell_type": "markdown",
   "id": "701cf927",
   "metadata": {},
   "source": [
    "**slice**"
   ]
  },
  {
   "cell_type": "code",
   "execution_count": 33,
   "id": "7fe4fad4",
   "metadata": {},
   "outputs": [
    {
     "data": {
      "text/plain": [
       "(100, 130)"
      ]
     },
     "execution_count": 33,
     "metadata": {},
     "output_type": "execute_result"
    }
   ],
   "source": [
    "t1[0:2]"
   ]
  },
  {
   "cell_type": "code",
   "execution_count": 34,
   "id": "2f6821e5",
   "metadata": {},
   "outputs": [
    {
     "data": {
      "text/plain": [
       "(12, 23, 445, 565)"
      ]
     },
     "execution_count": 34,
     "metadata": {},
     "output_type": "execute_result"
    }
   ],
   "source": [
    "t22[:-1]"
   ]
  },
  {
   "cell_type": "code",
   "execution_count": 35,
   "id": "a51b47db",
   "metadata": {},
   "outputs": [
    {
     "data": {
      "text/plain": [
       "(24, 96, 87, 45, 1)"
      ]
     },
     "execution_count": 35,
     "metadata": {},
     "output_type": "execute_result"
    }
   ],
   "source": [
    "t3=(1,45,87,96,24)\n",
    "t3[::-1]"
   ]
  },
  {
   "cell_type": "markdown",
   "id": "8a81b0a1",
   "metadata": {},
   "source": [
    "**Methods**"
   ]
  },
  {
   "cell_type": "code",
   "execution_count": 36,
   "id": "33c964ed",
   "metadata": {},
   "outputs": [
    {
     "data": {
      "text/plain": [
       "['__add__',\n",
       " '__class__',\n",
       " '__class_getitem__',\n",
       " '__contains__',\n",
       " '__delattr__',\n",
       " '__dir__',\n",
       " '__doc__',\n",
       " '__eq__',\n",
       " '__format__',\n",
       " '__ge__',\n",
       " '__getattribute__',\n",
       " '__getitem__',\n",
       " '__getnewargs__',\n",
       " '__getstate__',\n",
       " '__gt__',\n",
       " '__hash__',\n",
       " '__init__',\n",
       " '__init_subclass__',\n",
       " '__iter__',\n",
       " '__le__',\n",
       " '__len__',\n",
       " '__lt__',\n",
       " '__mul__',\n",
       " '__ne__',\n",
       " '__new__',\n",
       " '__reduce__',\n",
       " '__reduce_ex__',\n",
       " '__repr__',\n",
       " '__rmul__',\n",
       " '__setattr__',\n",
       " '__sizeof__',\n",
       " '__str__',\n",
       " '__subclasshook__',\n",
       " 'count',\n",
       " 'index']"
      ]
     },
     "execution_count": 36,
     "metadata": {},
     "output_type": "execute_result"
    }
   ],
   "source": [
    "dir(())"
   ]
  },
  {
   "cell_type": "markdown",
   "id": "bfe3579c",
   "metadata": {},
   "source": [
    "**1.count**"
   ]
  },
  {
   "cell_type": "code",
   "execution_count": 37,
   "id": "cf1c1b99",
   "metadata": {},
   "outputs": [
    {
     "data": {
      "text/plain": [
       "3"
      ]
     },
     "execution_count": 37,
     "metadata": {},
     "output_type": "execute_result"
    }
   ],
   "source": [
    "tup1=(1,2,43,21,11,1,11,1,34,45,43)\n",
    "tup1.count(1)"
   ]
  },
  {
   "cell_type": "code",
   "execution_count": 38,
   "id": "b82d8f1b",
   "metadata": {},
   "outputs": [
    {
     "data": {
      "text/plain": [
       "2"
      ]
     },
     "execution_count": 38,
     "metadata": {},
     "output_type": "execute_result"
    }
   ],
   "source": [
    "tup1.count(11)"
   ]
  },
  {
   "cell_type": "code",
   "execution_count": 39,
   "id": "49fd4d6f",
   "metadata": {},
   "outputs": [
    {
     "data": {
      "text/plain": [
       "0"
      ]
     },
     "execution_count": 39,
     "metadata": {},
     "output_type": "execute_result"
    }
   ],
   "source": [
    "tup1.count(9999)"
   ]
  },
  {
   "cell_type": "markdown",
   "id": "a2b155af",
   "metadata": {},
   "source": [
    "**2.index**"
   ]
  },
  {
   "cell_type": "code",
   "execution_count": 40,
   "id": "992e2dce",
   "metadata": {},
   "outputs": [
    {
     "data": {
      "text/plain": [
       "2"
      ]
     },
     "execution_count": 40,
     "metadata": {},
     "output_type": "execute_result"
    }
   ],
   "source": [
    "tup1.index(43)"
   ]
  },
  {
   "cell_type": "code",
   "execution_count": 41,
   "id": "97f58fe8",
   "metadata": {},
   "outputs": [
    {
     "data": {
      "text/plain": [
       "4"
      ]
     },
     "execution_count": 41,
     "metadata": {},
     "output_type": "execute_result"
    }
   ],
   "source": [
    "tup1.index(11)\n",
    "#first occurrence"
   ]
  },
  {
   "cell_type": "code",
   "execution_count": 43,
   "id": "cb9032ac",
   "metadata": {},
   "outputs": [
    {
     "data": {
      "text/plain": [
       "6"
      ]
     },
     "execution_count": 43,
     "metadata": {},
     "output_type": "execute_result"
    }
   ],
   "source": [
    "tup1.index(11,tup1.index(11)+1)\n",
    "#second occurrence"
   ]
  }
 ],
 "metadata": {
  "kernelspec": {
   "display_name": "Python 3 (ipykernel)",
   "language": "python",
   "name": "python3"
  },
  "language_info": {
   "codemirror_mode": {
    "name": "ipython",
    "version": 3
   },
   "file_extension": ".py",
   "mimetype": "text/x-python",
   "name": "python",
   "nbconvert_exporter": "python",
   "pygments_lexer": "ipython3",
   "version": "3.11.5"
  }
 },
 "nbformat": 4,
 "nbformat_minor": 5
}
