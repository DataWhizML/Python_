{
 "cells": [
  {
   "cell_type": "code",
   "execution_count": 1,
   "id": "c2ebe12e",
   "metadata": {},
   "outputs": [],
   "source": [
    "list1=['Ram','Raheem','Robert']\n",
    "list2=[25,30,35]"
   ]
  },
  {
   "cell_type": "code",
   "execution_count": 2,
   "id": "ad61284d",
   "metadata": {},
   "outputs": [
    {
     "name": "stdout",
     "output_type": "stream",
     "text": [
      "Ram 25\n",
      "Raheem 30\n",
      "Robert 35\n"
     ]
    }
   ],
   "source": [
    "#  'Ram has age 25'\n",
    "# 'Raheem has age 30'\n",
    "# 'Robert has age 35'\n",
    "for i,j in zip(list1,list2):\n",
    "    print(i,j)"
   ]
  },
  {
   "cell_type": "markdown",
   "id": "54b0afe0",
   "metadata": {},
   "source": [
    "-Dictionary\n",
    "- {key: value}\n",
    "- "
   ]
  },
  {
   "cell_type": "code",
   "execution_count": 26,
   "id": "4998fa02",
   "metadata": {},
   "outputs": [
    {
     "data": {
      "text/plain": [
       "{'Ram': 25, 'Raheem': 30, 'Robert': 35}"
      ]
     },
     "execution_count": 26,
     "metadata": {},
     "output_type": "execute_result"
    }
   ],
   "source": [
    "d1={'Ram':25,'Raheem':30,'Robert':35}\n",
    "d1\n",
    "#keys:='Ram','Raheem','Robert'\n",
    "#values=25,30,35"
   ]
  },
  {
   "cell_type": "code",
   "execution_count": 7,
   "id": "8d6fe46d",
   "metadata": {},
   "outputs": [
    {
     "data": {
      "text/plain": [
       "{25: 'ram', 30: 'raheem', 35: 'robert'}"
      ]
     },
     "execution_count": 7,
     "metadata": {},
     "output_type": "execute_result"
    }
   ],
   "source": [
    "d2={25:'ram',30:'raheem',35:'robert'}\n",
    "d2\n",
    "#keys= 25,30,35\n",
    "#values: 'ram','raheem','robert'"
   ]
  },
  {
   "cell_type": "code",
   "execution_count": 8,
   "id": "de7ae88d",
   "metadata": {},
   "outputs": [
    {
     "data": {
      "text/plain": [
       "{'even': [2, 4, 6], 'odd': [1, 3, 5, 7]}"
      ]
     },
     "execution_count": 8,
     "metadata": {},
     "output_type": "execute_result"
    }
   ],
   "source": [
    "d3={'even':[2,4,6], 'odd':[1,3,5,7]}\n",
    "d3"
   ]
  },
  {
   "cell_type": "code",
   "execution_count": 9,
   "id": "ef3dd083",
   "metadata": {},
   "outputs": [
    {
     "ename": "TypeError",
     "evalue": "unhashable type: 'list'",
     "output_type": "error",
     "traceback": [
      "\u001b[1;31m---------------------------------------------------------------------------\u001b[0m",
      "\u001b[1;31mTypeError\u001b[0m                                 Traceback (most recent call last)",
      "Cell \u001b[1;32mIn[9], line 1\u001b[0m\n\u001b[1;32m----> 1\u001b[0m d4\u001b[38;5;241m=\u001b[39m{[\u001b[38;5;241m2\u001b[39m,\u001b[38;5;241m4\u001b[39m,\u001b[38;5;241m6\u001b[39m]:\u001b[38;5;124m'\u001b[39m\u001b[38;5;124meven\u001b[39m\u001b[38;5;124m'\u001b[39m,[\u001b[38;5;241m1\u001b[39m,\u001b[38;5;241m3\u001b[39m,\u001b[38;5;241m5\u001b[39m]:\u001b[38;5;124m'\u001b[39m\u001b[38;5;124modd\u001b[39m\u001b[38;5;124m'\u001b[39m}\n\u001b[0;32m      2\u001b[0m d4\n",
      "\u001b[1;31mTypeError\u001b[0m: unhashable type: 'list'"
     ]
    }
   ],
   "source": [
    "d4={[2,4,6]:'even',[1,3,5]:'odd'}\n",
    "d4\n",
    "#For list its not working(list cannot be a key)"
   ]
  },
  {
   "cell_type": "code",
   "execution_count": 10,
   "id": "494b0435",
   "metadata": {},
   "outputs": [
    {
     "data": {
      "text/plain": [
       "{(2, 4, 6): 'even', (1, 3, 5): 'odd'}"
      ]
     },
     "execution_count": 10,
     "metadata": {},
     "output_type": "execute_result"
    }
   ],
   "source": [
    "d4={(2,4,6):'even',(1,3,5):'odd'}\n",
    "d4\n",
    "#tuple can be a key"
   ]
  },
  {
   "cell_type": "code",
   "execution_count": 11,
   "id": "c3f65a72",
   "metadata": {},
   "outputs": [
    {
     "data": {
      "text/plain": [
       "{'item_list': {'fruits': 'Apple'}}"
      ]
     },
     "execution_count": 11,
     "metadata": {},
     "output_type": "execute_result"
    }
   ],
   "source": [
    "d5={'item_list':{'fruits':'Apple'}}\n",
    "d5"
   ]
  },
  {
   "cell_type": "code",
   "execution_count": 13,
   "id": "585de401",
   "metadata": {},
   "outputs": [
    {
     "ename": "TypeError",
     "evalue": "unhashable type: 'dict'",
     "output_type": "error",
     "traceback": [
      "\u001b[1;31m---------------------------------------------------------------------------\u001b[0m",
      "\u001b[1;31mTypeError\u001b[0m                                 Traceback (most recent call last)",
      "Cell \u001b[1;32mIn[13], line 1\u001b[0m\n\u001b[1;32m----> 1\u001b[0m d6\u001b[38;5;241m=\u001b[39m{{\u001b[38;5;124m'\u001b[39m\u001b[38;5;124mfruits\u001b[39m\u001b[38;5;124m'\u001b[39m:\u001b[38;5;124m'\u001b[39m\u001b[38;5;124mApple\u001b[39m\u001b[38;5;124m'\u001b[39m}:\u001b[38;5;124m'\u001b[39m\u001b[38;5;124mitem_list\u001b[39m\u001b[38;5;124m'\u001b[39m}\n\u001b[0;32m      2\u001b[0m d6\n",
      "\u001b[1;31mTypeError\u001b[0m: unhashable type: 'dict'"
     ]
    }
   ],
   "source": [
    "d6={{'fruits':'Apple'}:'item_list'}\n",
    "d6\n",
    "#dictionary cannot be a key"
   ]
  },
  {
   "cell_type": "code",
   "execution_count": null,
   "id": "890409ce",
   "metadata": {},
   "outputs": [],
   "source": [
    "a=[1,2]\n",
    "b=(1,2)"
   ]
  },
  {
   "cell_type": "code",
   "execution_count": 14,
   "id": "b8e92e70",
   "metadata": {},
   "outputs": [],
   "source": [
    "a,b=[1,2]\n",
    "c,d=(1,2)"
   ]
  },
  {
   "cell_type": "code",
   "execution_count": 15,
   "id": "e65e6289",
   "metadata": {},
   "outputs": [
    {
     "data": {
      "text/plain": [
       "(1, 2)"
      ]
     },
     "execution_count": 15,
     "metadata": {},
     "output_type": "execute_result"
    }
   ],
   "source": [
    "a,b"
   ]
  },
  {
   "cell_type": "code",
   "execution_count": 16,
   "id": "a9e20e67",
   "metadata": {},
   "outputs": [
    {
     "data": {
      "text/plain": [
       "1"
      ]
     },
     "execution_count": 16,
     "metadata": {},
     "output_type": "execute_result"
    }
   ],
   "source": [
    "a"
   ]
  },
  {
   "cell_type": "code",
   "execution_count": 17,
   "id": "ecc391d4",
   "metadata": {},
   "outputs": [
    {
     "data": {
      "text/plain": [
       "2"
      ]
     },
     "execution_count": 17,
     "metadata": {},
     "output_type": "execute_result"
    }
   ],
   "source": [
    "b"
   ]
  },
  {
   "cell_type": "code",
   "execution_count": 18,
   "id": "1fa8c685",
   "metadata": {},
   "outputs": [
    {
     "data": {
      "text/plain": [
       "1"
      ]
     },
     "execution_count": 18,
     "metadata": {},
     "output_type": "execute_result"
    }
   ],
   "source": [
    "c"
   ]
  },
  {
   "cell_type": "code",
   "execution_count": 19,
   "id": "25c6c80b",
   "metadata": {},
   "outputs": [
    {
     "data": {
      "text/plain": [
       "2"
      ]
     },
     "execution_count": 19,
     "metadata": {},
     "output_type": "execute_result"
    }
   ],
   "source": [
    "d"
   ]
  },
  {
   "cell_type": "code",
   "execution_count": 20,
   "id": "1dbceecd",
   "metadata": {},
   "outputs": [
    {
     "data": {
      "text/plain": [
       "(1, 2)"
      ]
     },
     "execution_count": 20,
     "metadata": {},
     "output_type": "execute_result"
    }
   ],
   "source": [
    "(c,d)"
   ]
  },
  {
   "cell_type": "code",
   "execution_count": 21,
   "id": "4ad24f18",
   "metadata": {},
   "outputs": [
    {
     "data": {
      "text/plain": [
       "(1, 2)"
      ]
     },
     "execution_count": 21,
     "metadata": {},
     "output_type": "execute_result"
    }
   ],
   "source": [
    "a=1,2\n",
    "a"
   ]
  },
  {
   "cell_type": "code",
   "execution_count": null,
   "id": "87825717",
   "metadata": {},
   "outputs": [],
   "source": [
    "- Dictionary is a key:value pair\n",
    "- at values position, we can take any data type\n",
    "- but at keys position, list and dictionary will fail\n",
    "- duplicates are not allowed\n",
    "- if you want to update a key value, latest value it will take"
   ]
  },
  {
   "cell_type": "code",
   "execution_count": 22,
   "id": "5dcc822e",
   "metadata": {},
   "outputs": [
    {
     "data": {
      "text/plain": [
       "{'A': 1, 'B': 2}"
      ]
     },
     "execution_count": 22,
     "metadata": {},
     "output_type": "execute_result"
    }
   ],
   "source": [
    "d1={'A':1,'B':2,'A':1}\n",
    "d1\n",
    "#duplicates are not allowed in a dictionary \n",
    "# key-value pairs are unique"
   ]
  },
  {
   "cell_type": "code",
   "execution_count": 23,
   "id": "06425765",
   "metadata": {},
   "outputs": [
    {
     "data": {
      "text/plain": [
       "{'A': 3, 'B': 2}"
      ]
     },
     "execution_count": 23,
     "metadata": {},
     "output_type": "execute_result"
    }
   ],
   "source": [
    "d1={'A':1,'B':2,'A':3}\n",
    "d1"
   ]
  },
  {
   "cell_type": "markdown",
   "id": "f804ff48",
   "metadata": {},
   "source": [
    "$type$"
   ]
  },
  {
   "cell_type": "code",
   "execution_count": 24,
   "id": "a7a1621f",
   "metadata": {},
   "outputs": [
    {
     "data": {
      "text/plain": [
       "dict"
      ]
     },
     "execution_count": 24,
     "metadata": {},
     "output_type": "execute_result"
    }
   ],
   "source": [
    "type(d1)"
   ]
  },
  {
   "cell_type": "code",
   "execution_count": null,
   "id": "c152eb70",
   "metadata": {},
   "outputs": [],
   "source": [
    "- str\n",
    "- list\n",
    "- dict\n",
    "- int\n",
    "- float\n",
    "- bool\n",
    "- complex\n",
    "- tuple\n",
    "- set"
   ]
  },
  {
   "cell_type": "code",
   "execution_count": 27,
   "id": "b974d57c",
   "metadata": {},
   "outputs": [
    {
     "data": {
      "text/plain": [
       "'Robert'"
      ]
     },
     "execution_count": 27,
     "metadata": {},
     "output_type": "execute_result"
    }
   ],
   "source": [
    "d1={'Ram':25,'Raheem':30,'Robert':35}\n",
    "max(d1)\n",
    "#max value is based on key only"
   ]
  },
  {
   "cell_type": "code",
   "execution_count": 29,
   "id": "26104a2a",
   "metadata": {},
   "outputs": [
    {
     "data": {
      "text/plain": [
       "'Robert'"
      ]
     },
     "execution_count": 29,
     "metadata": {},
     "output_type": "execute_result"
    }
   ],
   "source": [
    "d1={'Ram':25,'Raheem':30,'Robert':5}\n",
    "max(d1)"
   ]
  },
  {
   "cell_type": "code",
   "execution_count": 30,
   "id": "5c17eda1",
   "metadata": {},
   "outputs": [
    {
     "data": {
      "text/plain": [
       "'Raheem'"
      ]
     },
     "execution_count": 30,
     "metadata": {},
     "output_type": "execute_result"
    }
   ],
   "source": [
    "min(d1)"
   ]
  },
  {
   "cell_type": "code",
   "execution_count": 31,
   "id": "5cad2e85",
   "metadata": {},
   "outputs": [
    {
     "data": {
      "text/plain": [
       "3"
      ]
     },
     "execution_count": 31,
     "metadata": {},
     "output_type": "execute_result"
    }
   ],
   "source": [
    "len(d1)\n",
    "#number of key-value pairs"
   ]
  },
  {
   "cell_type": "code",
   "execution_count": 32,
   "id": "b05dcd03",
   "metadata": {},
   "outputs": [
    {
     "ename": "TypeError",
     "evalue": "unsupported operand type(s) for +: 'int' and 'str'",
     "output_type": "error",
     "traceback": [
      "\u001b[1;31m---------------------------------------------------------------------------\u001b[0m",
      "\u001b[1;31mTypeError\u001b[0m                                 Traceback (most recent call last)",
      "Cell \u001b[1;32mIn[32], line 1\u001b[0m\n\u001b[1;32m----> 1\u001b[0m \u001b[38;5;28msum\u001b[39m(d1)\n",
      "\u001b[1;31mTypeError\u001b[0m: unsupported operand type(s) for +: 'int' and 'str'"
     ]
    }
   ],
   "source": [
    "sum(d1)"
   ]
  },
  {
   "cell_type": "code",
   "execution_count": 33,
   "id": "2b085880",
   "metadata": {},
   "outputs": [],
   "source": [
    "d2={1:2,3:4}"
   ]
  },
  {
   "cell_type": "code",
   "execution_count": 35,
   "id": "4ae7f87c",
   "metadata": {},
   "outputs": [
    {
     "data": {
      "text/plain": [
       "4"
      ]
     },
     "execution_count": 35,
     "metadata": {},
     "output_type": "execute_result"
    }
   ],
   "source": [
    "sum(d2)"
   ]
  },
  {
   "cell_type": "code",
   "execution_count": 38,
   "id": "2033a92f",
   "metadata": {},
   "outputs": [
    {
     "data": {
      "text/plain": [
       "400"
      ]
     },
     "execution_count": 38,
     "metadata": {},
     "output_type": "execute_result"
    }
   ],
   "source": [
    "d2={100:2,300:4}\n",
    "sum(d2)"
   ]
  },
  {
   "cell_type": "code",
   "execution_count": 39,
   "id": "ae56a76e",
   "metadata": {},
   "outputs": [
    {
     "data": {
      "text/plain": [
       "400"
      ]
     },
     "execution_count": 39,
     "metadata": {},
     "output_type": "execute_result"
    }
   ],
   "source": [
    "d2={100:'2',300:'4'}\n",
    "sum(d2)"
   ]
  },
  {
   "cell_type": "code",
   "execution_count": 36,
   "id": "e0a560b1",
   "metadata": {},
   "outputs": [
    {
     "ename": "TypeError",
     "evalue": "unsupported operand type(s) for +: 'int' and 'str'",
     "output_type": "error",
     "traceback": [
      "\u001b[1;31m---------------------------------------------------------------------------\u001b[0m",
      "\u001b[1;31mTypeError\u001b[0m                                 Traceback (most recent call last)",
      "Cell \u001b[1;32mIn[36], line 1\u001b[0m\n\u001b[1;32m----> 1\u001b[0m \u001b[38;5;28msum\u001b[39m(\u001b[38;5;124m'\u001b[39m\u001b[38;5;124mpython\u001b[39m\u001b[38;5;124m'\u001b[39m)\n",
      "\u001b[1;31mTypeError\u001b[0m: unsupported operand type(s) for +: 'int' and 'str'"
     ]
    }
   ],
   "source": [
    "sum('python')"
   ]
  },
  {
   "cell_type": "markdown",
   "id": "20687c19",
   "metadata": {},
   "source": [
    "$in$"
   ]
  },
  {
   "cell_type": "code",
   "execution_count": 40,
   "id": "e929332f",
   "metadata": {
    "scrolled": true
   },
   "outputs": [
    {
     "name": "stdout",
     "output_type": "stream",
     "text": [
      "Ram\n",
      "Raheem\n",
      "Robert\n"
     ]
    }
   ],
   "source": [
    "d1={'Ram':25,'Raheem':30,'Robert':35}\n",
    "for i in d1:\n",
    "    print(i)"
   ]
  },
  {
   "cell_type": "code",
   "execution_count": 44,
   "id": "59d64e00",
   "metadata": {},
   "outputs": [
    {
     "data": {
      "text/plain": [
       "True"
      ]
     },
     "execution_count": 44,
     "metadata": {},
     "output_type": "execute_result"
    }
   ],
   "source": [
    "'Ram' in d1"
   ]
  },
  {
   "cell_type": "code",
   "execution_count": 45,
   "id": "d71ee926",
   "metadata": {},
   "outputs": [
    {
     "ename": "SyntaxError",
     "evalue": "illegal target for annotation (2106383994.py, line 1)",
     "output_type": "error",
     "traceback": [
      "\u001b[1;36m  Cell \u001b[1;32mIn[45], line 1\u001b[1;36m\u001b[0m\n\u001b[1;33m    'Ram':25 in d1\u001b[0m\n\u001b[1;37m    ^\u001b[0m\n\u001b[1;31mSyntaxError\u001b[0m\u001b[1;31m:\u001b[0m illegal target for annotation\n"
     ]
    }
   ],
   "source": [
    "'Ram':25 in d1"
   ]
  },
  {
   "cell_type": "code",
   "execution_count": 46,
   "id": "80597666",
   "metadata": {},
   "outputs": [
    {
     "data": {
      "text/plain": [
       "False"
      ]
     },
     "execution_count": 46,
     "metadata": {},
     "output_type": "execute_result"
    }
   ],
   "source": [
    "25 in d1"
   ]
  },
  {
   "cell_type": "code",
   "execution_count": 43,
   "id": "2482e150",
   "metadata": {},
   "outputs": [
    {
     "ename": "SyntaxError",
     "evalue": "invalid syntax (329760831.py, line 2)",
     "output_type": "error",
     "traceback": [
      "\u001b[1;36m  Cell \u001b[1;32mIn[43], line 2\u001b[1;36m\u001b[0m\n\u001b[1;33m    print(i:)\u001b[0m\n\u001b[1;37m           ^\u001b[0m\n\u001b[1;31mSyntaxError\u001b[0m\u001b[1;31m:\u001b[0m invalid syntax\n"
     ]
    }
   ],
   "source": [
    "for i in d1:\n",
    "    print(i)"
   ]
  },
  {
   "cell_type": "markdown",
   "id": "b3152f83",
   "metadata": {},
   "source": [
    "$index$"
   ]
  },
  {
   "cell_type": "code",
   "execution_count": 47,
   "id": "3b24f969",
   "metadata": {},
   "outputs": [
    {
     "ename": "KeyError",
     "evalue": "0",
     "output_type": "error",
     "traceback": [
      "\u001b[1;31m---------------------------------------------------------------------------\u001b[0m",
      "\u001b[1;31mKeyError\u001b[0m                                  Traceback (most recent call last)",
      "Cell \u001b[1;32mIn[47], line 2\u001b[0m\n\u001b[0;32m      1\u001b[0m d1\u001b[38;5;241m=\u001b[39m{\u001b[38;5;124m'\u001b[39m\u001b[38;5;124mRam\u001b[39m\u001b[38;5;124m'\u001b[39m:\u001b[38;5;241m25\u001b[39m,\u001b[38;5;124m'\u001b[39m\u001b[38;5;124mRaheem\u001b[39m\u001b[38;5;124m'\u001b[39m:\u001b[38;5;241m30\u001b[39m,\u001b[38;5;124m'\u001b[39m\u001b[38;5;124mRobert\u001b[39m\u001b[38;5;124m'\u001b[39m:\u001b[38;5;241m35\u001b[39m}\n\u001b[1;32m----> 2\u001b[0m d1[\u001b[38;5;241m0\u001b[39m]\n",
      "\u001b[1;31mKeyError\u001b[0m: 0"
     ]
    }
   ],
   "source": [
    "d1={'Ram':25,'Raheem':30,'Robert':35}\n",
    "d1[0]"
   ]
  },
  {
   "cell_type": "code",
   "execution_count": 48,
   "id": "10c7ad68",
   "metadata": {},
   "outputs": [
    {
     "data": {
      "text/plain": [
       "25"
      ]
     },
     "execution_count": 48,
     "metadata": {},
     "output_type": "execute_result"
    }
   ],
   "source": [
    "d1={'Ram':25,'Raheem':30,'Robert':35}\n",
    "d1['Ram']"
   ]
  },
  {
   "cell_type": "code",
   "execution_count": 49,
   "id": "1c708046",
   "metadata": {},
   "outputs": [
    {
     "data": {
      "text/plain": [
       "30"
      ]
     },
     "execution_count": 49,
     "metadata": {},
     "output_type": "execute_result"
    }
   ],
   "source": [
    "d1={'Ram':25,'Raheem':30,'Robert':35}\n",
    "d1['Raheem']"
   ]
  },
  {
   "cell_type": "code",
   "execution_count": 50,
   "id": "9b7cb6ed",
   "metadata": {},
   "outputs": [
    {
     "data": {
      "text/plain": [
       "35"
      ]
     },
     "execution_count": 50,
     "metadata": {},
     "output_type": "execute_result"
    }
   ],
   "source": [
    "d1={'Ram':25,'Raheem':30,'Robert':35}\n",
    "d1['Robert']"
   ]
  },
  {
   "cell_type": "code",
   "execution_count": 51,
   "id": "6b458603",
   "metadata": {},
   "outputs": [
    {
     "name": "stdout",
     "output_type": "stream",
     "text": [
      "25\n",
      "30\n",
      "35\n"
     ]
    }
   ],
   "source": [
    "#to get values from a dictionary\n",
    "for i in d1:\n",
    "    print(d1[i])"
   ]
  },
  {
   "cell_type": "code",
   "execution_count": 52,
   "id": "95e0338d",
   "metadata": {},
   "outputs": [
    {
     "name": "stdout",
     "output_type": "stream",
     "text": [
      "Ram 25\n",
      "Raheem 30\n",
      "Robert 35\n"
     ]
    }
   ],
   "source": [
    "for key in d1:\n",
    "    print(key,d1[key])"
   ]
  },
  {
   "cell_type": "markdown",
   "id": "6e34254c",
   "metadata": {},
   "source": [
    "**creating an empty dictionary and update it**"
   ]
  },
  {
   "cell_type": "code",
   "execution_count": 53,
   "id": "0dd761f3",
   "metadata": {},
   "outputs": [],
   "source": [
    "d1={}"
   ]
  },
  {
   "cell_type": "code",
   "execution_count": 54,
   "id": "9b7ee49f",
   "metadata": {},
   "outputs": [
    {
     "data": {
      "text/plain": [
       "{}"
      ]
     },
     "execution_count": 54,
     "metadata": {},
     "output_type": "execute_result"
    }
   ],
   "source": [
    "d1"
   ]
  },
  {
   "cell_type": "code",
   "execution_count": 56,
   "id": "89f04f7b",
   "metadata": {},
   "outputs": [
    {
     "data": {
      "text/plain": [
       "dict"
      ]
     },
     "execution_count": 56,
     "metadata": {},
     "output_type": "execute_result"
    }
   ],
   "source": [
    "type(d1)"
   ]
  },
  {
   "cell_type": "code",
   "execution_count": 59,
   "id": "b39f51f2",
   "metadata": {},
   "outputs": [
    {
     "data": {
      "text/plain": [
       "{'fruit': 'apple'}"
      ]
     },
     "execution_count": 59,
     "metadata": {},
     "output_type": "execute_result"
    }
   ],
   "source": [
    "d1={}\n",
    "d1['fruit']='apple'\n",
    "d1"
   ]
  },
  {
   "cell_type": "code",
   "execution_count": 60,
   "id": "6ace3ff1",
   "metadata": {},
   "outputs": [],
   "source": [
    "#WAP create a database {name:\"\",company:\"\",place:''}\n",
    "db={}\n",
    "db['name']='abc'\n",
    "db['company']='apple'\n",
    "db['place']='hyd'"
   ]
  },
  {
   "cell_type": "code",
   "execution_count": 61,
   "id": "0ca5d985",
   "metadata": {},
   "outputs": [
    {
     "data": {
      "text/plain": [
       "{'name': 'abc', 'company': 'apple', 'place': 'hyd'}"
      ]
     },
     "execution_count": 61,
     "metadata": {},
     "output_type": "execute_result"
    }
   ],
   "source": [
    "db"
   ]
  },
  {
   "cell_type": "code",
   "execution_count": 63,
   "id": "cf47d335",
   "metadata": {},
   "outputs": [
    {
     "data": {
      "text/plain": [
       "{'Ram': 25, 'Raheem': 30, 'Robert': 35}"
      ]
     },
     "execution_count": 63,
     "metadata": {},
     "output_type": "execute_result"
    }
   ],
   "source": [
    "#wap create a dictionary based on two lists \n",
    "list1=['Ram','Raheem','Robert']\n",
    "list2=[25,30,35]\n",
    "d3={}\n",
    "for i,j in zip(list1,list2):\n",
    "    d3[i]=j\n",
    "d3 "
   ]
  },
  {
   "cell_type": "code",
   "execution_count": 67,
   "id": "298752b8",
   "metadata": {},
   "outputs": [],
   "source": [
    "d3={}\n",
    "for k in range(len(list1)):\n",
    "    d3[list1[k]]=list2[k]  "
   ]
  },
  {
   "cell_type": "code",
   "execution_count": 68,
   "id": "ba53dca8",
   "metadata": {},
   "outputs": [
    {
     "data": {
      "text/plain": [
       "{'Ram': 25, 'Raheem': 30, 'Robert': 35}"
      ]
     },
     "execution_count": 68,
     "metadata": {},
     "output_type": "execute_result"
    }
   ],
   "source": [
    "d3"
   ]
  },
  {
   "cell_type": "markdown",
   "id": "5f74a28a",
   "metadata": {},
   "source": [
    "$Dictionary$ $comprehension$"
   ]
  },
  {
   "cell_type": "code",
   "execution_count": 71,
   "id": "ef602eba",
   "metadata": {},
   "outputs": [
    {
     "data": {
      "text/plain": [
       "{'Ram': 25, 'Raheem': 30, 'Robert': 35}"
      ]
     },
     "execution_count": 71,
     "metadata": {},
     "output_type": "execute_result"
    }
   ],
   "source": [
    "names=['Ram','Raheem','Robert']\n",
    "ages=[25,30,35]\n",
    "d3={names[i]:age[i] for i in range(len(names))}\n",
    "d3"
   ]
  },
  {
   "cell_type": "code",
   "execution_count": 72,
   "id": "e47e11f5",
   "metadata": {},
   "outputs": [
    {
     "data": {
      "text/plain": [
       "{'Ram': 25, 'Raheem': 30, 'Robert': 35}"
      ]
     },
     "execution_count": 72,
     "metadata": {},
     "output_type": "execute_result"
    }
   ],
   "source": [
    "d3={name:age for name,age in zip(names,ages)}\n",
    "d3"
   ]
  },
  {
   "cell_type": "code",
   "execution_count": null,
   "id": "dc7b7409",
   "metadata": {},
   "outputs": [],
   "source": [
    "#WAP take 5 random numbers \n",
    "# and create a dictionary with even and odd\n",
    "# o/p:{'even':[20,20],odd:[19,21,23]}\n",
    "even=[]\n",
    "odd=[]\n",
    "d3={}\n",
    "import random\n",
    "number=ran\n",
    "even=[i.random.randint for i in range(5): ]"
   ]
  },
  {
   "cell_type": "code",
   "execution_count": 127,
   "id": "099024aa",
   "metadata": {},
   "outputs": [
    {
     "data": {
      "text/plain": [
       "{5, 41}"
      ]
     },
     "execution_count": 127,
     "metadata": {},
     "output_type": "execute_result"
    }
   ],
   "source": [
    "import random\n",
    "even=[]\n",
    "odd=[]\n",
    "d3={}\n",
    "for i in range(5):\n",
    "    num=random.randint(1,100)\n",
    "    if num%2==0:\n",
    "        even.append(num)\n",
    "    else:\n",
    "        odd.append(num)\n",
    "#d3={'even':even for even,odd in zip(even,odd) if }\n",
    "# d3={'odd':odd for i in odd}\n",
    "# d3={'even':even for i in even}\n",
    "d3={num if random.randint(1,100)%2==0  else 5 for i in range(5)}\n",
    "d3"
   ]
  },
  {
   "cell_type": "code",
   "execution_count": 112,
   "id": "9622fdd1",
   "metadata": {},
   "outputs": [],
   "source": [
    "d3['even']=even"
   ]
  },
  {
   "cell_type": "code",
   "execution_count": 111,
   "id": "3e6245f4",
   "metadata": {},
   "outputs": [],
   "source": [
    "d3['odd']=odd"
   ]
  },
  {
   "cell_type": "code",
   "execution_count": 113,
   "id": "af3b120d",
   "metadata": {},
   "outputs": [
    {
     "data": {
      "text/plain": [
       "{'even': [44], 'odd': [37, 89, 55, 91]}"
      ]
     },
     "execution_count": 113,
     "metadata": {},
     "output_type": "execute_result"
    }
   ],
   "source": [
    "d3"
   ]
  },
  {
   "cell_type": "code",
   "execution_count": 129,
   "id": "9b20e566",
   "metadata": {},
   "outputs": [
    {
     "data": {
      "text/plain": [
       "{'even': [4, 10], 'odd': [7, 1, 1]}"
      ]
     },
     "execution_count": 129,
     "metadata": {},
     "output_type": "execute_result"
    }
   ],
   "source": [
    "#WAP take 5 random numbers \n",
    "# and create a dictionary with even and odd\n",
    "# o/p:{'even':[20,20],odd:[19,21,23]}\n",
    "import random\n",
    "even=[]\n",
    "odd=[]\n",
    "d3={}\n",
    "for i in range(5):\n",
    "    num=random.randint(1,10)\n",
    "    if num%2==0:\n",
    "        even.append(num)\n",
    "    else:\n",
    "        odd.append(num)\n",
    "d3['even']=even\n",
    "d3['odd']=odd\n",
    "d3"
   ]
  },
  {
   "cell_type": "code",
   "execution_count": 1,
   "id": "d2b7eb92",
   "metadata": {},
   "outputs": [
    {
     "data": {
      "text/plain": [
       "'C:\\\\Users\\\\BITS\\\\Documents\\\\Full_Stack_DS_AI_course\\\\Python\\\\Intermediate Python'"
      ]
     },
     "execution_count": 1,
     "metadata": {},
     "output_type": "execute_result"
    }
   ],
   "source": [
    "import os\n",
    "os.getcwd()"
   ]
  },
  {
   "cell_type": "markdown",
   "id": "76910ad2",
   "metadata": {},
   "source": [
    "**Dictionary methods**"
   ]
  },
  {
   "cell_type": "code",
   "execution_count": 1,
   "id": "0fc91827",
   "metadata": {},
   "outputs": [
    {
     "data": {
      "text/plain": [
       "['__class__',\n",
       " '__class_getitem__',\n",
       " '__contains__',\n",
       " '__delattr__',\n",
       " '__delitem__',\n",
       " '__dir__',\n",
       " '__doc__',\n",
       " '__eq__',\n",
       " '__format__',\n",
       " '__ge__',\n",
       " '__getattribute__',\n",
       " '__getitem__',\n",
       " '__getstate__',\n",
       " '__gt__',\n",
       " '__hash__',\n",
       " '__init__',\n",
       " '__init_subclass__',\n",
       " '__ior__',\n",
       " '__iter__',\n",
       " '__le__',\n",
       " '__len__',\n",
       " '__lt__',\n",
       " '__ne__',\n",
       " '__new__',\n",
       " '__or__',\n",
       " '__reduce__',\n",
       " '__reduce_ex__',\n",
       " '__repr__',\n",
       " '__reversed__',\n",
       " '__ror__',\n",
       " '__setattr__',\n",
       " '__setitem__',\n",
       " '__sizeof__',\n",
       " '__str__',\n",
       " '__subclasshook__',\n",
       " 'clear',\n",
       " 'copy',\n",
       " 'fromkeys',\n",
       " 'get',\n",
       " 'items',\n",
       " 'keys',\n",
       " 'pop',\n",
       " 'popitem',\n",
       " 'setdefault',\n",
       " 'update',\n",
       " 'values']"
      ]
     },
     "execution_count": 1,
     "metadata": {},
     "output_type": "execute_result"
    }
   ],
   "source": [
    "dir({})"
   ]
  },
  {
   "cell_type": "markdown",
   "id": "9da8edd0",
   "metadata": {},
   "source": [
    "$items-keys-values$"
   ]
  },
  {
   "cell_type": "code",
   "execution_count": 17,
   "id": "e7a7d68d",
   "metadata": {},
   "outputs": [],
   "source": [
    "d1={'Ram':25,'Raheem':30,'Robert':35}"
   ]
  },
  {
   "cell_type": "code",
   "execution_count": 3,
   "id": "167c20a8",
   "metadata": {},
   "outputs": [
    {
     "data": {
      "text/plain": [
       "dict_items([('Ram', 25), ('Raheem', 30), ('Robert', 35)])"
      ]
     },
     "execution_count": 3,
     "metadata": {},
     "output_type": "execute_result"
    }
   ],
   "source": [
    "d1.items()"
   ]
  },
  {
   "cell_type": "code",
   "execution_count": 4,
   "id": "6018380d",
   "metadata": {},
   "outputs": [
    {
     "data": {
      "text/plain": [
       "dict_keys(['Ram', 'Raheem', 'Robert'])"
      ]
     },
     "execution_count": 4,
     "metadata": {},
     "output_type": "execute_result"
    }
   ],
   "source": [
    "d1.keys()"
   ]
  },
  {
   "cell_type": "code",
   "execution_count": 5,
   "id": "eb3964e4",
   "metadata": {},
   "outputs": [
    {
     "data": {
      "text/plain": [
       "dict_values([25, 30, 35])"
      ]
     },
     "execution_count": 5,
     "metadata": {},
     "output_type": "execute_result"
    }
   ],
   "source": [
    "d1.values()"
   ]
  },
  {
   "cell_type": "code",
   "execution_count": 6,
   "id": "43689358",
   "metadata": {},
   "outputs": [
    {
     "data": {
      "text/plain": [
       "dict_items"
      ]
     },
     "execution_count": 6,
     "metadata": {},
     "output_type": "execute_result"
    }
   ],
   "source": [
    "type(d1.items())"
   ]
  },
  {
   "cell_type": "code",
   "execution_count": 7,
   "id": "24e866ce",
   "metadata": {},
   "outputs": [
    {
     "data": {
      "text/plain": [
       "dict_keys"
      ]
     },
     "execution_count": 7,
     "metadata": {},
     "output_type": "execute_result"
    }
   ],
   "source": [
    "type(d1.keys())"
   ]
  },
  {
   "cell_type": "code",
   "execution_count": 8,
   "id": "0c279803",
   "metadata": {},
   "outputs": [
    {
     "data": {
      "text/plain": [
       "dict_values"
      ]
     },
     "execution_count": 8,
     "metadata": {},
     "output_type": "execute_result"
    }
   ],
   "source": [
    "type(d1.values())"
   ]
  },
  {
   "cell_type": "code",
   "execution_count": 9,
   "id": "72c7e636",
   "metadata": {},
   "outputs": [
    {
     "data": {
      "text/plain": [
       "[25, 30, 35, 40]"
      ]
     },
     "execution_count": 9,
     "metadata": {},
     "output_type": "execute_result"
    }
   ],
   "source": [
    "l1=[25,30,35]\n",
    "l1.append(40)\n",
    "l1"
   ]
  },
  {
   "cell_type": "code",
   "execution_count": 11,
   "id": "af276338",
   "metadata": {},
   "outputs": [
    {
     "ename": "AttributeError",
     "evalue": "'dict_values' object has no attribute 'append'",
     "output_type": "error",
     "traceback": [
      "\u001b[1;31m------------------------------------------------------------------------\u001b[0m",
      "\u001b[1;31mAttributeError\u001b[0m                         Traceback (most recent call last)",
      "Cell \u001b[1;32mIn[11], line 1\u001b[0m\n\u001b[1;32m----> 1\u001b[0m (d1\u001b[38;5;241m.\u001b[39mvalues())\u001b[38;5;241m.\u001b[39mappend(\u001b[38;5;241m40\u001b[39m)\n",
      "\u001b[1;31mAttributeError\u001b[0m: 'dict_values' object has no attribute 'append'"
     ]
    }
   ],
   "source": [
    "(d1.values()).append(40)"
   ]
  },
  {
   "cell_type": "code",
   "execution_count": 18,
   "id": "ec28a98b",
   "metadata": {},
   "outputs": [
    {
     "data": {
      "text/plain": [
       "[25, 30, 35]"
      ]
     },
     "execution_count": 18,
     "metadata": {},
     "output_type": "execute_result"
    }
   ],
   "source": [
    "values=list(d1.values())\n",
    "values\n",
    "#values list"
   ]
  },
  {
   "cell_type": "code",
   "execution_count": 19,
   "id": "e84b2906",
   "metadata": {},
   "outputs": [
    {
     "data": {
      "text/plain": [
       "['Ram', 'Raheem', 'Robert']"
      ]
     },
     "execution_count": 19,
     "metadata": {},
     "output_type": "execute_result"
    }
   ],
   "source": [
    "keys=list(d1.keys())\n",
    "keys\n",
    "#keys list"
   ]
  },
  {
   "cell_type": "code",
   "execution_count": 13,
   "id": "8087b66e",
   "metadata": {},
   "outputs": [],
   "source": [
    "#1\n",
    "keys=list(d1.keys())\n",
    "values=list(d1.values())"
   ]
  },
  {
   "cell_type": "code",
   "execution_count": 22,
   "id": "dcefef5c",
   "metadata": {},
   "outputs": [
    {
     "data": {
      "text/plain": [
       "{'Ram': 25, 'Raheem': 30, 'Robert': 35}"
      ]
     },
     "execution_count": 22,
     "metadata": {},
     "output_type": "execute_result"
    }
   ],
   "source": [
    "#2\n",
    "d1={}\n",
    "for i in range(len(keys)):\n",
    "    d1[keys[i]]=values[i]\n",
    "d1"
   ]
  },
  {
   "cell_type": "code",
   "execution_count": 23,
   "id": "a2a4d74a",
   "metadata": {},
   "outputs": [
    {
     "data": {
      "text/plain": [
       "{'Ram': 25, 'Raheem': 30, 'Robert': 35}"
      ]
     },
     "execution_count": 23,
     "metadata": {},
     "output_type": "execute_result"
    }
   ],
   "source": [
    "d1={i:j for i,j in zip(keys,values)}\n",
    "d1"
   ]
  },
  {
   "cell_type": "code",
   "execution_count": 24,
   "id": "7fe7c624",
   "metadata": {},
   "outputs": [
    {
     "data": {
      "text/plain": [
       "{'Ram': 25, 'Raheem': 30, 'Robert': 35}"
      ]
     },
     "execution_count": 24,
     "metadata": {},
     "output_type": "execute_result"
    }
   ],
   "source": [
    "#########\n",
    "dict(zip(keys,values))"
   ]
  },
  {
   "cell_type": "code",
   "execution_count": 33,
   "id": "dd64d2d5",
   "metadata": {},
   "outputs": [
    {
     "data": {
      "text/plain": [
       "{'first_name': ['virat', 'Rohit', 'kl'],\n",
       " 'second_name': ['kohli', 'sharma', 'rahul'],\n",
       " 'company': ['blr', 'mumbai', 'lucknow']}"
      ]
     },
     "execution_count": 33,
     "metadata": {},
     "output_type": "execute_result"
    }
   ],
   "source": [
    "s1='virat.kohli@blr.com,Rohit.sharma@mumbai.com,kl.rahul@lucknow.com'\n",
    "#output: {'firstname':['virat','rohit']}\n",
    "s1=s1.split(',')\n",
    "s1\n",
    "first_name=[]\n",
    "second_name=[]\n",
    "company=[]\n",
    "for i in s1:\n",
    "    first_name.append(i[:i.find('.')])\n",
    "    second_name.append(i[i.find('.')+1:i.find('@')])\n",
    "    company.append(i[i.find('@')+1:i.find('.com')])\n",
    "first_name\n",
    "second_name   \n",
    "company\n",
    "d1={}\n",
    "d1['first_name']=first_name\n",
    "d1['second_name']=second_name\n",
    "d1['company']=company\n",
    "d1"
   ]
  },
  {
   "cell_type": "code",
   "execution_count": 34,
   "id": "65a063d9",
   "metadata": {},
   "outputs": [
    {
     "data": {
      "text/plain": [
       "{'first_name': ['virat', 'Rohit', 'kl'],\n",
       " 'second_name': ['kohli', 'sharma', 'rahul'],\n",
       " 'company': ['blr', 'mumbai', 'lucknow']}"
      ]
     },
     "execution_count": 34,
     "metadata": {},
     "output_type": "execute_result"
    }
   ],
   "source": [
    "d1={i:j for i,j in zip(['first_name','second_name','company'],[first_name,second_name,company])}\n",
    "d1"
   ]
  },
  {
   "cell_type": "code",
   "execution_count": 35,
   "id": "fc9bafc9",
   "metadata": {},
   "outputs": [
    {
     "data": {
      "text/plain": [
       "{'first_name': ['virat', 'Rohit', 'kl'],\n",
       " 'second_name': ['kohli', 'sharma', 'rahul'],\n",
       " 'company': ['blr', 'mumbai', 'lucknow']}"
      ]
     },
     "execution_count": 35,
     "metadata": {},
     "output_type": "execute_result"
    }
   ],
   "source": [
    "dict(zip(['first_name','second_name','company'],[first_name,second_name,company]))"
   ]
  },
  {
   "cell_type": "code",
   "execution_count": 46,
   "id": "28a2503e",
   "metadata": {},
   "outputs": [
    {
     "data": {
      "text/plain": [
       "{'can': 4, 'you': 2, 'canner': 2, 'able': 1, 'to': 1}"
      ]
     },
     "execution_count": 46,
     "metadata": {},
     "output_type": "execute_result"
    }
   ],
   "source": [
    "#WAP\n",
    "str1='can can you canner can you able to can canner'\n",
    "#{'can':4,'you':2,'canner':2,'able':1,'to':1}\n",
    "list11=str1.split(\" \")\n",
    "for i in list11:\n",
    "    d1[i]=list11.count(i)\n",
    "d1"
   ]
  },
  {
   "cell_type": "code",
   "execution_count": 44,
   "id": "488ecd43",
   "metadata": {},
   "outputs": [
    {
     "data": {
      "text/plain": [
       "3"
      ]
     },
     "execution_count": 44,
     "metadata": {},
     "output_type": "execute_result"
    }
   ],
   "source": [
    "list1=[1,1,2,2,2]\n",
    "list1.count(2)"
   ]
  },
  {
   "cell_type": "code",
   "execution_count": 51,
   "id": "0bc25dfe",
   "metadata": {},
   "outputs": [
    {
     "data": {
      "text/plain": [
       "{'a': 70, 'b': 130, 'c': 240}"
      ]
     },
     "execution_count": 51,
     "metadata": {},
     "output_type": "execute_result"
    }
   ],
   "source": [
    "#WAP \n",
    "d1={'a':20,'b':30,'c':40}\n",
    "d2={'a':50,'b':100,'c':200}\n",
    "#op: {'a':70,'b':130}\n",
    "list1={}\n",
    "for i,j in zip(d1,d2):\n",
    "    if i==j:\n",
    "        list1[j]=d1[i]+d2[j]\n",
    "list1"
   ]
  },
  {
   "cell_type": "code",
   "execution_count": null,
   "id": "da5571a0",
   "metadata": {},
   "outputs": [],
   "source": [
    "#strings/lists/dictionary"
   ]
  },
  {
   "cell_type": "code",
   "execution_count": 131,
   "id": "3941ab4d",
   "metadata": {},
   "outputs": [
    {
     "data": {
      "text/plain": [
       "{'a': 20, 'b': 100, 'c': 58, 'd': 20}"
      ]
     },
     "execution_count": 131,
     "metadata": {},
     "output_type": "execute_result"
    }
   ],
   "source": [
    "##Soln\n",
    "d1={'a':15,'b':50,'c':49}\n",
    "d2={'a':5,'b':50,'c':9,'d':20}\n",
    "d3={}\n",
    "if len(d1)==len(d2):\n",
    "    for i,j in zip(d1,d2):\n",
    "        d3[i]=d1[i]+d2[j]\n",
    "elif len(d2)>len(d1):\n",
    "    d3.update(d1)\n",
    "    for i in d2:\n",
    "        if i in d1:\n",
    "            d3[i]=d3[i]+d2[i]\n",
    "        else:\n",
    "            d3[i]=d2[i]\n",
    "elif len(d1)>len(d2):\n",
    "    d3.update(d2)\n",
    "    for i in d1:\n",
    "        if i in d2:\n",
    "            d3[i]=d3[i]+d1[i]\n",
    "        else:\n",
    "            d3[i]=d1[i]   \n",
    "d3"
   ]
  },
  {
   "cell_type": "code",
   "execution_count": 105,
   "id": "4b155d18",
   "metadata": {
    "scrolled": true
   },
   "outputs": [
    {
     "data": {
      "text/plain": [
       "['__class__',\n",
       " '__class_getitem__',\n",
       " '__contains__',\n",
       " '__delattr__',\n",
       " '__delitem__',\n",
       " '__dir__',\n",
       " '__doc__',\n",
       " '__eq__',\n",
       " '__format__',\n",
       " '__ge__',\n",
       " '__getattribute__',\n",
       " '__getitem__',\n",
       " '__getstate__',\n",
       " '__gt__',\n",
       " '__hash__',\n",
       " '__init__',\n",
       " '__init_subclass__',\n",
       " '__ior__',\n",
       " '__iter__',\n",
       " '__le__',\n",
       " '__len__',\n",
       " '__lt__',\n",
       " '__ne__',\n",
       " '__new__',\n",
       " '__or__',\n",
       " '__reduce__',\n",
       " '__reduce_ex__',\n",
       " '__repr__',\n",
       " '__reversed__',\n",
       " '__ror__',\n",
       " '__setattr__',\n",
       " '__setitem__',\n",
       " '__sizeof__',\n",
       " '__str__',\n",
       " '__subclasshook__',\n",
       " 'clear',\n",
       " 'copy',\n",
       " 'fromkeys',\n",
       " 'get',\n",
       " 'items',\n",
       " 'keys',\n",
       " 'pop',\n",
       " 'popitem',\n",
       " 'setdefault',\n",
       " 'update',\n",
       " 'values']"
      ]
     },
     "execution_count": 105,
     "metadata": {},
     "output_type": "execute_result"
    }
   ],
   "source": [
    "dir({})"
   ]
  },
  {
   "cell_type": "markdown",
   "id": "1261bdff",
   "metadata": {},
   "source": [
    "$22-11-2023$"
   ]
  },
  {
   "cell_type": "markdown",
   "id": "5b229a1c",
   "metadata": {},
   "source": [
    "**clear()-copy()**"
   ]
  },
  {
   "cell_type": "code",
   "execution_count": 1,
   "id": "80d50fc8",
   "metadata": {},
   "outputs": [],
   "source": [
    "d1={1:2,2:3,4:5}\n",
    "d2={}"
   ]
  },
  {
   "cell_type": "code",
   "execution_count": 2,
   "id": "4b19bb52",
   "metadata": {},
   "outputs": [
    {
     "data": {
      "text/plain": [
       "{1: 2, 2: 3, 4: 5}"
      ]
     },
     "execution_count": 2,
     "metadata": {},
     "output_type": "execute_result"
    }
   ],
   "source": [
    "d2=d1.copy()\n",
    "d2"
   ]
  },
  {
   "cell_type": "code",
   "execution_count": 3,
   "id": "280f4891",
   "metadata": {},
   "outputs": [],
   "source": [
    "d1.clear()"
   ]
  },
  {
   "cell_type": "code",
   "execution_count": 4,
   "id": "1f6550d8",
   "metadata": {},
   "outputs": [
    {
     "data": {
      "text/plain": [
       "{}"
      ]
     },
     "execution_count": 4,
     "metadata": {},
     "output_type": "execute_result"
    }
   ],
   "source": [
    "d1"
   ]
  },
  {
   "cell_type": "markdown",
   "id": "9f286283",
   "metadata": {},
   "source": [
    "**pop-popitem-del**\n",
    "- pop will remove specified item and returns value\n",
    "- popitem() will remove last item and returns the key-value pair(#LIFO)\n",
    "- del will delete the item by providing key/dictionary"
   ]
  },
  {
   "cell_type": "code",
   "execution_count": 12,
   "id": "57103ce6",
   "metadata": {},
   "outputs": [
    {
     "data": {
      "text/plain": [
       "20"
      ]
     },
     "execution_count": 12,
     "metadata": {},
     "output_type": "execute_result"
    }
   ],
   "source": [
    "d1={'apple':20,'banana':30,'cherry':67}\n",
    "d1.pop('apple')"
   ]
  },
  {
   "cell_type": "code",
   "execution_count": 17,
   "id": "ffd12052",
   "metadata": {},
   "outputs": [
    {
     "ename": "KeyError",
     "evalue": "{}",
     "output_type": "error",
     "traceback": [
      "\u001b[1;31m---------------------------------------------------------------------------\u001b[0m",
      "\u001b[1;31mKeyError\u001b[0m                                  Traceback (most recent call last)",
      "Cell \u001b[1;32mIn[17], line 1\u001b[0m\n\u001b[1;32m----> 1\u001b[0m d1\u001b[38;5;241m.\u001b[39mpop(d1)\n",
      "\u001b[1;31mKeyError\u001b[0m: {}"
     ]
    }
   ],
   "source": [
    "d1.pop(d1)\n",
    "#you cant delete whole dictionary items at once using pop"
   ]
  },
  {
   "cell_type": "code",
   "execution_count": 13,
   "id": "e3c30843",
   "metadata": {},
   "outputs": [
    {
     "data": {
      "text/plain": [
       "('cherry', 67)"
      ]
     },
     "execution_count": 13,
     "metadata": {},
     "output_type": "execute_result"
    }
   ],
   "source": [
    "d1.popitem()"
   ]
  },
  {
   "cell_type": "code",
   "execution_count": 14,
   "id": "b7dd75b8",
   "metadata": {
    "scrolled": true
   },
   "outputs": [
    {
     "data": {
      "text/plain": [
       "{'banana': 30}"
      ]
     },
     "execution_count": 14,
     "metadata": {},
     "output_type": "execute_result"
    }
   ],
   "source": [
    "d1"
   ]
  },
  {
   "cell_type": "code",
   "execution_count": 15,
   "id": "d4d49a9e",
   "metadata": {},
   "outputs": [
    {
     "data": {
      "text/plain": [
       "{}"
      ]
     },
     "execution_count": 15,
     "metadata": {},
     "output_type": "execute_result"
    }
   ],
   "source": [
    "del d1['banana']\n",
    "d1"
   ]
  },
  {
   "cell_type": "code",
   "execution_count": 10,
   "id": "818aa2d4",
   "metadata": {},
   "outputs": [],
   "source": [
    "del(d1)\n",
    "#del is a buit-in function\n",
    "#del d1 will also work"
   ]
  },
  {
   "cell_type": "code",
   "execution_count": 11,
   "id": "232abdd1",
   "metadata": {
    "scrolled": true
   },
   "outputs": [
    {
     "ename": "NameError",
     "evalue": "name 'd1' is not defined",
     "output_type": "error",
     "traceback": [
      "\u001b[1;31m---------------------------------------------------------------------------\u001b[0m",
      "\u001b[1;31mNameError\u001b[0m                                 Traceback (most recent call last)",
      "Cell \u001b[1;32mIn[11], line 1\u001b[0m\n\u001b[1;32m----> 1\u001b[0m d1\n",
      "\u001b[1;31mNameError\u001b[0m: name 'd1' is not defined"
     ]
    }
   ],
   "source": [
    "d1"
   ]
  },
  {
   "cell_type": "code",
   "execution_count": null,
   "id": "3c40aefe",
   "metadata": {},
   "outputs": [],
   "source": [
    "- items/values/keys:\n",
    "    - two lists given, creating a dictionary\n",
    "    - dictionary given, generating the two lists\n",
    "    - create an empty string/list/dictionary\n",
    "- counter\n",
    "- summ\n",
    "- function\n",
    "- pop/popitem/del\n",
    "- copy/clear"
   ]
  },
  {
   "cell_type": "code",
   "execution_count": 19,
   "id": "24d34c1a",
   "metadata": {},
   "outputs": [
    {
     "data": {
      "text/plain": [
       "{'key': 'value'}"
      ]
     },
     "execution_count": 19,
     "metadata": {},
     "output_type": "execute_result"
    }
   ],
   "source": [
    "d1={}\n",
    "d1['key']='value'\n",
    "d1"
   ]
  },
  {
   "cell_type": "markdown",
   "id": "6af65dd2",
   "metadata": {},
   "source": [
    "**from-keys,get**"
   ]
  },
  {
   "cell_type": "code",
   "execution_count": 20,
   "id": "668320a8",
   "metadata": {},
   "outputs": [
    {
     "data": {
      "text/plain": [
       "20"
      ]
     },
     "execution_count": 20,
     "metadata": {},
     "output_type": "execute_result"
    }
   ],
   "source": [
    "d1={'apple':20,'baba':30}\n",
    "d1.get('apple')\n",
    "#accessing the values"
   ]
  },
  {
   "cell_type": "code",
   "execution_count": 22,
   "id": "a82a3fc4",
   "metadata": {},
   "outputs": [],
   "source": [
    "d1.get('cherry')"
   ]
  },
  {
   "cell_type": "code",
   "execution_count": 24,
   "id": "f7cdb7ef",
   "metadata": {
    "scrolled": true
   },
   "outputs": [
    {
     "ename": "KeyError",
     "evalue": "'cherry'",
     "output_type": "error",
     "traceback": [
      "\u001b[1;31m---------------------------------------------------------------------------\u001b[0m",
      "\u001b[1;31mKeyError\u001b[0m                                  Traceback (most recent call last)",
      "Cell \u001b[1;32mIn[24], line 1\u001b[0m\n\u001b[1;32m----> 1\u001b[0m d1[\u001b[38;5;124m'\u001b[39m\u001b[38;5;124mcherry\u001b[39m\u001b[38;5;124m'\u001b[39m]\n",
      "\u001b[1;31mKeyError\u001b[0m: 'cherry'"
     ]
    }
   ],
   "source": [
    "d1['cherry']\n",
    "#here we get error instead we can do d.get() to access an element if we dont know if the item is there in the dictionary or not"
   ]
  },
  {
   "cell_type": "code",
   "execution_count": null,
   "id": "6f09fd75",
   "metadata": {},
   "outputs": [],
   "source": [
    "- how many wways can we do\n",
    "- what output it is returning\n",
    "- what is the difference\n",
    "- get method- no error\n",
    "- direct accessing-keyerror"
   ]
  },
  {
   "cell_type": "code",
   "execution_count": 23,
   "id": "3ecf646d",
   "metadata": {},
   "outputs": [
    {
     "data": {
      "text/plain": [
       "{'apple': None, 'banana': None, 'cherry': None}"
      ]
     },
     "execution_count": 23,
     "metadata": {},
     "output_type": "execute_result"
    }
   ],
   "source": [
    "d1.fromkeys(['apple','banana','cherry'])\n",
    "# creates a new dictionary"
   ]
  },
  {
   "cell_type": "code",
   "execution_count": 26,
   "id": "ab560a79",
   "metadata": {},
   "outputs": [
    {
     "data": {
      "text/plain": [
       "{'apple': 2, 'banana': 2, 'cherry': 2}"
      ]
     },
     "execution_count": 26,
     "metadata": {},
     "output_type": "execute_result"
    }
   ],
   "source": [
    "d1.fromkeys(['apple','banana','cherry'],2)"
   ]
  },
  {
   "cell_type": "code",
   "execution_count": 27,
   "id": "4c253cde",
   "metadata": {},
   "outputs": [
    {
     "data": {
      "text/plain": [
       "{'apple': [2, 3, 4], 'banana': [2, 3, 4], 'cherry': [2, 3, 4]}"
      ]
     },
     "execution_count": 27,
     "metadata": {},
     "output_type": "execute_result"
    }
   ],
   "source": [
    "d1.fromkeys(['apple','banana','cherry'],[2,3,4])"
   ]
  },
  {
   "cell_type": "code",
   "execution_count": 28,
   "id": "c5f60fc4",
   "metadata": {},
   "outputs": [
    {
     "data": {
      "text/plain": [
       "{'apple': 'fruits', 'banana': 'fruits', 'cherry': 'fruits'}"
      ]
     },
     "execution_count": 28,
     "metadata": {},
     "output_type": "execute_result"
    }
   ],
   "source": [
    "d1.fromkeys(['apple','banana','cherry'],'fruits')"
   ]
  },
  {
   "cell_type": "code",
   "execution_count": 29,
   "id": "f5771005",
   "metadata": {},
   "outputs": [
    {
     "data": {
      "text/plain": [
       "{'r': None, 'a': None, 'h': None, 'e': None, 'm': None}"
      ]
     },
     "execution_count": 29,
     "metadata": {},
     "output_type": "execute_result"
    }
   ],
   "source": [
    "d1.fromkeys('raheem')"
   ]
  },
  {
   "cell_type": "code",
   "execution_count": 30,
   "id": "3f41bb89",
   "metadata": {},
   "outputs": [
    {
     "data": {
      "text/plain": [
       "{'r': 25, 'a': 25, 'h': 25, 'e': 25, 'm': 25}"
      ]
     },
     "execution_count": 30,
     "metadata": {},
     "output_type": "execute_result"
    }
   ],
   "source": [
    "d1.fromkeys('raheem',25)"
   ]
  },
  {
   "cell_type": "code",
   "execution_count": null,
   "id": "1e7ed0ca",
   "metadata": {},
   "outputs": [],
   "source": [
    "#iterable is something on which we can run a for loop and we can print/access the elements in it"
   ]
  },
  {
   "cell_type": "code",
   "execution_count": 31,
   "id": "e6db7782",
   "metadata": {},
   "outputs": [
    {
     "data": {
      "text/plain": [
       "{'apple': 20, 'baba': 30}"
      ]
     },
     "execution_count": 31,
     "metadata": {},
     "output_type": "execute_result"
    }
   ],
   "source": [
    "d1"
   ]
  },
  {
   "cell_type": "code",
   "execution_count": 33,
   "id": "9f6116d9",
   "metadata": {},
   "outputs": [
    {
     "data": {
      "text/plain": [
       "{'apple': 20, 'baba': 30, 'cherry': None}"
      ]
     },
     "execution_count": 33,
     "metadata": {},
     "output_type": "execute_result"
    }
   ],
   "source": [
    "d1.setdefault('cherry')\n",
    "d1\n",
    "# if key is not present, it will set its default value\n",
    "# if key is present, it will not update the value of the key"
   ]
  },
  {
   "cell_type": "code",
   "execution_count": 34,
   "id": "5b06aa9a",
   "metadata": {},
   "outputs": [
    {
     "data": {
      "text/plain": [
       "{'apple': 20, 'baba': 30, 'cherry': None}"
      ]
     },
     "execution_count": 34,
     "metadata": {},
     "output_type": "execute_result"
    }
   ],
   "source": [
    "d1.setdefault('cherry',24)\n",
    "d1"
   ]
  },
  {
   "cell_type": "code",
   "execution_count": 37,
   "id": "d39e0a63",
   "metadata": {},
   "outputs": [
    {
     "data": {
      "text/plain": [
       "24"
      ]
     },
     "execution_count": 37,
     "metadata": {},
     "output_type": "execute_result"
    }
   ],
   "source": [
    "d1.setdefault('dog',24)"
   ]
  },
  {
   "cell_type": "code",
   "execution_count": 38,
   "id": "70739209",
   "metadata": {},
   "outputs": [
    {
     "data": {
      "text/plain": [
       "{'apple': 20, 'baba': 30, 'cherry': None, 'dog': 24}"
      ]
     },
     "execution_count": 38,
     "metadata": {},
     "output_type": "execute_result"
    }
   ],
   "source": [
    "d1"
   ]
  },
  {
   "cell_type": "code",
   "execution_count": 40,
   "id": "047c4a5e",
   "metadata": {},
   "outputs": [],
   "source": [
    "d2={1:2,3:4}\n",
    "d1.update(d2)\n",
    "#Update method will update a dictionary with elements from another dictionary"
   ]
  },
  {
   "cell_type": "code",
   "execution_count": 41,
   "id": "a40e564e",
   "metadata": {},
   "outputs": [
    {
     "data": {
      "text/plain": [
       "{'apple': 20, 'baba': 30, 'cherry': None, 'dog': 24, 1: 2, 3: 4}"
      ]
     },
     "execution_count": 41,
     "metadata": {},
     "output_type": "execute_result"
    }
   ],
   "source": [
    "d1"
   ]
  },
  {
   "cell_type": "code",
   "execution_count": 48,
   "id": "2c7562df",
   "metadata": {},
   "outputs": [],
   "source": [
    "l1=[1,2,3,4]\n",
    "d1.update(['st'])"
   ]
  },
  {
   "cell_type": "code",
   "execution_count": 49,
   "id": "67362350",
   "metadata": {},
   "outputs": [
    {
     "data": {
      "text/plain": [
       "{'apple': 20, 'baba': 30, 'cherry': None, 'dog': 24, 1: 2, 3: 4, 's': 't'}"
      ]
     },
     "execution_count": 49,
     "metadata": {},
     "output_type": "execute_result"
    }
   ],
   "source": [
    "d1"
   ]
  },
  {
   "cell_type": "code",
   "execution_count": 55,
   "id": "ce665203",
   "metadata": {
    "scrolled": false
   },
   "outputs": [
    {
     "name": "stdout",
     "output_type": "stream",
     "text": [
      "{'a': 1, 'b': 4, 'c': 5, 1: 2, 2: 3}\n"
     ]
    }
   ],
   "source": [
    "d1.update([[1,2],[2,3]])\n",
    "print(d1)"
   ]
  },
  {
   "cell_type": "code",
   "execution_count": 60,
   "id": "aff81dfd",
   "metadata": {},
   "outputs": [
    {
     "data": {
      "text/plain": [
       "{'a': 1, 'b': 4, 'c': 5, 1: 2, 2: 3, 'hello': 20, 20: 89, 'ball': 89}"
      ]
     },
     "execution_count": 60,
     "metadata": {},
     "output_type": "execute_result"
    }
   ],
   "source": [
    "d1.update([['hello',20],['ball',89]])\n",
    "d1"
   ]
  },
  {
   "cell_type": "code",
   "execution_count": 54,
   "id": "4c26de95",
   "metadata": {},
   "outputs": [
    {
     "data": {
      "text/plain": [
       "{'a': 1, 'b': 4, 'd': 9, 'c': 5}"
      ]
     },
     "execution_count": 54,
     "metadata": {},
     "output_type": "execute_result"
    }
   ],
   "source": [
    "d1={'a':1,'b':4,'c':5}\n",
    "d2={'a':0,'b':3,'d':9}\n",
    "d2.update(d1)\n",
    "d2"
   ]
  },
  {
   "cell_type": "code",
   "execution_count": null,
   "id": "380fe0e0",
   "metadata": {},
   "outputs": [],
   "source": [
    "Tuple\n",
    "- how to read\n",
    "- type/max/min/len/sum\n",
    "- indexx/mutable\n",
    "- in/for \n",
    "- slice\n",
    "- methods"
   ]
  },
  {
   "cell_type": "code",
   "execution_count": null,
   "id": "245ae239",
   "metadata": {},
   "outputs": [],
   "source": [
    "- elif is not there in list comprehensions\n",
    "- only if-else can be used instead"
   ]
  }
 ],
 "metadata": {
  "kernelspec": {
   "display_name": "Python 3 (ipykernel)",
   "language": "python",
   "name": "python3"
  },
  "language_info": {
   "codemirror_mode": {
    "name": "ipython",
    "version": 3
   },
   "file_extension": ".py",
   "mimetype": "text/x-python",
   "name": "python",
   "nbconvert_exporter": "python",
   "pygments_lexer": "ipython3",
   "version": "3.11.5"
  }
 },
 "nbformat": 4,
 "nbformat_minor": 5
}
