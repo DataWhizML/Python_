{
 "cells": [
  {
   "cell_type": "code",
   "execution_count": null,
   "id": "9f591b5c",
   "metadata": {},
   "outputs": [],
   "source": [
    "- read the lists\n",
    "- type\n",
    "- max\n",
    "- min\n",
    "- sum (only works for numbers)\n",
    "- len\n",
    "- in (for loop)\n",
    "- range\n",
    "- index\n",
    "- mutable\n",
    "- slice\n",
    "- methods "
   ]
  },
  {
   "cell_type": "code",
   "execution_count": null,
   "id": "4a27d28d",
   "metadata": {},
   "outputs": [],
   "source": [
    "#### Lists:\n",
    "- array of elements \n",
    "- in []\n",
    "- list is a key word, give any other name to your list \n",
    "- list1=[1,2,3,4] #numbers\n",
    "- list2=['a','b','c','d']#letters\n",
    "- you can write numbers, letters and their combinations also work"
   ]
  },
  {
   "cell_type": "code",
   "execution_count": 10,
   "id": "d4c459ad",
   "metadata": {
    "scrolled": true
   },
   "outputs": [
    {
     "data": {
      "text/plain": [
       "[1, 2, 3, 4]"
      ]
     },
     "execution_count": 10,
     "metadata": {},
     "output_type": "execute_result"
    }
   ],
   "source": [
    "list1=[1,2,3,4]\n",
    "list1"
   ]
  },
  {
   "cell_type": "code",
   "execution_count": 12,
   "id": "083a1b7a",
   "metadata": {},
   "outputs": [
    {
     "data": {
      "text/plain": [
       "['a', 'b', 'c', 'd']"
      ]
     },
     "execution_count": 12,
     "metadata": {},
     "output_type": "execute_result"
    }
   ],
   "source": [
    "list2=['a','b','c','d']\n",
    "list2"
   ]
  },
  {
   "cell_type": "code",
   "execution_count": 2,
   "id": "839d9443",
   "metadata": {},
   "outputs": [
    {
     "data": {
      "text/plain": [
       "[1, 'Apple', 10.5, (10+5j), True]"
      ]
     },
     "execution_count": 2,
     "metadata": {},
     "output_type": "execute_result"
    }
   ],
   "source": [
    "list4=[1,'Apple',10.5,10+5j, True]\n",
    "list4"
   ]
  },
  {
   "cell_type": "code",
   "execution_count": 3,
   "id": "9b86a004",
   "metadata": {},
   "outputs": [
    {
     "data": {
      "text/plain": [
       "[100, 100, 100]"
      ]
     },
     "execution_count": 3,
     "metadata": {},
     "output_type": "execute_result"
    }
   ],
   "source": [
    "list5=[100,100,100]\n",
    "list5"
   ]
  },
  {
   "cell_type": "code",
   "execution_count": null,
   "id": "fb44081c",
   "metadata": {},
   "outputs": [],
   "source": [
    "- list is an array of elements\n",
    "- list elements are heterogeneous(can be of different data types).\n",
    "- duplicates are allowed in lists"
   ]
  },
  {
   "cell_type": "code",
   "execution_count": 4,
   "id": "994a7613",
   "metadata": {},
   "outputs": [
    {
     "data": {
      "text/plain": [
       "['Apple', [1, 2, 3, 4]]"
      ]
     },
     "execution_count": 4,
     "metadata": {},
     "output_type": "execute_result"
    }
   ],
   "source": [
    "list6=['Apple',[1,2,3,4]]\n",
    "list6\n",
    "#list in list also works"
   ]
  },
  {
   "cell_type": "code",
   "execution_count": 7,
   "id": "9c87927c",
   "metadata": {},
   "outputs": [
    {
     "data": {
      "text/plain": [
       "[[1, 2, 3, 4]]"
      ]
     },
     "execution_count": 7,
     "metadata": {},
     "output_type": "execute_result"
    }
   ],
   "source": [
    "list7=[[1,2,3,4]]\n",
    "list7"
   ]
  },
  {
   "cell_type": "code",
   "execution_count": 6,
   "id": "9ab9812c",
   "metadata": {},
   "outputs": [
    {
     "data": {
      "text/plain": [
       "list"
      ]
     },
     "execution_count": 6,
     "metadata": {},
     "output_type": "execute_result"
    }
   ],
   "source": [
    "type(list4)"
   ]
  },
  {
   "cell_type": "code",
   "execution_count": 8,
   "id": "6c8c7e36",
   "metadata": {},
   "outputs": [
    {
     "data": {
      "text/plain": [
       "[1, 2, 3, 4]"
      ]
     },
     "execution_count": 8,
     "metadata": {},
     "output_type": "execute_result"
    }
   ],
   "source": [
    "min(list7)"
   ]
  },
  {
   "cell_type": "code",
   "execution_count": 11,
   "id": "21421668",
   "metadata": {
    "scrolled": true
   },
   "outputs": [
    {
     "data": {
      "text/plain": [
       "4"
      ]
     },
     "execution_count": 11,
     "metadata": {},
     "output_type": "execute_result"
    }
   ],
   "source": [
    "max(list1)"
   ]
  },
  {
   "cell_type": "code",
   "execution_count": 13,
   "id": "4f7a1e61",
   "metadata": {
    "scrolled": true
   },
   "outputs": [
    {
     "data": {
      "text/plain": [
       "'d'"
      ]
     },
     "execution_count": 13,
     "metadata": {},
     "output_type": "execute_result"
    }
   ],
   "source": [
    "max(list2)"
   ]
  },
  {
   "cell_type": "code",
   "execution_count": 18,
   "id": "4474b14d",
   "metadata": {
    "scrolled": true
   },
   "outputs": [
    {
     "ename": "TypeError",
     "evalue": "'>' not supported between instances of 'str' and 'int'",
     "output_type": "error",
     "traceback": [
      "\u001b[1;31m---------------------------------------------------------------------------\u001b[0m",
      "\u001b[1;31mTypeError\u001b[0m                                 Traceback (most recent call last)",
      "Cell \u001b[1;32mIn[18], line 1\u001b[0m\n\u001b[1;32m----> 1\u001b[0m \u001b[38;5;28mmax\u001b[39m(list4)\n",
      "\u001b[1;31mTypeError\u001b[0m: '>' not supported between instances of 'str' and 'int'"
     ]
    }
   ],
   "source": [
    "max(list4)"
   ]
  },
  {
   "cell_type": "code",
   "execution_count": 19,
   "id": "bffcece1",
   "metadata": {
    "scrolled": true
   },
   "outputs": [
    {
     "data": {
      "text/plain": [
       "100"
      ]
     },
     "execution_count": 19,
     "metadata": {},
     "output_type": "execute_result"
    }
   ],
   "source": [
    "max(list5)"
   ]
  },
  {
   "cell_type": "code",
   "execution_count": 14,
   "id": "b742c4b8",
   "metadata": {},
   "outputs": [
    {
     "data": {
      "text/plain": [
       "'a'"
      ]
     },
     "execution_count": 14,
     "metadata": {},
     "output_type": "execute_result"
    }
   ],
   "source": [
    "min(list2)"
   ]
  },
  {
   "cell_type": "code",
   "execution_count": 15,
   "id": "8968ad1d",
   "metadata": {},
   "outputs": [
    {
     "data": {
      "text/plain": [
       "1"
      ]
     },
     "execution_count": 15,
     "metadata": {},
     "output_type": "execute_result"
    }
   ],
   "source": [
    "min(list1)"
   ]
  },
  {
   "cell_type": "code",
   "execution_count": 16,
   "id": "cc201347",
   "metadata": {},
   "outputs": [
    {
     "ename": "TypeError",
     "evalue": "'<' not supported between instances of 'str' and 'int'",
     "output_type": "error",
     "traceback": [
      "\u001b[1;31m---------------------------------------------------------------------------\u001b[0m",
      "\u001b[1;31mTypeError\u001b[0m                                 Traceback (most recent call last)",
      "Cell \u001b[1;32mIn[16], line 1\u001b[0m\n\u001b[1;32m----> 1\u001b[0m \u001b[38;5;28mmin\u001b[39m(list4)\n",
      "\u001b[1;31mTypeError\u001b[0m: '<' not supported between instances of 'str' and 'int'"
     ]
    }
   ],
   "source": [
    "min(list4)"
   ]
  },
  {
   "cell_type": "code",
   "execution_count": 20,
   "id": "f4116f5f",
   "metadata": {},
   "outputs": [
    {
     "data": {
      "text/plain": [
       "4"
      ]
     },
     "execution_count": 20,
     "metadata": {},
     "output_type": "execute_result"
    }
   ],
   "source": [
    "len(list1)"
   ]
  },
  {
   "cell_type": "code",
   "execution_count": 21,
   "id": "b798afef",
   "metadata": {},
   "outputs": [
    {
     "data": {
      "text/plain": [
       "4"
      ]
     },
     "execution_count": 21,
     "metadata": {},
     "output_type": "execute_result"
    }
   ],
   "source": [
    "len(list2)"
   ]
  },
  {
   "cell_type": "code",
   "execution_count": 22,
   "id": "d6b3e8e2",
   "metadata": {},
   "outputs": [
    {
     "data": {
      "text/plain": [
       "5"
      ]
     },
     "execution_count": 22,
     "metadata": {},
     "output_type": "execute_result"
    }
   ],
   "source": [
    "len(list4)"
   ]
  },
  {
   "cell_type": "code",
   "execution_count": 23,
   "id": "a8158f23",
   "metadata": {},
   "outputs": [
    {
     "data": {
      "text/plain": [
       "3"
      ]
     },
     "execution_count": 23,
     "metadata": {},
     "output_type": "execute_result"
    }
   ],
   "source": [
    "len(list5)"
   ]
  },
  {
   "cell_type": "code",
   "execution_count": 24,
   "id": "f7a6f17d",
   "metadata": {},
   "outputs": [
    {
     "data": {
      "text/plain": [
       "2"
      ]
     },
     "execution_count": 24,
     "metadata": {},
     "output_type": "execute_result"
    }
   ],
   "source": [
    "len(list6)"
   ]
  },
  {
   "cell_type": "code",
   "execution_count": 25,
   "id": "6e9f62f0",
   "metadata": {},
   "outputs": [
    {
     "data": {
      "text/plain": [
       "1"
      ]
     },
     "execution_count": 25,
     "metadata": {},
     "output_type": "execute_result"
    }
   ],
   "source": [
    "len(list7)"
   ]
  },
  {
   "cell_type": "code",
   "execution_count": 26,
   "id": "83c9ab64",
   "metadata": {},
   "outputs": [
    {
     "data": {
      "text/plain": [
       "300"
      ]
     },
     "execution_count": 26,
     "metadata": {},
     "output_type": "execute_result"
    }
   ],
   "source": [
    "sum(list5)"
   ]
  },
  {
   "cell_type": "code",
   "execution_count": 27,
   "id": "1b6e3000",
   "metadata": {
    "scrolled": true
   },
   "outputs": [
    {
     "ename": "TypeError",
     "evalue": "unsupported operand type(s) for +: 'int' and 'str'",
     "output_type": "error",
     "traceback": [
      "\u001b[1;31m---------------------------------------------------------------------------\u001b[0m",
      "\u001b[1;31mTypeError\u001b[0m                                 Traceback (most recent call last)",
      "Cell \u001b[1;32mIn[27], line 1\u001b[0m\n\u001b[1;32m----> 1\u001b[0m \u001b[38;5;28msum\u001b[39m(list2)\n",
      "\u001b[1;31mTypeError\u001b[0m: unsupported operand type(s) for +: 'int' and 'str'"
     ]
    }
   ],
   "source": [
    "sum(list2)"
   ]
  },
  {
   "cell_type": "markdown",
   "id": "3f62566d",
   "metadata": {},
   "source": [
    "**in**"
   ]
  },
  {
   "cell_type": "code",
   "execution_count": 28,
   "id": "f8a7ebb8",
   "metadata": {},
   "outputs": [
    {
     "data": {
      "text/plain": [
       "[1, 2, 3, 4]"
      ]
     },
     "execution_count": 28,
     "metadata": {},
     "output_type": "execute_result"
    }
   ],
   "source": [
    "list1"
   ]
  },
  {
   "cell_type": "code",
   "execution_count": 29,
   "id": "4de58209",
   "metadata": {},
   "outputs": [
    {
     "data": {
      "text/plain": [
       "True"
      ]
     },
     "execution_count": 29,
     "metadata": {},
     "output_type": "execute_result"
    }
   ],
   "source": [
    "1 in list1"
   ]
  },
  {
   "cell_type": "code",
   "execution_count": 30,
   "id": "6b5414df",
   "metadata": {},
   "outputs": [
    {
     "data": {
      "text/plain": [
       "True"
      ]
     },
     "execution_count": 30,
     "metadata": {},
     "output_type": "execute_result"
    }
   ],
   "source": [
    "2 in list1"
   ]
  },
  {
   "cell_type": "code",
   "execution_count": 31,
   "id": "adb544e0",
   "metadata": {},
   "outputs": [
    {
     "data": {
      "text/plain": [
       "True"
      ]
     },
     "execution_count": 31,
     "metadata": {},
     "output_type": "execute_result"
    }
   ],
   "source": [
    "3 in list1"
   ]
  },
  {
   "cell_type": "code",
   "execution_count": 32,
   "id": "0ce2da58",
   "metadata": {},
   "outputs": [
    {
     "data": {
      "text/plain": [
       "True"
      ]
     },
     "execution_count": 32,
     "metadata": {},
     "output_type": "execute_result"
    }
   ],
   "source": [
    "4 in list1"
   ]
  },
  {
   "cell_type": "code",
   "execution_count": 33,
   "id": "f22e95aa",
   "metadata": {},
   "outputs": [
    {
     "data": {
      "text/plain": [
       "False"
      ]
     },
     "execution_count": 33,
     "metadata": {},
     "output_type": "execute_result"
    }
   ],
   "source": [
    "5 in list1"
   ]
  },
  {
   "cell_type": "code",
   "execution_count": 36,
   "id": "ba92fe09",
   "metadata": {},
   "outputs": [
    {
     "name": "stdout",
     "output_type": "stream",
     "text": [
      "1\n",
      "2\n",
      "3\n",
      "4\n"
     ]
    }
   ],
   "source": [
    "for i in list1:\n",
    "    print(i)"
   ]
  },
  {
   "cell_type": "code",
   "execution_count": 37,
   "id": "bebf3200",
   "metadata": {},
   "outputs": [
    {
     "name": "stdout",
     "output_type": "stream",
     "text": [
      "a\n",
      "b\n",
      "c\n",
      "d\n"
     ]
    }
   ],
   "source": [
    "for i in list2:\n",
    "    print(i)"
   ]
  },
  {
   "cell_type": "markdown",
   "id": "8303c99a",
   "metadata": {},
   "source": [
    "**Concatenation**"
   ]
  },
  {
   "cell_type": "code",
   "execution_count": 38,
   "id": "3d85e009",
   "metadata": {},
   "outputs": [],
   "source": [
    "list1=[1,2,3,4]"
   ]
  },
  {
   "cell_type": "code",
   "execution_count": 39,
   "id": "0e3b9737",
   "metadata": {},
   "outputs": [],
   "source": [
    "list2=['a','b','c','d']"
   ]
  },
  {
   "cell_type": "code",
   "execution_count": 40,
   "id": "be8abdd7",
   "metadata": {},
   "outputs": [
    {
     "data": {
      "text/plain": [
       "[1, 2, 3, 4, 'a', 'b', 'c', 'd']"
      ]
     },
     "execution_count": 40,
     "metadata": {},
     "output_type": "execute_result"
    }
   ],
   "source": [
    "list1+list2"
   ]
  },
  {
   "cell_type": "code",
   "execution_count": 41,
   "id": "a8c5a9c5",
   "metadata": {},
   "outputs": [
    {
     "data": {
      "text/plain": [
       "['a', 'b', 'c', 'd', 1, 2, 3, 4]"
      ]
     },
     "execution_count": 41,
     "metadata": {},
     "output_type": "execute_result"
    }
   ],
   "source": [
    "list2+list1"
   ]
  },
  {
   "cell_type": "code",
   "execution_count": 42,
   "id": "8da27133",
   "metadata": {},
   "outputs": [],
   "source": [
    "new_list=list1+list2"
   ]
  },
  {
   "cell_type": "code",
   "execution_count": 43,
   "id": "0a5b1e31",
   "metadata": {},
   "outputs": [
    {
     "data": {
      "text/plain": [
       "[1, 2, 3, 4, 'a', 'b', 'c', 'd']"
      ]
     },
     "execution_count": 43,
     "metadata": {},
     "output_type": "execute_result"
    }
   ],
   "source": [
    "new_list"
   ]
  },
  {
   "cell_type": "code",
   "execution_count": 45,
   "id": "226e3d80",
   "metadata": {},
   "outputs": [
    {
     "data": {
      "text/plain": [
       "[1, 2, 3, 4, 1, 2, 3, 4, 1, 2, 3, 4]"
      ]
     },
     "execution_count": 45,
     "metadata": {},
     "output_type": "execute_result"
    }
   ],
   "source": [
    "list1*3"
   ]
  },
  {
   "cell_type": "code",
   "execution_count": 46,
   "id": "7c586a55",
   "metadata": {},
   "outputs": [
    {
     "ename": "TypeError",
     "evalue": "unsupported operand type(s) for -: 'list' and 'list'",
     "output_type": "error",
     "traceback": [
      "\u001b[1;31m---------------------------------------------------------------------------\u001b[0m",
      "\u001b[1;31mTypeError\u001b[0m                                 Traceback (most recent call last)",
      "Cell \u001b[1;32mIn[46], line 1\u001b[0m\n\u001b[1;32m----> 1\u001b[0m list1\u001b[38;5;241m-\u001b[39mlist2\n",
      "\u001b[1;31mTypeError\u001b[0m: unsupported operand type(s) for -: 'list' and 'list'"
     ]
    }
   ],
   "source": [
    "list1-list2"
   ]
  },
  {
   "cell_type": "code",
   "execution_count": 47,
   "id": "f9a7c043",
   "metadata": {},
   "outputs": [
    {
     "ename": "TypeError",
     "evalue": "can't multiply sequence by non-int of type 'list'",
     "output_type": "error",
     "traceback": [
      "\u001b[1;31m---------------------------------------------------------------------------\u001b[0m",
      "\u001b[1;31mTypeError\u001b[0m                                 Traceback (most recent call last)",
      "Cell \u001b[1;32mIn[47], line 1\u001b[0m\n\u001b[1;32m----> 1\u001b[0m list1\u001b[38;5;241m*\u001b[39mlist2\n",
      "\u001b[1;31mTypeError\u001b[0m: can't multiply sequence by non-int of type 'list'"
     ]
    }
   ],
   "source": [
    "list1*list2"
   ]
  },
  {
   "cell_type": "code",
   "execution_count": 48,
   "id": "3b64e047",
   "metadata": {},
   "outputs": [
    {
     "ename": "TypeError",
     "evalue": "unsupported operand type(s) for /: 'list' and 'list'",
     "output_type": "error",
     "traceback": [
      "\u001b[1;31m---------------------------------------------------------------------------\u001b[0m",
      "\u001b[1;31mTypeError\u001b[0m                                 Traceback (most recent call last)",
      "Cell \u001b[1;32mIn[48], line 1\u001b[0m\n\u001b[1;32m----> 1\u001b[0m list1\u001b[38;5;241m/\u001b[39mlist2\n",
      "\u001b[1;31mTypeError\u001b[0m: unsupported operand type(s) for /: 'list' and 'list'"
     ]
    }
   ],
   "source": [
    "list1/list2"
   ]
  },
  {
   "cell_type": "markdown",
   "id": "ea44d147",
   "metadata": {},
   "source": [
    "**Index**"
   ]
  },
  {
   "cell_type": "code",
   "execution_count": 52,
   "id": "e96dc6da",
   "metadata": {},
   "outputs": [
    {
     "data": {
      "text/plain": [
       "(1, 2, 3, 4)"
      ]
     },
     "execution_count": 52,
     "metadata": {},
     "output_type": "execute_result"
    }
   ],
   "source": [
    "list1[0],list1[1],list1[2],list1[3]"
   ]
  },
  {
   "cell_type": "code",
   "execution_count": 56,
   "id": "31fd2181",
   "metadata": {},
   "outputs": [
    {
     "name": "stdout",
     "output_type": "stream",
     "text": [
      "1\n",
      "2\n",
      "3\n",
      "4\n"
     ]
    }
   ],
   "source": [
    "for i in list1:\n",
    "    print(i)"
   ]
  },
  {
   "cell_type": "code",
   "execution_count": 60,
   "id": "bc95e239",
   "metadata": {},
   "outputs": [
    {
     "name": "stdout",
     "output_type": "stream",
     "text": [
      "0-1\n",
      "1-2\n",
      "2-3\n",
      "3-4\n"
     ]
    }
   ],
   "source": [
    "for i in range(len(list1)):\n",
    "    print(i,list1[i],sep='-')"
   ]
  },
  {
   "cell_type": "code",
   "execution_count": 61,
   "id": "31df6832",
   "metadata": {},
   "outputs": [
    {
     "data": {
      "text/plain": [
       "4"
      ]
     },
     "execution_count": 61,
     "metadata": {},
     "output_type": "execute_result"
    }
   ],
   "source": [
    "list1[-1]"
   ]
  },
  {
   "cell_type": "code",
   "execution_count": 63,
   "id": "01b8c38b",
   "metadata": {},
   "outputs": [
    {
     "data": {
      "text/plain": [
       "3"
      ]
     },
     "execution_count": 63,
     "metadata": {},
     "output_type": "execute_result"
    }
   ],
   "source": [
    "list1[-2]"
   ]
  },
  {
   "cell_type": "code",
   "execution_count": 64,
   "id": "1de25391",
   "metadata": {},
   "outputs": [
    {
     "data": {
      "text/plain": [
       "2"
      ]
     },
     "execution_count": 64,
     "metadata": {},
     "output_type": "execute_result"
    }
   ],
   "source": [
    "list1[-3]"
   ]
  },
  {
   "cell_type": "code",
   "execution_count": 65,
   "id": "01fb241c",
   "metadata": {},
   "outputs": [
    {
     "data": {
      "text/plain": [
       "1"
      ]
     },
     "execution_count": 65,
     "metadata": {},
     "output_type": "execute_result"
    }
   ],
   "source": [
    "list1[-4]"
   ]
  },
  {
   "cell_type": "code",
   "execution_count": 67,
   "id": "d7d9f1cc",
   "metadata": {},
   "outputs": [
    {
     "ename": "IndexError",
     "evalue": "list index out of range",
     "output_type": "error",
     "traceback": [
      "\u001b[1;31m---------------------------------------------------------------------------\u001b[0m",
      "\u001b[1;31mIndexError\u001b[0m                                Traceback (most recent call last)",
      "Cell \u001b[1;32mIn[67], line 1\u001b[0m\n\u001b[1;32m----> 1\u001b[0m list1[\u001b[38;5;241m-\u001b[39m\u001b[38;5;241m5\u001b[39m]\n",
      "\u001b[1;31mIndexError\u001b[0m: list index out of range"
     ]
    }
   ],
   "source": [
    "list1[-5]"
   ]
  },
  {
   "cell_type": "code",
   "execution_count": 68,
   "id": "04157586",
   "metadata": {},
   "outputs": [
    {
     "name": "stdout",
     "output_type": "stream",
     "text": [
      "The positive index of 1 is 0 and negative index is -4\n",
      "The positive index of 2 is 1 and negative index is -3\n",
      "The positive index of 3 is 2 and negative index is -2\n",
      "The positive index of 4 is 3 and negative index is -1\n"
     ]
    }
   ],
   "source": [
    "for i in range(len(list1)):\n",
    "    print(\"The positive index of {} is {} and negative index is {}\".format(list1[i],i,i-len(list1)))"
   ]
  },
  {
   "cell_type": "code",
   "execution_count": 71,
   "id": "42c831fd",
   "metadata": {},
   "outputs": [
    {
     "name": "stdout",
     "output_type": "stream",
     "text": [
      "Ab\n",
      "Cd\n",
      "Ef\n"
     ]
    }
   ],
   "source": [
    "#WAP find the elemnts which are having length less than 3\n",
    "list11=['Apple','Ball','Cat',\"Ab\",'Cd','Ef']\n",
    "for i in range(len(list11)):\n",
    "    if len(list11[i])<3:\n",
    "        print(list11[i])"
   ]
  },
  {
   "cell_type": "code",
   "execution_count": 72,
   "id": "17006521",
   "metadata": {},
   "outputs": [
    {
     "name": "stdout",
     "output_type": "stream",
     "text": [
      "Ab\n",
      "Cd\n",
      "Ef\n"
     ]
    }
   ],
   "source": [
    "for i in list11:\n",
    "    if len(i)<3:\n",
    "        print(i)"
   ]
  },
  {
   "cell_type": "code",
   "execution_count": 73,
   "id": "53717e27",
   "metadata": {},
   "outputs": [
    {
     "name": "stdout",
     "output_type": "stream",
     "text": [
      "App#e\n",
      "B#ll\n",
      "C#t\n"
     ]
    }
   ],
   "source": [
    "#WAP find the elemnts which are having #\n",
    "list22=['App#e','B#ll','C#t','Ab','Cd','Ef']\n",
    "for i in list22:\n",
    "    if '#' in i:\n",
    "        print(i)"
   ]
  },
  {
   "cell_type": "code",
   "execution_count": 74,
   "id": "802fa2bb",
   "metadata": {},
   "outputs": [
    {
     "name": "stdout",
     "output_type": "stream",
     "text": [
      "App#e\n",
      "B#ll\n",
      "C#t\n",
      "3\n"
     ]
    }
   ],
   "source": [
    "#WAP to count and find the elemnts which are having #\n",
    "list22=['App#e','B#ll','C#t','Ab','Cd','Ef']\n",
    "count=0\n",
    "for i in list22:\n",
    "    if '#' in i:\n",
    "        count=count+1\n",
    "        print(i)\n",
    "print(count)"
   ]
  },
  {
   "cell_type": "code",
   "execution_count": 76,
   "id": "a2d92d4e",
   "metadata": {},
   "outputs": [
    {
     "data": {
      "text/plain": [
       "'Ball'"
      ]
     },
     "execution_count": 76,
     "metadata": {},
     "output_type": "execute_result"
    }
   ],
   "source": [
    "list1=[1,2,3,['Apple','Ball']]\n",
    "#retrive the ball using index\n",
    "list1[3][1]"
   ]
  },
  {
   "cell_type": "code",
   "execution_count": 84,
   "id": "f6a6f928",
   "metadata": {},
   "outputs": [
    {
     "data": {
      "text/plain": [
       "'Cherry'"
      ]
     },
     "execution_count": 84,
     "metadata": {},
     "output_type": "execute_result"
    }
   ],
   "source": [
    "list2=[[[[[[['Cherry']]]]]]]\n",
    "list2[0][0][0][0][0][0][0]"
   ]
  },
  {
   "cell_type": "code",
   "execution_count": 94,
   "id": "9f96247a",
   "metadata": {},
   "outputs": [
    {
     "data": {
      "text/plain": [
       "'car'"
      ]
     },
     "execution_count": 94,
     "metadata": {},
     "output_type": "execute_result"
    }
   ],
   "source": [
    "#WAP \n",
    "list3=[[[['A','B',[[[1,2,3,['car']]]]]]]]\n",
    "#car\n",
    "list3[0][0][0][2][0][0][3][0]"
   ]
  },
  {
   "cell_type": "markdown",
   "id": "47de32c0",
   "metadata": {},
   "source": [
    "**Mutable**"
   ]
  },
  {
   "cell_type": "code",
   "execution_count": 95,
   "id": "638e9fc4",
   "metadata": {},
   "outputs": [
    {
     "data": {
      "text/plain": [
       "[1, 2, 1000, 4]"
      ]
     },
     "execution_count": 95,
     "metadata": {},
     "output_type": "execute_result"
    }
   ],
   "source": [
    "list4=[1,2,3,4]\n",
    "list4[2]=1000\n",
    "list4\n",
    "#lists are mutable"
   ]
  },
  {
   "cell_type": "markdown",
   "id": "aabc9dbc",
   "metadata": {},
   "source": [
    "**slice**"
   ]
  },
  {
   "cell_type": "code",
   "execution_count": 96,
   "id": "998a0320",
   "metadata": {},
   "outputs": [
    {
     "name": "stdout",
     "output_type": "stream",
     "text": [
      "[30, 'P', 'H', 'a']\n",
      "[]\n",
      "[]\n",
      "[30]\n",
      "['c']\n",
      "[]\n",
      "['c', 'N', 'T', 50]\n",
      "[]\n"
     ]
    }
   ],
   "source": [
    "list1=[10,20,30,40,50,'P','Y','T','H','O','N','a','b','c','D']\n",
    "print(list1[2:14:3])#[30,'P','H','a','D']\n",
    "print(list1[2:14:-3])#not possible []\n",
    "print(list1[2:-14:3]) #not possible []\n",
    "print(list1[2:-14:-3]) #possible [30]\n",
    "print(list1[-2:14:3])#possible ['c']\n",
    "print(list1[-2:-14:3])#not possible \n",
    "print(list1[-2:-14:-3])#possible ['c','N','T',50,20]\n",
    "print(list1[-2:14:-3])#not possible []"
   ]
  },
  {
   "cell_type": "code",
   "execution_count": 98,
   "id": "66fd7380",
   "metadata": {},
   "outputs": [
    {
     "data": {
      "text/plain": [
       "['__add__',\n",
       " '__class__',\n",
       " '__class_getitem__',\n",
       " '__contains__',\n",
       " '__delattr__',\n",
       " '__delitem__',\n",
       " '__dir__',\n",
       " '__doc__',\n",
       " '__eq__',\n",
       " '__format__',\n",
       " '__ge__',\n",
       " '__getattribute__',\n",
       " '__getitem__',\n",
       " '__getstate__',\n",
       " '__gt__',\n",
       " '__hash__',\n",
       " '__iadd__',\n",
       " '__imul__',\n",
       " '__init__',\n",
       " '__init_subclass__',\n",
       " '__iter__',\n",
       " '__le__',\n",
       " '__len__',\n",
       " '__lt__',\n",
       " '__mul__',\n",
       " '__ne__',\n",
       " '__new__',\n",
       " '__reduce__',\n",
       " '__reduce_ex__',\n",
       " '__repr__',\n",
       " '__reversed__',\n",
       " '__rmul__',\n",
       " '__setattr__',\n",
       " '__setitem__',\n",
       " '__sizeof__',\n",
       " '__str__',\n",
       " '__subclasshook__',\n",
       " 'append',\n",
       " 'clear',\n",
       " 'copy',\n",
       " 'count',\n",
       " 'extend',\n",
       " 'index',\n",
       " 'insert',\n",
       " 'pop',\n",
       " 'remove',\n",
       " 'reverse',\n",
       " 'sort']"
      ]
     },
     "execution_count": 98,
     "metadata": {},
     "output_type": "execute_result"
    }
   ],
   "source": [
    "dir([])"
   ]
  },
  {
   "cell_type": "markdown",
   "id": "e7c9e3a8",
   "metadata": {},
   "source": [
    "**clear-copy**"
   ]
  },
  {
   "cell_type": "code",
   "execution_count": 97,
   "id": "e9e1bae4",
   "metadata": {},
   "outputs": [
    {
     "data": {
      "text/plain": [
       "[1, 2, 3, 4]"
      ]
     },
     "execution_count": 97,
     "metadata": {},
     "output_type": "execute_result"
    }
   ],
   "source": [
    "list1=[1,2,3,4]\n",
    "#I want to copy these elements into a list 2\n",
    "list2=list1.copy()\n",
    "list2"
   ]
  },
  {
   "cell_type": "code",
   "execution_count": 99,
   "id": "bcc7bedc",
   "metadata": {},
   "outputs": [],
   "source": [
    "list1.clear()"
   ]
  },
  {
   "cell_type": "code",
   "execution_count": 100,
   "id": "d6b4341a",
   "metadata": {},
   "outputs": [
    {
     "data": {
      "text/plain": [
       "[]"
      ]
     },
     "execution_count": 100,
     "metadata": {},
     "output_type": "execute_result"
    }
   ],
   "source": [
    "list1"
   ]
  },
  {
   "cell_type": "code",
   "execution_count": 101,
   "id": "411d3860",
   "metadata": {
    "scrolled": true
   },
   "outputs": [
    {
     "data": {
      "text/plain": [
       "[1, 2, 3, 4]"
      ]
     },
     "execution_count": 101,
     "metadata": {},
     "output_type": "execute_result"
    }
   ],
   "source": [
    "list2"
   ]
  },
  {
   "cell_type": "code",
   "execution_count": null,
   "id": "4aa740bd",
   "metadata": {},
   "outputs": [],
   "source": [
    "#Side heading\n",
    "#Write the code\n",
    "# insight/observation from above code"
   ]
  },
  {
   "cell_type": "markdown",
   "id": "a5ef369c",
   "metadata": {},
   "source": [
    "$17-11-2023$"
   ]
  },
  {
   "cell_type": "markdown",
   "id": "32ab0224",
   "metadata": {},
   "source": [
    "**append**"
   ]
  },
  {
   "cell_type": "code",
   "execution_count": 3,
   "id": "d9e23887",
   "metadata": {},
   "outputs": [
    {
     "data": {
      "text/plain": [
       "[100, 200, 300]"
      ]
     },
     "execution_count": 3,
     "metadata": {},
     "output_type": "execute_result"
    }
   ],
   "source": [
    "#adds something at the end\n",
    "list1=[100,200]\n",
    "list1.append(300)\n",
    "list1"
   ]
  },
  {
   "cell_type": "code",
   "execution_count": 5,
   "id": "b0490cc0",
   "metadata": {},
   "outputs": [
    {
     "data": {
      "text/plain": [
       "[100, 200, 300]"
      ]
     },
     "execution_count": 5,
     "metadata": {},
     "output_type": "execute_result"
    }
   ],
   "source": [
    "list1=[]\n",
    "list1.append(100)\n",
    "list1.append(200)\n",
    "list1.append(300)\n",
    "list1"
   ]
  },
  {
   "cell_type": "code",
   "execution_count": 6,
   "id": "3aa23827",
   "metadata": {
    "collapsed": true
   },
   "outputs": [
    {
     "ename": "TypeError",
     "evalue": "list.append() takes exactly one argument (2 given)",
     "output_type": "error",
     "traceback": [
      "\u001b[1;31m---------------------------------------------------------------------------\u001b[0m",
      "\u001b[1;31mTypeError\u001b[0m                                 Traceback (most recent call last)",
      "Cell \u001b[1;32mIn[6], line 1\u001b[0m\n\u001b[1;32m----> 1\u001b[0m list1\u001b[38;5;241m.\u001b[39mappend(\u001b[38;5;241m100\u001b[39m,\u001b[38;5;241m200\u001b[39m)\n\u001b[0;32m      2\u001b[0m list1\n",
      "\u001b[1;31mTypeError\u001b[0m: list.append() takes exactly one argument (2 given)"
     ]
    }
   ],
   "source": [
    "list1.append(100,200)\n",
    "list1"
   ]
  },
  {
   "cell_type": "code",
   "execution_count": 7,
   "id": "e962ca5d",
   "metadata": {},
   "outputs": [
    {
     "data": {
      "text/plain": [
       "[100, 200, 300, [100, 200]]"
      ]
     },
     "execution_count": 7,
     "metadata": {},
     "output_type": "execute_result"
    }
   ],
   "source": [
    "list1.append([100,200])\n",
    "list1"
   ]
  },
  {
   "cell_type": "code",
   "execution_count": 8,
   "id": "514a8494",
   "metadata": {
    "collapsed": true
   },
   "outputs": [
    {
     "data": {
      "text/plain": [
       "[100, 200, 300, [100, 200], 'apple']"
      ]
     },
     "execution_count": 8,
     "metadata": {},
     "output_type": "execute_result"
    }
   ],
   "source": [
    "list1.append('apple')\n",
    "list1"
   ]
  },
  {
   "cell_type": "code",
   "execution_count": 10,
   "id": "32190d9a",
   "metadata": {},
   "outputs": [
    {
     "name": "stdout",
     "output_type": "stream",
     "text": [
      "1\n",
      "4\n",
      "9\n",
      "16\n",
      "25\n",
      "36\n",
      "49\n",
      "64\n",
      "81\n",
      "100\n"
     ]
    }
   ],
   "source": [
    "list1=[1,2,3,4,5,6,7,8,9,10]\n",
    "#create a new list =[1,4,9,16,25]\n",
    "for i in list1:\n",
    "    print(i*i)"
   ]
  },
  {
   "cell_type": "code",
   "execution_count": 13,
   "id": "6ab6d56c",
   "metadata": {},
   "outputs": [
    {
     "data": {
      "text/plain": [
       "[1, 4, 9, 16, 25, 36, 49, 64, 81, 100]"
      ]
     },
     "execution_count": 13,
     "metadata": {},
     "output_type": "execute_result"
    }
   ],
   "source": [
    "#I dont want to print the values, I want to save the values in a list\n",
    "op=[]\n",
    "for i in list1:\n",
    "    op.append(i**2)   \n",
    "op"
   ]
  },
  {
   "cell_type": "code",
   "execution_count": 16,
   "id": "ef395409",
   "metadata": {
    "collapsed": true
   },
   "outputs": [
    {
     "data": {
      "text/plain": [
       "['Hyd', 'Bglr', 'Delhi']"
      ]
     },
     "execution_count": 16,
     "metadata": {},
     "output_type": "execute_result"
    }
   ],
   "source": [
    "list2=['hyd','bglr','delhi']\n",
    "#output: ['Hyd','Bglr','Delhi']\n",
    "op=[]\n",
    "for i in list2:\n",
    "    i=i.capitalize()\n",
    "    op.append(i)\n",
    "op"
   ]
  },
  {
   "cell_type": "code",
   "execution_count": 17,
   "id": "903d2bc8",
   "metadata": {
    "collapsed": true
   },
   "outputs": [
    {
     "data": {
      "text/plain": [
       "['h#d', 'beng#luru']"
      ]
     },
     "execution_count": 17,
     "metadata": {},
     "output_type": "execute_result"
    }
   ],
   "source": [
    "list3=['h#d','beng#luru','delhi']\n",
    "#output: elements with #\n",
    "op=[]\n",
    "for i in list3:\n",
    "    if '#' in i:\n",
    "        op.append(i)\n",
    "op        "
   ]
  },
  {
   "cell_type": "markdown",
   "id": "f532bab0",
   "metadata": {},
   "source": [
    "**List Comprehension**"
   ]
  },
  {
   "cell_type": "code",
   "execution_count": 20,
   "id": "7529d911",
   "metadata": {
    "collapsed": true
   },
   "outputs": [
    {
     "data": {
      "text/plain": [
       "[1, 4, 9, 16, 25]"
      ]
     },
     "execution_count": 20,
     "metadata": {},
     "output_type": "execute_result"
    }
   ],
   "source": [
    "#code in a single line========> speed up the process\n",
    "list1=[1,2,3,4,5]\n",
    "op=[]\n",
    "for i in list1:\n",
    "    op.append(i**2)   \n",
    "op\n",
    "#step1: initialize the list output=[]\n",
    "#step2: iterate the list\n",
    "#step3: you save the output\n",
    "output1=[i*i for i in list1]\n",
    "output1\n",
    "#list comprehension"
   ]
  },
  {
   "cell_type": "code",
   "execution_count": 21,
   "id": "c23bcc41",
   "metadata": {
    "collapsed": true
   },
   "outputs": [
    {
     "data": {
      "text/plain": [
       "['Hyd', 'Bglr', 'Delhi']"
      ]
     },
     "execution_count": 21,
     "metadata": {},
     "output_type": "execute_result"
    }
   ],
   "source": [
    "op2=[i.capitalize() for i in list2]\n",
    "op2"
   ]
  },
  {
   "cell_type": "code",
   "execution_count": 24,
   "id": "4f9e026f",
   "metadata": {
    "collapsed": true
   },
   "outputs": [
    {
     "data": {
      "text/plain": [
       "[1, 2, 3, 4, 5, 6, 7, 8, 9, 10, 11, 12, 13, 14, 15, 16, 17, 18, 19, 20]"
      ]
     },
     "execution_count": 24,
     "metadata": {},
     "output_type": "execute_result"
    }
   ],
   "source": [
    "#Create the list of 20 numbers from 1 to 20\n",
    "op3=[i for i in range(1,21)]\n",
    "op3\n",
    "op2=[]\n",
    "for i in range(1,21):\n",
    "    op2.append(i)\n",
    "op2"
   ]
  },
  {
   "cell_type": "code",
   "execution_count": 27,
   "id": "7b5eedeb",
   "metadata": {
    "collapsed": true
   },
   "outputs": [
    {
     "data": {
      "text/plain": [
       "['h#d', 'beng#luru']"
      ]
     },
     "execution_count": 27,
     "metadata": {},
     "output_type": "execute_result"
    }
   ],
   "source": [
    "#list comprehension with if condition\n",
    "list3=['h#d','beng#luru','delhi']\n",
    "#output: elements with #\n",
    "op=[]\n",
    "for i in list3:\n",
    "    if '#' in i:\n",
    "        op.append(i)\n",
    "op"
   ]
  },
  {
   "cell_type": "code",
   "execution_count": 28,
   "id": "edc39c49",
   "metadata": {
    "collapsed": true
   },
   "outputs": [
    {
     "data": {
      "text/plain": [
       "['h#d', 'beng#luru']"
      ]
     },
     "execution_count": 28,
     "metadata": {},
     "output_type": "execute_result"
    }
   ],
   "source": [
    "op4=[i for i in list3 if '#' in i]\n",
    "op4\n",
    "outpu1=[<o/p> <for loop> <if_condn>]"
   ]
  },
  {
   "cell_type": "code",
   "execution_count": 29,
   "id": "2b49a939",
   "metadata": {},
   "outputs": [
    {
     "data": {
      "text/plain": [
       "['ac', 'a']"
      ]
     },
     "execution_count": 29,
     "metadata": {},
     "output_type": "execute_result"
    }
   ],
   "source": [
    "list4=['abcd','abc','ac','a']\n",
    "op5=[i for i in list4 if len(i)<3]\n",
    "op5"
   ]
  },
  {
   "cell_type": "code",
   "execution_count": 31,
   "id": "9ec6c4f1",
   "metadata": {
    "collapsed": true
   },
   "outputs": [
    {
     "data": {
      "text/plain": [
       "['Odd:1', 'Even:2', 'Odd:3', 'Even:4', 'Odd:5', 'Even:6']"
      ]
     },
     "execution_count": 31,
     "metadata": {},
     "output_type": "execute_result"
    }
   ],
   "source": [
    "#list comprehension with if-else\n",
    "list1=[1,2,3,4,5,6]\n",
    "oput=[]\n",
    "for i in list1:\n",
    "    if i%2==0:\n",
    "        oput.append('Even:{}'.format(i))\n",
    "    else:\n",
    "        oput.append('Odd:{}'.format(i))\n",
    "oput"
   ]
  },
  {
   "cell_type": "code",
   "execution_count": 36,
   "id": "30f6414d",
   "metadata": {
    "collapsed": true
   },
   "outputs": [
    {
     "data": {
      "text/plain": [
       "['Odd:1', 'Even:2', 'Odd:3', 'Even:4', 'Odd:5', 'Even:6']"
      ]
     },
     "execution_count": 36,
     "metadata": {},
     "output_type": "execute_result"
    }
   ],
   "source": [
    "op6=['Even:{}'.format(i) if i%2==0 else'Odd:{}'.format(i) for i in list1]\n",
    "op6\n",
    "# [<if_output><if_condn>else<else condn><for_loop>]"
   ]
  },
  {
   "cell_type": "markdown",
   "id": "c3f00c8d",
   "metadata": {},
   "source": [
    "**count**"
   ]
  },
  {
   "cell_type": "code",
   "execution_count": 37,
   "id": "be598348",
   "metadata": {
    "collapsed": true
   },
   "outputs": [
    {
     "data": {
      "text/plain": [
       "3"
      ]
     },
     "execution_count": 37,
     "metadata": {},
     "output_type": "execute_result"
    }
   ],
   "source": [
    "list1=[1,2,3,'A','B','B','B','C']\n",
    "list1.count('B')"
   ]
  },
  {
   "cell_type": "code",
   "execution_count": 39,
   "id": "a5dee8d7",
   "metadata": {
    "collapsed": true
   },
   "outputs": [
    {
     "data": {
      "text/plain": [
       "3"
      ]
     },
     "execution_count": 39,
     "metadata": {},
     "output_type": "execute_result"
    }
   ],
   "source": [
    "#\n",
    "count=0\n",
    "for i in list1:\n",
    "    if i=='B':\n",
    "        count+=1\n",
    "count"
   ]
  },
  {
   "cell_type": "markdown",
   "id": "0b26d7c7",
   "metadata": {},
   "source": [
    "**extend**"
   ]
  },
  {
   "cell_type": "code",
   "execution_count": 46,
   "id": "02179043",
   "metadata": {},
   "outputs": [],
   "source": [
    "list1=['A','B','C']\n",
    "list2=[1,2,3]\n",
    "list1.extend(list2)"
   ]
  },
  {
   "cell_type": "code",
   "execution_count": 41,
   "id": "37936db7",
   "metadata": {
    "collapsed": true
   },
   "outputs": [
    {
     "data": {
      "text/plain": [
       "['A', 'B', 'C', 1, 2, 3]"
      ]
     },
     "execution_count": 41,
     "metadata": {},
     "output_type": "execute_result"
    }
   ],
   "source": [
    "list1"
   ]
  },
  {
   "cell_type": "code",
   "execution_count": 49,
   "id": "2f3c96bc",
   "metadata": {},
   "outputs": [],
   "source": [
    "list1=['A','B','C']\n",
    "list2=[1,2,3]\n",
    "list1.append(list2)"
   ]
  },
  {
   "cell_type": "code",
   "execution_count": 50,
   "id": "306351eb",
   "metadata": {
    "collapsed": true
   },
   "outputs": [
    {
     "data": {
      "text/plain": [
       "['A', 'B', 'C', [1, 2, 3]]"
      ]
     },
     "execution_count": 50,
     "metadata": {},
     "output_type": "execute_result"
    }
   ],
   "source": [
    "list1"
   ]
  },
  {
   "cell_type": "code",
   "execution_count": 51,
   "id": "ac076de2",
   "metadata": {
    "collapsed": true
   },
   "outputs": [
    {
     "data": {
      "text/plain": [
       "['A', 'B', 'C']"
      ]
     },
     "execution_count": 51,
     "metadata": {},
     "output_type": "execute_result"
    }
   ],
   "source": [
    "list1=['A','B','C']\n",
    "list1+list2\n",
    "list1"
   ]
  },
  {
   "cell_type": "code",
   "execution_count": null,
   "id": "b2ce39bb",
   "metadata": {},
   "outputs": [],
   "source": [
    "- append vs extend vs concat\n",
    "- append will add the element at last, that element can be of any type\n",
    "- list1=[1,2,3]\n",
    "- list2=['A','B']\n",
    "- list1.append=[1,2,3,['A','B']]\n",
    "- extend will update the list by adding new elements and the result will also save in the same list\n",
    "- list1=[1,2,3]\n",
    "- list2=['A','B']\n",
    "- list1.extend=[1,2,3,'A','B']\n",
    "- concat will add the two lists, but the result will not update in the same list \n",
    "- list1=[1,2,3]\n",
    "- list2=['A','B']\n",
    "- list1+list2=[1,2,3,'A','B']"
   ]
  },
  {
   "cell_type": "markdown",
   "id": "c9862c0e",
   "metadata": {},
   "source": [
    "**Iterator**"
   ]
  },
  {
   "cell_type": "code",
   "execution_count": null,
   "id": "12d1f84d",
   "metadata": {},
   "outputs": [],
   "source": [
    "- iterator word-----> loop\n",
    "- if the elements we can print using for loop\n",
    "- string='python'--we can print each letter using for loop\n",
    "- list1=[1,2,3]--we can print each element using for loop"
   ]
  },
  {
   "cell_type": "code",
   "execution_count": 54,
   "id": "9bd15184",
   "metadata": {
    "collapsed": true
   },
   "outputs": [
    {
     "data": {
      "text/plain": [
       "<reversed at 0x2089279aad0>"
      ]
     },
     "execution_count": 54,
     "metadata": {},
     "output_type": "execute_result"
    }
   ],
   "source": [
    "val=reversed('python')\n",
    "val"
   ]
  },
  {
   "cell_type": "code",
   "execution_count": 55,
   "id": "e0575d07",
   "metadata": {
    "collapsed": true
   },
   "outputs": [
    {
     "name": "stdout",
     "output_type": "stream",
     "text": [
      "n\n",
      "o\n",
      "h\n",
      "t\n",
      "y\n",
      "p\n"
     ]
    }
   ],
   "source": [
    "for i in val:\n",
    "    print(i)"
   ]
  },
  {
   "cell_type": "code",
   "execution_count": 56,
   "id": "8d6342d1",
   "metadata": {
    "collapsed": true
   },
   "outputs": [
    {
     "data": {
      "text/plain": [
       "[1, 2, 3, 1, 2, 3, 4]"
      ]
     },
     "execution_count": 56,
     "metadata": {},
     "output_type": "execute_result"
    }
   ],
   "source": [
    "list1=[1,2,3]\n",
    "list1.extend([1,2,3,4])\n",
    "list1"
   ]
  },
  {
   "cell_type": "code",
   "execution_count": 129,
   "id": "45506563",
   "metadata": {
    "collapsed": true
   },
   "outputs": [
    {
     "data": {
      "text/plain": [
       "[1, 2, 3, 'p', 'y', 't', 'h', 'o', 'n']"
      ]
     },
     "execution_count": 129,
     "metadata": {},
     "output_type": "execute_result"
    }
   ],
   "source": [
    "list1=[1,2,3]\n",
    "list1.extend('python')\n",
    "list1"
   ]
  },
  {
   "cell_type": "code",
   "execution_count": 58,
   "id": "59493b8a",
   "metadata": {
    "collapsed": true
   },
   "outputs": [
    {
     "data": {
      "text/plain": [
       "[1, 2, 3, 'p']"
      ]
     },
     "execution_count": 58,
     "metadata": {},
     "output_type": "execute_result"
    }
   ],
   "source": [
    "list1=[1,2,3]\n",
    "list1.extend('p')\n",
    "list1"
   ]
  },
  {
   "cell_type": "code",
   "execution_count": 59,
   "id": "3aa1b5d5",
   "metadata": {
    "collapsed": true
   },
   "outputs": [
    {
     "ename": "TypeError",
     "evalue": "'int' object is not iterable",
     "output_type": "error",
     "traceback": [
      "\u001b[1;31m---------------------------------------------------------------------------\u001b[0m",
      "\u001b[1;31mTypeError\u001b[0m                                 Traceback (most recent call last)",
      "Cell \u001b[1;32mIn[59], line 2\u001b[0m\n\u001b[0;32m      1\u001b[0m list1\u001b[38;5;241m=\u001b[39m[\u001b[38;5;241m1\u001b[39m,\u001b[38;5;241m2\u001b[39m,\u001b[38;5;241m3\u001b[39m]\n\u001b[1;32m----> 2\u001b[0m list1\u001b[38;5;241m.\u001b[39mextend(\u001b[38;5;241m1\u001b[39m)\n\u001b[0;32m      3\u001b[0m list1\n",
      "\u001b[1;31mTypeError\u001b[0m: 'int' object is not iterable"
     ]
    }
   ],
   "source": [
    "list1=[1,2,3]\n",
    "list1.extend(1)\n",
    "list1"
   ]
  },
  {
   "cell_type": "code",
   "execution_count": 60,
   "id": "cb51e394",
   "metadata": {
    "collapsed": true
   },
   "outputs": [
    {
     "ename": "TypeError",
     "evalue": "'float' object is not iterable",
     "output_type": "error",
     "traceback": [
      "\u001b[1;31m---------------------------------------------------------------------------\u001b[0m",
      "\u001b[1;31mTypeError\u001b[0m                                 Traceback (most recent call last)",
      "Cell \u001b[1;32mIn[60], line 2\u001b[0m\n\u001b[0;32m      1\u001b[0m list1\u001b[38;5;241m=\u001b[39m[\u001b[38;5;241m1\u001b[39m,\u001b[38;5;241m2\u001b[39m,\u001b[38;5;241m3\u001b[39m]\n\u001b[1;32m----> 2\u001b[0m list1\u001b[38;5;241m.\u001b[39mextend(\u001b[38;5;241m2.33\u001b[39m)\n\u001b[0;32m      3\u001b[0m list1\n",
      "\u001b[1;31mTypeError\u001b[0m: 'float' object is not iterable"
     ]
    }
   ],
   "source": [
    "list1=[1,2,3]\n",
    "list1.extend(2.33)\n",
    "list1"
   ]
  },
  {
   "cell_type": "code",
   "execution_count": 67,
   "id": "8814dfab",
   "metadata": {
    "collapsed": true
   },
   "outputs": [
    {
     "data": {
      "text/plain": [
       "[1, 2, 3, 'p', 'y', 't', 'h', 'o', 'n']"
      ]
     },
     "execution_count": 67,
     "metadata": {},
     "output_type": "execute_result"
    }
   ],
   "source": [
    "a='python'\n",
    "list1=[1,2,3]\n",
    "list1.extend(a)\n",
    "list1"
   ]
  },
  {
   "cell_type": "code",
   "execution_count": 62,
   "id": "ca04bf31",
   "metadata": {
    "collapsed": true
   },
   "outputs": [
    {
     "data": {
      "text/plain": [
       "[1, 2, 3, 1, 2, 3, 4]"
      ]
     },
     "execution_count": 62,
     "metadata": {},
     "output_type": "execute_result"
    }
   ],
   "source": [
    "a=[1,2,3,4]\n",
    "list1=[1,2,3]\n",
    "list1.extend(a)\n",
    "list1"
   ]
  },
  {
   "cell_type": "code",
   "execution_count": 63,
   "id": "2b6d15db",
   "metadata": {
    "collapsed": true
   },
   "outputs": [
    {
     "ename": "TypeError",
     "evalue": "'int' object is not iterable",
     "output_type": "error",
     "traceback": [
      "\u001b[1;31m---------------------------------------------------------------------------\u001b[0m",
      "\u001b[1;31mTypeError\u001b[0m                                 Traceback (most recent call last)",
      "Cell \u001b[1;32mIn[63], line 3\u001b[0m\n\u001b[0;32m      1\u001b[0m a\u001b[38;5;241m=\u001b[39m\u001b[38;5;241m200\u001b[39m\n\u001b[0;32m      2\u001b[0m list1\u001b[38;5;241m=\u001b[39m[\u001b[38;5;241m1\u001b[39m,\u001b[38;5;241m2\u001b[39m,\u001b[38;5;241m3\u001b[39m]\n\u001b[1;32m----> 3\u001b[0m list1\u001b[38;5;241m.\u001b[39mextend(a)\n\u001b[0;32m      4\u001b[0m list1\n",
      "\u001b[1;31mTypeError\u001b[0m: 'int' object is not iterable"
     ]
    }
   ],
   "source": [
    "a=200\n",
    "list1=[1,2,3]\n",
    "list1.extend(a)\n",
    "list1"
   ]
  },
  {
   "cell_type": "markdown",
   "id": "4677d51b",
   "metadata": {},
   "source": [
    "**pop/remove/del**"
   ]
  },
  {
   "cell_type": "code",
   "execution_count": 68,
   "id": "8c6e5aca",
   "metadata": {
    "collapsed": true
   },
   "outputs": [
    {
     "data": {
      "text/plain": [
       "[1, 2, 3, 'p', 'y', 't', 'h', 'o', 'n', 'python']"
      ]
     },
     "execution_count": 68,
     "metadata": {},
     "output_type": "execute_result"
    }
   ],
   "source": [
    "list1.append('python')\n",
    "list1"
   ]
  },
  {
   "cell_type": "code",
   "execution_count": 69,
   "id": "88c61371",
   "metadata": {
    "collapsed": true
   },
   "outputs": [
    {
     "data": {
      "text/plain": [
       "'python'"
      ]
     },
     "execution_count": 69,
     "metadata": {},
     "output_type": "execute_result"
    }
   ],
   "source": [
    "list1.pop()\n",
    "# in side bracket default argument is there---index=-1\n",
    "#if any other value is not given, it will remove last value\n",
    "#if i provide any index, it will remove that element\n",
    "# it will return the element which we are removing"
   ]
  },
  {
   "cell_type": "code",
   "execution_count": 130,
   "id": "55ec2ace",
   "metadata": {
    "collapsed": true
   },
   "outputs": [
    {
     "data": {
      "text/plain": [
       "[1, 2, 3, 'p', 'y', 't', 'h', 'o', 'n']"
      ]
     },
     "execution_count": 130,
     "metadata": {},
     "output_type": "execute_result"
    }
   ],
   "source": [
    "list1"
   ]
  },
  {
   "cell_type": "code",
   "execution_count": 71,
   "id": "9cd85438",
   "metadata": {
    "collapsed": true
   },
   "outputs": [
    {
     "data": {
      "text/plain": [
       "'t'"
      ]
     },
     "execution_count": 71,
     "metadata": {},
     "output_type": "execute_result"
    }
   ],
   "source": [
    "list1.pop(5)"
   ]
  },
  {
   "cell_type": "code",
   "execution_count": 131,
   "id": "a3fbfaa4",
   "metadata": {
    "collapsed": true
   },
   "outputs": [
    {
     "data": {
      "text/plain": [
       "'t'"
      ]
     },
     "execution_count": 131,
     "metadata": {},
     "output_type": "execute_result"
    }
   ],
   "source": [
    "list1.pop(list1.index('t'))"
   ]
  },
  {
   "cell_type": "code",
   "execution_count": 72,
   "id": "be110527",
   "metadata": {
    "collapsed": true
   },
   "outputs": [
    {
     "data": {
      "text/plain": [
       "[1, 2, 3, 'p', 'y', 'h', 'o', 'n']"
      ]
     },
     "execution_count": 72,
     "metadata": {},
     "output_type": "execute_result"
    }
   ],
   "source": [
    "list1"
   ]
  },
  {
   "cell_type": "code",
   "execution_count": 73,
   "id": "1c974577",
   "metadata": {
    "collapsed": true
   },
   "outputs": [
    {
     "ename": "IndexError",
     "evalue": "pop index out of range",
     "output_type": "error",
     "traceback": [
      "\u001b[1;31m---------------------------------------------------------------------------\u001b[0m",
      "\u001b[1;31mIndexError\u001b[0m                                Traceback (most recent call last)",
      "Cell \u001b[1;32mIn[73], line 1\u001b[0m\n\u001b[1;32m----> 1\u001b[0m list1\u001b[38;5;241m.\u001b[39mpop(\u001b[38;5;241m100\u001b[39m)\n",
      "\u001b[1;31mIndexError\u001b[0m: pop index out of range"
     ]
    }
   ],
   "source": [
    "list1.pop(100)"
   ]
  },
  {
   "cell_type": "code",
   "execution_count": 74,
   "id": "669fb7ae",
   "metadata": {},
   "outputs": [],
   "source": [
    "list1=[100,200,100,300] #duplicates are allowed\n",
    "list1.remove(100)#first occurrance will be removed\n",
    "#remove method will not return any value"
   ]
  },
  {
   "cell_type": "code",
   "execution_count": 75,
   "id": "af444968",
   "metadata": {
    "collapsed": true
   },
   "outputs": [
    {
     "data": {
      "text/plain": [
       "[200, 100, 300]"
      ]
     },
     "execution_count": 75,
     "metadata": {},
     "output_type": "execute_result"
    }
   ],
   "source": [
    "list1"
   ]
  },
  {
   "cell_type": "code",
   "execution_count": 76,
   "id": "ab5cfa4d",
   "metadata": {},
   "outputs": [],
   "source": [
    "del(list1)"
   ]
  },
  {
   "cell_type": "code",
   "execution_count": 77,
   "id": "d3263beb",
   "metadata": {
    "collapsed": true
   },
   "outputs": [
    {
     "ename": "NameError",
     "evalue": "name 'list1' is not defined",
     "output_type": "error",
     "traceback": [
      "\u001b[1;31m---------------------------------------------------------------------------\u001b[0m",
      "\u001b[1;31mNameError\u001b[0m                                 Traceback (most recent call last)",
      "Cell \u001b[1;32mIn[77], line 1\u001b[0m\n\u001b[1;32m----> 1\u001b[0m list1\n",
      "\u001b[1;31mNameError\u001b[0m: name 'list1' is not defined"
     ]
    }
   ],
   "source": [
    "list1"
   ]
  },
  {
   "cell_type": "code",
   "execution_count": 138,
   "id": "9b3371ca",
   "metadata": {},
   "outputs": [],
   "source": [
    "list1=[100,200,100,300]"
   ]
  },
  {
   "cell_type": "code",
   "execution_count": 79,
   "id": "33977617",
   "metadata": {},
   "outputs": [],
   "source": [
    "del(list1[2])"
   ]
  },
  {
   "cell_type": "code",
   "execution_count": 139,
   "id": "5c1092f8",
   "metadata": {},
   "outputs": [],
   "source": [
    "del(list1[list1.index(100,list1.index(100)+1)])"
   ]
  },
  {
   "cell_type": "code",
   "execution_count": 140,
   "id": "875fa8c8",
   "metadata": {
    "collapsed": true
   },
   "outputs": [
    {
     "data": {
      "text/plain": [
       "[100, 200, 300]"
      ]
     },
     "execution_count": 140,
     "metadata": {},
     "output_type": "execute_result"
    }
   ],
   "source": [
    "list1"
   ]
  },
  {
   "cell_type": "markdown",
   "id": "01b4bbf9",
   "metadata": {},
   "source": [
    "- del is a keyword\n",
    "- pop will take index\n",
    "- remove will take value\n",
    "- if we dont provide any argument, pop will remove last element by default but remove will give an error\n",
    "- keywords are applicable to all but methods work only on few"
   ]
  },
  {
   "cell_type": "code",
   "execution_count": null,
   "id": "c2bb7164",
   "metadata": {},
   "outputs": [],
   "source": [
    "- index\n",
    "- insert\n",
    "- reverse------------reversed\n",
    "- sort----------------sorted"
   ]
  },
  {
   "cell_type": "code",
   "execution_count": 91,
   "id": "03695575",
   "metadata": {
    "collapsed": true
   },
   "outputs": [
    {
     "data": {
      "text/plain": [
       "[100, 100, 200, 300, 500]"
      ]
     },
     "execution_count": 91,
     "metadata": {},
     "output_type": "execute_result"
    }
   ],
   "source": [
    "list1"
   ]
  },
  {
   "cell_type": "code",
   "execution_count": 83,
   "id": "302b5fe6",
   "metadata": {
    "collapsed": true
   },
   "outputs": [
    {
     "data": {
      "text/plain": [
       "0"
      ]
     },
     "execution_count": 83,
     "metadata": {},
     "output_type": "execute_result"
    }
   ],
   "source": [
    "list1.index(100)"
   ]
  },
  {
   "cell_type": "code",
   "execution_count": 84,
   "id": "c6b8dfbe",
   "metadata": {
    "collapsed": true
   },
   "outputs": [
    {
     "data": {
      "text/plain": [
       "2"
      ]
     },
     "execution_count": 84,
     "metadata": {},
     "output_type": "execute_result"
    }
   ],
   "source": [
    "list1.index(100,1)"
   ]
  },
  {
   "cell_type": "code",
   "execution_count": 96,
   "id": "92a297db",
   "metadata": {
    "collapsed": true
   },
   "outputs": [
    {
     "data": {
      "text/plain": [
       "0"
      ]
     },
     "execution_count": 96,
     "metadata": {},
     "output_type": "execute_result"
    }
   ],
   "source": [
    "list1.index(100,0,1)"
   ]
  },
  {
   "cell_type": "code",
   "execution_count": 85,
   "id": "e5faed4d",
   "metadata": {},
   "outputs": [],
   "source": [
    "list1.insert(2,500)"
   ]
  },
  {
   "cell_type": "code",
   "execution_count": 86,
   "id": "282f31ca",
   "metadata": {
    "collapsed": true
   },
   "outputs": [
    {
     "data": {
      "text/plain": [
       "[100, 200, 500, 100, 300]"
      ]
     },
     "execution_count": 86,
     "metadata": {},
     "output_type": "execute_result"
    }
   ],
   "source": [
    "list1"
   ]
  },
  {
   "cell_type": "code",
   "execution_count": 87,
   "id": "0e913813",
   "metadata": {},
   "outputs": [],
   "source": [
    "list1.reverse()"
   ]
  },
  {
   "cell_type": "code",
   "execution_count": 112,
   "id": "21e38c12",
   "metadata": {
    "scrolled": true
   },
   "outputs": [],
   "source": [
    "list1=[100, 200, 500, 100, 300]"
   ]
  },
  {
   "cell_type": "code",
   "execution_count": 113,
   "id": "4edad00b",
   "metadata": {
    "collapsed": true
   },
   "outputs": [
    {
     "data": {
      "text/plain": [
       "[300, 100, 500, 200, 100]"
      ]
     },
     "execution_count": 113,
     "metadata": {},
     "output_type": "execute_result"
    }
   ],
   "source": [
    "list1.reverse()\n",
    "list1"
   ]
  },
  {
   "cell_type": "code",
   "execution_count": 89,
   "id": "ed210317",
   "metadata": {},
   "outputs": [],
   "source": [
    "list1.sort()"
   ]
  },
  {
   "cell_type": "code",
   "execution_count": 103,
   "id": "cc0121c3",
   "metadata": {
    "collapsed": true
   },
   "outputs": [
    {
     "data": {
      "text/plain": [
       "[100, 100, 200, 300, 500]"
      ]
     },
     "execution_count": 103,
     "metadata": {},
     "output_type": "execute_result"
    }
   ],
   "source": [
    "list1"
   ]
  },
  {
   "cell_type": "code",
   "execution_count": 110,
   "id": "db8d6b13",
   "metadata": {
    "collapsed": true
   },
   "outputs": [
    {
     "data": {
      "text/plain": [
       "[900, 500, 300, 200, 100, 100]"
      ]
     },
     "execution_count": 110,
     "metadata": {},
     "output_type": "execute_result"
    }
   ],
   "source": [
    "list1.sort(reverse=True)\n",
    "list1"
   ]
  },
  {
   "cell_type": "code",
   "execution_count": 104,
   "id": "d71796ea",
   "metadata": {},
   "outputs": [],
   "source": [
    "val=reversed(list1)"
   ]
  },
  {
   "cell_type": "code",
   "execution_count": 105,
   "id": "db658b39",
   "metadata": {
    "collapsed": true
   },
   "outputs": [
    {
     "data": {
      "text/plain": [
       "<list_reverseiterator at 0x208927968f0>"
      ]
     },
     "execution_count": 105,
     "metadata": {},
     "output_type": "execute_result"
    }
   ],
   "source": [
    "val"
   ]
  },
  {
   "cell_type": "code",
   "execution_count": 106,
   "id": "74fec605",
   "metadata": {
    "collapsed": true
   },
   "outputs": [
    {
     "name": "stdout",
     "output_type": "stream",
     "text": [
      "500\n",
      "300\n",
      "200\n",
      "100\n",
      "100\n"
     ]
    }
   ],
   "source": [
    "for i in val:\n",
    "    print(i)"
   ]
  },
  {
   "cell_type": "code",
   "execution_count": 107,
   "id": "ce2cbb6b",
   "metadata": {
    "collapsed": true
   },
   "outputs": [
    {
     "data": {
      "text/plain": [
       "[100, 100, 200, 300, 500]"
      ]
     },
     "execution_count": 107,
     "metadata": {},
     "output_type": "execute_result"
    }
   ],
   "source": [
    "sorted(list1)"
   ]
  },
  {
   "cell_type": "code",
   "execution_count": 108,
   "id": "906ec25a",
   "metadata": {
    "collapsed": true
   },
   "outputs": [
    {
     "data": {
      "text/plain": [
       "[100, 100, 900, 200, 300, 500]"
      ]
     },
     "execution_count": 108,
     "metadata": {},
     "output_type": "execute_result"
    }
   ],
   "source": [
    "list1.insert(2,900)\n",
    "list1"
   ]
  },
  {
   "cell_type": "code",
   "execution_count": 109,
   "id": "6ca6c2c5",
   "metadata": {
    "collapsed": true
   },
   "outputs": [
    {
     "data": {
      "text/plain": [
       "[900, 500, 300, 200, 100, 100]"
      ]
     },
     "execution_count": 109,
     "metadata": {},
     "output_type": "execute_result"
    }
   ],
   "source": [
    "sorted(list1,reverse=True)"
   ]
  },
  {
   "cell_type": "code",
   "execution_count": null,
   "id": "8704dcc0",
   "metadata": {},
   "outputs": [],
   "source": [
    "- index vs multiple values\n",
    "- insert vs append\n",
    "- reverse ascending and descending=====reversed\n",
    "- sort====sorted\n",
    "- difference between reverse and sort\n",
    "#get all the differences all the information"
   ]
  },
  {
   "cell_type": "code",
   "execution_count": null,
   "id": "44bbd71d",
   "metadata": {},
   "outputs": [],
   "source": [
    "#wherever we need to count, use index instead"
   ]
  },
  {
   "cell_type": "code",
   "execution_count": 115,
   "id": "0c9bf7bb",
   "metadata": {},
   "outputs": [],
   "source": [
    "list1=['Ram','Robot','Raheem']\n",
    "list2=[25,30,35]\n",
    "#Ram age is 25 \n",
    "#Robot is age "
   ]
  },
  {
   "cell_type": "code",
   "execution_count": 118,
   "id": "d4acebd8",
   "metadata": {
    "collapsed": true
   },
   "outputs": [
    {
     "data": {
      "text/plain": [
       "['Ram age is 25',\n",
       " 'Ram age is 30',\n",
       " 'Ram age is 35',\n",
       " 'Robot age is 25',\n",
       " 'Robot age is 30',\n",
       " 'Robot age is 35',\n",
       " 'Raheem age is 25',\n",
       " 'Raheem age is 30',\n",
       " 'Raheem age is 35']"
      ]
     },
     "execution_count": 118,
     "metadata": {},
     "output_type": "execute_result"
    }
   ],
   "source": [
    "op=[]\n",
    "for i in list1:\n",
    "    for j in list2:\n",
    "        op.append('{} age is {}'.format(i,j))\n",
    "op"
   ]
  },
  {
   "cell_type": "markdown",
   "id": "75a15332",
   "metadata": {},
   "source": [
    "**zip**"
   ]
  },
  {
   "cell_type": "code",
   "execution_count": 120,
   "id": "2ad0bf78",
   "metadata": {
    "collapsed": true
   },
   "outputs": [
    {
     "name": "stdout",
     "output_type": "stream",
     "text": [
      "Ram age is 25\n",
      "Robot age is 30\n",
      "Raheem age is 35\n"
     ]
    }
   ],
   "source": [
    "for i,j in zip(list1,list2):\n",
    "    print(\"{} age is {}\".format(i,j))"
   ]
  },
  {
   "cell_type": "code",
   "execution_count": 121,
   "id": "52666d94",
   "metadata": {
    "collapsed": true
   },
   "outputs": [
    {
     "data": {
      "text/plain": [
       "[125, 230, 335]"
      ]
     },
     "execution_count": 121,
     "metadata": {},
     "output_type": "execute_result"
    }
   ],
   "source": [
    "list1=[100,200,300]\n",
    "list2=[25,30,35]\n",
    "#op=[125,230,335]\n",
    "op=[]\n",
    "for i, j in zip(list1,list2):\n",
    "    op.append(i+j)\n",
    "op    "
   ]
  },
  {
   "cell_type": "code",
   "execution_count": 122,
   "id": "ca4a02d4",
   "metadata": {
    "collapsed": true
   },
   "outputs": [
    {
     "data": {
      "text/plain": [
       "[125, 230, 335]"
      ]
     },
     "execution_count": 122,
     "metadata": {},
     "output_type": "execute_result"
    }
   ],
   "source": [
    "op=[i+j for i,j in zip(list1,list2)]\n",
    "op"
   ]
  },
  {
   "cell_type": "code",
   "execution_count": 127,
   "id": "b5fadf40",
   "metadata": {
    "scrolled": true
   },
   "outputs": [
    {
     "name": "stdout",
     "output_type": "stream",
     "text": [
      "Q1 is 0\n",
      "enter your answer:modi\n",
      "Correct!\n",
      "Q1 is 1\n",
      "enter your answer:34567\n",
      "Wrong!\n",
      "Q1 is 2\n",
      "enter your answer:ertyui\n",
      "Wrong!\n",
      "Q1 is 3\n",
      "enter your answer:rftgyhui\n",
      "Wrong!\n",
      "Q1 is 4\n",
      "enter your answer:fghjk\n",
      "Wrong!\n",
      "No. of correct answers is 1 and no. of wrong answers is 4\n",
      "Marks: 1\n"
     ]
    }
   ],
   "source": [
    "#take 5 questions in a list1\n",
    "# take 5 corresponding answers in another list\n",
    "#iterate through list1\n",
    "#every qn should print\n",
    "#ans=input('tell me answer')\n",
    "#check the answer with the corresponding answer in list2\n",
    "# if it is there: marks+=1\n",
    "#else: no marks\n",
    "# how many correct answers you made, how many answers you got?\n",
    "list1=['who is PM of India', 'what is the capital of India', 'who is president of India?','Who is the CM of telangana?',\"Who is the foreign affairs minister of India \"]\n",
    "list2=['Modi','Delhi','Draupadi Murmu','KCR','Jai Shankar']\n",
    "marks=0\n",
    "correct=0\n",
    "wrong=0\n",
    "for i in range(len(list1)):\n",
    "    print('Q1 is',i)\n",
    "    answer=input('enter your answer:')\n",
    "    if answer.casefold()==list2[i].casefold():\n",
    "        print('Correct!')\n",
    "        marks=marks+1\n",
    "        correct=correct+1\n",
    "    else:\n",
    "        print(\"Wrong!\")\n",
    "        wrong=wrong+1\n",
    "print(\"No. of correct answers is {} and no. of wrong answers is {}\".format(correct,wrong))\n",
    "print('Marks:',marks)       "
   ]
  },
  {
   "cell_type": "code",
   "execution_count": null,
   "id": "21b5780f",
   "metadata": {},
   "outputs": [],
   "source": []
  },
  {
   "cell_type": "code",
   "execution_count": 159,
   "id": "3229decf",
   "metadata": {},
   "outputs": [
    {
     "data": {
      "text/plain": [
       "[0, 9, 87]"
      ]
     },
     "execution_count": 159,
     "metadata": {},
     "output_type": "execute_result"
    }
   ],
   "source": [
    "list4=[[0,9,87],'abc','ac','a']\n",
    "op5=[list4[0][j] for i in range(len(list4)) for j in range(3) if type(list4[i])==list]\n",
    "op5"
   ]
  },
  {
   "cell_type": "code",
   "execution_count": null,
   "id": "8c79a2ff",
   "metadata": {},
   "outputs": [],
   "source": [
    "0,9,87"
   ]
  }
 ],
 "metadata": {
  "kernelspec": {
   "display_name": "Python 3 (ipykernel)",
   "language": "python",
   "name": "python3"
  },
  "language_info": {
   "codemirror_mode": {
    "name": "ipython",
    "version": 3
   },
   "file_extension": ".py",
   "mimetype": "text/x-python",
   "name": "python",
   "nbconvert_exporter": "python",
   "pygments_lexer": "ipython3",
   "version": "3.11.5"
  }
 },
 "nbformat": 4,
 "nbformat_minor": 5
}
