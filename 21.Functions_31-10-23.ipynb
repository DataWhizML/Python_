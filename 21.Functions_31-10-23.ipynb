{
 "cells": [
  {
   "cell_type": "markdown",
   "metadata": {},
   "source": [
    "### Function\n",
    "- re-use any part of the code"
   ]
  },
  {
   "cell_type": "markdown",
   "metadata": {},
   "source": [
    "**Without arguments function**"
   ]
  },
  {
   "cell_type": "code",
   "execution_count": 2,
   "metadata": {},
   "outputs": [
    {
     "name": "stdout",
     "output_type": "stream",
     "text": [
      "addition of 10 and 20 is 30\n"
     ]
    }
   ],
   "source": [
    "n1=10\n",
    "n2=20\n",
    "add=n1+n2\n",
    "print(\"addition of {} and {} is {}\".format(n1,n2,add))"
   ]
  },
  {
   "cell_type": "code",
   "execution_count": null,
   "metadata": {},
   "outputs": [],
   "source": [
    "def <function_name>():\n",
    "    #write your code here"
   ]
  },
  {
   "cell_type": "code",
   "execution_count": 3,
   "metadata": {},
   "outputs": [],
   "source": [
    "#defining the function\n",
    "def addition():\n",
    "    n1=10\n",
    "    n2=20\n",
    "    add=n1+n2\n",
    "    print(\"addition of {} and {} is {}\".format(n1,n2,add))    "
   ]
  },
  {
   "cell_type": "code",
   "execution_count": 4,
   "metadata": {},
   "outputs": [
    {
     "name": "stdout",
     "output_type": "stream",
     "text": [
      "addition of 10 and 20 is 30\n"
     ]
    }
   ],
   "source": [
    "#calling the function\n",
    "addition()"
   ]
  },
  {
   "cell_type": "code",
   "execution_count": 7,
   "metadata": {},
   "outputs": [],
   "source": [
    "def hello():\n",
    "    n1=eval(input(\"enter a number:\"))\n",
    "    print(\"hello\")\n",
    "    print(\"im writing function\")"
   ]
  },
  {
   "cell_type": "code",
   "execution_count": 8,
   "metadata": {},
   "outputs": [
    {
     "name": "stdout",
     "output_type": "stream",
     "text": [
      "enter a number:23\n",
      "hello\n",
      "im writing function\n"
     ]
    }
   ],
   "source": [
    "hello()"
   ]
  },
  {
   "cell_type": "code",
   "execution_count": 9,
   "metadata": {},
   "outputs": [
    {
     "name": "stdout",
     "output_type": "stream",
     "text": [
      "hello good morning\n"
     ]
    }
   ],
   "source": [
    "def hello_world():\n",
    "    print(\"hello good morning\")\n",
    "hello_world()\n",
    "#single cell-both defining and calling"
   ]
  },
  {
   "cell_type": "code",
   "execution_count": 11,
   "metadata": {},
   "outputs": [
    {
     "name": "stdout",
     "output_type": "stream",
     "text": [
      "enter first number:12\n",
      "enter second number:14\n",
      "enter third number:17\n",
      "average of 12,14 and 17 is 14.333333333333334\n"
     ]
    }
   ],
   "source": [
    "#take three numbers and find the average\n",
    "def average():\n",
    "    num1=eval(input(\"enter first number:\"))\n",
    "    num2=eval(input(\"enter second number:\"))\n",
    "    num3=eval(input(\"enter third number:\"))\n",
    "    avg=(num1+num2+num3)/3\n",
    "    print(\"average of {},{} and {} is {}\".format(num1,num2,num3,avg))\n",
    "average()"
   ]
  },
  {
   "cell_type": "markdown",
   "metadata": {},
   "source": [
    "*Note:*\n",
    "    - we are not sure if the function is defined correct or wrong until and unless we call the function"
   ]
  },
  {
   "cell_type": "code",
   "execution_count": 12,
   "metadata": {},
   "outputs": [],
   "source": [
    "def avg1():\n",
    "    try:\n",
    "        num1=eval(input(\"enter first number:\"))\n",
    "        num2=eval(input(\"enter second number:\"))\n",
    "        num3=eval(input(\"enter third number:\"))\n",
    "        avg=(num1+num2+num3)/3\n",
    "        print(\"average of {},{} and {} is {}\".format(num1,num2,num3,avg))\n",
    "    except exception as e:\n",
    "        print(e)"
   ]
  },
  {
   "cell_type": "code",
   "execution_count": 13,
   "metadata": {},
   "outputs": [
    {
     "name": "stdout",
     "output_type": "stream",
     "text": [
      "enter first number:12\n",
      "enter second number:19\n",
      "enter third number:28\n",
      "average of 12,19 and 28 is 19.666666666666668\n"
     ]
    }
   ],
   "source": [
    "avg1()"
   ]
  },
  {
   "cell_type": "code",
   "execution_count": 16,
   "metadata": {},
   "outputs": [
    {
     "name": "stdout",
     "output_type": "stream",
     "text": [
      "Enter bill amount:1000\n",
      "enter tip amount:30\n",
      "the total bill is 1030\n"
     ]
    }
   ],
   "source": [
    "#wap ask the user enter bill amount\n",
    "#ask the user enter tip amount\n",
    "#calculate total bill\n",
    "def calc_total_bill():\n",
    "    bill_amt=eval(input(\"Enter bill amount:\"))\n",
    "    tip_amt=eval(input(\"enter tip amount:\"))\n",
    "    total_bill=bill_amt+tip_amt\n",
    "    print(\"the total bill is {}\".format(total_bill))\n",
    "calc_total_bill()"
   ]
  },
  {
   "cell_type": "code",
   "execution_count": 17,
   "metadata": {},
   "outputs": [
    {
     "name": "stdout",
     "output_type": "stream",
     "text": [
      "94 is even\n"
     ]
    }
   ],
   "source": [
    "#wap ask the user get a random number between 1 to 100\n",
    "#print if it is even or odd\n",
    "#implement using functions\n",
    "import random\n",
    "def even_or_odd():\n",
    "    num34=random.randint(1,100)\n",
    "    if num34%2==0:\n",
    "        print(\"{} is even\".format(num34))\n",
    "    else:\n",
    "        print(\"{} is odd\".format(num34))\n",
    "even_or_odd()"
   ]
  },
  {
   "cell_type": "code",
   "execution_count": 20,
   "metadata": {},
   "outputs": [
    {
     "name": "stdout",
     "output_type": "stream",
     "text": [
      "hello\n",
      "python\n"
     ]
    }
   ],
   "source": [
    "import random\n",
    "print('hello')\n",
    "print(\"python\")\n",
    "def even_or_odd():\n",
    "    try:\n",
    "        num34=random.randint(1,100)\n",
    "        if num34%2==0:\n",
    "            print(\"{} is even\".format(num34))\n",
    "        else:\n",
    "            print(\"{} is odd\".format(num34))\n",
    "    except exception as e:\n",
    "        print(e)\n",
    "#even_or_odd()"
   ]
  },
  {
   "cell_type": "code",
   "execution_count": 21,
   "metadata": {},
   "outputs": [
    {
     "name": "stdout",
     "output_type": "stream",
     "text": [
      "calling function\n",
      "97 is odd\n",
      "done!\n"
     ]
    }
   ],
   "source": [
    "print(\"calling function\")\n",
    "even_or_odd()\n",
    "print(\"done!\")"
   ]
  },
  {
   "cell_type": "code",
   "execution_count": 23,
   "metadata": {},
   "outputs": [
    {
     "name": "stdout",
     "output_type": "stream",
     "text": [
      "multiplication function starts\n",
      "subtraction function starts\n",
      "subtraction function starts\n",
      "division function starts\n",
      "anything remains\n",
      "no\n",
      "then call the function\n",
      "subtraction is  -10\n",
      "subtraction is done\n",
      "multiplication is  600\n",
      "multiplication is done\n",
      "addition is  50\n",
      "addition is done\n"
     ]
    }
   ],
   "source": [
    "#Wap \n",
    "def addition():\n",
    "    n1=20\n",
    "    n2=30\n",
    "    print(\"addition is \", n1+n2)\n",
    "    print(\"addition is done\")\n",
    "print(\"multiplication function starts\")\n",
    "def mul():\n",
    "    n1=20\n",
    "    n2=30\n",
    "    print(\"multiplication is \", n1*n2)\n",
    "    print(\"multiplication is done\")\n",
    "print(\"subtraction function starts\")\n",
    "def sub():\n",
    "    n1=20\n",
    "    n2=30\n",
    "    print(\"subtraction is \", n1-n2)\n",
    "    print(\"subtraction is done\")\n",
    "print(\"subtraction function starts\")\n",
    "def div():\n",
    "    n1=20\n",
    "    n2=30\n",
    "    print(\"division is \", n1/n2)\n",
    "    print(\"division is done\")\n",
    "print(\"division function starts\")\n",
    "print(\"anything remains\")\n",
    "print(\"no\")\n",
    "print(\"then call the function\")\n",
    "sub()\n",
    "mul()\n",
    "addition()"
   ]
  },
  {
   "cell_type": "code",
   "execution_count": null,
   "metadata": {},
   "outputs": [],
   "source": [
    "- if you are not mentioning any value inside the function bracket----->without arguments/parameters\n",
    "- arguments or parameters"
   ]
  },
  {
   "cell_type": "markdown",
   "metadata": {},
   "source": [
    "**With arguments**"
   ]
  },
  {
   "cell_type": "code",
   "execution_count": null,
   "metadata": {},
   "outputs": [],
   "source": [
    "def addition():\n",
    "    n1=20\n",
    "    n2=30\n",
    "    add=n+n2\n",
    "    print(\"addition is \", add)\n",
    "    print(\"addition is done\")\n",
    "addition()\n",
    "#inside function how many variables are there?\n",
    "#inside the function there are 3 functions\n",
    "#how many user provided variables?\n",
    "# 2 variables\n",
    "#"
   ]
  },
  {
   "cell_type": "code",
   "execution_count": 26,
   "metadata": {},
   "outputs": [
    {
     "name": "stdout",
     "output_type": "stream",
     "text": [
      "addition is  50\n"
     ]
    }
   ],
   "source": [
    "def addition(n1,n2): #arguments\n",
    "    add=n1+n2\n",
    "    print(\"addition is \", add)\n",
    "addition(20,30) #n1=20,n2=30"
   ]
  },
  {
   "cell_type": "code",
   "execution_count": 28,
   "metadata": {},
   "outputs": [
    {
     "name": "stdout",
     "output_type": "stream",
     "text": [
      "addition is  hellohellohellohellohellohellohellohellohellohellohellohellohellohellohellohellohellohellohellohellohellohellohellohellohellohellohellohellohellohello\n"
     ]
    }
   ],
   "source": [
    "def addition(n1,n2): #arguments\n",
    "    add=n1*n2\n",
    "    print(\"addition is \", add)\n",
    "addition('hello',30)"
   ]
  },
  {
   "cell_type": "code",
   "execution_count": 29,
   "metadata": {},
   "outputs": [
    {
     "ename": "TypeError",
     "evalue": "can only concatenate str (not \"int\") to str",
     "output_type": "error",
     "traceback": [
      "\u001b[1;31m---------------------------------------------------------------------------\u001b[0m",
      "\u001b[1;31mTypeError\u001b[0m                                 Traceback (most recent call last)",
      "\u001b[1;32m<ipython-input-29-c4adb622543a>\u001b[0m in \u001b[0;36m<module>\u001b[1;34m\u001b[0m\n\u001b[0;32m      2\u001b[0m     \u001b[0madd\u001b[0m\u001b[1;33m=\u001b[0m\u001b[0mn1\u001b[0m\u001b[1;33m+\u001b[0m\u001b[0mn2\u001b[0m\u001b[1;33m\u001b[0m\u001b[1;33m\u001b[0m\u001b[0m\n\u001b[0;32m      3\u001b[0m     \u001b[0mprint\u001b[0m\u001b[1;33m(\u001b[0m\u001b[1;34m\"addition is \"\u001b[0m\u001b[1;33m,\u001b[0m \u001b[0madd\u001b[0m\u001b[1;33m)\u001b[0m\u001b[1;33m\u001b[0m\u001b[1;33m\u001b[0m\u001b[0m\n\u001b[1;32m----> 4\u001b[1;33m \u001b[0maddition\u001b[0m\u001b[1;33m(\u001b[0m\u001b[1;34m'hello'\u001b[0m\u001b[1;33m,\u001b[0m\u001b[1;36m30\u001b[0m\u001b[1;33m)\u001b[0m\u001b[1;33m\u001b[0m\u001b[1;33m\u001b[0m\u001b[0m\n\u001b[0m",
      "\u001b[1;32m<ipython-input-29-c4adb622543a>\u001b[0m in \u001b[0;36maddition\u001b[1;34m(n1, n2)\u001b[0m\n\u001b[0;32m      1\u001b[0m \u001b[1;32mdef\u001b[0m \u001b[0maddition\u001b[0m\u001b[1;33m(\u001b[0m\u001b[0mn1\u001b[0m\u001b[1;33m,\u001b[0m\u001b[0mn2\u001b[0m\u001b[1;33m)\u001b[0m\u001b[1;33m:\u001b[0m \u001b[1;31m#arguments\u001b[0m\u001b[1;33m\u001b[0m\u001b[1;33m\u001b[0m\u001b[0m\n\u001b[1;32m----> 2\u001b[1;33m     \u001b[0madd\u001b[0m\u001b[1;33m=\u001b[0m\u001b[0mn1\u001b[0m\u001b[1;33m+\u001b[0m\u001b[0mn2\u001b[0m\u001b[1;33m\u001b[0m\u001b[1;33m\u001b[0m\u001b[0m\n\u001b[0m\u001b[0;32m      3\u001b[0m     \u001b[0mprint\u001b[0m\u001b[1;33m(\u001b[0m\u001b[1;34m\"addition is \"\u001b[0m\u001b[1;33m,\u001b[0m \u001b[0madd\u001b[0m\u001b[1;33m)\u001b[0m\u001b[1;33m\u001b[0m\u001b[1;33m\u001b[0m\u001b[0m\n\u001b[0;32m      4\u001b[0m \u001b[0maddition\u001b[0m\u001b[1;33m(\u001b[0m\u001b[1;34m'hello'\u001b[0m\u001b[1;33m,\u001b[0m\u001b[1;36m30\u001b[0m\u001b[1;33m)\u001b[0m\u001b[1;33m\u001b[0m\u001b[1;33m\u001b[0m\u001b[0m\n",
      "\u001b[1;31mTypeError\u001b[0m: can only concatenate str (not \"int\") to str"
     ]
    }
   ],
   "source": [
    "def addition(n1,n2): #arguments\n",
    "    add=n1+n2\n",
    "    print(\"addition is \", add)\n",
    "addition('hello',30)\n",
    "#NOTE"
   ]
  },
  {
   "cell_type": "code",
   "execution_count": 30,
   "metadata": {},
   "outputs": [
    {
     "ename": "TypeError",
     "evalue": "addition() missing 1 required positional argument: 'n2'",
     "output_type": "error",
     "traceback": [
      "\u001b[1;31m---------------------------------------------------------------------------\u001b[0m",
      "\u001b[1;31mTypeError\u001b[0m                                 Traceback (most recent call last)",
      "\u001b[1;32m<ipython-input-30-3616adf2fcb0>\u001b[0m in \u001b[0;36m<module>\u001b[1;34m\u001b[0m\n\u001b[0;32m      2\u001b[0m     \u001b[0madd\u001b[0m\u001b[1;33m=\u001b[0m\u001b[0mn1\u001b[0m\u001b[1;33m+\u001b[0m\u001b[0mn2\u001b[0m\u001b[1;33m\u001b[0m\u001b[1;33m\u001b[0m\u001b[0m\n\u001b[0;32m      3\u001b[0m     \u001b[0mprint\u001b[0m\u001b[1;33m(\u001b[0m\u001b[1;34m\"addition is \"\u001b[0m\u001b[1;33m,\u001b[0m \u001b[0madd\u001b[0m\u001b[1;33m)\u001b[0m\u001b[1;33m\u001b[0m\u001b[1;33m\u001b[0m\u001b[0m\n\u001b[1;32m----> 4\u001b[1;33m \u001b[0maddition\u001b[0m\u001b[1;33m(\u001b[0m\u001b[1;36m20\u001b[0m\u001b[1;33m)\u001b[0m\u001b[1;33m\u001b[0m\u001b[1;33m\u001b[0m\u001b[0m\n\u001b[0m",
      "\u001b[1;31mTypeError\u001b[0m: addition() missing 1 required positional argument: 'n2'"
     ]
    }
   ],
   "source": [
    "def addition(n1,n2): #arguments\n",
    "    add=n1+n2\n",
    "    print(\"addition is \", add)\n",
    "addition(20)\n",
    "#if we don't give same number of argumens, we get TypeError"
   ]
  },
  {
   "cell_type": "code",
   "execution_count": 32,
   "metadata": {},
   "outputs": [
    {
     "ename": "NameError",
     "evalue": "name 'n111' is not defined",
     "output_type": "error",
     "traceback": [
      "\u001b[1;31m---------------------------------------------------------------------------\u001b[0m",
      "\u001b[1;31mNameError\u001b[0m                                 Traceback (most recent call last)",
      "\u001b[1;32m<ipython-input-32-73df69b3848e>\u001b[0m in \u001b[0;36m<module>\u001b[1;34m\u001b[0m\n\u001b[0;32m      2\u001b[0m     \u001b[0madd\u001b[0m\u001b[1;33m=\u001b[0m\u001b[0mn111\u001b[0m\u001b[1;33m+\u001b[0m\u001b[0mn222\u001b[0m\u001b[1;33m\u001b[0m\u001b[1;33m\u001b[0m\u001b[0m\n\u001b[0;32m      3\u001b[0m     \u001b[0mprint\u001b[0m\u001b[1;33m(\u001b[0m\u001b[1;34m\"addition is \"\u001b[0m\u001b[1;33m,\u001b[0m \u001b[0madd\u001b[0m\u001b[1;33m)\u001b[0m\u001b[1;33m\u001b[0m\u001b[1;33m\u001b[0m\u001b[0m\n\u001b[1;32m----> 4\u001b[1;33m \u001b[0maddition11\u001b[0m\u001b[1;33m(\u001b[0m\u001b[1;33m)\u001b[0m\u001b[1;33m\u001b[0m\u001b[1;33m\u001b[0m\u001b[0m\n\u001b[0m",
      "\u001b[1;32m<ipython-input-32-73df69b3848e>\u001b[0m in \u001b[0;36maddition11\u001b[1;34m()\u001b[0m\n\u001b[0;32m      1\u001b[0m \u001b[1;32mdef\u001b[0m \u001b[0maddition11\u001b[0m\u001b[1;33m(\u001b[0m\u001b[1;33m)\u001b[0m\u001b[1;33m:\u001b[0m \u001b[1;31m#arguments\u001b[0m\u001b[1;33m\u001b[0m\u001b[1;33m\u001b[0m\u001b[0m\n\u001b[1;32m----> 2\u001b[1;33m     \u001b[0madd\u001b[0m\u001b[1;33m=\u001b[0m\u001b[0mn111\u001b[0m\u001b[1;33m+\u001b[0m\u001b[0mn222\u001b[0m\u001b[1;33m\u001b[0m\u001b[1;33m\u001b[0m\u001b[0m\n\u001b[0m\u001b[0;32m      3\u001b[0m     \u001b[0mprint\u001b[0m\u001b[1;33m(\u001b[0m\u001b[1;34m\"addition is \"\u001b[0m\u001b[1;33m,\u001b[0m \u001b[0madd\u001b[0m\u001b[1;33m)\u001b[0m\u001b[1;33m\u001b[0m\u001b[1;33m\u001b[0m\u001b[0m\n\u001b[0;32m      4\u001b[0m \u001b[0maddition11\u001b[0m\u001b[1;33m(\u001b[0m\u001b[1;33m)\u001b[0m\u001b[1;33m\u001b[0m\u001b[1;33m\u001b[0m\u001b[0m\n",
      "\u001b[1;31mNameError\u001b[0m: name 'n111' is not defined"
     ]
    }
   ],
   "source": [
    "def addition11(): #arguments\n",
    "    add=n111+n222\n",
    "    print(\"addition is \", add)\n",
    "addition11()\n",
    "#If we don't pass arguments---NameError"
   ]
  },
  {
   "cell_type": "code",
   "execution_count": 33,
   "metadata": {},
   "outputs": [
    {
     "ename": "TypeError",
     "evalue": "addition12() takes 0 positional arguments but 2 were given",
     "output_type": "error",
     "traceback": [
      "\u001b[1;31m---------------------------------------------------------------------------\u001b[0m",
      "\u001b[1;31mTypeError\u001b[0m                                 Traceback (most recent call last)",
      "\u001b[1;32m<ipython-input-33-8c82b24365ef>\u001b[0m in \u001b[0;36m<module>\u001b[1;34m\u001b[0m\n\u001b[0;32m      2\u001b[0m     \u001b[0madd\u001b[0m\u001b[1;33m=\u001b[0m\u001b[0mn1112\u001b[0m\u001b[1;33m+\u001b[0m\u001b[0mn2222\u001b[0m\u001b[1;33m\u001b[0m\u001b[1;33m\u001b[0m\u001b[0m\n\u001b[0;32m      3\u001b[0m     \u001b[0mprint\u001b[0m\u001b[1;33m(\u001b[0m\u001b[1;34m\"addition is \"\u001b[0m\u001b[1;33m,\u001b[0m \u001b[0madd\u001b[0m\u001b[1;33m)\u001b[0m\u001b[1;33m\u001b[0m\u001b[1;33m\u001b[0m\u001b[0m\n\u001b[1;32m----> 4\u001b[1;33m \u001b[0maddition12\u001b[0m\u001b[1;33m(\u001b[0m\u001b[1;36m200\u001b[0m\u001b[1;33m,\u001b[0m\u001b[1;36m300\u001b[0m\u001b[1;33m)\u001b[0m\u001b[1;33m\u001b[0m\u001b[1;33m\u001b[0m\u001b[0m\n\u001b[0m",
      "\u001b[1;31mTypeError\u001b[0m: addition12() takes 0 positional arguments but 2 were given"
     ]
    }
   ],
   "source": [
    "def addition12(): #arguments\n",
    "    add=n1112+n2222\n",
    "    print(\"addition is \", add)\n",
    "addition12(200,300)\n",
    "#note the error"
   ]
  },
  {
   "cell_type": "code",
   "execution_count": 37,
   "metadata": {},
   "outputs": [
    {
     "name": "stdout",
     "output_type": "stream",
     "text": [
      "num1: 12\n",
      "num2: 13\n",
      "num3: 15\n",
      "average of 12,13 and 15 is 13.333333333333334\n"
     ]
    }
   ],
   "source": [
    "def average(num1,num2,num3):\n",
    "    print(\"num1:\",num1)\n",
    "    print(\"num2:\",num2)\n",
    "    print(\"num3:\",num3)\n",
    "    avg=(num1+num2+num3)/3\n",
    "    print(\"average of {},{} and {} is {}\".format(num1,num2,num3,avg))\n",
    "average(12,13,15)"
   ]
  },
  {
   "cell_type": "code",
   "execution_count": null,
   "metadata": {},
   "outputs": [],
   "source": [
    "#Write everything with arguments and without arguments-Practice"
   ]
  }
 ],
 "metadata": {
  "kernelspec": {
   "display_name": "Python 3",
   "language": "python",
   "name": "python3"
  },
  "language_info": {
   "codemirror_mode": {
    "name": "ipython",
    "version": 3
   },
   "file_extension": ".py",
   "mimetype": "text/x-python",
   "name": "python",
   "nbconvert_exporter": "python",
   "pygments_lexer": "ipython3",
   "version": "3.7.6"
  }
 },
 "nbformat": 4,
 "nbformat_minor": 4
}
