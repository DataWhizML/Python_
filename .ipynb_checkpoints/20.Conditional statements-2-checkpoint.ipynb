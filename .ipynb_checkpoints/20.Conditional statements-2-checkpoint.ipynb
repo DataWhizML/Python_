{
 "cells": [
  {
   "cell_type": "code",
   "execution_count": null,
   "metadata": {},
   "outputs": [],
   "source": [
    "#vachindamma vayyariii"
   ]
  },
  {
   "cell_type": "code",
   "execution_count": 1,
   "metadata": {},
   "outputs": [
    {
     "name": "stdout",
     "output_type": "stream",
     "text": [
      "Enter your salary: 300000\n",
      "tax exemption\n"
     ]
    }
   ],
   "source": [
    "#WAP ask the user enter salary in lakhs\n",
    "#if salary is greater than 10L: enter the user tax percentage: 10%\n",
    "#print the amount of tax paid=salary*tax_percent)/100\n",
    "#if the salary is between 7L and 10L: enter the user tax percentage: 5%\n",
    "#print the amount of tax paid\n",
    "#if salary is between 4L to 7L: enter the user tax percentage: 2.5%\n",
    "#print the amount of tax paid\n",
    "#otherwise print tax exemption\n",
    "salary=eval(input(\"Enter your salary: \"))\n",
    "if salary>=1000000:\n",
    "    tax_percent=eval(input(\"Enter tax percent: \"))\n",
    "    print(\"Amount of tax paid is \", (salary*tax_percent)/100)\n",
    "elif salary>=700000:\n",
    "    tax_percent=eval(input(\"Enter tax percent: \"))\n",
    "    print(\"Amount of tax paid is \", (salary*tax_percent)/100)\n",
    "elif salary>=400000:\n",
    "    tax_percent=eval(input(\"Enter tax percent: \"))\n",
    "    print(\"Amount of tax paid is \", (salary*tax_percent)/100)\n",
    "else:\n",
    "    print(\"tax exemption\")"
   ]
  },
  {
   "cell_type": "code",
   "execution_count": 2,
   "metadata": {},
   "outputs": [
    {
     "name": "stdout",
     "output_type": "stream",
     "text": [
      "Enter distance inn km20\n",
      "charge is 100Rs\n"
     ]
    }
   ],
   "source": [
    "#WAP ask the user enter distance in km\n",
    "#if the distance is more than 10km: print charge is 100Rs\n",
    "#if the distance is between 7 to 10km: print charge is 70Rs\n",
    "#if the distance is between 4 to 7 km: print charge is 40Rs\n",
    "#otherwise print charge is 30 Rs\n",
    "distance=eval(input(\"Enter distance inn km\"))\n",
    "if distance>=10:\n",
    "    print(\"charge is 100Rs\")\n",
    "elif distance>=7:\n",
    "    print(\"charge is 70Rs\")\n",
    "elif distance>=4:\n",
    "    print(\"charge is 40Rs\")\n",
    "else:\n",
    "    print(\"charge is 30Rs\")"
   ]
  },
  {
   "cell_type": "code",
   "execution_count": 5,
   "metadata": {},
   "outputs": [
    {
     "name": "stdout",
     "output_type": "stream",
     "text": [
      "Enter which operation you need to perform: division\n",
      "Enter a number 1:20\n",
      "Enter a number 2:30\n",
      "we are doing division\n",
      "the division of 20 and 30 is 0.6666666666666666\n"
     ]
    }
   ],
   "source": [
    "#WAP ask the user enter which operation you need to perform \n",
    "# operations are: addition/multiplication/division/subtraction\n",
    "#ask the user enter a number1\n",
    "#ask the user enter a number2\n",
    "#if the operation is addition:\n",
    "#                             print(\"we are doing addition operation\")\n",
    "#                             print(\"the addition of num1 and num2 is\")\n",
    "#others similarily\n",
    "#else:\n",
    "                            #print(\"provide suitable operation\")\n",
    "import time\n",
    "try:\n",
    "    operation=input(\"Enter which operation you need to perform: \")\n",
    "    num1=eval(input(\"Enter a number 1:\"))\n",
    "    num2=eval(input(\"Enter a number 2:\"))\n",
    "    time.sleep(2)\n",
    "    if operation==\"addition\":\n",
    "              print(\"we are doing addition\")\n",
    "              print(\"the addition of {} and {} is {}\".format(num1,num2,num1+num2))\n",
    "    elif operation==\"multiplication\":\n",
    "              print(\"we are doing multiplication\")\n",
    "              print(\"the multiplication of {} and {} is {}\".format(num1,num2,num1*num2))\n",
    "    elif operation==\"subtraction\":\n",
    "              print(\"we are doing subtraction\")\n",
    "              print(\"the subtraction of {} and {} is {}\".format(num1,num2,num1-num2))\n",
    "    elif operation==\"division\":\n",
    "              print(\"we are doing division\")\n",
    "              print(\"the division of {} and {} is {}\".format(num1,num2,num1/num2))\n",
    "    else:\n",
    "              print(\"Provide suitable operation\")\n",
    "except Exception as e:\n",
    "              print(e)            \n",
    "          \n",
    "          \n",
    "          \n",
    "          "
   ]
  },
  {
   "cell_type": "markdown",
   "metadata": {},
   "source": [
    "$Nested if-else$"
   ]
  },
  {
   "cell_type": "code",
   "execution_count": 9,
   "metadata": {},
   "outputs": [
    {
     "name": "stdout",
     "output_type": "stream",
     "text": [
      "Enter a number:0\n",
      "It is a zero number\n"
     ]
    }
   ],
   "source": [
    "#WAP ask the user enter a number \n",
    "#if the number is greater than zero:\n",
    "                                    #if the number==0; print it is a zero number\n",
    "                                    #else it is a positive number\n",
    "#else print it is a negative number\n",
    "number3=eval(input(\"Enter a number:\"))\n",
    "if number3>=0:\n",
    "    if number3==0:\n",
    "        print(\"It is a zero number\")\n",
    "    else:\n",
    "        print(\"it is a positive number\")\n",
    "else:\n",
    "    print(\"it is a negative number\")"
   ]
  },
  {
   "cell_type": "code",
   "execution_count": 12,
   "metadata": {},
   "outputs": [
    {
     "name": "stdout",
     "output_type": "stream",
     "text": [
      "Enter your gender:8927\n",
      "improper gender\n"
     ]
    }
   ],
   "source": [
    "#wap ask the user enter gender either male or female\n",
    "#if gender is equal to male\n",
    "                            #ask the user to enter the age\n",
    "                            #if the age>60: print CS\n",
    "                            #if age between 30 to 60: print middle aged man\n",
    "                            #if age between 20 to 30: print young boy\n",
    "                            #if age between 13 to 20: print teenage boy\n",
    "                            #otherwise print boy\n",
    "#otherwise gender is equal to female\n",
    "                            #ask the user to enter the age\n",
    "                            #if the age>60: print CS\n",
    "                            #if age between 30 to 60: print middle aged woman\n",
    "                            #if age between 20 to 30: print young girl\n",
    "                            #if age between 13 to 20: print teenage girl\n",
    "                            #otherwise print girl\n",
    "gender=input(\"Enter your gender:\")\n",
    "if gender=='male':\n",
    "    age=eval(input(\"Enter your age:\"))\n",
    "    if age>=60:\n",
    "        print(\"Senior citizen\")\n",
    "    elif age>=30:\n",
    "        print(\"Middle aged man\")\n",
    "    elif age>=20:\n",
    "        print(\"young boy\")\n",
    "    elif age>=13:\n",
    "        print(\"teenage boy\")\n",
    "    else: \n",
    "        print(\"boy\")\n",
    "elif gender=='female':\n",
    "    age=eval(input(\"Enter your age:\"))\n",
    "    if age>=60:\n",
    "        print(\"Senior citizen\")\n",
    "    elif age>=30:\n",
    "        print(\"Middle aged woman\")\n",
    "    elif age>=20:\n",
    "        print(\"young girl\")\n",
    "    elif age>=13:\n",
    "        print(\"teenage girl\")\n",
    "    else: \n",
    "        print(\"girl\")\n",
    "else:\n",
    "    print(\"improper gender\")\n"
   ]
  },
  {
   "cell_type": "code",
   "execution_count": 18,
   "metadata": {},
   "outputs": [
    {
     "name": "stdout",
     "output_type": "stream",
     "text": [
      "Enter first number:56\n",
      "Enter second number:2\n",
      "Enter third number:1\n",
      "greatest number is 56\n"
     ]
    }
   ],
   "source": [
    "#wap ask the user enter 3 numbers, find the biggest number\n",
    "num1=eval(input(\"Enter first number:\"))\n",
    "num2=eval(input(\"Enter second number:\"))\n",
    "num3=eval(input(\"Enter third number:\"))\n",
    "max=num1\n",
    "if num2>max:\n",
    "    max=num2\n",
    "    if num3>max:\n",
    "        max=num3 \n",
    "        #max=max\n",
    "#max=max\n",
    "print(\"greatest number is\", max)"
   ]
  },
  {
   "cell_type": "code",
   "execution_count": 30,
   "metadata": {},
   "outputs": [
    {
     "name": "stdout",
     "output_type": "stream",
     "text": [
      "Enter first number:1\n",
      "Enter second number:2\n",
      "Enter third number:3\n",
      "3\n"
     ]
    }
   ],
   "source": [
    "num1=eval(input(\"Enter first number:\"))\n",
    "num2=eval(input(\"Enter second number:\"))\n",
    "num3=eval(input(\"Enter third number:\"))\n",
    "if num1>num2 and num1>num3:\n",
    "    print(num1)\n",
    "elif num2>num3:\n",
    "    print(num2)\n",
    "else:\n",
    "    print(num3)"
   ]
  },
  {
   "cell_type": "code",
   "execution_count": null,
   "metadata": {},
   "outputs": [],
   "source": []
  },
  {
   "cell_type": "code",
   "execution_count": null,
   "metadata": {},
   "outputs": [],
   "source": []
  }
 ],
 "metadata": {
  "kernelspec": {
   "display_name": "Python 3 (ipykernel)",
   "language": "python",
   "name": "python3"
  },
  "language_info": {
   "codemirror_mode": {
    "name": "ipython",
    "version": 3
   },
   "file_extension": ".py",
   "mimetype": "text/x-python",
   "name": "python",
   "nbconvert_exporter": "python",
   "pygments_lexer": "ipython3",
   "version": "3.11.5"
  }
 },
 "nbformat": 4,
 "nbformat_minor": 4
}
