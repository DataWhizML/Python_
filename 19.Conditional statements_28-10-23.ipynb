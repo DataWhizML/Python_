{
 "cells": [
  {
   "cell_type": "markdown",
   "metadata": {},
   "source": [
    "### if-else-elif"
   ]
  },
  {
   "cell_type": "markdown",
   "metadata": {},
   "source": [
    "$if-else$"
   ]
  },
  {
   "cell_type": "code",
   "execution_count": null,
   "metadata": {},
   "outputs": [],
   "source": [
    "if-else\n",
    "if pak won the match they have more chance to go to SF\n",
    "else they have more chance to go home \n",
    "if i study i will pass\n",
    "else i will fail"
   ]
  },
  {
   "cell_type": "code",
   "execution_count": null,
   "metadata": {},
   "outputs": [],
   "source": [
    "name=='python'\n",
    "#whenever the name == python----->success else fail\n",
    "if <condition>:\n",
    "    #sta-1\n",
    "    #code\n",
    "else:\n",
    "    #code"
   ]
  },
  {
   "cell_type": "code",
   "execution_count": null,
   "metadata": {},
   "outputs": [],
   "source": [
    "a=10 #value 10 stored in a variable a\n",
    "a==10 #value of a is really equal to 10\n",
    "#=------>assign\n",
    "#==----->condition/compare"
   ]
  },
  {
   "cell_type": "code",
   "execution_count": 1,
   "metadata": {},
   "outputs": [
    {
     "data": {
      "text/plain": [
       "True"
      ]
     },
     "execution_count": 1,
     "metadata": {},
     "output_type": "execute_result"
    }
   ],
   "source": [
    "name='python'\n",
    "name=='python'"
   ]
  },
  {
   "cell_type": "code",
   "execution_count": 2,
   "metadata": {},
   "outputs": [
    {
     "data": {
      "text/plain": [
       "False"
      ]
     },
     "execution_count": 2,
     "metadata": {},
     "output_type": "execute_result"
    }
   ],
   "source": [
    "name='python'\n",
    "name=='pythn'"
   ]
  },
  {
   "cell_type": "code",
   "execution_count": null,
   "metadata": {},
   "outputs": [],
   "source": [
    "if <condition>:\n",
    "\n",
    "if True/False:\n",
    "    inside the block"
   ]
  },
  {
   "cell_type": "code",
   "execution_count": 4,
   "metadata": {},
   "outputs": [
    {
     "name": "stdout",
     "output_type": "stream",
     "text": [
      "hello\n",
      "bro\n",
      "confusion clear kro :(\n"
     ]
    }
   ],
   "source": [
    "try:\n",
    "    print(\"hello\")\n",
    "    print(\"bro\")\n",
    "    print(ndjvldg)\n",
    "    print(\"zigzagzag\")\n",
    "except:\n",
    "    print(\"confusion clear kro :(\")"
   ]
  },
  {
   "cell_type": "code",
   "execution_count": null,
   "metadata": {},
   "outputs": [],
   "source": [
    "#Error capture: my code should not stop \n",
    "#try: 100 lines 50 lines you get error\n",
    "#first 49 try block will run then next exec----->50-----> exception block"
   ]
  },
  {
   "cell_type": "code",
   "execution_count": 5,
   "metadata": {},
   "outputs": [
    {
     "name": "stdout",
     "output_type": "stream",
     "text": [
      "won\n"
     ]
    }
   ],
   "source": [
    "name='python' #'python' is saved in a variable name\n",
    "if name=='python':#is the name equal to python; if True/False\n",
    "    print('won')"
   ]
  },
  {
   "cell_type": "code",
   "execution_count": 44,
   "metadata": {},
   "outputs": [
    {
     "name": "stdout",
     "output_type": "stream",
     "text": [
      "false\n"
     ]
    }
   ],
   "source": [
    "#False case:\n",
    "name='python' #'python' is saved in a variable name\n",
    "if name=='py':#is the name equal to python; if True/False\n",
    "    print('lost')\n",
    "    a=10\n",
    "    b=20\n",
    "    print(a+b)\n",
    "else:\n",
    "    print(\"false\")"
   ]
  },
  {
   "cell_type": "code",
   "execution_count": 9,
   "metadata": {},
   "outputs": [
    {
     "name": "stdout",
     "output_type": "stream",
     "text": [
      "lost\n"
     ]
    }
   ],
   "source": [
    "name='python'\n",
    "if name=='py':\n",
    "    print('won')\n",
    "else:\n",
    "    print('lost')\n",
    "    "
   ]
  },
  {
   "cell_type": "code",
   "execution_count": 13,
   "metadata": {},
   "outputs": [
    {
     "name": "stdout",
     "output_type": "stream",
     "text": [
      "hello\n",
      "10\n",
      "Enter a number1:20\n",
      "Enter a number2:20\n",
      "This is true case\n",
      "We are doing addition operation\n",
      "The addition of 20 and 20 is: 40\n",
      "Happy ending!\n",
      "subtraction: 0\n",
      "great!\n"
     ]
    }
   ],
   "source": [
    "print('hello') #prints hello\n",
    "print(10) #prints 10\n",
    "num1=eval(input(\"Enter a number1:\")) #inputs a number as eval and saves it in num1\n",
    "num2=eval(input(\"Enter a number2:\")) #inputs a number as eval and saves it in num2\n",
    "if num1==num2: #checks if num1 and num2 are equal, only executes the block if the condition is true\n",
    "    print(\"This is true case\") #if true, prints This is true case\n",
    "    print(\"We are doing addition operation\") #prints \n",
    "    print(\"The addition of {} and {} is: {}\".format(num1,num2,num1+num2))#prints\n",
    "    print(\"Happy ending!\")\n",
    "else:  #if false this block will execute\n",
    "    print(\"This is false case\")# if false, prints This is false case\n",
    "    print(\"We are doing multiplication operation\")\n",
    "    print(\"The multiplication of {} and {} is: {}\".format(num1,num2,num1*num2))\n",
    "subtraction=num1-num2#This is outside the blocks hence will execute in either case\n",
    "print('subtraction:', subtraction)#same\n",
    "print(\"great!\") #same"
   ]
  },
  {
   "cell_type": "code",
   "execution_count": 12,
   "metadata": {},
   "outputs": [
    {
     "name": "stdout",
     "output_type": "stream",
     "text": [
      "hello\n",
      "10\n",
      "Enter a number1:20\n",
      "Enter a number2:50\n",
      "This is false case\n",
      "We are doing multiplication operation\n",
      "The multiplication of 20 and 50 is: 1000\n",
      "subtraction: -30\n",
      "great!\n"
     ]
    }
   ],
   "source": [
    "print('hello') #prints hello\n",
    "print(10) #prints 10\n",
    "num1=eval(input(\"Enter a number1:\")) #inputs a number as eval and saves it in num1\n",
    "num2=eval(input(\"Enter a number2:\")) #inputs a number as eval and saves it in num2\n",
    "if num1==num2: #checks if num1 and num2 are equal, only executes the block if the condition is true\n",
    "    print(\"This is true case\") #if true, prints This is true case\n",
    "    print(\"We are doing addition operation\") #prints \n",
    "    print(\"The addition of {} and {} is: {}\".format(num1,num2,num1+num2))#prints\n",
    "    print(\"Happy ending!\")\n",
    "else:  #if false this block will execute\n",
    "    print(\"This is false case\")# if false, prints This is false case\n",
    "    print(\"We are doing multiplication operation\")\n",
    "    print(\"The multiplication of {} and {} is: {}\".format(num1,num2,num1*num2))\n",
    "subtraction=num1-num2#This is outside the blocks hence will execute in either case\n",
    "print('subtraction:', subtraction)#same\n",
    "print(\"great!\") #same"
   ]
  },
  {
   "cell_type": "code",
   "execution_count": 18,
   "metadata": {},
   "outputs": [
    {
     "name": "stdout",
     "output_type": "stream",
     "text": [
      "Enter a number: 25\n",
      "Odd\n",
      "Thank you!\n"
     ]
    }
   ],
   "source": [
    "#WAP ask the user enter a number\n",
    "# find the number is even or odd\n",
    "num2=eval(input(\"Enter a number: \"))\n",
    "if num2%2==0:\n",
    "    print(\"Even\")\n",
    "else:\n",
    "    print('Odd')\n",
    "print(\"Thank you!\")"
   ]
  },
  {
   "cell_type": "code",
   "execution_count": 19,
   "metadata": {},
   "outputs": [
    {
     "name": "stdout",
     "output_type": "stream",
     "text": [
      "Enter a number: python\n",
      "name 'python' is not defined\n"
     ]
    }
   ],
   "source": [
    "try:\n",
    "    num2=eval(input(\"Enter a number: \"))\n",
    "    if num2%2==0:\n",
    "        print(\"Even\")\n",
    "    else:\n",
    "        print('Odd')\n",
    "    print(\"Thank you!\")\n",
    "except Exception as e:\n",
    "    print(e)"
   ]
  },
  {
   "cell_type": "code",
   "execution_count": null,
   "metadata": {},
   "outputs": [],
   "source": [
    "#Practice every code in try-except mode for practice"
   ]
  },
  {
   "cell_type": "code",
   "execution_count": 23,
   "metadata": {},
   "outputs": [
    {
     "name": "stdout",
     "output_type": "stream",
     "text": [
      "Enter a number: 25\n",
      "Odd\n",
      "Thank you!\n"
     ]
    }
   ],
   "source": [
    "#WAP ask the user enter a number\n",
    "# find the number is even or odd\n",
    "num2=eval(input(\"Enter a number: \"))\n",
    "if num2%2 != 0:\n",
    "    print(\"Odd\")\n",
    "else:\n",
    "    print('Even')\n",
    "print(\"Thank you!\")"
   ]
  },
  {
   "cell_type": "code",
   "execution_count": 24,
   "metadata": {},
   "outputs": [
    {
     "name": "stdout",
     "output_type": "stream",
     "text": [
      "41 is odd\n"
     ]
    }
   ],
   "source": [
    "#WAP get a random number between 1 and 50\n",
    "# and check if it is even or odd\n",
    "import random\n",
    "num3=random.randint(1,50)\n",
    "if num3%2==0:\n",
    "    print(\"{} is even\".format(num3))\n",
    "else:\n",
    "    print(\"{} is odd\".format(num3))"
   ]
  },
  {
   "cell_type": "code",
   "execution_count": 26,
   "metadata": {},
   "outputs": [
    {
     "name": "stdout",
     "output_type": "stream",
     "text": [
      "18\n",
      "You won\n"
     ]
    }
   ],
   "source": [
    "#WAP get a random number between 1 and 200\n",
    "#print you won if the number is between 10 to 99\n",
    "#otherwise print you lost\n",
    "num4=random.randint(1,200)\n",
    "print(num4)\n",
    "if num4>10 and num4<99:\n",
    "    print(\"You won\")\n",
    "else:\n",
    "    print(\"You lost\")"
   ]
  },
  {
   "cell_type": "code",
   "execution_count": 29,
   "metadata": {},
   "outputs": [
    {
     "name": "stdout",
     "output_type": "stream",
     "text": [
      "1\n",
      "You lost\n"
     ]
    }
   ],
   "source": [
    "try:\n",
    "    num4=random.randint(1,200)\n",
    "    print(num4)\n",
    "    if num4>=10 and num4<=99:\n",
    "        print(\"You won\")\n",
    "    else:\n",
    "        print(\"You lost\")\n",
    "except:\n",
    "    print(\"nothing\")"
   ]
  },
  {
   "cell_type": "code",
   "execution_count": 30,
   "metadata": {},
   "outputs": [
    {
     "name": "stdout",
     "output_type": "stream",
     "text": [
      "119\n",
      "nothing\n"
     ]
    }
   ],
   "source": [
    "try:\n",
    "    num4=random.randint(1,200)\n",
    "    print(num4)\n",
    "    if 10<num<99:\n",
    "        print(\"You won\")\n",
    "    else:\n",
    "        print(\"You lost\")\n",
    "except:\n",
    "    print(\"nothing\")"
   ]
  },
  {
   "cell_type": "code",
   "execution_count": 31,
   "metadata": {},
   "outputs": [
    {
     "data": {
      "text/plain": [
       "False"
      ]
     },
     "execution_count": 31,
     "metadata": {},
     "output_type": "execute_result"
    }
   ],
   "source": [
    "10<170<99"
   ]
  },
  {
   "cell_type": "code",
   "execution_count": 33,
   "metadata": {},
   "outputs": [
    {
     "name": "stdout",
     "output_type": "stream",
     "text": [
      "Enter a number-5\n",
      "-5 is a negative number\n"
     ]
    }
   ],
   "source": [
    "#WAP ask the user enter a number\n",
    "#if the number >=0 print it is a positive number\n",
    "#otherwise print it is a negative number\n",
    "num5=eval(input(\"Enter a number\"))\n",
    "if num5>=0:\n",
    "    print(\"{} is a positive number\".format(num5))\n",
    "else:\n",
    "    print(\"{} is a negative number\".format(num5))"
   ]
  },
  {
   "cell_type": "markdown",
   "metadata": {},
   "source": [
    "$if-elif-else$"
   ]
  },
  {
   "cell_type": "code",
   "execution_count": null,
   "metadata": {},
   "outputs": [],
   "source": [
    "#whenever we have 2 conditions: if-else\n",
    "# more than 2 conditions: if-elif-else\n",
    "if<cond>:\n",
    "elif <cond>:\n",
    "else:"
   ]
  },
  {
   "cell_type": "code",
   "execution_count": 35,
   "metadata": {},
   "outputs": [
    {
     "name": "stdout",
     "output_type": "stream",
     "text": [
      "Enter a number0\n",
      "Zero\n"
     ]
    }
   ],
   "source": [
    "#WAP ask the user enter a number\n",
    "#if the number >=0 print it is a positive number\n",
    "#otherwise print it is a negative number\n",
    "num5=eval(input(\"Enter a number\"))\n",
    "if num5>0:\n",
    "    print(\"{} is a positive number\".format(num5))\n",
    "elif num5<0:\n",
    "    print(\"{} is a negative number\".format(num5))\n",
    "else:\n",
    "    print(\"Zero\")"
   ]
  },
  {
   "cell_type": "code",
   "execution_count": 37,
   "metadata": {},
   "outputs": [
    {
     "name": "stdout",
     "output_type": "stream",
     "text": [
      "Enter your percentage of marks40\n",
      "D grade\n"
     ]
    }
   ],
   "source": [
    "#WAp ask the user enter % of marks\n",
    "#if %of marks>90 print A grade\n",
    "#if per between 70 to 90 print B\n",
    "#if per between 50 to 70 print C\n",
    "#otherwise D\n",
    "num6=eval(input(\"Enter your percentage of marks\"))\n",
    "if num6>90:\n",
    "    print(\"A grade\")\n",
    "elif 70<num6<=90:\n",
    "    print(\"B grade\")\n",
    "elif 50<num6<=70:\n",
    "    print(\"C grade\")\n",
    "else:\n",
    "    print(\"D grade\")"
   ]
  },
  {
   "cell_type": "code",
   "execution_count": null,
   "metadata": {},
   "outputs": [],
   "source": [
    "#WAP ask the user enter age\n",
    "#if age>60 print SC\n",
    "#if age between 45 to 60 (aged)\n",
    "#if age between 30 to 45 (MA)\n",
    "#if age between 20 to 30 (young)\n",
    "#if age between 13 to 20 (teenager)\n",
    "# otherwise child"
   ]
  },
  {
   "cell_type": "code",
   "execution_count": 45,
   "metadata": {},
   "outputs": [
    {
     "name": "stdout",
     "output_type": "stream",
     "text": [
      "Enter your age: 23\n",
      "Young\n"
     ]
    }
   ],
   "source": [
    "age=eval(input(\"Enter your age: \"))\n",
    "if age>=60:\n",
    "    print(\"Senior citizen\")\n",
    "elif age>=45:\n",
    "    print('Aged')\n",
    "elif age>=30:\n",
    "    print(\"Middle age\")\n",
    "elif age>=20:\n",
    "    print(\"Young\")\n",
    "elif age>=13:\n",
    "    print(\"Teenager\")\n",
    "else:\n",
    "    print(\"Child\")"
   ]
  }
 ],
 "metadata": {
  "kernelspec": {
   "display_name": "Python 3",
   "language": "python",
   "name": "python3"
  },
  "language_info": {
   "codemirror_mode": {
    "name": "ipython",
    "version": 3
   },
   "file_extension": ".py",
   "mimetype": "text/x-python",
   "name": "python",
   "nbconvert_exporter": "python",
   "pygments_lexer": "ipython3",
   "version": "3.7.6"
  }
 },
 "nbformat": 4,
 "nbformat_minor": 4
}
