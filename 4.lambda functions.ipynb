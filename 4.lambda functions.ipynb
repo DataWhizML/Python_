{
 "cells": [
  {
   "cell_type": "markdown",
   "id": "21ee05c0",
   "metadata": {},
   "source": [
    "*one argument*"
   ]
  },
  {
   "cell_type": "code",
   "execution_count": 1,
   "id": "d3f2b60e",
   "metadata": {},
   "outputs": [
    {
     "data": {
      "text/plain": [
       "20"
      ]
     },
     "execution_count": 1,
     "metadata": {},
     "output_type": "execute_result"
    }
   ],
   "source": [
    "def add(x):\n",
    "    return x+10\n",
    "add(10)"
   ]
  },
  {
   "cell_type": "code",
   "execution_count": 2,
   "id": "fd26da11",
   "metadata": {},
   "outputs": [
    {
     "data": {
      "text/plain": [
       "20"
      ]
     },
     "execution_count": 2,
     "metadata": {},
     "output_type": "execute_result"
    }
   ],
   "source": [
    "def add(x):\n",
    "    summ=x+10\n",
    "    return summ\n",
    "add(10)\n",
    "#how many arguments are present?\n",
    "#what you are returning"
   ]
  },
  {
   "cell_type": "code",
   "execution_count": null,
   "id": "5324e9bf",
   "metadata": {},
   "outputs": [],
   "source": [
    "#how many arguments are present?\n",
    "#what you are returning\n",
    "#format:\n",
    "lambda <argument>:<output"
   ]
  },
  {
   "cell_type": "code",
   "execution_count": 7,
   "id": "4ac9e478",
   "metadata": {},
   "outputs": [
    {
     "data": {
      "text/plain": [
       "20"
      ]
     },
     "execution_count": 7,
     "metadata": {},
     "output_type": "execute_result"
    }
   ],
   "source": [
    "add=lambda x:x+10\n",
    "add(10)"
   ]
  },
  {
   "cell_type": "code",
   "execution_count": 8,
   "id": "c1b4e3b1",
   "metadata": {},
   "outputs": [
    {
     "data": {
      "text/plain": [
       "25"
      ]
     },
     "execution_count": 8,
     "metadata": {},
     "output_type": "execute_result"
    }
   ],
   "source": [
    "sqr=lambda x:x*x\n",
    "sqr(5)"
   ]
  },
  {
   "cell_type": "code",
   "execution_count": 10,
   "id": "77f37f1b",
   "metadata": {},
   "outputs": [
    {
     "data": {
      "text/plain": [
       "729"
      ]
     },
     "execution_count": 10,
     "metadata": {},
     "output_type": "execute_result"
    }
   ],
   "source": [
    "cube=lambda b: b**3\n",
    "cube(9)"
   ]
  },
  {
   "cell_type": "markdown",
   "id": "29bbb3c6",
   "metadata": {},
   "source": [
    "**two arguments**"
   ]
  },
  {
   "cell_type": "code",
   "execution_count": null,
   "id": "e98078c9",
   "metadata": {},
   "outputs": [],
   "source": [
    "lambda <argument>:<output"
   ]
  },
  {
   "cell_type": "code",
   "execution_count": 11,
   "id": "8dc49ab3",
   "metadata": {},
   "outputs": [
    {
     "data": {
      "text/plain": [
       "3"
      ]
     },
     "execution_count": 11,
     "metadata": {},
     "output_type": "execute_result"
    }
   ],
   "source": [
    "add=lambda a,b:a+b\n",
    "add(1,2)"
   ]
  },
  {
   "cell_type": "code",
   "execution_count": 12,
   "id": "1c4b1489",
   "metadata": {},
   "outputs": [
    {
     "data": {
      "text/plain": [
       "2.0"
      ]
     },
     "execution_count": 12,
     "metadata": {},
     "output_type": "execute_result"
    }
   ],
   "source": [
    "avg=lambda a,b,c:(a+b+c)/3\n",
    "avg(1,2,3)"
   ]
  },
  {
   "cell_type": "code",
   "execution_count": 15,
   "id": "04a7a2f2",
   "metadata": {},
   "outputs": [
    {
     "data": {
      "text/plain": [
       "167.67"
      ]
     },
     "execution_count": 15,
     "metadata": {},
     "output_type": "execute_result"
    }
   ],
   "source": [
    "avg=lambda a,b,c=500:(a+b+c)/3\n",
    "round(avg(1,2),2)"
   ]
  },
  {
   "cell_type": "code",
   "execution_count": 19,
   "id": "04489579",
   "metadata": {},
   "outputs": [
    {
     "data": {
      "text/plain": [
       "(100, 1000)"
      ]
     },
     "execution_count": 19,
     "metadata": {},
     "output_type": "execute_result"
    }
   ],
   "source": [
    "exp=lambda x: (x**2,x**3)\n",
    "exp(10)"
   ]
  },
  {
   "cell_type": "markdown",
   "id": "25b4e438",
   "metadata": {},
   "source": [
    "**if-else**"
   ]
  },
  {
   "cell_type": "code",
   "execution_count": 16,
   "id": "60ef9a91",
   "metadata": {},
   "outputs": [
    {
     "data": {
      "text/plain": [
       "20"
      ]
     },
     "execution_count": 16,
     "metadata": {},
     "output_type": "execute_result"
    }
   ],
   "source": [
    "#format:lambda <if_output><if_condn>else<else_output>\n",
    "great=lambda x,y: x if x>y else y\n",
    "great(10,20)"
   ]
  },
  {
   "cell_type": "code",
   "execution_count": null,
   "id": "6fe975f1",
   "metadata": {},
   "outputs": [],
   "source": [
    "#list comprehension-if-else, for loops----practice\n",
    "l1=[<if_output><if_cond>else<else_output>]"
   ]
  },
  {
   "cell_type": "code",
   "execution_count": null,
   "id": "a04a7225",
   "metadata": {},
   "outputs": [],
   "source": [
    "Method-1: use append "
   ]
  },
  {
   "cell_type": "code",
   "execution_count": null,
   "id": "8f078d08",
   "metadata": {},
   "outputs": [],
   "source": []
  },
  {
   "cell_type": "code",
   "execution_count": null,
   "id": "372af0b8",
   "metadata": {},
   "outputs": [],
   "source": []
  },
  {
   "cell_type": "code",
   "execution_count": null,
   "id": "7a72f271",
   "metadata": {},
   "outputs": [],
   "source": [
    "Method-2: use list comprehension"
   ]
  },
  {
   "cell_type": "code",
   "execution_count": null,
   "id": "6c542178",
   "metadata": {},
   "outputs": [],
   "source": []
  },
  {
   "cell_type": "code",
   "execution_count": null,
   "id": "50dc1d50",
   "metadata": {},
   "outputs": [],
   "source": []
  },
  {
   "cell_type": "code",
   "execution_count": null,
   "id": "8c94a1ab",
   "metadata": {},
   "outputs": [],
   "source": [
    "Method3- make a lambda function on that "
   ]
  },
  {
   "cell_type": "code",
   "execution_count": null,
   "id": "ae2f161e",
   "metadata": {},
   "outputs": [],
   "source": [
    "format:-----lambda <arguments>:<output>,<iterator>\n",
    "[i.capitalize() for i in list1]"
   ]
  },
  {
   "cell_type": "code",
   "execution_count": 1,
   "id": "d03a0a66",
   "metadata": {},
   "outputs": [
    {
     "data": {
      "text/plain": [
       "(<function __main__.<lambda>(i)>, ['hyd', 'chennai', 'mumbai'])"
      ]
     },
     "execution_count": 1,
     "metadata": {},
     "output_type": "execute_result"
    }
   ],
   "source": [
    "list1=['hyd','chennai','mumbai']\n",
    "lambda i:i.capitalize(),list1"
   ]
  },
  {
   "cell_type": "code",
   "execution_count": null,
   "id": "4f636f83",
   "metadata": {},
   "outputs": [],
   "source": [
    "- next thing is map input and output\n",
    "- map keyword is used for that -- to match input and output"
   ]
  },
  {
   "cell_type": "code",
   "execution_count": 3,
   "id": "4d95402f",
   "metadata": {},
   "outputs": [
    {
     "data": {
      "text/plain": [
       "['Hyd', 'Chennai', 'Mumbai']"
      ]
     },
     "execution_count": 3,
     "metadata": {},
     "output_type": "execute_result"
    }
   ],
   "source": [
    "list1=['hyd','chennai','mumbai']\n",
    "list(map(lambda i:i.capitalize(),list1))\n",
    "#map(func,iterable)"
   ]
  },
  {
   "cell_type": "code",
   "execution_count": null,
   "id": "02ec0a56",
   "metadata": {},
   "outputs": [],
   "source": [
    "- store the output"
   ]
  },
  {
   "cell_type": "code",
   "execution_count": null,
   "id": "c9c9ae2b",
   "metadata": {},
   "outputs": [],
   "source": [
    "STEPS:\n",
    "    1. make a lambda fn\n",
    "    2. add your iterator \n",
    "    3. map both input and iterator\n",
    "    4. store the result in a list"
   ]
  },
  {
   "cell_type": "code",
   "execution_count": null,
   "id": "e7c45b8a",
   "metadata": {},
   "outputs": [],
   "source": [
    "lambda i:i.capitalize(),list1\n",
    "map(lambda i:i.capitalize(),list1)\n",
    "list(map(lambda i:i.capitalize(),list1))"
   ]
  },
  {
   "cell_type": "code",
   "execution_count": 4,
   "id": "e3f811e0",
   "metadata": {},
   "outputs": [
    {
     "data": {
      "text/plain": [
       "[1, 4, 9, 16, 25]"
      ]
     },
     "execution_count": 4,
     "metadata": {},
     "output_type": "execute_result"
    }
   ],
   "source": [
    "list1=[1,2,3,4,5]\n",
    "#square\n",
    "list(map(lambda i: i*i,list1))"
   ]
  },
  {
   "cell_type": "code",
   "execution_count": 6,
   "id": "35ccb138",
   "metadata": {},
   "outputs": [
    {
     "name": "stdout",
     "output_type": "stream",
     "text": [
      "1\n",
      "4\n",
      "9\n",
      "16\n",
      "25\n"
     ]
    }
   ],
   "source": [
    "for i in map(lambda i:i*i,list1):\n",
    "    print(i)"
   ]
  },
  {
   "cell_type": "code",
   "execution_count": 11,
   "id": "e5a347d8",
   "metadata": {},
   "outputs": [
    {
     "data": {
      "text/plain": [
       "[12, 24, 36]"
      ]
     },
     "execution_count": 11,
     "metadata": {},
     "output_type": "execute_result"
    }
   ],
   "source": [
    "list1=[1,2,3]\n",
    "list2=[11,22,33]\n",
    "#sum\n",
    "list(map(lambda i,j: i+j,list1,list2))"
   ]
  },
  {
   "cell_type": "code",
   "execution_count": null,
   "id": "f3c6f5f4",
   "metadata": {},
   "outputs": [],
   "source": [
    "fori,j in zip(list1,list2):"
   ]
  },
  {
   "cell_type": "code",
   "execution_count": 12,
   "id": "85e38328",
   "metadata": {},
   "outputs": [
    {
     "data": {
      "text/plain": [
       "<map at 0x22ff0a4e890>"
      ]
     },
     "execution_count": 12,
     "metadata": {},
     "output_type": "execute_result"
    }
   ],
   "source": [
    "map(lambda i,j: i+j,list1,list2)"
   ]
  },
  {
   "cell_type": "code",
   "execution_count": 13,
   "id": "19a78ae1",
   "metadata": {},
   "outputs": [
    {
     "data": {
      "text/plain": [
       "'<map object at 0x0000022FF0A4E080>'"
      ]
     },
     "execution_count": 13,
     "metadata": {},
     "output_type": "execute_result"
    }
   ],
   "source": [
    "str(map(lambda i,j: i+j,list1,list2))"
   ]
  },
  {
   "cell_type": "code",
   "execution_count": 18,
   "id": "f877b642",
   "metadata": {},
   "outputs": [
    {
     "data": {
      "text/plain": [
       "['h#d', 'mumb#i']"
      ]
     },
     "execution_count": 18,
     "metadata": {},
     "output_type": "execute_result"
    }
   ],
   "source": [
    "list1=['h#d','mumb#i','chennai']\n",
    "list2=[]\n",
    "for i in list1:\n",
    "    if '#' in i:\n",
    "        list2.append(i)\n",
    "list2"
   ]
  },
  {
   "cell_type": "code",
   "execution_count": 24,
   "id": "4e97ff31",
   "metadata": {},
   "outputs": [
    {
     "data": {
      "text/plain": [
       "['h#d', 'mumb#i']"
      ]
     },
     "execution_count": 24,
     "metadata": {},
     "output_type": "execute_result"
    }
   ],
   "source": [
    "list1=['h#d','mumb#i','chennai']\n",
    "list1=[i for i in list1 if '#' in i]\n",
    "list1\n",
    "#practice this"
   ]
  },
  {
   "cell_type": "code",
   "execution_count": 22,
   "id": "3d72e05b",
   "metadata": {},
   "outputs": [
    {
     "data": {
      "text/plain": [
       "(<function __main__.<lambda>(i)>, ['h#d', 'mumb#i'])"
      ]
     },
     "execution_count": 22,
     "metadata": {},
     "output_type": "execute_result"
    }
   ],
   "source": [
    "lambda i:'#' in i,list1"
   ]
  },
  {
   "cell_type": "code",
   "execution_count": null,
   "id": "e890390e",
   "metadata": {},
   "outputs": [],
   "source": [
    "format: lambda <argument>:<condition>, <iterator>"
   ]
  },
  {
   "cell_type": "code",
   "execution_count": 23,
   "id": "f107eb30",
   "metadata": {},
   "outputs": [
    {
     "data": {
      "text/plain": [
       "[True, True]"
      ]
     },
     "execution_count": 23,
     "metadata": {},
     "output_type": "execute_result"
    }
   ],
   "source": [
    "list(map(lambda i: '#' in i,list1))\n",
    "#you are mapping your condition to list of items\n",
    "#"
   ]
  },
  {
   "cell_type": "code",
   "execution_count": 25,
   "id": "c56f841b",
   "metadata": {},
   "outputs": [
    {
     "data": {
      "text/plain": [
       "True"
      ]
     },
     "execution_count": 25,
     "metadata": {},
     "output_type": "execute_result"
    }
   ],
   "source": [
    "lambda i: '#' in i,list1\n",
    "'#'in 'h#d'\n",
    "'#' in 'mumb#i'"
   ]
  },
  {
   "cell_type": "markdown",
   "id": "38ad183a",
   "metadata": {},
   "source": [
    "**filter**"
   ]
  },
  {
   "cell_type": "code",
   "execution_count": 28,
   "id": "66e86aec",
   "metadata": {},
   "outputs": [
    {
     "data": {
      "text/plain": [
       "['h#d', 'mumb#i']"
      ]
     },
     "execution_count": 28,
     "metadata": {},
     "output_type": "execute_result"
    }
   ],
   "source": [
    "list1=['h#d','mumb#i','chennai']\n",
    "list(filter(lambda i:'#' in i,list1))"
   ]
  },
  {
   "cell_type": "code",
   "execution_count": null,
   "id": "a095fa0d",
   "metadata": {},
   "outputs": [],
   "source": [
    "#Assignment\n",
    "#connect the chatgpt to python\n",
    "#we connected to makersuite similarly"
   ]
  },
  {
   "cell_type": "code",
   "execution_count": null,
   "id": "f767a307",
   "metadata": {},
   "outputs": [],
   "source": []
  },
  {
   "cell_type": "code",
   "execution_count": null,
   "id": "72259c9e",
   "metadata": {},
   "outputs": [],
   "source": []
  }
 ],
 "metadata": {
  "kernelspec": {
   "display_name": "Python 3 (ipykernel)",
   "language": "python",
   "name": "python3"
  },
  "language_info": {
   "codemirror_mode": {
    "name": "ipython",
    "version": 3
   },
   "file_extension": ".py",
   "mimetype": "text/x-python",
   "name": "python",
   "nbconvert_exporter": "python",
   "pygments_lexer": "ipython3",
   "version": "3.11.5"
  }
 },
 "nbformat": 4,
 "nbformat_minor": 5
}
