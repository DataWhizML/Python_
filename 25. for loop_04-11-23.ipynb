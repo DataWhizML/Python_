{
 "cells": [
  {
   "cell_type": "markdown",
   "metadata": {},
   "source": [
    "- basic syntax\n",
    "- conditional statements\n",
    "- try-exception\n",
    "- functions\n",
    "- loops\n",
    "        -for\n",
    "        -while"
   ]
  },
  {
   "cell_type": "markdown",
   "metadata": {},
   "source": [
    "**for loop**"
   ]
  },
  {
   "cell_type": "markdown",
   "metadata": {},
   "source": [
    "- you will be in loop\n",
    "- when will you enter into the loop\n",
    "- how much time you will stay in the loop\n",
    "- how you will come out of the loop"
   ]
  },
  {
   "cell_type": "markdown",
   "metadata": {},
   "source": [
    "- initialisation\n",
    "- incrementing/decrementing\n",
    "- condition to stop the loop"
   ]
  },
  {
   "cell_type": "code",
   "execution_count": 2,
   "metadata": {},
   "outputs": [],
   "source": [
    "#I want to print first 10 numbers:\n",
    "#initial point: 0\n",
    "#increment\n",
    "#cond: 10--->should stop\n",
    "i=0\n",
    "i=1\n",
    "i=2\n",
    "i=3\n",
    "i=4"
   ]
  },
  {
   "cell_type": "markdown",
   "metadata": {},
   "source": [
    "$Pattern 1$"
   ]
  },
  {
   "cell_type": "markdown",
   "metadata": {},
   "source": [
    "for i in range(stop):\n",
    "- in the bracket if we have only single value that is considered as a stop value\n",
    "- python index always starts with 0\n",
    "- default start value is =0\n",
    "- if direction sign is not mentioned: increment(+) sign\n",
    "- if direction is positive side, then end=stop-1"
   ]
  },
  {
   "cell_type": "code",
   "execution_count": 3,
   "metadata": {},
   "outputs": [
    {
     "name": "stdout",
     "output_type": "stream",
     "text": [
      "0\n",
      "1\n",
      "2\n",
      "3\n",
      "4\n",
      "5\n",
      "6\n",
      "7\n",
      "8\n",
      "9\n"
     ]
    }
   ],
   "source": [
    "for i in range(10):\n",
    "    print(i)\n",
    "#start=0\n",
    "#direction=+ve\n",
    "#stop value=10-1=9"
   ]
  },
  {
   "cell_type": "code",
   "execution_count": 5,
   "metadata": {},
   "outputs": [
    {
     "name": "stdout",
     "output_type": "stream",
     "text": [
      "0\n",
      "1\n",
      "2\n",
      "3\n",
      "4\n",
      "5\n",
      "6\n",
      "7\n",
      "8\n",
      "9\n",
      "10\n",
      "11\n",
      "12\n",
      "13\n",
      "14\n",
      "15\n",
      "16\n",
      "17\n",
      "18\n",
      "19\n"
     ]
    }
   ],
   "source": [
    "for i in range(20):\n",
    "    print(i)\n",
    "#start=0\n",
    "#direction=+ve\n",
    "#stop value=20-1=19"
   ]
  },
  {
   "cell_type": "code",
   "execution_count": 6,
   "metadata": {},
   "outputs": [
    {
     "name": "stdout",
     "output_type": "stream",
     "text": [
      "0\n",
      "1\n",
      "2\n"
     ]
    }
   ],
   "source": [
    "print(0)\n",
    "print(1)\n",
    "print(2)"
   ]
  },
  {
   "cell_type": "code",
   "execution_count": null,
   "metadata": {},
   "outputs": [],
   "source": [
    "- initial\n",
    "- increment\n",
    "- condition\n",
    "for i in range(20)"
   ]
  },
  {
   "cell_type": "code",
   "execution_count": 7,
   "metadata": {},
   "outputs": [
    {
     "name": "stdout",
     "output_type": "stream",
     "text": [
      "0 1 2 "
     ]
    }
   ],
   "source": [
    "print(0,end=\" \")\n",
    "print(1,end=\" \")\n",
    "print(2,end=\" \")\n",
    "#print(i,end=\" \")"
   ]
  },
  {
   "cell_type": "code",
   "execution_count": 8,
   "metadata": {},
   "outputs": [
    {
     "name": "stdout",
     "output_type": "stream",
     "text": [
      "0 1 2 3 4 5 6 7 8 9 10 11 12 13 14 15 16 17 18 19 "
     ]
    }
   ],
   "source": [
    "for i in range(20):\n",
    "    print(i,end=\" \")"
   ]
  },
  {
   "cell_type": "markdown",
   "metadata": {},
   "source": [
    "**Pattern 2**"
   ]
  },
  {
   "cell_type": "code",
   "execution_count": null,
   "metadata": {},
   "outputs": [],
   "source": [
    "for i in range(start,stop):\n",
    "- start: start of the loop, initial point\n",
    "- direction sign not mentioned: +ve direction, increment\n",
    "- end=stop-1"
   ]
  },
  {
   "cell_type": "code",
   "execution_count": 9,
   "metadata": {},
   "outputs": [
    {
     "name": "stdout",
     "output_type": "stream",
     "text": [
      "10 11 12 13 14 15 16 17 18 19 "
     ]
    }
   ],
   "source": [
    "for i in range(10,20):\n",
    "    print(i,end=\" \")\n",
    "#start=10 +ve stop value=20-1=19"
   ]
  },
  {
   "cell_type": "markdown",
   "metadata": {},
   "source": [
    "**Pattern 3**"
   ]
  },
  {
   "cell_type": "markdown",
   "metadata": {},
   "source": [
    "for i in range(start,stop,step):\n",
    "- start: start of the loop, initial point\n",
    "- direction: what is the sign of step value, that is the direction\n",
    "            - direction is not decided by start or stop values\n",
    "            - direction will be provided by step value\n",
    "- if step size is positive direction:\n",
    "            end=stop-1\n",
    "- if step size is negative direction:\n",
    "            end=stop+1"
   ]
  },
  {
   "cell_type": "code",
   "execution_count": 11,
   "metadata": {},
   "outputs": [
    {
     "name": "stdout",
     "output_type": "stream",
     "text": [
      "2 4 6 8 10 12 14 16 18 "
     ]
    }
   ],
   "source": [
    "for i in range(2,20,2): #(start, stop, step)\n",
    "    print(i,end=\" \")\n",
    "#start =2\n",
    "#direction: step size is +2\n",
    "#end = stop-1"
   ]
  },
  {
   "cell_type": "code",
   "execution_count": 12,
   "metadata": {},
   "outputs": [
    {
     "name": "stdout",
     "output_type": "stream",
     "text": [
      "-1 -2 -3 -4 -5 -6 -7 -8 -9 "
     ]
    }
   ],
   "source": [
    "for i in range(-1,-10,-1): #(start, stop, step)\n",
    "    print(i,end=\" \")\n",
    "#start =-1\n",
    "#direction: step size is -1\n",
    "#end = stop+1 = -10+1 = -9\n",
    "#is this possible or not?"
   ]
  },
  {
   "cell_type": "code",
   "execution_count": 13,
   "metadata": {},
   "outputs": [
    {
     "name": "stdout",
     "output_type": "stream",
     "text": [
      "-1 -2 -3 -4 -5 -6 -7 -8 -9 "
     ]
    }
   ],
   "source": [
    "for i in range(-1,-10,-1): #(start, stop, step)\n",
    "    print(i,end=\" \")\n",
    "#start =-1\n",
    "#direction: step size is -1\n",
    "#end = stop+1 = -10+1 = -9\n",
    "#is this possible or not?- possible"
   ]
  },
  {
   "cell_type": "code",
   "execution_count": 14,
   "metadata": {},
   "outputs": [],
   "source": [
    "for i in range(-1,-10,1): #(start, stop, step)\n",
    "    print(i,end=\" \")\n",
    "#start =-1\n",
    "#direction: step size is -1\n",
    "#end = stop+1 = -10-1 = -11\n",
    "#is this possible or not?-not possible\n",
    "#No error nothing but will not execute this code"
   ]
  },
  {
   "cell_type": "code",
   "execution_count": null,
   "metadata": {},
   "outputs": [],
   "source": [
    "#Practice:\n",
    "range(3,25,3) #possible\n",
    "range(3,25,-3)#not possible\n",
    "range(3,-25,3)#not possible\n",
    "range(3,-25,-3)#possible\n",
    "range(-3,25,3)#possible\n",
    "range(-3,-25,3)#not possible\n",
    "range(-3,-25,-3)#possible\n",
    "range(-3,25,-3)#not possible"
   ]
  },
  {
   "cell_type": "markdown",
   "metadata": {},
   "source": [
    "**06-11-23**"
   ]
  },
  {
   "cell_type": "code",
   "execution_count": 1,
   "metadata": {},
   "outputs": [
    {
     "name": "stdout",
     "output_type": "stream",
     "text": [
      "hello\n",
      "hello\n",
      "hello\n"
     ]
    }
   ],
   "source": [
    "#WAP print \"hello\" 3 times\n",
    "for i in range(3):\n",
    "    print(\"hello\")\n",
    "#default value is 0\n",
    "#end=stop-1\n",
    "#increment is +ve\n",
    "#step size=1"
   ]
  },
  {
   "cell_type": "code",
   "execution_count": 2,
   "metadata": {},
   "outputs": [
    {
     "name": "stdout",
     "output_type": "stream",
     "text": [
      "hello\n",
      "hello\n",
      "hello\n"
     ]
    }
   ],
   "source": [
    "for i in range(1,4):\n",
    "    print(\"hello\")"
   ]
  },
  {
   "cell_type": "code",
   "execution_count": 3,
   "metadata": {},
   "outputs": [
    {
     "name": "stdout",
     "output_type": "stream",
     "text": [
      "hello\n",
      "hello\n",
      "hello\n"
     ]
    }
   ],
   "source": [
    "for i in range(2,5):\n",
    "    print(\"hello\")"
   ]
  },
  {
   "cell_type": "code",
   "execution_count": 4,
   "metadata": {},
   "outputs": [
    {
     "name": "stdout",
     "output_type": "stream",
     "text": [
      "hi\n",
      "hello\n",
      "hello\n",
      "hello\n",
      "how do you do?\n"
     ]
    }
   ],
   "source": [
    "print('hi')\n",
    "for i in range(3):\n",
    "    print(\"hello\")\n",
    "print(\"how do you do?\")"
   ]
  },
  {
   "cell_type": "code",
   "execution_count": 6,
   "metadata": {},
   "outputs": [
    {
     "name": "stdout",
     "output_type": "stream",
     "text": [
      "A\n",
      "A\n",
      "A\n",
      "B\n",
      "B\n",
      "C\n",
      "C\n",
      "C\n"
     ]
    }
   ],
   "source": [
    "#print a pattern\n",
    "#A\n",
    "#A\n",
    "#A\n",
    "#B\n",
    "#B\n",
    "#C\n",
    "#C\n",
    "#C\n",
    "for i in range(3):\n",
    "    print('A')\n",
    "for i in range(1,3):\n",
    "    print('B')\n",
    "for i in range(2,5):\n",
    "    print(\"C\")"
   ]
  },
  {
   "cell_type": "code",
   "execution_count": 7,
   "metadata": {},
   "outputs": [
    {
     "name": "stdout",
     "output_type": "stream",
     "text": [
      "A\n",
      "B\n",
      "A\n",
      "B\n",
      "A\n",
      "B\n",
      "C\n",
      "C\n",
      "C\n"
     ]
    }
   ],
   "source": [
    "#A\n",
    "#B\n",
    "#A\n",
    "#B\n",
    "#A\n",
    "#B\n",
    "#C\n",
    "#C\n",
    "#C\n",
    "for i in range(3):\n",
    "    print(\"A\")\n",
    "    print('B')\n",
    "for i in range(3):\n",
    "    print(\"C\")\n"
   ]
  },
  {
   "cell_type": "code",
   "execution_count": 11,
   "metadata": {},
   "outputs": [
    {
     "name": "stdout",
     "output_type": "stream",
     "text": [
      "square of 10 is 100\n",
      "square of 11 is 121\n",
      "square of 12 is 144\n",
      "square of 13 is 169\n",
      "square of 14 is 196\n",
      "square of 15 is 225\n"
     ]
    }
   ],
   "source": [
    "#WAP ask the user get the square of numbers between 10 and 15\n",
    "#square of 10 is 100\n",
    "for i in range(10,16):\n",
    "    print(\"square of {} is {}\".format(i,i*i))"
   ]
  },
  {
   "cell_type": "code",
   "execution_count": 15,
   "metadata": {},
   "outputs": [
    {
     "name": "stdout",
     "output_type": "stream",
     "text": [
      "enter start number10\n",
      "enter stop number16\n",
      "the square of 10 is 100\n",
      "the square of 11 is 121\n",
      "the square of 12 is 144\n",
      "the square of 13 is 169\n",
      "the square of 14 is 196\n",
      "the square of 15 is 225\n"
     ]
    }
   ],
   "source": [
    "#take the numbers from keyboard\n",
    "num1=eval(input(\"enter start number\"))\n",
    "num2=eval(input(\"enter stop number\"))\n",
    "for i in range(num1,num2):\n",
    "    print(\"the square of {} is {}\".format(i,i*i))"
   ]
  },
  {
   "cell_type": "code",
   "execution_count": 16,
   "metadata": {},
   "outputs": [
    {
     "name": "stdout",
     "output_type": "stream",
     "text": [
      "enter start number10\n",
      "enter stop number16\n",
      "the square of 10 is 100\n",
      "the square of 11 is 121\n",
      "the square of 12 is 144\n",
      "the square of 13 is 169\n",
      "the square of 14 is 196\n",
      "the square of 15 is 225\n"
     ]
    }
   ],
   "source": [
    "#Function without arguments\n",
    "def sqr():\n",
    "    num1=eval(input(\"enter start number\"))\n",
    "    num2=eval(input(\"enter stop number\"))\n",
    "    for i in range(num1,num2):\n",
    "        print(\"the square of {} is {}\".format(i,i*i))\n",
    "sqr()    "
   ]
  },
  {
   "cell_type": "code",
   "execution_count": 17,
   "metadata": {},
   "outputs": [
    {
     "name": "stdout",
     "output_type": "stream",
     "text": [
      "enter start number10\n",
      "enter stop number16\n",
      "the square of 10 is 100\n",
      "the square of 11 is 121\n",
      "the square of 12 is 144\n",
      "the square of 13 is 169\n",
      "the square of 14 is 196\n",
      "the square of 15 is 225\n"
     ]
    }
   ],
   "source": [
    "#Function without arguments\n",
    "def sqr():\n",
    "    for i in range(eval(input(\"enter start number\")),eval(input(\"enter stop number\"))):\n",
    "        print(\"the square of {} is {}\".format(i,i*i))\n",
    "sqr()    "
   ]
  },
  {
   "cell_type": "code",
   "execution_count": 18,
   "metadata": {},
   "outputs": [
    {
     "name": "stdout",
     "output_type": "stream",
     "text": [
      "the square of 10 is 100\n",
      "the square of 11 is 121\n",
      "the square of 12 is 144\n",
      "the square of 13 is 169\n",
      "the square of 14 is 196\n",
      "the square of 15 is 225\n"
     ]
    }
   ],
   "source": [
    "num1=10\n",
    "num2=16\n",
    "for i in range(num1,num2):\n",
    "        print(\"the square of {} is {}\".format(i,i*i))"
   ]
  },
  {
   "cell_type": "code",
   "execution_count": 19,
   "metadata": {},
   "outputs": [
    {
     "name": "stdout",
     "output_type": "stream",
     "text": [
      "the square of 10 is 100\n",
      "the square of 11 is 121\n",
      "the square of 12 is 144\n",
      "the square of 13 is 169\n",
      "the square of 14 is 196\n",
      "the square of 15 is 225\n"
     ]
    }
   ],
   "source": [
    "#Function with arguments\n",
    "def sqrr(num1,num2):\n",
    "    for i in range(num1,num2):\n",
    "        print(\"the square of {} is {}\".format(i,i*i))\n",
    "sqrr(10,16)"
   ]
  },
  {
   "cell_type": "code",
   "execution_count": 2,
   "metadata": {},
   "outputs": [
    {
     "name": "stdout",
     "output_type": "stream",
     "text": [
      "enter a number:10\n",
      "the square of 10 is 100\n",
      "enter a number:11\n",
      "the square of 11 is 121\n",
      "enter a number:12\n",
      "the square of 12 is 144\n",
      "enter a number:13\n",
      "the square of 13 is 169\n",
      "enter a number:14\n",
      "the square of 14 is 196\n"
     ]
    }
   ],
   "source": [
    "##### WAP ask the user to print square of the 5 numbers\n",
    "#these five numbers you need to ask the user\n",
    "for i in range(5):\n",
    "    number_=eval(input(\"enter a number:\"))\n",
    "    print(\"the square of {} is {}\".format(number_,number_*number_))"
   ]
  },
  {
   "cell_type": "code",
   "execution_count": 3,
   "metadata": {},
   "outputs": [
    {
     "name": "stdout",
     "output_type": "stream",
     "text": [
      "the square of 14 is 196\n",
      "the square of 9 is 81\n",
      "the square of 12 is 144\n",
      "the square of 13 is 169\n",
      "the square of 3 is 9\n"
     ]
    }
   ],
   "source": [
    "#WAP ask the user to print 5 times the square of a number\n",
    "#this time you need to take everytime a random number btw 1 to 20\n",
    "import random\n",
    "for i in range(5):\n",
    "    num22=random.randint(1,20)\n",
    "    print(\"the square of {} is {}\".format(num22,num22*num22))"
   ]
  },
  {
   "cell_type": "code",
   "execution_count": 4,
   "metadata": {},
   "outputs": [
    {
     "name": "stdout",
     "output_type": "stream",
     "text": [
      "10 is even\n",
      "11 is odd\n",
      "12 is even\n",
      "13 is odd\n",
      "14 is even\n",
      "15 is odd\n",
      "16 is even\n",
      "17 is odd\n",
      "18 is even\n",
      "19 is odd\n",
      "20 is even\n",
      "21 is odd\n",
      "22 is even\n",
      "23 is odd\n",
      "24 is even\n",
      "25 is odd\n",
      "26 is even\n",
      "27 is odd\n",
      "28 is even\n",
      "29 is odd\n",
      "30 is even\n"
     ]
    }
   ],
   "source": [
    "#WAP ask the user print the given number is even or odd\n",
    "#you need to take the numbers between 10 to 30\n",
    "for i in range(10,31):\n",
    "    if i%2==0:\n",
    "        print(\"{} is even\".format(i))\n",
    "    else:\n",
    "        print(\"{} is odd\".format(i))"
   ]
  },
  {
   "cell_type": "code",
   "execution_count": 5,
   "metadata": {},
   "outputs": [
    {
     "name": "stdout",
     "output_type": "stream",
     "text": [
      "19 is odd\n",
      "22 is even\n",
      "29 is odd\n",
      "28 is even\n",
      "11 is odd\n"
     ]
    }
   ],
   "source": [
    "#WAP ask the user print a number is even or odd\n",
    "#you need to take a ranodm number between 10 and 30\n",
    "#this process you need to do 5 times\n",
    "import random\n",
    "for i in range(5):\n",
    "    num123=random.randint(10,30)\n",
    "    if num123%2==0:\n",
    "        print(\"{} is even\".format(num123))\n",
    "    else:\n",
    "        print(\"{} is odd\".format(num123))   \n",
    "    "
   ]
  },
  {
   "cell_type": "code",
   "execution_count": 6,
   "metadata": {},
   "outputs": [
    {
     "name": "stdout",
     "output_type": "stream",
     "text": [
      "20 is even\n",
      "13 is odd\n",
      "11 is odd\n",
      "25 is odd\n",
      "23 is odd\n"
     ]
    }
   ],
   "source": [
    "import random\n",
    "def even_odd(num22):\n",
    "    if num22%2==0:\n",
    "        print(\"{} is even\".format(num22))\n",
    "    else:\n",
    "        print(\"{} is odd\".format(num22))\n",
    "for i in range(5):\n",
    "    num124=random.randint(10,30)\n",
    "    even_odd(num124)\n"
   ]
  },
  {
   "cell_type": "code",
   "execution_count": 16,
   "metadata": {},
   "outputs": [
    {
     "name": "stdout",
     "output_type": "stream",
     "text": [
      "10\n",
      "enter a number:10\n",
      "you lost\n",
      "enter a number:10\n",
      "you lost\n",
      "enter a number:6\n",
      "you lost\n"
     ]
    }
   ],
   "source": [
    "#WAP \n",
    "#5 lines\n",
    "#take a random no. btw 1 to 10\n",
    "#ask the user enter a number between 1 and 10\n",
    "# if number ==random number: print you won\n",
    "#else print you lost\n",
    "#this you need to repeat 3 times\n",
    "import random\n",
    "num11=random.randint(1,10)\n",
    "for i in range(3):\n",
    "    num33=eval(input(\"enter a number:\"))\n",
    "    if num33%2==num11:\n",
    "        print(\"you won!\")\n",
    "        break #break if he condition satisfies, the code will run and then breaks out of the loop\n",
    "    else:\n",
    "        print(\"you lost\")"
   ]
  },
  {
   "cell_type": "code",
   "execution_count": 18,
   "metadata": {},
   "outputs": [
    {
     "name": "stdout",
     "output_type": "stream",
     "text": [
      "enter a number:10\n",
      "you lost\n",
      "number of chances left are 2\n",
      "enter a number:5\n",
      "you lost\n",
      "number of chances left are 1\n",
      "enter a number:6\n",
      "you lost\n",
      "number of chances left are 0\n"
     ]
    }
   ],
   "source": [
    "#mention the number of chances left whenever he failed -\n",
    "import random\n",
    "num11=random.randint(1,10)\n",
    "for i in range(3):\n",
    "    num33=eval(input(\"enter a number:\"))\n",
    "    if num33%2==num11:\n",
    "        print(\"you won!\")\n",
    "        break\n",
    "    else:\n",
    "        print(\"you lost\")\n",
    "        print(\"number of chances left are\",3-i-1)"
   ]
  },
  {
   "cell_type": "code",
   "execution_count": 19,
   "metadata": {},
   "outputs": [
    {
     "name": "stdout",
     "output_type": "stream",
     "text": [
      "enter the no. of chances you want to provide?3\n",
      "enter a number:2\n",
      "you lost\n",
      "number of chances left are 2\n",
      "enter a number:4\n",
      "you lost\n",
      "number of chances left are 1\n",
      "enter a number:1\n",
      "you lost\n",
      "number of chances left are 0\n"
     ]
    }
   ],
   "source": [
    "#generalizing number of chances using a variable\n",
    "import random\n",
    "num11=random.randint(1,10)\n",
    "chances=eval(input(\"enter the no. of chances you want to provide?\"))\n",
    "for i in range(chances):\n",
    "    num33=eval(input(\"enter a number:\"))\n",
    "    if num33%2==num11:\n",
    "        print(\"you won!\")\n",
    "        break\n",
    "    else:\n",
    "        print(\"you lost\")\n",
    "        print(\"number of chances left are\",chances-1-i)"
   ]
  },
  {
   "cell_type": "code",
   "execution_count": 20,
   "metadata": {},
   "outputs": [
    {
     "name": "stdout",
     "output_type": "stream",
     "text": [
      "enter the no. of chances you want to provide?2\n",
      "enter a number:10\n",
      "you lost\n",
      "number of chances left are 1\n",
      "enter a number:3\n",
      "you lost\n",
      "all the chances are over-pls try again later\n"
     ]
    }
   ],
   "source": [
    "#in the above code after the chances are over it's showing number of chances left which is not needed\n",
    "#instead provide \"all chances are over\" at the end of the chances\n",
    "import random\n",
    "num11=random.randint(1,10)\n",
    "chances=eval(input(\"enter the no. of chances you want to provide?\"))\n",
    "for i in range(chances):\n",
    "    num33=eval(input(\"enter a number:\"))\n",
    "    if num33%2==num11:\n",
    "        print(\"you won!\")\n",
    "        break\n",
    "    else:\n",
    "        print(\"you lost\")\n",
    "        if(chances-1-i!=0):\n",
    "            print(\"number of chances left are\",chances-1-i)\n",
    "        else:\n",
    "            print(\"all the chances are over-pls try again later\")"
   ]
  }
 ],
 "metadata": {
  "kernelspec": {
   "display_name": "Python 3",
   "language": "python",
   "name": "python3"
  },
  "language_info": {
   "codemirror_mode": {
    "name": "ipython",
    "version": 3
   },
   "file_extension": ".py",
   "mimetype": "text/x-python",
   "name": "python",
   "nbconvert_exporter": "python",
   "pygments_lexer": "ipython3",
   "version": "3.7.6"
  }
 },
 "nbformat": 4,
 "nbformat_minor": 4
}
