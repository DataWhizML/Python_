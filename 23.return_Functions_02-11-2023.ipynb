{
 "cells": [
  {
   "cell_type": "code",
   "execution_count": 5,
   "metadata": {},
   "outputs": [
    {
     "name": "stdout",
     "output_type": "stream",
     "text": [
      "Enter radius of the circle:5\n",
      "area of circle is 78.53981633974483\n"
     ]
    }
   ],
   "source": [
    "#WAP ask the user to find area of circle\n",
    "import math\n",
    "radius=eval(input(\"Enter radius of the circle:\"))\n",
    "area_circle=(math.pi)*radius*radius\n",
    "#round(area_circle,ndigits=2)\n",
    "print(\"area of circle is\",area_circle)"
   ]
  },
  {
   "cell_type": "code",
   "execution_count": 6,
   "metadata": {},
   "outputs": [
    {
     "name": "stdout",
     "output_type": "stream",
     "text": [
      "Enter radius of the circle:5\n",
      "area of circle is 78.53981633974483\n"
     ]
    }
   ],
   "source": [
    "#Without arguments\n",
    "def area_Circle():\n",
    "    import math\n",
    "    radius=eval(input(\"Enter radius of the circle:\"))\n",
    "    area_circle=(math.pi)*radius*radius\n",
    "    print(\"area of circle is\",area_circle)\n",
    "area_Circle()    "
   ]
  },
  {
   "cell_type": "code",
   "execution_count": 9,
   "metadata": {},
   "outputs": [
    {
     "name": "stdout",
     "output_type": "stream",
     "text": [
      "area of circle is 78.53981633974483\n"
     ]
    }
   ],
   "source": [
    "#With arguments-direct pass\n",
    "def area_Circle(radius):\n",
    "    import math\n",
    "    area_circle=(math.pi)*radius*radius\n",
    "    print(\"area of circle is\",area_circle)\n",
    "r=5\n",
    "area_Circle(r)    "
   ]
  },
  {
   "cell_type": "code",
   "execution_count": 15,
   "metadata": {},
   "outputs": [
    {
     "name": "stdout",
     "output_type": "stream",
     "text": [
      "enter the radius:5\n",
      "area of circle is 78.54\n"
     ]
    }
   ],
   "source": [
    "#With arguments-keyboard pass\n",
    "import math\n",
    "def area_Circle(radius):\n",
    "    area_circle=(math.pi)*radius*radius\n",
    "    print(\"area of circle is\",round(area_circle,2))\n",
    "r=eval(input(\"enter the radius:\"))\n",
    "area_Circle(r)    \n",
    "#Step1: import math\n",
    "#Step2: define the function\n",
    "#Step3: getting the r value from keyboard\n",
    "#Step4: calling the fn\n",
    "#Step5:             pi value from math\n",
    "#Step6:              area of the circle\n",
    "#Step7:              print"
   ]
  },
  {
   "cell_type": "code",
   "execution_count": 12,
   "metadata": {},
   "outputs": [
    {
     "name": "stdout",
     "output_type": "stream",
     "text": [
      "area of circle is 78.54\n"
     ]
    }
   ],
   "source": [
    "#default arguments\n",
    "def area_Circle(radius=5):\n",
    "    import math\n",
    "    area_circle=(math.pi)*radius*radius\n",
    "    print(\"area of circle is\",round(area_circle,2))\n",
    "area_Circle()    "
   ]
  },
  {
   "cell_type": "code",
   "execution_count": 18,
   "metadata": {},
   "outputs": [
    {
     "name": "stdout",
     "output_type": "stream",
     "text": [
      "area of circle is 78.54\n"
     ]
    }
   ],
   "source": [
    "#**------->square\n",
    "#default arguments\n",
    "def area_Circle(radius=5):\n",
    "    try:\n",
    "        import math\n",
    "        area_circle1=(math.pi)*radius**2\n",
    "        print(\"area of circle is\",round(area_circle,2))\n",
    "    except Exception as e:\n",
    "        print(e)\n",
    "area_Circle()    "
   ]
  },
  {
   "cell_type": "code",
   "execution_count": 17,
   "metadata": {},
   "outputs": [
    {
     "ename": "NameError",
     "evalue": "name 'area_circle1' is not defined",
     "output_type": "error",
     "traceback": [
      "\u001b[1;31m---------------------------------------------------------------------------\u001b[0m",
      "\u001b[1;31mNameError\u001b[0m                                 Traceback (most recent call last)",
      "\u001b[1;32m<ipython-input-17-6e05e417a91b>\u001b[0m in \u001b[0;36m<module>\u001b[1;34m\u001b[0m\n\u001b[1;32m----> 1\u001b[1;33m \u001b[0marea_circle1\u001b[0m\u001b[1;33m\u001b[0m\u001b[1;33m\u001b[0m\u001b[0m\n\u001b[0m",
      "\u001b[1;31mNameError\u001b[0m: name 'area_circle1' is not defined"
     ]
    }
   ],
   "source": [
    "area_circle1\n",
    "#Function is calculating error value\n",
    "#but not providing (returning the value to you)\n",
    "#when you want to use that value outside-------->error"
   ]
  },
  {
   "cell_type": "markdown",
   "metadata": {},
   "source": [
    "**return**"
   ]
  },
  {
   "cell_type": "code",
   "execution_count": 70,
   "metadata": {},
   "outputs": [],
   "source": [
    "def area_Circle():\n",
    "    import math\n",
    "    radius1=eval(input(\"enter the radius:\"))\n",
    "    area_circle112=(math.pi)*radius1*radius1\n",
    "    print(\"area of circle is\",round(area_circle,2))\n",
    "    return area_circle112"
   ]
  },
  {
   "cell_type": "code",
   "execution_count": 71,
   "metadata": {},
   "outputs": [
    {
     "name": "stdout",
     "output_type": "stream",
     "text": [
      "enter the radius:5\n",
      "area of circle is 78.54\n"
     ]
    }
   ],
   "source": [
    "aRea=area_Circle()  "
   ]
  },
  {
   "cell_type": "code",
   "execution_count": 72,
   "metadata": {},
   "outputs": [],
   "source": [
    "def area_Circle123():\n",
    "    import math\n",
    "    radius2=eval(input(\"enter the radius:\"))\n",
    "    pii=math.pi\n",
    "    area_circle113=pii*radius2*radius2\n",
    "    print(\"area of circle is\",round(area_circle113,2))\n",
    "    return (area_circle113,pii)"
   ]
  },
  {
   "cell_type": "code",
   "execution_count": 74,
   "metadata": {},
   "outputs": [
    {
     "name": "stdout",
     "output_type": "stream",
     "text": [
      "enter the radius:5\n",
      "area of circle is 78.54\n"
     ]
    }
   ],
   "source": [
    "x,y=area_Circle123()"
   ]
  },
  {
   "cell_type": "code",
   "execution_count": 41,
   "metadata": {},
   "outputs": [
    {
     "data": {
      "text/plain": [
       "78.53981633974483"
      ]
     },
     "execution_count": 41,
     "metadata": {},
     "output_type": "execute_result"
    }
   ],
   "source": [
    "x"
   ]
  },
  {
   "cell_type": "code",
   "execution_count": 38,
   "metadata": {},
   "outputs": [
    {
     "data": {
      "text/plain": [
       "3.141592653589793"
      ]
     },
     "execution_count": 38,
     "metadata": {},
     "output_type": "execute_result"
    }
   ],
   "source": [
    "y"
   ]
  },
  {
   "cell_type": "code",
   "execution_count": 46,
   "metadata": {},
   "outputs": [
    {
     "name": "stdout",
     "output_type": "stream",
     "text": [
      "enter first number:12\n",
      "enter second number:13\n",
      "enter third number:14\n",
      "sum is 39\n",
      "average is 13.0\n"
     ]
    }
   ],
   "source": [
    "#wap the user enter 3 numbers\n",
    "#find the sum and the average\n",
    "#return the average value and sum both\n",
    "def calc():\n",
    "    num1=eval(input(\"enter first number:\"))\n",
    "    num2=eval(input(\"enter second number:\"))\n",
    "    num3=eval(input(\"enter third number:\"))\n",
    "    summ=num1+num2+num3\n",
    "    avg=(num1+num2+num3)/3\n",
    "    return (summ,avg)\n",
    "a,b=calc()\n",
    "print(\"sum is\",a)\n",
    "print(\"average is\",b)"
   ]
  },
  {
   "cell_type": "code",
   "execution_count": 47,
   "metadata": {},
   "outputs": [
    {
     "name": "stdout",
     "output_type": "stream",
     "text": [
      "sum is 39\n",
      "average is 13.0\n"
     ]
    }
   ],
   "source": [
    "#wap the user enter 3 numbers\n",
    "#find the sum and the average\n",
    "#return the average value and sum both\n",
    "def calc(num1,num2,num3):\n",
    "    summ=num1+num2+num3\n",
    "    avg=(num1+num2+num3)/3\n",
    "    return (summ,avg)\n",
    "a,b=calc(12,13,14)\n",
    "print(\"sum is\",a)\n",
    "print(\"average is\",b)\n",
    "#calc() is returning 2 values-summ and avg\n",
    "#summ is stored in a\n",
    "#avg is stored in b\n",
    "#With arguments"
   ]
  },
  {
   "cell_type": "code",
   "execution_count": 53,
   "metadata": {},
   "outputs": [
    {
     "name": "stdout",
     "output_type": "stream",
     "text": [
      "largest number is  3\n"
     ]
    }
   ],
   "source": [
    "def big(num1,num2,num3):\n",
    "    bigg=num1\n",
    "    if num1>=num2 and num1>=num3:\n",
    "        bigg=bigg\n",
    "    elif num2>=num3:\n",
    "        bigg=num2\n",
    "    else:\n",
    "        bigg=num3\n",
    "    print(\"largest number is \",bigg)\n",
    "big(1,2,3)"
   ]
  },
  {
   "cell_type": "code",
   "execution_count": 55,
   "metadata": {},
   "outputs": [
    {
     "name": "stdout",
     "output_type": "stream",
     "text": [
      "largest number is 3\n"
     ]
    }
   ],
   "source": [
    "#Find the biggest number of 3 numbers\n",
    "#take 3 numbers\n",
    "#find the biggest number\n",
    "#and return that number\n",
    "def biggest(num1,num2,num3):\n",
    "    if num1>=num2 and num1>=num3:\n",
    "        return num1\n",
    "    elif num2>=num3:\n",
    "        return num2\n",
    "    else:\n",
    "        return num3\n",
    "big_=biggest(1,2,3)\n",
    "print(\"largest number is\",big_)"
   ]
  },
  {
   "cell_type": "code",
   "execution_count": 58,
   "metadata": {},
   "outputs": [
    {
     "name": "stdout",
     "output_type": "stream",
     "text": [
      "largest number is 3\n"
     ]
    }
   ],
   "source": [
    "def biggest1234(num1,num2,num3):\n",
    "    if num1>=num2 and num1>=num3:\n",
    "        a=num1\n",
    "    elif num2>=num3:\n",
    "        a=num2\n",
    "    else:\n",
    "        a=num3\n",
    "    return a\n",
    "big_=biggest1234(1,2,3)\n",
    "print(\"largest number is\",big_)"
   ]
  },
  {
   "cell_type": "code",
   "execution_count": 61,
   "metadata": {},
   "outputs": [
    {
     "name": "stdout",
     "output_type": "stream",
     "text": [
      "sum is 6, avg is 2.0\n"
     ]
    }
   ],
   "source": [
    "def sum_avg112(n1,n2,n3):\n",
    "    return(n1+n2+n3,(n1+n2+n3)/3)\n",
    "abc,xyz=sum_avg112(1,2,3)\n",
    "print(\"sum is {}, avg is {}\".format(abc,xyz))"
   ]
  },
  {
   "cell_type": "code",
   "execution_count": 63,
   "metadata": {},
   "outputs": [
    {
     "name": "stdout",
     "output_type": "stream",
     "text": [
      "50 600 -10 0.67\n"
     ]
    }
   ],
   "source": [
    "def add(a,b):\n",
    "    return a+b\n",
    "def mul(a,b):\n",
    "    return a*b\n",
    "def sub(a,b):\n",
    "    return a-b\n",
    "def div(a,b):\n",
    "    return a/b\n",
    "val_add=add(20,30)\n",
    "val_mul=mul(20,30)\n",
    "val_sub=sub(20,30)\n",
    "val_div=div(20,30)\n",
    "print(val_add,val_mul,val_sub,round(val_div,2))"
   ]
  },
  {
   "cell_type": "code",
   "execution_count": 64,
   "metadata": {},
   "outputs": [
    {
     "name": "stdout",
     "output_type": "stream",
     "text": [
      "50 -10 600 0.67\n"
     ]
    }
   ],
   "source": [
    "def aggregation(a,b):\n",
    "    return a+b,a-b,a*b,a/b\n",
    "add,sub,mul,div=aggregation(20,30)\n",
    "print(add,sub,mul,round(div,2))"
   ]
  },
  {
   "cell_type": "code",
   "execution_count": 66,
   "metadata": {},
   "outputs": [
    {
     "name": "stdout",
     "output_type": "stream",
     "text": [
      "(50, -10, 600, 0.6666666666666666)\n"
     ]
    }
   ],
   "source": [
    "#if multiple variables are returned and only one variable is used to store the returned values, all the values are stored in a tuple\n",
    "def aggregation123(a,b):\n",
    "    return a+b,a-b,a*b,a/b\n",
    "add12=aggregation(20,30)\n",
    "print(add12)"
   ]
  },
  {
   "cell_type": "code",
   "execution_count": 75,
   "metadata": {},
   "outputs": [
    {
     "data": {
      "text/plain": [
       "tuple"
      ]
     },
     "execution_count": 75,
     "metadata": {},
     "output_type": "execute_result"
    }
   ],
   "source": [
    "type(add12)"
   ]
  },
  {
   "cell_type": "code",
   "execution_count": 69,
   "metadata": {},
   "outputs": [
    {
     "name": "stdout",
     "output_type": "stream",
     "text": [
      "50\n"
     ]
    }
   ],
   "source": [
    "#we can write in one line too :)\n",
    "def add(a,b): return a+b\n",
    "val_add=add(20,30)\n",
    "print(val_add)"
   ]
  }
 ],
 "metadata": {
  "kernelspec": {
   "display_name": "Python 3",
   "language": "python",
   "name": "python3"
  },
  "language_info": {
   "codemirror_mode": {
    "name": "ipython",
    "version": 3
   },
   "file_extension": ".py",
   "mimetype": "text/x-python",
   "name": "python",
   "nbconvert_exporter": "python",
   "pygments_lexer": "ipython3",
   "version": "3.7.6"
  }
 },
 "nbformat": 4,
 "nbformat_minor": 4
}
